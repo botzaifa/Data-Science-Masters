{
 "cells": [
  {
   "cell_type": "markdown",
   "id": "00c80feb",
   "metadata": {},
   "source": [
    "# Assignment - 15 (Databases)"
   ]
  },
  {
   "cell_type": "markdown",
   "id": "45189773",
   "metadata": {},
   "source": [
    "### Q1. What is a database? Differentiate between SQL and NoSQL databases."
   ]
  },
  {
   "cell_type": "markdown",
   "id": "b8a8e050",
   "metadata": {},
   "source": [
    "ANS: A database is a structured collection of data that is organized and stored in a way that allows for efficient retrieval, management, and manipulation of data. Databases are used to store and manage vast amounts of information. SQL databases are based on a relational data model, where data is organized into tables with predefined schemas. They use SQL as the standard language for querying and manipulating data. Whereas, NoSQL databases, on the other hand, employ a variety of data models, such as key-value pairs, documents, graphs, or wide-column stores, depending on the specific NoSQL database type. They offer more flexible schemas and are designed to handle large-scale distributed data with high velocity and variety."
   ]
  },
  {
   "cell_type": "markdown",
   "id": "b0a16c77",
   "metadata": {},
   "source": [
    "### Q2. What is DDL? Explain why CREATE, DROP, ALTER, and TRUNCATE are used with an example."
   ]
  },
  {
   "cell_type": "markdown",
   "id": "0f2478c2",
   "metadata": {},
   "source": [
    "ANS: DDL stands for Data Definition Language. It is a subset of SQL (Structured Query Language) that is used to define and manage the structure of a database. DDL statements are responsible for creating, modifying, and deleting database objects such as tables, indexes, views, and schemas.\n",
    "1. The CREATE statement is used to create a new database object. It can be used to create tables, views, indexes, and other database objects. \n",
    "\n",
    "EG: CREATE TABLE Employees (\n",
    "    EmployeeID INT PRIMARY KEY,\n",
    "    FirstName VARCHAR(50),\n",
    "    LastName VARCHAR(50),\n",
    "    HireDate DATE\n",
    ");\n",
    "\n",
    "2. The DROP statement is used to delete an existing database object. It removes the object and all associated data from the database. \n",
    "\n",
    "EG: DROP TABLE Employees;\n",
    "\n",
    "3. The ALTER statement is used to modify the structure of an existing database object. It allows you to add, modify, or delete columns, constraints, and other properties of a table. \n",
    "\n",
    "EG: ALTER TABLE Employees\n",
    "ADD COLUMN Email VARCHAR(100);\n",
    "\n",
    "4. The TRUNCATE statement is used to remove all data from a table, but it keeps the table structure intact. Unlike the DELETE statement, which removes rows one by one, TRUNCATE is a faster operation as it deallocates the data pages in one step. \n",
    "\n",
    "EG: TRUNCATE Employees;"
   ]
  },
  {
   "cell_type": "markdown",
   "id": "1265e15a",
   "metadata": {},
   "source": [
    "### Q3. What is DML? Explain INSERT, UPDATE, and DELETE with an example."
   ]
  },
  {
   "cell_type": "markdown",
   "id": "746e0f27",
   "metadata": {},
   "source": [
    "ANS: DML stands for Data Manipulation Language. It is a subset of SQL (Structured Query Language) that is used to manipulate data within a database. DML statements are responsible for inserting, updating, and deleting data from database tables.\n",
    "1. The INSERT statement is used to add new records into a table. It allows you to insert one or multiple rows of data into a table. Here's an example of inserting a single row of data into a table:\n",
    "\n",
    "INSERT INTO Customers (CustomerID, FirstName, LastName, Email)\n",
    "VALUES (1, 'John', 'Doe', 'john.doe@example.com');\n",
    "\n",
    "2. The UPDATE statement is used to modify existing records in a table. It allows you to update one or multiple columns of one or more rows in a table.\n",
    "\n",
    "UPDATE Customers\n",
    "SET Email = 'newemail@example.com'\n",
    "WHERE CustomerID = 1;\n",
    "\n",
    "3. The DELETE statement is used to remove records from a table. It allows you to delete one or multiple rows from a table based on specified conditions. \n",
    "\n",
    "DELETE FROM Customers\n",
    "WHERE LastName = 'Doe';"
   ]
  },
  {
   "cell_type": "markdown",
   "id": "d0129e04",
   "metadata": {},
   "source": [
    "### Q4. What is DQL? Explain SELECT with an example."
   ]
  },
  {
   "cell_type": "markdown",
   "id": "11c0b9fb",
   "metadata": {},
   "source": [
    "ANS: DQL stands for Data Query Language. It is a subset of SQL (Structured Query Language) that is used to retrieve and query data from a database. DQL statements are primarily focused on retrieving and filtering data from one or more tables based on specified criteria.\n",
    "The SELECT statement is used to retrieve data from one or more tables in a database. It allows you to specify the columns to be retrieved, the table(s) from which to retrieve the data, and any filtering or sorting criteria. For example, \n",
    "\n",
    "SELECT FirstName, LastName, Email\n",
    "\n",
    "FROM Customers\n",
    "\n",
    "WHERE Age > 30;"
   ]
  },
  {
   "cell_type": "markdown",
   "id": "7f882593",
   "metadata": {},
   "source": [
    "### Q5. Explain Primary key and Foreign key."
   ]
  },
  {
   "cell_type": "markdown",
   "id": "910b0508",
   "metadata": {},
   "source": [
    "ANS: \n",
    "1. Primary keys are unique identifiers assigned to each row in a database table. They serve as a means of uniquely identifying and distinguishing individual records within a table. The primary key ensures that each row has a unique value or combination of values that can be used to identify it. Its key characters include: uniqueness, indexing, unique identity and a fact that the primary key columns cannot contain null values\n",
    "2. Foreign Keys: A foreign key is a column or a set of columns in a database table that refers to the primary key of another table. It establishes a relationship between two tables, known as the parent table (referenced table) and the child table (referring table). Some key points about foreign keys include: Constraints, Cascading actions, Many-to-One Relationship, Referal Integrity, etc"
   ]
  },
  {
   "cell_type": "markdown",
   "id": "7f9cd4c2",
   "metadata": {},
   "source": [
    "### Q6. Q6. Write a python code to connect MySQL to python. Explain the cursor() and execute() method."
   ]
  },
  {
   "cell_type": "markdown",
   "id": "2901edeb",
   "metadata": {},
   "source": [
    "ANS: \n",
    "1. The 'cursor()' method creates a cursor object that allows us to execute SQL statements and retrieve data from the database. It provides methods like 'execute()', fetchone()', 'fetchall()', etc., to interact with the database.\n",
    "\n",
    "2. The 'execute()' method is used to execute SQL queries or statements. It takes the SQL query as a parameter and performs the specified operation, such as retrieving data, modifying data, creating tables, and more."
   ]
  },
  {
   "cell_type": "code",
   "execution_count": null,
   "id": "778f38e2",
   "metadata": {},
   "outputs": [],
   "source": [
    "# Required Code:\n",
    "import mysql.connector\n",
    "\n",
    "# Establishing a connection to MySQL\n",
    "connection = mysql.connector.connect(\n",
    "    host=\"localhost\",\n",
    "    user=\"your_username\",\n",
    "    password=\"your_password\",\n",
    "    database=\"your_database\"\n",
    ")\n",
    "\n",
    "# Creating a cursor object\n",
    "cursor = connection.cursor()\n",
    "\n",
    "# Executing a SQL query\n",
    "query = \"SELECT * FROM your_table\"\n",
    "cursor.execute(query)\n",
    "\n",
    "# Fetching and printing the results\n",
    "results = cursor.fetchall()\n",
    "for row in results:\n",
    "    print(row)\n",
    "\n",
    "# Closing the cursor and connection\n",
    "cursor.close()\n",
    "connection.close()"
   ]
  },
  {
   "cell_type": "markdown",
   "id": "5b5962d8",
   "metadata": {},
   "source": [
    "### Q7. Give the order of execution of SQL clauses in an SQL query."
   ]
  },
  {
   "cell_type": "markdown",
   "id": "aec97619",
   "metadata": {},
   "source": [
    "ANS: The general order of execution for SQL clauses in an SQL query is as follows:\n",
    "\n",
    "1. FROM: Specifies the tables or views from which data will be retrieved.\n",
    "2. JOIN: Specifies the join conditions to combine multiple tables if necessary.\n",
    "3. WHERE: Filters the rows based on specified conditions.\n",
    "4. GROUP BY: Groups the rows based on specified columns.\n",
    "5. HAVING: Filters the groups based on specified conditions.\n",
    "6. SELECT: Specifies the columns to be retrieved.\n",
    "7. DISTINCT: Removes duplicate rows from the result set.\n",
    "8. ORDER BY: Sorts the result set based on specified columns.\n",
    "9. LIMIT/OFFSET: Limits the number of rows returned or skips a specified number of rows.\n",
    "10. UNION/INTERSECT/EXCEPT: Combines or compares multiple result sets.\n",
    "11. INSERT/UPDATE/DELETE: Modifies data in the database.\n",
    "12. COMMIT/ROLLBACK: Commits or rolls back a transaction.\n",
    "13. CREATE/ALTER/DROP: Modifies the structure of the database objects."
   ]
  }
 ],
 "metadata": {
  "kernelspec": {
   "display_name": "Python 3 (ipykernel)",
   "language": "python",
   "name": "python3"
  },
  "language_info": {
   "codemirror_mode": {
    "name": "ipython",
    "version": 3
   },
   "file_extension": ".py",
   "mimetype": "text/x-python",
   "name": "python",
   "nbconvert_exporter": "python",
   "pygments_lexer": "ipython3",
   "version": "3.9.13"
  }
 },
 "nbformat": 4,
 "nbformat_minor": 5
}
