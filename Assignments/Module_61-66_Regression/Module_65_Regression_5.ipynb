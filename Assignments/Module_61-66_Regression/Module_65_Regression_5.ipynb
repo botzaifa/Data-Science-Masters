{
 "cells": [
  {
   "cell_type": "markdown",
   "metadata": {},
   "source": [
    "# Assignment (30th March) : Regression - 5"
   ]
  },
  {
   "cell_type": "markdown",
   "metadata": {},
   "source": [
    "### Q1. What is Elastic Net Regression and how does it differ from other regression techniques?\n",
    "\n",
    "**ANS:** Elastic Net Regression is a linear regression model that combines the penalties of both Lasso (L1) and Ridge (L2) regression. It aims to balance the feature selection property of Lasso with the stability of Ridge by adding both L1 and L2 penalty terms. This method is particularly useful when features are highly correlated, as it retains the benefits of both techniques."
   ]
  },
  {
   "cell_type": "markdown",
   "metadata": {},
   "source": [
    "### Q2. How do you choose the optimal values of the regularization parameters for Elastic Net Regression?\n",
    "\n",
    "**ANS:** Elastic Net has two regularization parameters: lambda (for overall regularization strength) and alpha (which balances between L1 and L2 penalties). These values are typically selected using grid search or cross-validation techniques to find the optimal combination that minimizes the model error on a validation set."
   ]
  },
  {
   "cell_type": "markdown",
   "metadata": {},
   "source": [
    "### Q3. What are the advantages and disadvantages of Elastic Net Regression?\n",
    "\n",
    "**ANS:** The Advantages and the Disadvantages of Elastic Net Regression are as follows:\n",
    "\n",
    "- `Advantages:`\n",
    "\n",
    "1. Handles multicollinearity well by selecting one among correlated features.\n",
    "2. Performs feature selection by shrinking some coefficients to zero.\n",
    "3. Combines benefits of both Lasso and Ridge, making it more versatile.\n",
    "\n",
    "- `Disadvantages:`\n",
    "\n",
    "1. Tuning two parameters (alpha and lambda) can be computationally intensive.\n",
    "2. Results may be challenging to interpret with highly correlated features."
   ]
  },
  {
   "cell_type": "markdown",
   "metadata": {},
   "source": [
    "### Q4. What are some common use cases for Elastic Net Regression?\n",
    "\n",
    "**ANS:** Elastic Net is commonly used in cases with:\n",
    "\n",
    "- High-dimensional datasets where features are highly correlated.\n",
    "- Scenarios requiring both feature selection and reduced multicollinearity.\n",
    "- Applications like genetics, finance, and text mining, where many predictors are interdependent."
   ]
  },
  {
   "cell_type": "markdown",
   "metadata": {},
   "source": [
    "### Q5. How do you interpret the coefficients in Elastic Net Regression?\n",
    "\n",
    "**ANS:** Coefficients in Elastic Net represent the contribution of each feature to the target variable, similar to linear regression. Zero coefficients indicate that a feature has been excluded from the model. Non-zero coefficients show important features, with larger absolute values indicating stronger influence."
   ]
  },
  {
   "cell_type": "markdown",
   "metadata": {},
   "source": [
    "### Q6. How do you handle missing values when using Elastic Net Regression?\n",
    "\n",
    "**ANS:** Elastic Net cannot handle missing values directly. Preprocessing steps like imputing missing values (e.g., using mean, median, or K-nearest neighbors) are necessary to fill missing data before fitting the model."
   ]
  },
  {
   "cell_type": "markdown",
   "metadata": {},
   "source": [
    "### Q7. How do you use Elastic Net Regression for feature selection?\n",
    "\n",
    "**ANS:** Elastic Net performs feature selection by shrinking some coefficients to zero. By examining which coefficients are non-zero after training, you can identify the important features retained by the model."
   ]
  },
  {
   "cell_type": "markdown",
   "metadata": {},
   "source": [
    "### Q8. How do you pickle and unpickle a trained Elastic Net Regression model in Python?\n",
    "\n",
    "**ANS:** To pickle (save) and unpickle (load) an Elastic Net model:"
   ]
  },
  {
   "cell_type": "code",
   "execution_count": null,
   "metadata": {},
   "outputs": [],
   "source": [
    "import pickle\n",
    "from sklearn.linear_model import ElasticNet\n",
    "from sklearn.datasets import make_regression\n",
    "from sklearn.model_selection import train_test_split\n",
    "\n",
    "X, y = make_regression(n_samples=100, n_features=10, noise=0.1)\n",
    "X_train, X_test, y_train, y_test = train_test_split(X, y, test_size=0.2, random_state=42)\n",
    "elastic_net_model = ElasticNet(alpha=1.0, l1_ratio=0.5)\n",
    "elastic_net_model.fit(X_train, y_train)\n",
    "\n",
    "with open('elastic_net_model.pkl', 'wb') as file:\n",
    "    pickle.dump(elastic_net_model, file)\n",
    "\n",
    "with open('elastic_net_model.pkl', 'rb') as file:\n",
    "    loaded_model = pickle.load(file)"
   ]
  },
  {
   "cell_type": "markdown",
   "metadata": {},
   "source": [
    "### Q9. What is the purpose of pickling a model in machine learning?\n",
    "\n",
    "**ANS:** Pickling saves a trained model’s state, allowing you to reuse it later without retraining. This is helpful for deploying models in production, sharing models, or resuming work without re-computation."
   ]
  }
 ],
 "metadata": {
  "kernelspec": {
   "display_name": "base",
   "language": "python",
   "name": "python3"
  },
  "language_info": {
   "codemirror_mode": {
    "name": "ipython",
    "version": 3
   },
   "file_extension": ".py",
   "mimetype": "text/x-python",
   "name": "python",
   "nbconvert_exporter": "python",
   "pygments_lexer": "ipython3",
   "version": "3.12.4"
  }
 },
 "nbformat": 4,
 "nbformat_minor": 2
}
