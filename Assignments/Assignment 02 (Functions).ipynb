{
 "cells": [
  {
   "cell_type": "markdown",
   "id": "e5d4e364",
   "metadata": {},
   "source": [
    "# Assignment - 2 (Funtions)"
   ]
  },
  {
   "cell_type": "markdown",
   "id": "e5d522b1",
   "metadata": {},
   "source": [
    "### Q1. Which keyword is used to create a function? Create a function to return a list of odd numbers in the range of 1 to 25."
   ]
  },
  {
   "cell_type": "markdown",
   "id": "168cf02e",
   "metadata": {},
   "source": [
    "Ans. The keyword used to create a function is 'def'"
   ]
  },
  {
   "cell_type": "code",
   "execution_count": 1,
   "id": "b0a95069",
   "metadata": {},
   "outputs": [
    {
     "name": "stdout",
     "output_type": "stream",
     "text": [
      "[1, 3, 5, 7, 9, 11, 13, 15, 17, 19, 21, 23, 25]\n"
     ]
    }
   ],
   "source": [
    "def odd_numbers():\n",
    "    odd_nums = []\n",
    "    for i in range(1, 26):\n",
    "        if i % 2 != 0:\n",
    "            odd_nums.append(i)\n",
    "    return odd_nums\n",
    "print(odd_numbers())"
   ]
  },
  {
   "cell_type": "markdown",
   "id": "dfd576bd",
   "metadata": {},
   "source": [
    "### Q2. Why *args and **kwargs is used in some functions? Create a function each for *args and **kwargs to demonstrate their use."
   ]
  },
  {
   "cell_type": "markdown",
   "id": "c21fc924",
   "metadata": {},
   "source": [
    "Ans. '*args' and '**kwargs' are used in Python functions to accept a variable number of arguments. The main difference between the two is that '*args' is used to pass a variable number of non-keyword arguments (positional arguments), while '**kwargs' is used to pass a variable number of keyword arguments."
   ]
  },
  {
   "cell_type": "code",
   "execution_count": 2,
   "id": "4eacd5e2",
   "metadata": {},
   "outputs": [
    {
     "name": "stdout",
     "output_type": "stream",
     "text": [
      "10\n",
      "60\n",
      "5\n"
     ]
    }
   ],
   "source": [
    "# Code for *args\n",
    "def sum_numbers(*args):\n",
    "    total = 0\n",
    "    for num in args:\n",
    "        total += num\n",
    "    return total\n",
    "\n",
    "print(sum_numbers(1, 2, 3, 4))\n",
    "print(sum_numbers(10, 20, 30))\n",
    "print(sum_numbers(5))"
   ]
  },
  {
   "cell_type": "code",
   "execution_count": 3,
   "id": "6750c026",
   "metadata": {},
   "outputs": [
    {
     "name": "stdout",
     "output_type": "stream",
     "text": [
      "name: John\n",
      "age: 30\n",
      "city: New York\n",
      "color: blue\n",
      "shape: circle\n"
     ]
    }
   ],
   "source": [
    "# Code for *kwargs\n",
    "def values(**kwargs):\n",
    "    for key, value in kwargs.items():\n",
    "        print(f\"{key}: {value}\")\n",
    "\n",
    "values(name=\"John\", age=30, city=\"New York\")\n",
    "values(color=\"blue\", shape=\"circle\")\n",
    "values()"
   ]
  },
  {
   "cell_type": "markdown",
   "id": "b41db1e4",
   "metadata": {},
   "source": [
    "### Q3. What is an iterator in python? Name the method used to initialise the iterator object and the method used for iteration. Use these methods to print the first five elements of the given list [2, 4, 6, 8, 10, 12, 14, 16,18, 20]."
   ]
  },
  {
   "cell_type": "markdown",
   "id": "1e673f6d",
   "metadata": {},
   "source": [
    "Ans. An iterator in Python is an object that allows you to iterate over a sequence of values, such as a list, tuple, or dictionary. Iterators are used to traverse through a sequence of values one at a time, without having to load the entire sequence into memory at once.\n",
    "To initialize an iterator object, we use the 'iter()' function."
   ]
  },
  {
   "cell_type": "code",
   "execution_count": 4,
   "id": "14803644",
   "metadata": {},
   "outputs": [
    {
     "name": "stdout",
     "output_type": "stream",
     "text": [
      "2\n",
      "4\n",
      "6\n",
      "8\n",
      "10\n"
     ]
    }
   ],
   "source": [
    "my_list = [2, 4, 6, 8, 10, 12, 14, 16, 18, 20]\n",
    "my_iter = iter(my_list)  # initialize the iterator object\n",
    "\n",
    "for i in range(5):\n",
    "    print(next(my_iter))  # iterate over the sequence one element at a time"
   ]
  },
  {
   "cell_type": "markdown",
   "id": "61462f5d",
   "metadata": {},
   "source": [
    "### Q4. What is a generator function in python? Why yield keyword is used? Give an example of a generator function."
   ]
  },
  {
   "cell_type": "markdown",
   "id": "6c982859",
   "metadata": {},
   "source": [
    "Ans. A generator function in Python is a special type of function that generates a sequence of values, one at a time, without having to create and store the entire sequence in memory. It is useful when you need to generate a large number of values but don't want to use a lot of memory. The 'yield' keyword is used in generator functions to generate the next value in the sequence."
   ]
  },
  {
   "cell_type": "code",
   "execution_count": 5,
   "id": "ca67bc38",
   "metadata": {},
   "outputs": [
    {
     "name": "stdout",
     "output_type": "stream",
     "text": [
      "0\n",
      "1\n",
      "1\n",
      "2\n",
      "3\n",
      "5\n",
      "8\n",
      "13\n",
      "21\n",
      "34\n"
     ]
    }
   ],
   "source": [
    "def fibonacci(n):\n",
    "    a, b = 0, 1\n",
    "    for i in range(n):\n",
    "        yield a\n",
    "        a, b = b, a + b\n",
    "\n",
    "for num in fibonacci(10):\n",
    "    print(num)"
   ]
  },
  {
   "cell_type": "markdown",
   "id": "b557e735",
   "metadata": {},
   "source": [
    "### Q5. Create a generator function for prime numbers less than 1000. Use the next() method to print the first 20 prime numbers."
   ]
  },
  {
   "cell_type": "code",
   "execution_count": 6,
   "id": "83c98b4c",
   "metadata": {},
   "outputs": [
    {
     "name": "stdout",
     "output_type": "stream",
     "text": [
      "2\n",
      "3\n",
      "5\n",
      "7\n",
      "11\n",
      "13\n",
      "17\n",
      "19\n",
      "23\n",
      "29\n",
      "31\n",
      "37\n",
      "41\n",
      "43\n",
      "47\n",
      "53\n",
      "59\n",
      "61\n",
      "67\n",
      "71\n"
     ]
    }
   ],
   "source": [
    "# Funtion for Prime numbers\n",
    "def primes():\n",
    "    \"\"\"Generate an infinite sequence of prime numbers.\"\"\"\n",
    "    sieve = [True] * 1000\n",
    "    sieve[0] = sieve[1] = False\n",
    "    for i in range(2, 32):\n",
    "        if sieve[i]:\n",
    "            for j in range(i*i, 1000, i):\n",
    "                sieve[j] = False\n",
    "    for i in range(2, 1000):\n",
    "        if sieve[i]:\n",
    "            yield i\n",
    "\n",
    "# Printing the first 20 prime numbers\n",
    "gen = primes()\n",
    "for i in range(20):\n",
    "    print(next(gen))"
   ]
  }
 ],
 "metadata": {
  "kernelspec": {
   "display_name": "Python 3 (ipykernel)",
   "language": "python",
   "name": "python3"
  },
  "language_info": {
   "codemirror_mode": {
    "name": "ipython",
    "version": 3
   },
   "file_extension": ".py",
   "mimetype": "text/x-python",
   "name": "python",
   "nbconvert_exporter": "python",
   "pygments_lexer": "ipython3",
   "version": "3.9.13"
  }
 },
 "nbformat": 4,
 "nbformat_minor": 5
}
