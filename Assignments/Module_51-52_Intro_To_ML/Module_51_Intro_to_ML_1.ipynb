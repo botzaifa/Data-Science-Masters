{
 "cells": [
  {
   "cell_type": "markdown",
   "id": "91f1ffa1",
   "metadata": {},
   "source": [
    "# Assignment (15th March) : Introduction to Machine Learning - 1"
   ]
  },
  {
   "cell_type": "markdown",
   "id": "6c56e396",
   "metadata": {},
   "source": [
    "### Q1. Explain the following with examples:\n",
    "1. **Artificial Intelligence**\n",
    "2. **Machine Learining**\n",
    "3. **Deep Learning**"
   ]
  },
  {
   "cell_type": "markdown",
   "id": "e4f7f623",
   "metadata": {},
   "source": [
    "**ANS:** \n",
    "1. **`Artificial Intelligence:`** AI is to create intelligent agents that can perceive their environment, reason, learn from past experiences, and make decisions to achieve specific objectives. AI aims to mimic human cognitive abilities, such as problem-solving, understanding natural language, recognizing patterns, and adapting to new situations.\n",
    "EGs: virtual personal Assistants (siri), Autonomous Vehicles.\n",
    "\n",
    "2. **`Machine Learning:`** Machine Learning is a subfield of AI that involves the development of algorithms and statistical models that enable computers to learn from data and improve their performance on specific tasks without being explicitly programmed.\n",
    "EGs: Clustering data, Recommender systems\n",
    "\n",
    "3. **`Deep Learning:`** Deep Learning is a specialized subset of Machine Learning that involves the use of artificial neural networks to model and solve complex problems.\n",
    "EGs: Image Classifications, Autonomous Driving"
   ]
  },
  {
   "cell_type": "markdown",
   "id": "bdbd8f7f",
   "metadata": {},
   "source": [
    "### Q2. What is Supervised Learning? List some examples of the following."
   ]
  },
  {
   "cell_type": "markdown",
   "id": "38028a2d",
   "metadata": {},
   "source": [
    "**ANS:** `Supervised learning` is a type of machine learning where the algorithm is trained on labeled data, meaning the input data is paired with corresponding output labels. The goal is for the algorithm to learn a mapping between the input and output data to make predictions on new, unseen data.\n",
    "\n",
    "**`Examples`:**\n",
    "\n",
    "1. Email Spam Classification: Labeling emails as \"spam\" or \"not spam\" based on historical data.\n",
    "2. Handwritten Digit Recognition: Recognizing and classifying digits (0-9) written by hand.\n",
    "3. Sentiment Analysis: Determining the sentiment (positive, negative, neutral) of a piece of text.\n",
    "4. Regression for House Price Prediction: Predicting the price of a house based on features like size, location, etc."
   ]
  },
  {
   "cell_type": "markdown",
   "id": "ec10de22",
   "metadata": {},
   "source": [
    "### Q3. What is Unsupervised Leaning? List some of the examples of the same."
   ]
  },
  {
   "cell_type": "markdown",
   "id": "93bb0818",
   "metadata": {},
   "source": [
    "**ANS:** `Unsupervised learning` is a type of machine learning where the algorithm is trained on unlabeled data, meaning there are no corresponding output labels. The goal is for the algorithm to find patterns, structures, or relationships within the data without explicit guidance.\n",
    "\n",
    "**`Examples`:**\n",
    "\n",
    "1. Clustering: Grouping similar customers based on their purchasing behavior for targeted marketing.\n",
    "2. Dimensionality Reduction: Reducing the number of features while retaining essential information in high-dimensional data.\n",
    "3. Anomaly Detection: Identifying unusual patterns or outliers in data, which can be useful for fraud detection or error detection.\n",
    "4. Topic Modeling: Automatically identifying topics in a collection of documents without knowing the specific categories in advance."
   ]
  },
  {
   "cell_type": "markdown",
   "id": "71f27a10",
   "metadata": {},
   "source": [
    "### Q4. What is the difference between AI, ML, DL, and DS?"
   ]
  },
  {
   "cell_type": "markdown",
   "id": "dabb501a",
   "metadata": {},
   "source": [
    "**ANS:** \n",
    "\n",
    "**1. `Artificial Intelligence (AI):`**\n",
    "- **Definition:** AI is the broad field of creating machines capable of performing tasks that typically require human intelligence.\n",
    "- **Scope:** Encompasses various techniques, including rule-based systems, evolutionary algorithms, and neural networks.\n",
    "- **Examples:** Chatbots, autonomous vehicles, game-playing agents.\n",
    "\n",
    "**2. `Machine Learning (ML):`**\n",
    "- **Definition:** ML is a subset of AI that focuses on developing algorithms that enable machines to learn from and make predictions or decisions based on data.\n",
    "- **Scope:** Includes supervised learning, unsupervised learning, and reinforcement learning.\n",
    "- **Examples:** Spam detection, recommendation systems, image classification.\n",
    "\n",
    "**3. `Deep Learning (DL):`**\n",
    "- **Definition:** DL is a subset of ML that uses neural networks with many layers (deep neural networks) to model complex patterns in large amounts of data.\n",
    "- **Scope:** Specifically focuses on large-scale neural networks and typically requires significant computational power and large datasets.\n",
    "- **Examples:** Speech recognition, image generation, natural language processing.\n",
    "\n",
    "**4. `Data Science (DS):`**\n",
    "- **Definition:** DS is an interdisciplinary field that combines statistical techniques, ML, data analysis, and domain expertise to extract insights and knowledge from data.\n",
    "- **Scope:** Involves data cleaning, data preparation, exploratory data analysis, visualization, and building predictive models.\n",
    "- **Examples:** Customer segmentation, market analysis, fraud detection.\n",
    "\n",
    "**`Key Differences:`**\n",
    "\n",
    "- **AI vs. ML:**\n",
    "  - **AI:** Broader field including all aspects of creating intelligent systems.\n",
    "  - **ML:** Subset of AI focused on learning from data.\n",
    "\n",
    "- **ML vs. DL:**\n",
    "  - **ML:** Includes various learning algorithms, not limited to neural networks.\n",
    "  - **DL:** Subset of ML specifically using deep neural networks.\n",
    "\n",
    "- **DS vs. AI/ML/DL:**\n",
    "  - **DS:** Broader discipline encompassing the entire data pipeline, from data collection and cleaning to analysis and modeling.\n",
    "  - **AI/ML/DL:** Focus primarily on building intelligent systems and models."
   ]
  },
  {
   "cell_type": "markdown",
   "id": "da5b2745",
   "metadata": {},
   "source": [
    "### Q5. What are the main difference between Supervised, Unsupervised and Semi-Supervised Learning?"
   ]
  },
  {
   "cell_type": "markdown",
   "id": "5aabeafb",
   "metadata": {},
   "source": [
    "**ANS:** \n",
    "1. **`Supervised Learning:`**\n",
    "\n",
    "    a. Data Type: In supervised learning, the algorithm is trained on labeled data, where input samples are paired with corresponding output labels. The algorithm learns to map inputs to outputs based on the provided labels.\n",
    "\n",
    "    b. Objective: The goal of supervised learning is to learn a mapping from input to output so that the algorithm can make predictions on new, unseen data and minimize the prediction error.\n",
    "\n",
    "    c. Examples: Image classification, sentiment analysis, spam detection, and regression problems are common examples of supervised learning.\n",
    "\n",
    "\n",
    "2. **`Unsupervised Learning:`**\n",
    "    \n",
    "    a. Data Type: In unsupervised learning, the algorithm is trained on unlabeled data, meaning there are no corresponding output labels. The algorithm discovers patterns, structures, or relationships within the data without explicit guidance.\n",
    "\n",
    "    b. Objective: The goal of unsupervised learning is to find inherent structures in the data, such as clustering similar data points or reducing the dimensionality of the data.\n",
    "\n",
    "    c. Examples: Clustering, anomaly detection, dimensionality reduction, and recommendation systems are common examples of unsupervised learning.\n",
    "\n",
    "\n",
    "3. **`Semi-Supervised Learning:`**\n",
    "\n",
    "    a. Data Type: Semi-supervised learning lies between supervised and unsupervised learning. It uses a combination of labeled and unlabeled data during training.\n",
    "\n",
    "    b. Objective: The objective of semi-supervised learning is to leverage the unlabeled data to improve the model's performance on the task while benefiting from the smaller set of labeled data.\n",
    "\n",
    "    c. Examples: Semi-supervised learning is often used when obtaining labeled data is expensive or time-consuming. It can be applied in scenarios where there is a limited amount of labeled data but a larger amount of unlabeled data, such as in some real-world applications of image or speech recognition."
   ]
  },
  {
   "cell_type": "markdown",
   "id": "936db9d9",
   "metadata": {},
   "source": [
    "### Q6. What is Train, Test, and Validation Split? Explain the importance of each term."
   ]
  },
  {
   "cell_type": "markdown",
   "id": "d6aa3796",
   "metadata": {},
   "source": [
    "**ANS:** Train, Test, and Validation Split is the practice of `dividing a dataset into three subsets`:\n",
    "\n",
    "1. **`Training Set:`** Used to train the machine learning model. It helps the model learn patterns from the data.\n",
    "\n",
    "2. **`Test Set:`** Used to evaluate the model's performance on unseen data. It assesses how well the model generalizes to new instances.\n",
    "\n",
    "3. **`Validation Set:`** Used to fine-tune the model's hyperparameters. It prevents overfitting and helps select the best model.\n",
    "\n",
    "**`Importance:`**\n",
    "\n",
    "a. Training Set: Enables model learning and generalization.\n",
    "\n",
    "b. Test Set: Evaluates model performance on new data.\n",
    "\n",
    "c. Validation Set: Optimizes hyperparameters and prevents overfitting."
   ]
  },
  {
   "cell_type": "markdown",
   "id": "da9afbcd",
   "metadata": {},
   "source": [
    "### Q7. How can Unsupervised learning be used in Anomaly Detection?"
   ]
  },
  {
   "cell_type": "markdown",
   "id": "7bc11d87",
   "metadata": {},
   "source": [
    "**ANS:** \n",
    "1. Unsupervised learning for anomaly detection does not require labeled anomaly data.\n",
    "2. These algorithms learn normal patterns and structures in the data during training.\n",
    "3. The underlying distribution of normal data points is identified and captured in the learned model.\n",
    "4. The trained model predicts anomalies in new, unseen data points based on significant deviations from learned normal patterns.\n",
    "5. Anomalies are detected using measures like distance, density, or dissimilarity compared to the model's representations.\n",
    "6. Unsupervised learning enables anomaly detection in scenarios with limited or no labeled anomaly data.\n",
    "7. It is effective in detecting rare and unknown anomalies, making it scalable and adaptable in real-world situations.\n",
    "8. However, unsupervised methods may produce false positives and false negatives.\n",
    "9. Careful algorithm selection and threshold setting are crucial to balance accurate detection and minimizing false alarms.\n",
    "10. Semi-supervised learning combines unsupervised and supervised techniques to enhance anomaly detection performance."
   ]
  },
  {
   "cell_type": "markdown",
   "id": "3fcf368c",
   "metadata": {},
   "source": [
    "### Q8. List down some commonly used Supervised Learning algorithms and Unsupervised learning algorithms."
   ]
  },
  {
   "cell_type": "markdown",
   "id": "e5414da6",
   "metadata": {},
   "source": [
    "**ANS:** Some commonly used Supervised learning algorithms and Unsupervised learning algorithms are as follows:\n",
    "\n",
    "**`Supervised Learning Algorithms:`**\n",
    "\n",
    "1. Linear Regression\n",
    "2. Logistic Regression\n",
    "3. Decision Trees\n",
    "4. Random Forest\n",
    "5. Support Vector Machines (SVM)\n",
    "\n",
    "**`Unsupervised Learning Algorithms:`**\n",
    "\n",
    "1. K-means Clustering\n",
    "2. Hierarchical Clustering\n",
    "3. Density-based Spatial Clustering of Applications with Noise (DBSCAN)\n",
    "4. Gaussian Mixture Models (GMM)\n",
    "5. Principal Component Analysis (PCA)"
   ]
  }
 ],
 "metadata": {
  "kernelspec": {
   "display_name": "Python 3 (ipykernel)",
   "language": "python",
   "name": "python3"
  },
  "language_info": {
   "codemirror_mode": {
    "name": "ipython",
    "version": 3
   },
   "file_extension": ".py",
   "mimetype": "text/x-python",
   "name": "python",
   "nbconvert_exporter": "python",
   "pygments_lexer": "ipython3",
   "version": "3.9.13"
  }
 },
 "nbformat": 4,
 "nbformat_minor": 5
}
