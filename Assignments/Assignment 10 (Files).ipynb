{
 "cells": [
  {
   "cell_type": "markdown",
   "id": "689c7e24",
   "metadata": {},
   "source": [
    "# Assignment-10 (Files)"
   ]
  },
  {
   "cell_type": "markdown",
   "id": "73b2aa5f",
   "metadata": {},
   "source": [
    "### Q1. Which function is used to open a file? What are the different modes of opening a file? Explain each mode of file opening."
   ]
  },
  {
   "cell_type": "markdown",
   "id": "201c05ae",
   "metadata": {},
   "source": [
    "ANS: In Python, the function used to open a file is called open(). It allows you to interact with files in various ways, such as reading from them, writing to them, or both.\n",
    "The different modes of opening a file are:\n",
    "1) \"r\" (Read mode): This is the default mode if no mode is specified. It allows you to read data from an existing file. If the file doesn't exist, an error will occur.\n",
    "\n",
    "2) \"w\" (Write mode): This mode is used to write data to a file. If the file already exists, its contents will be truncated (emptied) before writing new data to it. If the file doesn't exist, a new file will be created.\n",
    "\n",
    "3) \"a\" (Append mode): Append mode allows you to append new data to an existing file. If the file doesn't exist, a new file will be created. Unlike write mode, the existing contents of the file are not truncated.\n",
    "\n",
    "4) \"x\" (Exclusive creation mode): This mode is used to create a new file, but it will raise an error if the file already exists. It is useful when you want to ensure that a file is created only if it doesn't exist.\n",
    "\n",
    "5) \"t\" (Text mode): Text mode is the default mode in which files are opened. It indicates that the file will be treated as a text file, and data will be read or written in the form of strings."
   ]
  },
  {
   "cell_type": "markdown",
   "id": "8de2d24d",
   "metadata": {},
   "source": [
    "### Q2. Why close() function is used? Why is it important to close a file?"
   ]
  },
  {
   "cell_type": "markdown",
   "id": "d873937e",
   "metadata": {},
   "source": [
    "ANS: The close() function is used to close a file that was opened using the open() function. It is important to close a file after you have finished working with it for the following reasons:\n",
    "1) Release system resources: When a file is opened, the operating system allocates certain resources to handle the interaction with the file. These resources may include memory buffers, file descriptors, and other internal structures. By closing the file, you release these resources back to the system, ensuring efficient memory usage and preventing resource leaks.\n",
    "\n",
    "2) Flush data to disk: When you write data to a file, it is often stored in a buffer in memory before being written to the physical storage (e.g., hard drive). Closing the file ensures that any remaining data in the buffer is flushed (written) to the disk. If you don't close the file, there's a possibility that not all the data will be saved, leading to data loss or inconsistencies.\n",
    "\n",
    "3) Allow other processes to access the file: When a file is open, it may be locked by the operating system, preventing other processes or programs from accessing or modifying it. By closing the file, you release the lock, allowing other processes to work with the file if needed.\n",
    "\n",
    "4) Ensure data integrity: Closing a file properly helps ensure data integrity, especially in cases where you are working with critical or sensitive information. By closing the file after writing or reading, you minimize the chances of accidental modifications or unauthorized access to the file."
   ]
  },
  {
   "cell_type": "markdown",
   "id": "df0b6a04",
   "metadata": {},
   "source": [
    "### Q3. Write a python program to create a text file. Write ‘I want to become a Data Scientist’ in that file. Then close the file. Open this file and read the content of the file."
   ]
  },
  {
   "cell_type": "code",
   "execution_count": 1,
   "id": "1a40da0a",
   "metadata": {},
   "outputs": [
    {
     "name": "stdout",
     "output_type": "stream",
     "text": [
      "File content:  I want to become a Data Scientist\n"
     ]
    }
   ],
   "source": [
    "file_name = \"data_scientist.txt\"\n",
    "\n",
    "# Open the file in write mode\n",
    "file = open(file_name, \"w\")\n",
    "\n",
    "# Write the content to the file\n",
    "file.write(\"I want to become a Data Scientist\")\n",
    "\n",
    "# Close the file\n",
    "file.close()\n",
    "\n",
    "# Open the file in read mode\n",
    "file = open(file_name, \"r\")\n",
    "\n",
    "# Read the content of the file\n",
    "file_content = file.read()\n",
    "\n",
    "# Close the file\n",
    "file.close()\n",
    "\n",
    "# Print the content of the file\n",
    "print(\"File content: \", file_content)"
   ]
  },
  {
   "cell_type": "markdown",
   "id": "301aeca3",
   "metadata": {},
   "source": [
    "### Q4. Explain the following with python code: read(), readline() and readlines()."
   ]
  },
  {
   "cell_type": "code",
   "execution_count": 8,
   "id": "7dc77af8",
   "metadata": {},
   "outputs": [
    {
     "name": "stdout",
     "output_type": "stream",
     "text": [
      "Car 1: Toyota Camry, Year: 2008\n",
      "Car 2: Honda Accord, Year: 2007\n",
      "Car 3: Ford Mustang, Year: 2005\n",
      "Car 4: Chevrolet Impala, Year: 2009\n",
      "Car 5: BMW 3 Series, Year: 2006\n",
      "\n"
     ]
    }
   ],
   "source": [
    "# read(): The read() method is used to read the entire content of a file as a single string.\n",
    "# Open the file in read mode\n",
    "file = open(\"example.txt\", \"r\")\n",
    "\n",
    "# Read the entire content of the file\n",
    "content = file.read()\n",
    "\n",
    "# Close the file\n",
    "file.close()\n",
    "\n",
    "# Print the content\n",
    "print(content)"
   ]
  },
  {
   "cell_type": "code",
   "execution_count": 10,
   "id": "c5e5824b",
   "metadata": {},
   "outputs": [
    {
     "name": "stdout",
     "output_type": "stream",
     "text": [
      "Car 1: Toyota Camry, Year: 2008\n",
      "\n",
      "Car 2: Honda Accord, Year: 2007\n",
      "\n"
     ]
    }
   ],
   "source": [
    "# readline(): The readline() method is used to read a single line from the file.\n",
    "\n",
    "# Open the file in read mode\n",
    "file = open(\"example.txt\", \"r\")\n",
    "\n",
    "# Read the first line from the file\n",
    "line1 = file.readline()\n",
    "\n",
    "# Read the second line from the file\n",
    "line2 = file.readline()\n",
    "\n",
    "# Close the file\n",
    "file.close()\n",
    "\n",
    "# Print the lines\n",
    "print(line1)\n",
    "print(line2)"
   ]
  },
  {
   "cell_type": "code",
   "execution_count": 12,
   "id": "21fcbe06",
   "metadata": {},
   "outputs": [
    {
     "name": "stdout",
     "output_type": "stream",
     "text": [
      "Car 1: Toyota Camry, Year: 2008\n",
      "\n",
      "Car 2: Honda Accord, Year: 2007\n",
      "\n",
      "Car 3: Ford Mustang, Year: 2005\n",
      "\n",
      "Car 4: Chevrolet Impala, Year: 2009\n",
      "\n",
      "Car 5: BMW 3 Series, Year: 2006\n",
      "\n"
     ]
    }
   ],
   "source": [
    "# readlines(): The readlines() method is used to read all the lines of a file and returns them as a list of strings.\n",
    "# Open the file in read mode\n",
    "file = open(\"example.txt\", \"r\")\n",
    "\n",
    "# Read all the lines from the file\n",
    "lines = file.readlines()\n",
    "\n",
    "# Close the file\n",
    "file.close()\n",
    "\n",
    "# Print each line\n",
    "for line in lines:\n",
    "    print(line)"
   ]
  },
  {
   "cell_type": "markdown",
   "id": "47009432",
   "metadata": {},
   "source": [
    "### Q5. Explain why with statement is used with open(). What is the advantage of using with statement and open() together?"
   ]
  },
  {
   "cell_type": "markdown",
   "id": "02552200",
   "metadata": {},
   "source": [
    "ANS: The with statement in Python is used in conjunction with the open() function to provide a more efficient and convenient way of working with files. It ensures that the file is properly opened, used, and closed, even in the event of exceptions or errors. The advantage of using the with statement with open() are as follows:\n",
    "\n",
    "1) Automatic resource management: The with statement guarantees that the file will be automatically closed at the end of the block, regardless of whether an exception occurs or not. This eliminates the need to explicitly call the close() method, reducing the chances of resource leaks or forgetting to close the file.\n",
    "\n",
    "2) Simplified code: By using the with statement, you don't have to explicitly handle the opening and closing of the file, which simplifies your code. It encapsulates the logic of file handling within the with block, making your code more readable and concise.\n",
    "\n",
    "3) Exception handling: The with statement handles exceptions automatically. If an exception occurs within the with block, it ensures that the file is closed before propagating the exception further up the call stack. This helps in maintaining data integrity and prevents potential issues that could arise from leaving files open in error scenarios."
   ]
  },
  {
   "cell_type": "markdown",
   "id": "ff2f8ca5",
   "metadata": {},
   "source": [
    "### Q6. Explain the write() and writelines() functions. Give a suitable example."
   ]
  },
  {
   "cell_type": "markdown",
   "id": "4ccab67d",
   "metadata": {},
   "source": [
    "ANS: The write() function is used to write a string of characters to a file. It takes a single argument, which is the string of data to be written."
   ]
  },
  {
   "cell_type": "code",
   "execution_count": 13,
   "id": "fdfe2965",
   "metadata": {},
   "outputs": [],
   "source": [
    "file = open(\"example.txt\", \"w\")\n",
    "\n",
    "# Write data to the file\n",
    "file.write(\"This is line 1.\\n\")\n",
    "file.write(\"This is line 2.\\n\")\n",
    "file.write(\"This is line 3.\\n\")\n",
    "\n",
    "# Close the file\n",
    "file.close()"
   ]
  },
  {
   "cell_type": "markdown",
   "id": "6af48709",
   "metadata": {},
   "source": [
    "Whereas, The writelines() function is used to write multiple lines of text to a file. It takes an iterable as an argument, such as a list of strings, where each string represents a line to be written."
   ]
  },
  {
   "cell_type": "code",
   "execution_count": 14,
   "id": "ae27ca3b",
   "metadata": {},
   "outputs": [],
   "source": [
    "file = open(\"example.txt\", \"w\")\n",
    "\n",
    "# Prepare the lines of data\n",
    "lines = [\"Line 1\\n\", \"Line 2\\n\", \"Line 3\\n\"]\n",
    "\n",
    "# Write lines to the file\n",
    "file.writelines(lines)\n",
    "\n",
    "file.close()"
   ]
  }
 ],
 "metadata": {
  "kernelspec": {
   "display_name": "Python 3 (ipykernel)",
   "language": "python",
   "name": "python3"
  },
  "language_info": {
   "codemirror_mode": {
    "name": "ipython",
    "version": 3
   },
   "file_extension": ".py",
   "mimetype": "text/x-python",
   "name": "python",
   "nbconvert_exporter": "python",
   "pygments_lexer": "ipython3",
   "version": "3.9.13"
  }
 },
 "nbformat": 4,
 "nbformat_minor": 5
}
