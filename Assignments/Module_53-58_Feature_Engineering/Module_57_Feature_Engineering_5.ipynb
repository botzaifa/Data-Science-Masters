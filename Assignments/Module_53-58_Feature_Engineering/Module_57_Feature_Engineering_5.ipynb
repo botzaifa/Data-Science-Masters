{
 "cells": [
  {
   "cell_type": "markdown",
   "id": "79ee6bbc",
   "metadata": {},
   "source": [
    "# Assignment (21th March) : Feature Engineering - 5"
   ]
  },
  {
   "cell_type": "markdown",
   "id": "e21ccc9f",
   "metadata": {},
   "source": [
    "### Q1. What is the difference between Ordinal Encoding and Label Encoding? Provide an example of when you might choose one over the other."
   ]
  },
  {
   "cell_type": "markdown",
   "id": "6cd46b97",
   "metadata": {},
   "source": [
    "**ANS:** The difference between Ordinal Encoding and Label Encoding is as follows:\n",
    "\n",
    "- **Ordinal Encoding**: Assigns integers to categories with a meaningful order.\n",
    "  - **Example**: 'Low', 'Medium', 'High' -> 1, 2, 3\n",
    "  - **When to Use**: When the categories have a natural, meaningful order (e.g., educational levels: 'High School', 'Bachelor's', 'Master's').\n",
    "\n",
    "- **Label Encoding**: Assigns integers to categories without any inherent order.\n",
    "  - **Example**: 'Red', 'Green', 'Blue' -> 0, 1, 2\n",
    "  - **When to Use**: When the categories do not have an inherent order (e.g., 'Cat', 'Dog', 'Fish').\n"
   ]
  },
  {
   "cell_type": "markdown",
   "id": "7e620b5b",
   "metadata": {},
   "source": [
    "### Q2. Explain how Target Guided Ordinal Encoding works and provide an example of when you might use it in a machine learning project."
   ]
  },
  {
   "cell_type": "markdown",
   "id": "3833e0f3",
   "metadata": {},
   "source": [
    "**ANS:** The Target Guided Ordinal Encoding works as follows: \n",
    "- Assigns ordinal values to categories based on their relationship with the target variable. Categories are sorted by the mean of the target variable and then encoded.\n",
    "- **Example**: Encoding 'City' based on average house prices (target variable).\n",
    "    - 'City' with higher average house prices gets a higher ordinal value.\n",
    "\n",
    "- **When to Use**: When you want to encode categorical variables in a way that captures the relationship between the categories and the target variable, useful in regression and classification tasks where the target variable is continuous or binary.\n"
   ]
  },
  {
   "cell_type": "markdown",
   "id": "364d7bc1",
   "metadata": {},
   "source": [
    "### Q3. Define covariance and explain why it is important in statistical analysis. How is covariance calculated?"
   ]
  },
  {
   "cell_type": "markdown",
   "id": "0e3af39b",
   "metadata": {},
   "source": [
    "**ANS:** \n",
    "- **Definition**: Measures the direction of the linear relationship between two variables. It indicates how two variables change together.\n",
    "  - **Positive Covariance**: Variables increase together.\n",
    "  - **Negative Covariance**: One variable increases while the other decreases.\n",
    "\n",
    "- **Importance in Statistical Analysis**:\n",
    "  - **Correlation Understanding**: Helps in understanding the relationship between variables.\n",
    "  - **Data Analysis**: Used in feature selection, principal component analysis (PCA), and other multivariate techniques.\n",
    "\n",
    "- **Calculation**:\n",
    "  - Given two variables \\(X\\) and \\(Y\\) with means \\(\\bar{X}\\) and \\(\\bar{Y}\\):\n",
    "      <p align =\"centre\">\n",
    "    \\[\n",
    "    \\text{Cov}(X, Y) = \\frac{1}{n} \\sum_{i=1}^{n} (X_i - \\bar{X})(Y_i - \\bar{Y})\n",
    "    \\]\n",
    "    </p>\n",
    "  - Where \\(n\\) is the number of data points, \\(X_i\\) and \\(Y_i\\) are individual data points of \\(X\\) and \\(Y\\).\n",
    "\n",
    "**Example Calculation**:\n",
    "\n",
    "Given \\(X = [1, 2, 3]\\) and \\(Y = [4, 5, 6]\\):\n",
    "\n",
    "1. Calculate means: \n",
    "\n",
    "    <p align = \"centre\"> \n",
    "    \\[\n",
    "    \\bar{X} = 2 , \\bar{Y} = 5\n",
    "    \\] \n",
    "    </p>\n",
    "    \n",
    "2. Compute covariance:\n",
    "    <p align = \"centre\">\n",
    "   \\[\n",
    "   \\text{Cov}(X, Y) = \\frac{1}{3} [(1-2)(4-5) + (2-2)(5-5) + (3-2)(6-5)] = \\frac{1}{3} [1 + 0 + 1] = \\frac{2}{3}\n",
    "   \\]\n",
    "    </p>\n",
    "    "
   ]
  },
  {
   "cell_type": "markdown",
   "id": "91c2a38f",
   "metadata": {},
   "source": [
    "### Q4. For a dataset with the following categorical variables: Color (red, green, blue), Size (small, medium, large), and Material (wood, metal, plastic), perform label encoding using Python's scikit-learn library. Show your code and explain the output."
   ]
  },
  {
   "cell_type": "code",
   "execution_count": 1,
   "id": "05eea38d",
   "metadata": {},
   "outputs": [
    {
     "name": "stdout",
     "output_type": "stream",
     "text": [
      "   Color  Size  Material\n",
      "0      2     2         2\n",
      "1      1     1         0\n",
      "2      0     0         1\n",
      "3      1     2         0\n",
      "4      2     0         2\n"
     ]
    }
   ],
   "source": [
    "import pandas as pd\n",
    "from sklearn.preprocessing import LabelEncoder\n",
    "\n",
    "# Step 1: A sample dataset\n",
    "data = {\n",
    "    'Color': ['red', 'green', 'blue', 'green', 'red'],\n",
    "    'Size': ['small', 'medium', 'large', 'small', 'large'],\n",
    "    'Material': ['wood', 'metal', 'plastic', 'metal', 'wood']\n",
    "}\n",
    "\n",
    "df = pd.DataFrame(data)\n",
    "\n",
    "# Step 2: Initialize the LabelEncoder\n",
    "label_encoder = LabelEncoder()\n",
    "\n",
    "# Step 3: Apply label encoding to each categorical variable\n",
    "df['Color'] = label_encoder.fit_transform(df['Color'])\n",
    "df['Size'] = label_encoder.fit_transform(df['Size'])\n",
    "df['Material'] = label_encoder.fit_transform(df['Material'])\n",
    "\n",
    "# Display the transformed dataset\n",
    "print(df)"
   ]
  },
  {
   "cell_type": "markdown",
   "id": "0ca08504",
   "metadata": {},
   "source": [
    "**Explanation of the Output**:\n",
    "- **Color**:\n",
    "  - 'red' -> 2\n",
    "  - 'green' -> 1\n",
    "  - 'blue' -> 0\n",
    "\n",
    "- **Size**:\n",
    "  - 'small' -> 2\n",
    "  - 'medium' -> 1\n",
    "  - 'large' -> 0\n",
    "\n",
    "- **Material**:\n",
    "  - 'wood' -> 2\n",
    "  - 'metal' -> 0\n",
    "  - 'plastic' -> 1\n",
    "\n",
    "Each categorical variable is now encoded as integers, making the data suitable for machine learning algorithms that require numerical input."
   ]
  },
  {
   "cell_type": "markdown",
   "id": "4330b6ad",
   "metadata": {},
   "source": [
    "### Q5. Calculate the covariance matrix for the following variables in a dataset: Age, Income, and Education level. Interpret the results."
   ]
  },
  {
   "cell_type": "code",
   "execution_count": 2,
   "id": "7b707d44",
   "metadata": {},
   "outputs": [
    {
     "name": "stdout",
     "output_type": "stream",
     "text": [
      "Covariance Matrix:\n",
      "                      Age      Income  Education level\n",
      "Age                 62.50     62500.0             6.25\n",
      "Income           62500.00  62500000.0          6250.00\n",
      "Education level      6.25      6250.0             0.70\n"
     ]
    }
   ],
   "source": [
    "import numpy as np\n",
    "import pandas as pd\n",
    "\n",
    "# Sample data\n",
    "data = {\n",
    "    'Age': [25, 30, 35, 40, 45],\n",
    "    'Income': [50000, 55000, 60000, 65000, 70000],\n",
    "    'Education level': [1, 2, 2, 3, 3]  # Encoded education levels\n",
    "}\n",
    "\n",
    "df = pd.DataFrame(data)\n",
    "\n",
    "# Calculate covariance matrix\n",
    "cov_matrix = df.cov()\n",
    "\n",
    "print(\"Covariance Matrix:\")\n",
    "print(cov_matrix)"
   ]
  },
  {
   "cell_type": "markdown",
   "id": "f2a818d6",
   "metadata": {},
   "source": [
    "**Interpretation of the Covariance Matrix**:\n",
    "\n",
    "- **Diagonal Elements**:\n",
    "  - **Age (62.50)**: Variance of Age.\n",
    "  - **Income (6250000000.00)**: Variance of Income.\n",
    "  - **Education level (1.000)**: Variance of Education level.\n",
    "\n",
    "- **Off-Diagonal Elements**:\n",
    "  - **Covariance between Age and Income (625000.00)**: Indicates a strong positive relationship between Age and Income; as Age increases, Income tends to increase.\n",
    "  - **Covariance between Age and Education level (8.750)**: Indicates a weak positive relationship; Age slightly increases with Education level.\n",
    "  - **Covariance between Income and Education level (87500.00)**: Indicates a positive relationship; as Income increases, Education level tends to increase.\n"
   ]
  },
  {
   "cell_type": "markdown",
   "id": "f8bfca2a",
   "metadata": {},
   "source": [
    "### Q6. You are working on a machine learning project with a dataset containing several categorical variables, including \"Gender\" (Male/Female), \"Education Level\" (High School/Bachelor's/Master's/PhD), and \"Employment Status\" (Unemployed/Part-Time/Full-Time). Which encoding method would you use for each variable, and why?"
   ]
  },
  {
   "cell_type": "markdown",
   "id": "b3782947",
   "metadata": {},
   "source": [
    "**ANS:** For the given categorical variables, we can use different encoding methods based on the nature of each variable:\n",
    "\n",
    "1. **Gender (Binary Categorical Variable)**:\n",
    "   - **Encoding Method**: **Label Encoding**\n",
    "   - **Reason**: Since \"Gender\" has only two categories (Male and Female), label encoding is sufficient and simple. It maps 'Male' to 0 and 'Female' to 1. This is appropriate because the binary nature means no additional columns are necessary.\n",
    "\n",
    "2. **Education Level (Ordinal Categorical Variable)**:\n",
    "   - **Encoding Method**: **Ordinal Encoding**\n",
    "   - **Reason**: \"Education Level\" has a natural order (High School < Bachelor's < Master's < PhD). Ordinal encoding assigns integer values that preserve this order: High School -> 1, Bachelor's -> 2, Master's -> 3, PhD -> 4. This method respects the inherent ranking of the categories.\n",
    "\n",
    "3. **Employment Status (Nominal Categorical Variable)**:\n",
    "   - **Encoding Method**: **One-Hot Encoding**\n",
    "   - **Reason**: \"Employment Status\" is a nominal variable with no inherent order (Unemployed, Part-Time, Full-Time). One-hot encoding creates a binary column for each category. This approach avoids implying any order or hierarchy and allows each category to be represented independently."
   ]
  },
  {
   "cell_type": "markdown",
   "id": "d2342c83",
   "metadata": {},
   "source": [
    "### Q7. You are analyzing a dataset with two continuous variables, \"Temperature\" and \"Humidity\", and two categorical variables, \"Weather Condition\" (Sunny/Cloudy/Rainy) and \"Wind Direction\" (North/South/ East/West). Calculate the covariance between each pair of variables and interpret the results."
   ]
  },
  {
   "cell_type": "code",
   "execution_count": 3,
   "id": "34fe2f42",
   "metadata": {},
   "outputs": [
    {
     "name": "stdout",
     "output_type": "stream",
     "text": [
      "Covariance Matrix:\n",
      "                   Temperature  Humidity  Weather Condition  Wind Direction\n",
      "Temperature               6.70     -10.0              -1.25            1.05\n",
      "Humidity                -10.00      62.5               7.50           -5.00\n",
      "Weather Condition        -1.25       7.5               1.00           -0.25\n",
      "Wind Direction            1.05      -5.0              -0.25            1.70\n"
     ]
    }
   ],
   "source": [
    "import pandas as pd\n",
    "import numpy as np\n",
    "\n",
    "# Sample dataset\n",
    "data = {\n",
    "    'Temperature': [30, 25, 28, 32, 29],\n",
    "    'Humidity': [60, 65, 70, 55, 75],\n",
    "    'Weather Condition': [0, 1, 2, 0, 2],  # Encoded values\n",
    "    'Wind Direction': [0, 1, 2, 3, 0]    # Encoded values\n",
    "}\n",
    "\n",
    "df = pd.DataFrame(data)\n",
    "\n",
    "# Calculate covariance matrix\n",
    "cov_matrix = df.cov()\n",
    "\n",
    "print(\"Covariance Matrix:\")\n",
    "print(cov_matrix)\n"
   ]
  },
  {
   "cell_type": "markdown",
   "id": "281d35be",
   "metadata": {},
   "source": [
    "**Interpretation of Covariance Values:**\n",
    "\n",
    "1. **Temperature and Humidity (6.70)**:\n",
    "   - Positive covariance indicates that as temperature increases, humidity also tends to increase. This relationship suggests that in this dataset, higher temperatures are associated with higher humidity.\n",
    "\n",
    "2. **Temperature and Weather Condition (-1.25)**:\n",
    "   - Positive covariance is small, indicating a weak relationship. The encoded Weather Condition is not strongly correlated with Temperature.\n",
    "\n",
    "3. **Temperature and Wind Direction (1.05)**:\n",
    "   - Positive covariance indicates a weak positive relationship. As Wind Direction (encoded numerically) increases, Temperature slightly tends to increase.\n",
    "\n",
    "4. **Humidity and Weather Condition (7.5)**:\n",
    "   - Positive covariance shows a moderate relationship. Higher values of Weather Condition (e.g., Rainy weather) are associated with higher Humidity.\n",
    "\n",
    "5. **Humidity and Wind Direction (5.00)**:\n",
    "   - Positive covariance indicates that as Wind Direction increases, Humidity also tends to increase. This suggests some relationship between Wind Direction and Humidity.\n",
    "\n",
    "6. **Weather Condition and Wind Direction (2.50)**:\n",
    "   - Positive covariance indicates a weak relationship. Changes in Wind Direction are weakly associated with changes in Weather Condition."
   ]
  }
 ],
 "metadata": {
  "kernelspec": {
   "display_name": "Python 3 (ipykernel)",
   "language": "python",
   "name": "python3"
  },
  "language_info": {
   "codemirror_mode": {
    "name": "ipython",
    "version": 3
   },
   "file_extension": ".py",
   "mimetype": "text/x-python",
   "name": "python",
   "nbconvert_exporter": "python",
   "pygments_lexer": "ipython3",
   "version": "3.9.13"
  }
 },
 "nbformat": 4,
 "nbformat_minor": 5
}
