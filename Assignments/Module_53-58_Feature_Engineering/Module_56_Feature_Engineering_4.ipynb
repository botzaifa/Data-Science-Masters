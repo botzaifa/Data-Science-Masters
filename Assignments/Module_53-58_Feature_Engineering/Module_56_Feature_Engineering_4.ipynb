{
 "cells": [
  {
   "cell_type": "markdown",
   "id": "924b79c6",
   "metadata": {},
   "source": [
    "# Assignment (20th March) : Feature Engineering - 4"
   ]
  },
  {
   "cell_type": "markdown",
   "id": "f4b64ee3",
   "metadata": {},
   "source": [
    "### Q1. What is data encoding? How is it useful in data science?"
   ]
  },
  {
   "cell_type": "markdown",
   "id": "7becf5bb",
   "metadata": {},
   "source": [
    "**ANS:** `Data encoding` is the process of converting categorical or textual data into numerical format so that it can be used by machine learning algorithms, which typically require numerical input. \n",
    "\n",
    "**`Usefulness in Data Science`**:\n",
    "\n",
    "1. **Algorithm Compatibility**: Many machine learning algorithms require numerical input. Encoding ensures categorical data can be used with these algorithms.\n",
    "2. **Model Performance**: Proper encoding can improve the performance and accuracy of machine learning models.\n",
    "3. **Feature Engineering**: Encoded data can be used to create new features, enhancing model prediction capabilities.\n",
    "4. **Data Interpretation**: Helps in converting complex categorical data into a format that can be more easily analyzed and interpreted. \n",
    "\n",
    "Overall, data encoding is a critical step in data preprocessing that makes it possible to apply machine learning techniques to a wide range of datasets."
   ]
  },
  {
   "cell_type": "markdown",
   "id": "e621ee73",
   "metadata": {},
   "source": [
    "### Q2. What is nominal encoding? Provide an example of how you would use it in a real-world scenario."
   ]
  },
  {
   "cell_type": "markdown",
   "id": "9b755e6c",
   "metadata": {},
   "source": [
    "**ANS:** `Nominal Encoding` is a method of converting categorical data without any inherent order into numerical format, often using one-hot encoding.\n",
    "\n",
    "**`Example`**: In a customer database for an e-commerce site, if the \"Preferred Payment Method\" column contains categories like 'Credit Card', 'PayPal', 'Bank Transfer', and 'Bitcoin', you would use one-hot encoding to convert these categories into binary vectors:\n",
    "\n",
    "- **Original**: ['Credit Card', 'PayPal', 'Bank Transfer', 'Bitcoin']\n",
    "- **One-Hot Encoded**: \n",
    "  - 'Credit Card' -> [1, 0, 0, 0]\n",
    "  - 'PayPal' -> [0, 1, 0, 0]\n",
    "  - 'Bank Transfer' -> [0, 0, 1, 0]\n",
    "  - 'Bitcoin' -> [0, 0, 0, 1]\n",
    "\n",
    "This ensures the data can be used in machine learning models."
   ]
  },
  {
   "cell_type": "markdown",
   "id": "d5ea2d2d",
   "metadata": {},
   "source": [
    "### Q3. In what situations is nominal encoding preferred over one-hot encoding? Provide a practical example."
   ]
  },
  {
   "cell_type": "markdown",
   "id": "b7644f7c",
   "metadata": {},
   "source": [
    "**ANS:** `Nominal Encoding (Label Encoding)` is preferred when the categorical data has a large number of unique values, and one-hot encoding would result in a very sparse matrix.\n",
    "\n",
    "**`Example`**:\n",
    "In a dataset with the \"City\" column containing 1000 unique city names, using one-hot encoding would create 1000 binary columns, leading to a sparse and high-dimensional dataset. Instead, nominal encoding (label encoding) would assign a unique integer to each city:\n",
    "\n",
    "- **Original**: ['New York', 'Los Angeles', 'Chicago', ..., 'Miami']\n",
    "- **Label Encoded**: [1, 2, 3, ..., 1000]\n",
    "\n",
    "This keeps the feature space manageable and reduces computational complexity."
   ]
  },
  {
   "cell_type": "markdown",
   "id": "48ff4fe2",
   "metadata": {},
   "source": [
    "### Q4. Suppose you have a dataset containing categorical data with 5 unique values. Which encoding technique would you use to transform this data into a format suitable for machine learning algorithms? Explain why you made this choice."
   ]
  },
  {
   "cell_type": "markdown",
   "id": "a3224480",
   "metadata": {},
   "source": [
    "**ANS:** We will use `One-Hot Encoding` technique to transform this data due to the following reasons:\n",
    "\n",
    "- With only 5 unique values, one-hot encoding will create a manageable number of binary columns (5 columns).\n",
    "- One-hot encoding prevents the machine learning algorithm from assuming any ordinal relationship between the categories, which is important for ensuring accurate model training when the categorical data has no inherent order.\n",
    "\n",
    "**`Example`**:\n",
    "For a categorical feature with values ['A', 'B', 'C', 'D', 'E']:\n",
    "- **One-Hot Encoded**:\n",
    "  - 'A' -> [1, 0, 0, 0, 0]\n",
    "  - 'B' -> [0, 1, 0, 0, 0]\n",
    "  - 'C' -> [0, 0, 1, 0, 0]\n",
    "  - 'D' -> [0, 0, 0, 1, 0]\n",
    "  - 'E' -> [0, 0, 0, 0, 1]\n",
    "\n",
    "This encoding method is `simple`, `effective`, and ensures the categorical `data is in a suitable format` for machine learning algorithms."
   ]
  },
  {
   "cell_type": "markdown",
   "id": "73d79577",
   "metadata": {},
   "source": [
    "### Q5. In a machine learning project, you have a dataset with 1000 rows and 5 columns. Two of the columns are categorical, and the remaining three columns are numerical. If you were to use nominal encoding to transform the categorical data, how many new columns would be created? Show your calculations."
   ]
  },
  {
   "cell_type": "markdown",
   "id": "f47164dd",
   "metadata": {},
   "source": [
    "**ANS:** **`Assumption`**: The two categorical columns each have \\( n_1 \\) and \\( n_2 \\) unique values respectively.\n",
    "\n",
    "**`Nominal Encoding Calculation`**:\n",
    "1. **One-Hot Encoding** for each categorical column.\n",
    "   - If the first categorical column has \\( n_1 \\) unique values, it will create \\( n_1 \\) new binary columns.\n",
    "   - If the second categorical column has \\( n_2 \\) unique values, it will create \\( n_2 \\) new binary columns.\n",
    "\n",
    "**`Total Columns Calculation`**:\n",
    "- Original numerical columns: 3\n",
    "- New columns from first categorical column: \\( n_1 \\)\n",
    "- New columns from second categorical column: \\( n_2 \\)\n",
    "\n",
    "**`Total new columns`**: \\( 3 + n_1 + n_2 \\)\n",
    "\n",
    "**`Example Calculation`**:\n",
    "- If the first categorical column has 4 unique values (\\( n_1 = 4 \\)) and the second categorical column has 5 unique values (\\( n_2 = 5 \\)):\n",
    "\n",
    "<p align=\"center\">\n",
    "  \\[\n",
    "  \\text{Total columns} = 3 (\\text{numerical}) + 4 (\\text{first categorical}) + 5 (\\text{second categorical}) = 12\n",
    "  \\]\n",
    "</p>\n",
    "\n",
    "So, using nominal encoding (one-hot encoding) in this example would result in 12 columns in total. The actual number of new columns created depends on the number of unique values in each categorical column."
   ]
  },
  {
   "cell_type": "markdown",
   "id": "cf215422",
   "metadata": {},
   "source": [
    "### Q6. You are working with a dataset containing information about different types of animals, including their species, habitat, and diet. Which encoding technique would you use to transform the categorical data into a format suitable for machine learning algorithms? Justify your answer."
   ]
  },
  {
   "cell_type": "markdown",
   "id": "c5e687df",
   "metadata": {},
   "source": [
    "**ANS:** We will use `One-Hot Encoding` technique to transform the categorical data into a format suitable for machine learning algorithms. The `Justification` for it is as follows:\n",
    "\n",
    "- **No Inherent Order**: The categorical data (species, habitat, diet) likely has no inherent order. One-hot encoding ensures that the machine learning algorithm does not assume any ordinal relationship between categories.\n",
    "- **Sparsity Tolerable**: Assuming the number of unique categories in each feature (species, habitat, diet) is not excessively large, one-hot encoding will create a manageable number of columns.\n",
    "- **Model Compatibility**: One-hot encoding is widely supported by many machine learning algorithms and helps improve model performance by ensuring each category is treated independently.\n",
    "\n",
    "**`Example`**:\n",
    "If the \"species\" column has categories ['cat', 'dog', 'fish'], the \"habitat\" column has categories ['land', 'water', 'air'], and the \"diet\" column has categories ['herbivore', 'carnivore', 'omnivore']:\n",
    "\n",
    "- **One-Hot Encoded**:\n",
    "  - **Species**:\n",
    "    - 'cat' -> [1, 0, 0]\n",
    "    - 'dog' -> [0, 1, 0]\n",
    "    - 'fish' -> [0, 0, 1]\n",
    "  - **Habitat**:\n",
    "    - 'land' -> [1, 0, 0]\n",
    "    - 'water' -> [0, 1, 0]\n",
    "    - 'air' -> [0, 0, 1]\n",
    "  - **Diet**:\n",
    "    - 'herbivore' -> [1, 0, 0]\n",
    "    - 'carnivore' -> [0, 1, 0]\n",
    "    - 'omnivore' -> [0, 0, 1]\n",
    "\n",
    "One-hot encoding transforms each categorical feature into a series of binary columns, preserving the non-ordinal nature of the data and making it suitable for machine learning algorithms."
   ]
  },
  {
   "cell_type": "markdown",
   "id": "495c3f44",
   "metadata": {},
   "source": [
    "### Q7.You are working on a project that involves predicting customer churn for a telecommunications company. You have a dataset with 5 features, including the customer's gender, age, contract type, monthly charges, and tenure. Which encoding technique(s) would you use to transform the categorical data into numerical data? Provide a step-by-step explanation of how you would implement the encoding."
   ]
  },
  {
   "cell_type": "markdown",
   "id": "dacb9a6a",
   "metadata": {},
   "source": [
    "**ANS:** Encoding Techniques that we will use to transform the categorical data into numerical data are as follows:\n",
    "1.  **`Label Encoding`**: For binary categorical features.\n",
    "2.  **`One-Hot Encoding`**: For non-binary categorical features.\n",
    "\n",
    "**`Step-by-Step Explanation`**:\n",
    "\n",
    "1. **Identify Categorical and Numerical Features**:\n",
    "   - Categorical: gender, contract type.\n",
    "   - Numerical: age, monthly charges, tenure.\n",
    "\n",
    "2. **Encode 'gender' (Binary Categorical Feature)**:\n",
    "   - **Label Encoding**: Assign 0 to 'male' and 1 to 'female'.\n",
    "     - 'male' -> 0\n",
    "     - 'female' -> 1\n",
    "\n",
    "3. **Encode 'contract type' (Non-Binary Categorical Feature)**:\n",
    "   - **One-Hot Encoding**: Create binary columns for each contract type.\n",
    "     - 'Month-to-month', 'One year', 'Two year'.\n",
    "     - One-Hot Encoded:\n",
    "       - 'Month-to-month' -> [1, 0, 0]\n",
    "       - 'One year' -> [0, 1, 0]\n",
    "       - 'Two year' -> [0, 0, 1]\n",
    "\n",
    "4. **Combine Encoded Features with Numerical Features**:\n",
    "   - Numerical features: age, monthly charges, tenure.\n",
    "   - Encoded categorical features: gender (label encoded), contract type (one-hot encoded)."
   ]
  }
 ],
 "metadata": {
  "kernelspec": {
   "display_name": "Python 3 (ipykernel)",
   "language": "python",
   "name": "python3"
  },
  "language_info": {
   "codemirror_mode": {
    "name": "ipython",
    "version": 3
   },
   "file_extension": ".py",
   "mimetype": "text/x-python",
   "name": "python",
   "nbconvert_exporter": "python",
   "pygments_lexer": "ipython3",
   "version": "3.9.13"
  }
 },
 "nbformat": 4,
 "nbformat_minor": 5
}
