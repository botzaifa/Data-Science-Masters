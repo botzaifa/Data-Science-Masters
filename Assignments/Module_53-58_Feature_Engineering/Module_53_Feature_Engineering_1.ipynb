{
 "cells": [
  {
   "cell_type": "markdown",
   "id": "156d6cb4",
   "metadata": {},
   "source": [
    "# Assignment (17th March) : Feature Engineering - 1"
   ]
  },
  {
   "cell_type": "markdown",
   "id": "08b867b9",
   "metadata": {},
   "source": [
    "### Q1: What are missing values in a dataset? Why is it essential to handle missing values? Name some algorithms that are not affected by missing values."
   ]
  },
  {
   "cell_type": "markdown",
   "id": "d90d18f4",
   "metadata": {},
   "source": [
    "**ANS:** **`Missing values`** in a dataset are data points where no value is stored for a variable in an observation. **`Handling missing values`** is essential because they can lead to biased estimates, reduce the efficiency of analyses, and lead to incorrect conclusions. **`Some algorithms not affected by missing values`** include:\n",
    "   - Decision Trees\n",
    "   - Random Forests\n",
    "   - k-Nearest Neighbors (with proper implementation)\n",
    "   - XGBoost (with built-in handling)"
   ]
  },
  {
   "cell_type": "markdown",
   "id": "116c5a24",
   "metadata": {},
   "source": [
    "### Q2: List down techniques used to handle missing data. Give an example of each with python code."
   ]
  },
  {
   "cell_type": "markdown",
   "id": "d7788e86",
   "metadata": {},
   "source": [
    "**ANS:** Here are some techniques to handle missing data along with Python code examples:"
   ]
  },
  {
   "cell_type": "code",
   "execution_count": 1,
   "id": "d1e5fa50",
   "metadata": {},
   "outputs": [],
   "source": [
    "import pandas as pd\n",
    "\n",
    "# Sample DataFrame\n",
    "data = {'A': [1, 2, None, 4], 'B': [5, None, 7, 8]}\n",
    "df = pd.DataFrame(data)"
   ]
  },
  {
   "cell_type": "code",
   "execution_count": 2,
   "id": "b2b51597",
   "metadata": {},
   "outputs": [
    {
     "name": "stdout",
     "output_type": "stream",
     "text": [
      "     A    B\n",
      "0  1.0  5.0\n",
      "3  4.0  8.0\n"
     ]
    }
   ],
   "source": [
    "# 1. Drop rows with any missing values\n",
    "df_dropped = df.dropna()\n",
    "print(df_dropped)"
   ]
  },
  {
   "cell_type": "code",
   "execution_count": 3,
   "id": "9ea49b91",
   "metadata": {},
   "outputs": [
    {
     "name": "stdout",
     "output_type": "stream",
     "text": [
      "          A         B\n",
      "0  1.000000  5.000000\n",
      "1  2.000000  6.666667\n",
      "2  2.333333  7.000000\n",
      "3  4.000000  8.000000\n"
     ]
    }
   ],
   "source": [
    "# 2. Fill missing values with mean\n",
    "df_filled_mean = df.fillna(df.mean())\n",
    "print(df_filled_mean)"
   ]
  },
  {
   "cell_type": "code",
   "execution_count": 6,
   "id": "28958fd7",
   "metadata": {},
   "outputs": [
    {
     "name": "stdout",
     "output_type": "stream",
     "text": [
      "     A    B\n",
      "0  1.0  5.0\n",
      "1  2.0  7.0\n",
      "2  2.0  7.0\n",
      "3  4.0  8.0\n"
     ]
    }
   ],
   "source": [
    "# 3. Fill missing values with median\n",
    "df_filled_median = df.fillna(df.median())   \n",
    "print(df_filled_median)"
   ]
  },
  {
   "cell_type": "code",
   "execution_count": 5,
   "id": "636696fa",
   "metadata": {},
   "outputs": [
    {
     "name": "stdout",
     "output_type": "stream",
     "text": [
      "     A    B\n",
      "0  1.0  5.0\n",
      "1  2.0  5.0\n",
      "2  1.0  7.0\n",
      "3  4.0  8.0\n"
     ]
    }
   ],
   "source": [
    "# 4. Fill missing values with mode\n",
    "df_filled_mode = df.apply(lambda x: x.fillna(x.mode()[0]), axis=0)\n",
    "print(df_filled_mode)"
   ]
  },
  {
   "cell_type": "markdown",
   "id": "4c881da9",
   "metadata": {},
   "source": [
    "### Q3: Explain the imbalanced data. What will happen if imbalanced data is not handled?"
   ]
  },
  {
   "cell_type": "markdown",
   "id": "266e55b6",
   "metadata": {},
   "source": [
    "**ANS:** \n",
    "\n",
    "1. **Imbalanced data** occurs when the classes in a dataset are not represented equally, meaning one class has significantly more samples than the other(s).\n",
    "\n",
    "2. If **imbalanced data is not handled**:\n",
    "   - The model may become biased towards the majority class.\n",
    "   - The model may show high accuracy but poor performance on the minority class.\n",
    "   - Important signals from the minority class can be ignored.\n",
    "   - Evaluation metrics like precision, recall, and F1-score may be misleading."
   ]
  },
  {
   "cell_type": "markdown",
   "id": "e60df879",
   "metadata": {},
   "source": [
    "### Q4: What are Up-sampling and Down-sampling? Explain with an example when up-sampling and down-sampling are required."
   ]
  },
  {
   "cell_type": "markdown",
   "id": "af55d180",
   "metadata": {},
   "source": [
    "**ANS:** \n",
    "\n",
    "1. **Up-sampling** (or oversampling) involves increasing the number of instances in the minority class by duplicating or creating synthetic data points until the classes are balanced.\n",
    "\n",
    "2. **Down-sampling** (or undersampling) involves reducing the number of instances in the majority class by randomly removing samples until the classes are balanced.\n",
    "\n",
    "**`Example Scenarios:`**\n",
    "\n",
    "- **When `Up-sampling` is Required**: A fraud detection dataset where fraudulent transactions are much fewer than non-fraudulent ones.\n",
    "\n",
    "- **When `Down-sampling` is Required**: An email classification dataset with a majority of emails being non-spam and a minority being spam."
   ]
  },
  {
   "cell_type": "markdown",
   "id": "aedf511a",
   "metadata": {},
   "source": [
    "### Q5: What is data Augmentation? Explain SMOTE."
   ]
  },
  {
   "cell_type": "markdown",
   "id": "de435f5b",
   "metadata": {},
   "source": [
    "**ANS:** `Data augmentation` involves creating new data points from the existing data using various techniques. It is commonly used in image processing to increase the size of the dataset by applying transformations like rotations, flips, and crops to the original images.\n",
    "\n",
    "**`SMOTE (Synthetic Minority Over-sampling Technique)`**:\n",
    "- SMOTE is a data augmentation technique used specifically for handling imbalanced datasets. It generates synthetic samples for the minority class by interpolating between existing minority class examples.\n",
    "\n",
    "Explanation:\n",
    "1. **Selection**: For each instance in the minority class, SMOTE selects one or more of its nearest neighbors from the same class.\n",
    "2. **Interpolation**: Synthetic examples are created by taking the difference between the feature vector of the selected instance and its nearest neighbor, multiplying it by a random number between 0 and 1, and adding this to the feature vector of the selected instance."
   ]
  },
  {
   "cell_type": "markdown",
   "id": "3a8b46e7",
   "metadata": {},
   "source": [
    "### Q6: What are outliers in a dataset? Why is it essential to handle outliers?"
   ]
  },
  {
   "cell_type": "markdown",
   "id": "a6022ee4",
   "metadata": {},
   "source": [
    "**ANS:** **`Outliers`** in a dataset are data points that significantly differ from the majority of observations. They may be unusually high or low compared to other values. `Handling outliers` is essential because:\n",
    "   - Outliers can skew and mislead statistical analyses, affecting measures such as mean and standard deviation.\n",
    "   - They can distort patterns and trends in data visualization.\n",
    "   - Outliers may lead to biased or incorrect model predictions.\n",
    "   - They can indicate data entry errors or rare, but significant, events that need special attention."
   ]
  },
  {
   "cell_type": "markdown",
   "id": "9c1345d8",
   "metadata": {},
   "source": [
    "### Q7: You are working on a project that requires analyzing customer data. However, you notice that some of the data is missing. What are some techniques you can use to handle the missing data in your analysis?"
   ]
  },
  {
   "cell_type": "markdown",
   "id": "4eae3d83",
   "metadata": {},
   "source": [
    "**ANS:** To handle missing data:\n",
    "\n",
    "1. **Removing Rows**: Drop rows with missing values.\n",
    "2. **Filling Values**: Use mean, median, mode, or other values to fill gaps.\n",
    "3. **Forward/Backward Fill**: Propagate existing values forward or backward.\n",
    "4. **Interpolation**: Estimate missing values based on surrounding data.\n",
    "5. **Imputation Algorithms**: Use techniques like k-Nearest Neighbors or regression.\n",
    "6. **Domain Knowledge**: Fill based on specific knowledge about the data."
   ]
  },
  {
   "cell_type": "markdown",
   "id": "668753bf",
   "metadata": {},
   "source": [
    "### Q8: You are working with a large dataset and find that a small percentage of the data is missing. What are some strategies you can use to determine if the missing data is missing at random or if there is a pattern to the missing data?"
   ]
  },
  {
   "cell_type": "markdown",
   "id": "2e461b0b",
   "metadata": {},
   "source": [
    "**ANS:** To determine if missing data is missing at random or if there is a pattern:\n",
    "\n",
    "1. **Visual Inspection**: Use heatmaps or missing value plots.\n",
    "2. **Summary Statistics**: Compare statistics of variables with and without missing data.\n",
    "3. **Missing Data Indicators**: Analyze correlations between missingness indicators and other variables.\n",
    "4. **Little's MCAR Test**: Perform statistical tests for Missing Completely at Random (MCAR).\n",
    "5. **Pattern Analysis**: Examine if missingness correlates with other features.\n",
    "6. **Correlation Analysis**: Check correlations between missingness and other variables.\n",
    "7. **Predictive Modeling**: Use models to predict missingness based on other features."
   ]
  },
  {
   "cell_type": "markdown",
   "id": "71d7574c",
   "metadata": {},
   "source": [
    "### Q9: Suppose you are working on a medical diagnosis project and find that the majority of patients in the dataset do not have the condition of interest, while a small percentage do. What are some strategies you can use to evaluate the performance of your machine learning model on this imbalanced dataset?"
   ]
  },
  {
   "cell_type": "markdown",
   "id": "425c5e2e",
   "metadata": {},
   "source": [
    "**ANS:** Some strategies that you can use to evaluate the performance of your machine learning model on this imbalanced dataset are as follows:\n",
    "\n",
    "1. **Confusion Matrix**: Analyze true/false positives/negatives.\n",
    "2. **Precision and Recall**: Measure the model’s accuracy on the minority class.\n",
    "3. **F1 Score**: Balance precision and recall.\n",
    "4. **ROC Curve and AUC**: Assess performance across thresholds.\n",
    "5. **Precision-Recall Curve**: Focus on the performance of the minority class.\n",
    "6. **Class Weight Adjustment**: Incorporate class weights during training.\n",
    "7. **Resampling Techniques**: Use SMOTE or random under-sampling to balance classes.\n",
    "8. **Stratified K-Fold Cross-Validation**: Ensure balanced class distribution in folds."
   ]
  },
  {
   "cell_type": "markdown",
   "id": "af72c60a",
   "metadata": {},
   "source": [
    "### Q10: When attempting to estimate customer satisfaction for a project, you discover that the dataset is unbalanced, with the bulk of customers reporting being satisfied. What methods can you employ to balance the dataset and down-sample the majority class?"
   ]
  },
  {
   "cell_type": "markdown",
   "id": "dc9d3e8c",
   "metadata": {},
   "source": [
    "**ANS:** To balance the dataset and down-sample the majority class:\n",
    "\n",
    "1. **Random Under-sampling**: Remove samples from the majority class randomly.\n",
    "2. **Cluster-Based Under-sampling**: Use clustering algorithms to select representative samples from the majority class.\n",
    "3. **Tomek Links**: Remove samples that are close to the decision boundary.\n",
    "4. **Edited Nearest Neighbors (ENN)**: Remove samples that are misclassified by their nearest neighbors.\n",
    "\n",
    "These methods help balance the dataset by reducing the number of samples in the majority class."
   ]
  },
  {
   "cell_type": "markdown",
   "id": "b686261c",
   "metadata": {},
   "source": [
    "### Q11: You discover that the dataset is unbalanced with a low percentage of occurrences while working on a project that requires you to estimate the occurrence of a rare event. What methods can you employ to balance the dataset and up-sample the minority class?"
   ]
  },
  {
   "cell_type": "markdown",
   "id": "d1e7e88a",
   "metadata": {},
   "source": [
    "**ANS:** To balance the dataset and up-sample the minority class:\n",
    "\n",
    "1. **Random Over-sampling**: Duplicate samples from the minority class.\n",
    "2. **SMOTE (Synthetic Minority Over-sampling Technique)**: Generate synthetic samples for the minority class.\n",
    "3. **ADASYN (Adaptive Synthetic Sampling)**: Similar to SMOTE but focuses on generating samples in harder-to-learn regions.\n",
    "4. **Borderline-SMOTE**: Generate synthetic samples near the decision boundary of the minority class.\n",
    "\n",
    "These methods help increase the representation of the minority class in the dataset."
   ]
  }
 ],
 "metadata": {
  "kernelspec": {
   "display_name": "Python 3 (ipykernel)",
   "language": "python",
   "name": "python3"
  },
  "language_info": {
   "codemirror_mode": {
    "name": "ipython",
    "version": 3
   },
   "file_extension": ".py",
   "mimetype": "text/x-python",
   "name": "python",
   "nbconvert_exporter": "python",
   "pygments_lexer": "ipython3",
   "version": "3.9.13"
  }
 },
 "nbformat": 4,
 "nbformat_minor": 5
}
