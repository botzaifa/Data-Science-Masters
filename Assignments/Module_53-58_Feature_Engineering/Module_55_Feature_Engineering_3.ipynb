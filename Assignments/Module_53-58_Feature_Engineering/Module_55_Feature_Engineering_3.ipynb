{
 "cells": [
  {
   "cell_type": "markdown",
   "id": "3bb57e29",
   "metadata": {},
   "source": [
    "# Assignment (19th March) : Feature Engineering - 3"
   ]
  },
  {
   "cell_type": "markdown",
   "id": "838663b7",
   "metadata": {},
   "source": [
    "### Q1. What is Min-Max scaling, and how is it used in data preprocessing? Provide an example to illustrate its application."
   ]
  },
  {
   "cell_type": "markdown",
   "id": "c8186f0c",
   "metadata": {},
   "source": [
    "**ANS:** **`Min-Max Scaling`**:\n",
    "Min-Max scaling transforms features to a specific range, usually [0, 1]. It is done by subtracting the minimum value of the feature and then dividing by the range (difference between the maximum and minimum values). This scaling method ensures that all features have the same scale, which can improve the performance of many machine learning algorithms.\n",
    "\n",
    "**`Formula`**:\n",
    "<p align=\"center\">\n",
    "\\[ \\text{Scaled value} = \\frac{X - \\text{min}(X)}{\\text{max}(X) - \\text{min}(X)} \\]\n",
    "</p>\n",
    "\n",
    "**`Example`**:\n",
    "For a feature with values [1, 5, 10, 15, 20]:\n",
    "1. **Minimum**: 1\n",
    "2. **Maximum**: 20\n",
    "3. **Range**: 20 - 1 = 19\n",
    "\n",
    "`Transform each value:`\n",
    "\n",
    "<p align=\"center\">\n",
    "- For 1: \\( \\frac{1 - 1}{19} = 0 \\)\n",
    "</p>\n",
    "\n",
    "<p align=\"center\">\n",
    "- For 5: \\( \\frac{5 - 1}{19} = \\frac{4}{19} \\approx 0.211 \\)\n",
    "</p>    \n",
    "\n",
    "<p align=\"center\">\n",
    "- For 10: \\( \\frac{10 - 1}{19} = \\frac{9}{19} \\approx 0.474 \\)\n",
    "</p>\n",
    "\n",
    "<p align=\"center\">\n",
    "- For 15: \\( \\frac{15 - 1}{19} = \\frac{14}{19} \\approx 0.737 \\)\n",
    "</p>\n",
    "\n",
    "<p align=\"center\">\n",
    "- For 20: \\( \\frac{20 - 1}{19} = 1 \\)\n",
    "</p>"
   ]
  },
  {
   "cell_type": "markdown",
   "id": "b226320c",
   "metadata": {},
   "source": [
    "### Q2. What is the Unit Vector technique in feature scaling, and how does it differ from Min-Max scaling? Provide an example to illustrate its application."
   ]
  },
  {
   "cell_type": "markdown",
   "id": "3c50d563",
   "metadata": {},
   "source": [
    "**ANS:** **`Unit Vector Scaling (Normalization)`**:\n",
    "The Unit Vector technique, also known as normalization, scales feature vectors so that their length (or norm) is 1. This technique is often used when features are in different units but need to be compared on a common scale.\n",
    "\n",
    "**`Formula`**:\n",
    "<p align=\"center\">\n",
    "\\[ \\text{Normalized vector} = \\frac{\\mathbf{X}}{\\|\\mathbf{X}\\|} \\]\n",
    "where \\(\\|\\mathbf{X}\\|\\) is the Euclidean norm of vector \\(\\mathbf{X}\\).\n",
    "</p>\n",
    "\n",
    "**`Difference from Min-Max Scaling`**:\n",
    "- **Min-Max Scaling**: Scales each feature to a fixed range, often [0, 1].\n",
    "- **Unit Vector Scaling**: Scales each feature vector to have a length of 1, preserving the direction but not the magnitude.\n",
    "\n",
    "**`Example`**:\n",
    "For a vector [2, 3]:\n",
    "1. **Norm**: \n",
    "<p align=\"center\">\n",
    "\\( \\sqrt{2^2 + 3^2} = \\sqrt{13} \\approx 3.606 \\)\n",
    "</p>\n",
    "\n",
    "\n",
    "2. **Normalized vector**: \n",
    "\n",
    "<p align=\"center\">\n",
    "\\([2 / 3.606, 3 / 3.606] \\approx [0.5547, 0.8321] \\)\n",
    "</p>"
   ]
  },
  {
   "cell_type": "markdown",
   "id": "e518b0c9",
   "metadata": {},
   "source": [
    "### Q3. What is PCA (Principle Component Analysis), and how is it used in dimensionality reduction? Provide an example to illustrate its application."
   ]
  },
  {
   "cell_type": "markdown",
   "id": "d9d889e5",
   "metadata": {},
   "source": [
    "**ANS:** **`PCA (Principal Component Analysis)`**:\n",
    "PCA is a technique used to reduce the dimensionality of a dataset while retaining as much variance as possible. It transforms the original features into a new set of orthogonal features (principal components), ordered by the amount of variance they explain.\n",
    "\n",
    "**How It Works**:\n",
    "1. **Standardize** the data if necessary.\n",
    "2. **Compute the covariance matrix** of the features.\n",
    "3. **Compute eigenvalues and eigenvectors** of the covariance matrix.\n",
    "4. **Sort eigenvectors** by their eigenvalues in descending order.\n",
    "5. **Select the top k eigenvectors** to form the principal components.\n",
    "6. **Transform the data** into the new feature space.\n",
    "\n",
    "**`Example`**:\n",
    "Consider a dataset with two features [X1, X2]. PCA might find that the first principal component (PC1) captures 80% of the variance and the second principal component (PC2) captures the remaining 20%. You could reduce the dimensionality by projecting the data onto PC1, effectively reducing the dataset from 2D to 1D."
   ]
  },
  {
   "cell_type": "markdown",
   "id": "8888a362",
   "metadata": {},
   "source": [
    "### Q4. What is the relationship between PCA and Feature Extraction, and how can PCA be used for Feature Extraction? Provide an example to illustrate this concept."
   ]
  },
  {
   "cell_type": "markdown",
   "id": "94cba05f",
   "metadata": {},
   "source": [
    "**ANS:** **`PCA and Feature Extraction`**:\n",
    "PCA is a method for feature extraction because it transforms the original features into a new set of features (principal components) that summarize the most important information from the data. The principal components are combinations of the original features, designed to capture the maximum variance.\n",
    "\n",
    "**`How PCA is Used for Feature Extraction`**:\n",
    "1. **Apply PCA** to the dataset.\n",
    "2. **Select a subset** of principal components that explain a significant amount of variance (e.g., 95%).\n",
    "3. **Use these principal components** as new features for the model.\n",
    "\n",
    "**`Example`**:\n",
    "If you have a dataset with 10 features and PCA reveals that the first 3 principal components explain 90% of the variance, you can use these 3 components as the new feature set, reducing the dimensionality from 10 to 3.\n"
   ]
  },
  {
   "cell_type": "markdown",
   "id": "94336786",
   "metadata": {},
   "source": [
    "### Q5. You are working on a project to build a recommendation system for a food delivery service. The dataset contains features such as price, rating, and delivery time. Explain how you would use Min-Max scaling to preprocess the data."
   ]
  },
  {
   "cell_type": "markdown",
   "id": "3941b5d3",
   "metadata": {},
   "source": [
    "**ANS:** **`Min-Max Scaling in Recommendation System`**:\n",
    "1. **Normalize the Features**: Apply Min-Max scaling to features like price, rating, and delivery time so they are on the same scale.\n",
    "2. **Preprocessing Steps**:\n",
    "   - Compute the minimum and maximum values for each feature.\n",
    "   - Transform each feature value using the Min-Max scaling formula to the range [0, 1].\n",
    "\n",
    "This ensures that no feature dominates due to its scale, making the recommendation system more effective and consistent.\n"
   ]
  },
  {
   "cell_type": "markdown",
   "id": "877fe16a",
   "metadata": {},
   "source": [
    "### Q6. You are working on a project to build a model to predict stock prices. The dataset contains many features, such as company financial data and market trends. Explain how you would use PCA to reduce the dimensionality of the dataset."
   ]
  },
  {
   "cell_type": "markdown",
   "id": "5a70b97f",
   "metadata": {},
   "source": [
    "**ANS:** **`Using PCA for Dimensionality Reduction`**:\n",
    "1. **Standardize the Data**: Scale features to have zero mean and unit variance.\n",
    "2. **Apply PCA**: Compute the principal components of the dataset.\n",
    "3. **Select Principal Components**: Choose the components that explain a high percentage of the variance (e.g., 95%).\n",
    "4. **Transform the Data**: Project the original features onto the selected principal components.\n",
    "\n",
    "This process reduces the number of features while retaining most of the variance in the dataset, making the model simpler and potentially improving performance."
   ]
  },
  {
   "cell_type": "markdown",
   "id": "79c5cd2f",
   "metadata": {},
   "source": [
    "### Q7. For a dataset containing the following values: [1, 5, 10, 15, 20], perform Min-Max scaling to transform the values to a range of -1 to 1."
   ]
  },
  {
   "cell_type": "markdown",
   "id": "72dc4235",
   "metadata": {},
   "source": [
    "**ANS:** **`Min-Max Scaling to [-1, 1]`**:\n",
    "1. **`Formula`**: \n",
    "    \n",
    "    <p align=\"center\">\n",
    "    \\[ \\text{Scaled value} = 2 \\times \\frac{X - \\text{min}(X)}{\\text{max}(X) - \\text{min}(X)} - 1 \\]\n",
    "    </p>\n",
    "    \n",
    "2. **`Apply Formula`**:\n",
    "   - **Min**: 1\n",
    "   - **Max**: 20\n",
    "   - **Range**: 20 - 1 = 19\n",
    "\n",
    "   `Transform each value:`\n",
    "   <p align=\"center\">\n",
    "   - For 1: \\( 2 \\times \\frac{1 - 1}{19} - 1 = -1 \\)\n",
    "    </p>\n",
    "    \n",
    "    <p align=\"center\">\n",
    "   - For 5: \\( 2 \\times \\frac{5 - 1}{19} - 1 = -0.526 \\)\n",
    "    </p>\n",
    "    \n",
    "    <p align=\"center\">\n",
    "   - For 10: \\( 2 \\times \\frac{10 - 1}{19} - 1 = 0 \\)\n",
    "    </p>\n",
    "    \n",
    "    <p align=\"center\">\n",
    "    - For 15: \\( 2 \\times \\frac{15 - 1}{19} - 1 = 0.526 \\)\n",
    "    </p>\n",
    "\n",
    "    <p align=\"center\">\n",
    "    - For 20: \\( 2 \\times \\frac{20 - 1}{19} - 1 = 1 \\)\n",
    "    </p>"
   ]
  },
  {
   "cell_type": "markdown",
   "id": "6749e8aa",
   "metadata": {},
   "source": [
    "### Q8. For a dataset containing the following features: [height, weight, age, gender, blood pressure], perform Feature Extraction using PCA. How many principal components would you choose to retain, and why?"
   ]
  },
  {
   "cell_type": "markdown",
   "id": "4340cd0b",
   "metadata": {},
   "source": [
    "**ANS:** **`Feature Extraction using PCA`**:\n",
    "1. **Apply PCA**: Perform PCA on the dataset.\n",
    "2. **Select Principal Components**: Determine the number of components to retain by examining the explained variance.\n",
    "\n",
    "**`Choosing Number of Components`**:\n",
    "- **Explained Variance**: Choose the number of components that capture a high percentage of the total variance (e.g., 95%).\n",
    "- **Example**: If PCA shows that 3 components explain 90% of the variance, you would retain these 3 components to balance dimensionality reduction and information retention."
   ]
  }
 ],
 "metadata": {
  "kernelspec": {
   "display_name": "Python 3 (ipykernel)",
   "language": "python",
   "name": "python3"
  },
  "language_info": {
   "codemirror_mode": {
    "name": "ipython",
    "version": 3
   },
   "file_extension": ".py",
   "mimetype": "text/x-python",
   "name": "python",
   "nbconvert_exporter": "python",
   "pygments_lexer": "ipython3",
   "version": "3.9.13"
  }
 },
 "nbformat": 4,
 "nbformat_minor": 5
}
