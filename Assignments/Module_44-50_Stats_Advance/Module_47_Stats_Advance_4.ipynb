{
 "cells": [
  {
   "cell_type": "markdown",
   "id": "05a52b94",
   "metadata": {},
   "source": [
    "# Assignment (11th March) : Statistics Assignments - 4"
   ]
  },
  {
   "cell_type": "markdown",
   "id": "2edb23dc",
   "metadata": {},
   "source": [
    "### Q1: What is the difference between a t-test and a z-test? Provide an example scenario where you would use each type of test."
   ]
  },
  {
   "cell_type": "markdown",
   "id": "561e6d6a",
   "metadata": {},
   "source": [
    "**ANS:** The main difference between a t-test and a z-test lies in the sample size and the known parameters.\n",
    "\n",
    "**1. `T-test`** is used when the sample size is small (typically \\(n < 30\\)) and/or the population standard deviation is unknown. It accounts for extra variability in the estimate of the standard deviation.\n",
    "  - **Example:** Comparing the means of test scores from two small classes of students (e.g., 15 students each).\n",
    "\n",
    "**2. `Z-test`** is used when the sample size is large (typically \\(n \\geq 30\\)) and the population standard deviation is known. It assumes the distribution of the sample mean is approximately normal.\n",
    "  - **Example:** Testing whether the average height of a large population (e.g., 1000 individuals) is different from a known population mean when the population standard deviation is known."
   ]
  },
  {
   "cell_type": "markdown",
   "id": "df157114",
   "metadata": {},
   "source": [
    "### Q2: Differentiate between one-tailed and two-tailed tests."
   ]
  },
  {
   "cell_type": "markdown",
   "id": "01152500",
   "metadata": {},
   "source": [
    "**ANS:** The difference between one-tailed and two-tailed tests lies in the direction of the hypothesis being tested:\n",
    "\n",
    "**1. `One-Tailed Test`:** Tests for a significant difference in one specific direction (greater than or less than). It evaluates if the sample mean is either significantly higher or lower than the population mean.\n",
    "  - **Example:** Testing if a new drug increases recovery rates more than the current drug (only interested in increases).\n",
    "\n",
    "**2. `Two-Tailed Test`:** Tests for a significant difference in both directions (either greater than or less than). It evaluates if the sample mean is significantly different (either higher or lower) from the population mean.\n",
    "  - **Example:** Testing if a new teaching method has a different effect (either better or worse) on student performance compared to the traditional method.\n",
    "\n"
   ]
  },
  {
   "cell_type": "markdown",
   "id": "8725d1b0",
   "metadata": {},
   "source": [
    "### Q3: Explain the concept of Type 1 and Type 2 errors in hypothesis testing. Provide an example scenario for each type of error."
   ]
  },
  {
   "cell_type": "markdown",
   "id": "8adb7b07",
   "metadata": {},
   "source": [
    "**ANS:** **`Type 1 Error`:** Occurs when the null hypothesis is true, but we incorrectly reject it.\n",
    "- **Example:** A medical test incorrectly indicates that a patient has a disease when they actually do not. In this case, the null hypothesis (the patient does not have the disease) is true, but it is rejected based on the test result.\n",
    "\n",
    "**`Type 2 Error`:** Occurs when the null hypothesis is false, but we fail to reject it.\n",
    "- **Example:** A new drug is actually effective, but a clinical trial fails to show a statistically significant effect. Here, the null hypothesis (the drug is not effective) is false, but we fail to reject it based on the trial results.\n"
   ]
  },
  {
   "cell_type": "markdown",
   "id": "befc8c01",
   "metadata": {},
   "source": [
    "### Q4: Explain Bayes's theorem with an example."
   ]
  },
  {
   "cell_type": "markdown",
   "id": "345c1edb",
   "metadata": {},
   "source": [
    "**ANS:** **`Bayes's Theorem:`**\n",
    "Bayes's theorem calculates the probability of an event based on prior knowledge of conditions that might be related to the event.\n",
    "\n",
    "**Formula:**\n",
    "<p align=\"center\">\n",
    "\\[ P(A|B) = P(B|A) x P(A) / P(B) \\]\n",
    "</p>\n",
    "    \n",
    "**`Example:`**\n",
    "Suppose 1% of a population has a disease (P(Disease) = 0.01). A test for the disease is 99% accurate for detecting the disease if it's present (P(Test Positive | Disease) = 0.99) and 95% accurate for detecting no disease if it's absent (P(Test Negative | No Disease) = 0.95).\n",
    "\n",
    "**Question:** What is the probability that a person has the disease given they tested positive (P(Disease | Test Positive))?\n",
    "\n",
    "**Solution:**\n",
    "1. **P(Test Positive | Disease)** = 0.99\n",
    "2. **P(Test Positive | No Disease)** = 0.05 (since the test is 95% accurate for detecting no disease)\n",
    "3. **P(Disease)** = 0.01\n",
    "4. **P(No Disease)** = 0.99\n",
    "\n",
    "Calculate **P(Test Positive)**:\n",
    "\n",
    "<p align=\"center\">\n",
    "\\[ P(Test Positive) = (0.99 x 0.01) + (0.05 x 0.99) = 0.0099 + 0.0495 = 0.0594\n",
    "\\]\n",
    "</p>\n",
    "\n",
    "Now, apply Bayes's theorem:\n",
    "\n",
    "<p align=\"center\">\n",
    "\\[ P(Disease | Test Positive) = {P(Test Positive | Disease) x P(Disease)} / {P(Test Positive)} \\]\n",
    "</p>\n",
    "\n",
    "<p align=\"center\">\n",
    "\\[ P(Disease | Test Positive) = {0.99 x 0.01} / {0.0594} = approx 0.167\n",
    "\\]\n",
    "</p>\n",
    "\n",
    "**Result:** The probability that a person has the disease given they tested positive is approximately 16.7%."
   ]
  },
  {
   "cell_type": "markdown",
   "id": "2f09a574",
   "metadata": {},
   "source": [
    "### Q5: What is a confidence interval? How to calculate the confidence interval, explain with an example."
   ]
  },
  {
   "cell_type": "markdown",
   "id": "f88667c9",
   "metadata": {},
   "source": [
    "**ANS:** A `confidence interval` is a range of values, derived from sample statistics, that is likely to contain the true population parameter with a certain level of confidence (e.g., 95%).\n",
    "\n",
    "**`Calculation Steps:`**\n",
    "1. **Determine the sample mean (\\(bar{x}\\)).**\n",
    "\n",
    "2. **Calculate the standard error (SE) using the sample standard deviation (s) and sample size (n):**\n",
    "   \\[ SE = {s} / {sqrt{n}}\n",
    "   \\]\n",
    "\n",
    "3. **Find the critical value (z* or t*) based on the desired confidence level (e.g., for 95% confidence, z* = 1.96 for large samples).**\n",
    "\n",
    "4. **Compute the margin of error (ME):**\n",
    "   \\[ ME = z^* x SE \\]\n",
    "   \n",
    "5. **Construct the confidence interval:**\n",
    "   \\[ (bar{x} - ME, bar{x} + ME) \\]\n",
    "\n",
    "**`Example:`**\n",
    "Suppose you take a random sample of 50 students' test scores, and the sample mean score is 75 with a standard deviation of 10. Calculate the 95% confidence interval.\n",
    "\n",
    "1. **Sample Mean (\\(bar{x}\\)) = 75**\n",
    "2. **Sample Standard Deviation (s) = 10**\n",
    "3. **Sample Size (n) = 50**\n",
    "4. **Standard Error (SE):**\n",
    "   \\[ SE = {10} / {sqrt{50}} = 1.41 \\]\n",
    "   \n",
    "5. **Critical Value for 95% (z*) = 1.96**\n",
    "6. **Margin of Error (ME):**\n",
    "   \\[ ME = 1.96 x 1.41 = 2.76 \\]\n",
    "   \n",
    "7. **Confidence Interval:**\n",
    "   \\[ (75 - 2.76, 75 + 2.76) = (72.24, 77.76) \\]\n",
    "\n",
    "**Result:** The 95% confidence interval for the average test score is (72.24, 77.76)."
   ]
  },
  {
   "cell_type": "markdown",
   "id": "bf87ae19",
   "metadata": {},
   "source": [
    "### Q6. Use Bayes' Theorem to calculate the probability of an event occurring given prior knowledge of the event's probability and new evidence. Provide a sample problem and solution."
   ]
  },
  {
   "cell_type": "markdown",
   "id": "d4966788",
   "metadata": {},
   "source": [
    "**ANS:** **`Bayes' Theorem:`**\n",
    "\n",
    "<p align=\"center\">\n",
    "\\[ P(A|B) = {P(B|A) x P(A)} / {P(B)}\n",
    "\\]\n",
    "</p>\n",
    "    \n",
    "    \n",
    "**`Sample Problem:`**\n",
    "A factory has two machines, A and B. Machine A produces 40% of the items, and Machine B produces 60%. 5% of items from Machine A are defective, while 3% of items from Machine B are defective. If an item is found defective, what is the probability it was produced by Machine A?\n",
    "\n",
    "**`Solution:`**\n",
    "1. **P(A)** = 0.40 (Probability item is from Machine A)\n",
    "2. **P(B)** = 0.60 (Probability item is from Machine B)\n",
    "3. **P(D|A)** = 0.05 (Probability item is defective given it’s from Machine A)\n",
    "4. **P(D|B)** = 0.03 (Probability item is defective given it’s from Machine B)\n",
    "\n",
    "Calculate P(D):\n",
    "\n",
    "<p align=\"center\">\n",
    "\\[ P(D) = P(D|A) x P(A) + P(D|B) x P(B) = 0.05 x 0.40 + 0.03 x 0.60 = 0.02 + 0.018 = 0.038\n",
    "\\]\n",
    "</p>\n",
    "\n",
    "Apply Bayes' Theorem:\n",
    "<p align=\"center\">\n",
    "\\[\n",
    "P(A|D) = {P(D|A) x P(A)} / {P(D)} = {0.05 x 0.40} / {0.038} = {0.02} / {0.038} = approx 0.526\n",
    "\\]\n",
    "\n",
    "</p>    \n",
    "    \n",
    "**Result:** The probability that a defective item was produced by Machine A is approximately 52.6%."
   ]
  },
  {
   "cell_type": "markdown",
   "id": "4281b646",
   "metadata": {},
   "source": [
    "### Q7. Calculate the 95% confidence interval for a sample of data with a mean of 50 and a standard deviation of 5. Interpret the results."
   ]
  },
  {
   "cell_type": "markdown",
   "id": "dda5dafc",
   "metadata": {},
   "source": [
    "**ANS:** `Steps to Calculate the 95% Confidence Interval:`\n",
    "\n",
    "1. **Sample Mean (\\(bar{x}\\)) = 50**\n",
    "2. **Standard Deviation (s) = 5**\n",
    "3. **Sample Size (n) = Assume a large sample (e.g., n = 100)**\n",
    "4. **Standard Error (SE):**\n",
    "   \n",
    "   \\[ SE = {s} / {sqrt{n}} = {5} / {sqrt{100}} = {5} / {10} = 0.5\n",
    "   \\]\n",
    "5. **Critical Value for 95% (z*) = 1.96**\n",
    "6. **Margin of Error (ME):**\n",
    "   \\[\n",
    "   ME = z* x SE = 1.96 x 0.5 = 0.98\n",
    "   \\]\n",
    "7. **Confidence Interval:**\n",
    "   \\[\n",
    "   ( bar{x} - ME, bar{x} + ME) = (50 - 0.98, 50 + 0.98) = (49.02, 50.98)\n",
    "   \\]\n",
    "\n",
    "**Interpretation:**\n",
    "The 95% confidence interval for the population mean is (49.02, 50.98). This means we are 95% confident that the true population mean lies within this interval."
   ]
  },
  {
   "cell_type": "markdown",
   "id": "12ffdc20",
   "metadata": {},
   "source": [
    "### Q8. What is the margin of error in a confidence interval? How does sample size affect the margin of error? Provide an example of a scenario where a larger sample size would result in a smaller margin of error."
   ]
  },
  {
   "cell_type": "markdown",
   "id": "e991590b",
   "metadata": {},
   "source": [
    "**ANS** **`Margin of Error:`**\n",
    "The margin of error (ME) is the range of values above and below the sample statistic in a confidence interval.\n",
    "\n",
    "**Formula:**\n",
    "\n",
    "<p align=\"center\">\n",
    "\\[\n",
    "ME = z^* \\times SE\n",
    "\\]\n",
    "</p>\n",
    "\n",
    "**`Effect of Sample Size:`**\n",
    "The margin of error decreases as the sample size increases because the standard error (SE) decreases.\n",
    "\n",
    "**`Example:`**\n",
    "Suppose we are estimating the mean height of students.\n",
    "\n",
    "- **`Small Sample Size` (n = 25):**\n",
    "  - Standard Deviation (s) = 6\n",
    "  - Sample Mean (\\(bar{x}\\)) = 160\n",
    "  - Standard Error (SE): \n",
    "    <p align=\"center\">\n",
    "    \\[ SE = {s} / {sqrt{n}} = {6} / {sqrt{25}} = 1.2 \\]\n",
    "    </p>\n",
    "    \n",
    "  - Critical Value (z*) = 1.96 (for 95% confidence)\n",
    "  - Margin of Error (ME): \n",
    "    <p align=\"center\">\n",
    "    \\[ ME = 1.96 x 1.2 = 2.35 \\]\n",
    "    </p>\n",
    "\n",
    "- **`Larger Sample Size` (n = 100):**\n",
    "  - Standard Deviation (s) = 6\n",
    "  - Sample Mean (\\(\\\\bar{x}\\)) = 160\n",
    "  - Standard Error (SE): \n",
    "    <p align=\"center\">\n",
    "    \\[ SE = {s} / {sqrt{n}} = {6} / {sqrt{100}} = 0.6 \\]\n",
    "    </p>\n",
    "  - Critical Value (z*) = 1.96 (for 95% confidence)\n",
    "  - Margin of Error (ME): \n",
    "    <p align=\"center\">\n",
    "    \\[ ME = 1.96 x 0.6 = 1.18 \\]\n",
    "    </p>\n",
    "\n",
    "**Result:** With a larger sample size (n = 100), the margin of error is smaller (1.18) compared to a smaller sample size (n = 25) with a margin of error of 2.35. This means the estimate is more precise with a larger sample size."
   ]
  },
  {
   "cell_type": "markdown",
   "id": "8a1d470e",
   "metadata": {},
   "source": [
    "### Q9. Calculate the z-score for a data point with a value of 75, a population mean of 70, and a population standard deviation of 5. Interpret the results."
   ]
  },
  {
   "cell_type": "markdown",
   "id": "a7c2bd16",
   "metadata": {},
   "source": [
    "**ANS:** `Steps to Calculate the Z-Score:`\n",
    "\n",
    "1. **Given:**\n",
    "   - Data point (x) = 75\n",
    "   - Population mean (\\(mu\\)) = 70\n",
    "   - Population standard deviation (\\(sigma\\)) = 5\n",
    "\n",
    "\n",
    "\n",
    "2. **Z-Score Formula:**\n",
    "   <p align=\"center\"> \n",
    "   \\[ z = {x - mu} / {sigma} \\]\n",
    "   </p>\n",
    "\n",
    "\n",
    "\n",
    "3. **Calculation:**\n",
    "   <p align=\"center\"> \n",
    "   \\[ z = {75 - 70} / {5} = {5} / {5} = 1 \\]\n",
    "   </p>\n",
    "   \n",
    "**Interpretation:**\n",
    "The z-score of 1 means the data point (75) is 1 standard deviation above the population mean (70)."
   ]
  },
  {
   "cell_type": "markdown",
   "id": "ee01654d",
   "metadata": {},
   "source": [
    "### Q10. In a study of the effectiveness of a new weight loss drug, a sample of 50 participants lost an average of 6 pounds with a standard deviation of 2.5 pounds. Conduct a hypothesis test to determine if the drug is significantly effective at a 95% confidence level using a t-test."
   ]
  },
  {
   "cell_type": "markdown",
   "id": "33e93345",
   "metadata": {},
   "source": [
    "**ANS:** `Steps to Conduct a Hypothesis Test Using a T-Test:`\n",
    "\n",
    "1. **Given:**\n",
    "   - Sample mean (\\(bar{x}\\)) = 6 pounds\n",
    "   - Sample standard deviation (s) = 2.5 pounds\n",
    "   - Sample size (n) = 50\n",
    "   - Population mean (\\(mu_0\\)) = 0 pounds (assuming no weight loss if the drug is not effective)\n",
    "   - Significance level (\\(alpha\\)) = 0.05\n",
    "\n",
    "2. **Formulate Hypotheses:**\n",
    "   - Null Hypothesis (\\(H_0\\)): \\(mu = 0\\) (The drug is not effective)\n",
    "   - Alternative Hypothesis (\\(H_1\\)): \\(mu > 0\\) (The drug is effective)\n",
    "\n",
    "\n",
    "3. **Calculate the Test Statistic:**\n",
    "   <p align=\"center\"> \n",
    "   \\[ t = (bar{x} - mu_0) / ({s} / {sqrt{n}})\\]\n",
    "   </p>\n",
    "   \n",
    "   <p align=\"center\"> \n",
    "   \\[ t = (6 - 0) / ({2.5} / {sqrt{50}}) = (6) / ({2.5} / {7.071}) = (6) / (0.354) = approx 16.94\\]\n",
    "   </p> \n",
    "\n",
    "4. **Determine the Critical Value:**\n",
    "   - Degrees of freedom (df) = \\(n - 1 = 50 - 1 = 49\\)\n",
    "   - For a one-tailed test at \\(alpha = 0.05\\), the critical t-value (from t-distribution table) is approximately 1.676.\n",
    "\n",
    "5. **Compare Test Statistic to Critical Value:**\n",
    "   - Since \\(t = approx 16.94\\) is much greater than 1.676, we reject the null hypothesis.\n",
    "\n",
    "**Result and Interpretation:**\n",
    "The test statistic (t ≈ 16.94) is significantly greater than the critical value (1.676). Therefore, we reject the null hypothesis at the 95% confidence level and conclude that the weight loss drug is significantly effective."
   ]
  },
  {
   "cell_type": "markdown",
   "id": "8072933b",
   "metadata": {},
   "source": [
    "### Q11. In a survey of 500 people, 65% reported being satisfied with their current job. Calculate the 95% confidence interval for the true proportion of people who are satisfied with their job."
   ]
  },
  {
   "cell_type": "markdown",
   "id": "3f65c1a7",
   "metadata": {},
   "source": [
    "**ANS:** `Steps to Calculate the 95% Confidence Interval for a Proportion:`\n",
    "\n",
    "1. **Given:**\n",
    "   - Sample proportion (\\( hat p \\)) = 0.65\n",
    "   - Sample size (n) = 500\n",
    "   - Confidence level = 95%\n",
    "\n",
    "2. **Calculate the Standard Error (SE):**\n",
    "\n",
    "    <p align=\"center\"> \n",
    "    \\[ SE = sqrt((hat p x (1 - hat p)) / (n)) = sqrt((0.65 x (1 - 0.65)) / (500)) \\]\n",
    "    </p>\n",
    "   \n",
    "   <p align=\"center\">\n",
    "   \\[ = sqrt( (0.65 x 0.35) / (500)) = sqrt( (0.2275) / (500))  = approx 0.021 \\]\n",
    "   </p>\n",
    "\n",
    "\n",
    "\n",
    "3. **Find the Critical Value (z*) for a 95% Confidence Level:**\n",
    "   - \\( z* = approx 1.96 \\)\n",
    "\n",
    "\n",
    "4. **Calculate the Margin of Error (ME):**\n",
    "    <p align=\"center\">\n",
    "   \\[ ME = z* x SE = 1.96 x 0.021 = approx 0.041 \\]\n",
    "    </p>\n",
    "\n",
    "5. **Construct the Confidence Interval:**\n",
    "   <p align=\"center\">\n",
    "   \\[(hat(p) - ME. hat(p) + ME) = (0.65 - 0.041, 0.65 + 0.041) = (0.609, 0.691)\\]\n",
    "    </p>\n",
    "\n",
    "**Result and Interpretation:**\n",
    "The 95% confidence interval for the true proportion of people who are satisfied with their job is (0.609, 0.691). This means we are 95% confident that the true proportion of job satisfaction lies between 60.9% and 69.1%."
   ]
  },
  {
   "cell_type": "markdown",
   "id": "99d09119",
   "metadata": {},
   "source": [
    "### Q12. A researcher is testing the effectiveness of two different teaching methods on student performance. Sample A has a mean score of 85 with a standard deviation of 6, while sample B has a mean score of 82 with a standard deviation of 5. Conduct a hypothesis test to determine if the two teaching methods have a significant difference in student performance using a t-test with a significance level of 0.01."
   ]
  },
  {
   "cell_type": "markdown",
   "id": "475f3174",
   "metadata": {},
   "source": [
    "**ANS:** `Steps to Conduct a Hypothesis Test Using a Two-Sample T-Test:`\n",
    "\n",
    "1. **Given:**\n",
    "   - Sample A:\n",
    "     - Mean (\\(bar{x}_A\\)) = 85\n",
    "     - Standard deviation (\\(s_A\\)) = 6\n",
    "     - Sample size (\\(n_A\\)) = assume a large enough sample, e.g., 30\n",
    "   - Sample B:\n",
    "     - Mean (\\(bar{x}_B\\)) = 82\n",
    "     - Standard deviation (\\(s_B\\)) = 5\n",
    "     - Sample size (\\(n_B\\)) = assume a large enough sample, e.g., 30\n",
    "   - Significance level (\\(alpha\\)) = 0.01\n",
    "\n",
    "2. **Formulate Hypotheses:**\n",
    "   - Null Hypothesis (\\(H_0\\)): \\(mu_A = mu_B\\) (No significant difference between the teaching methods)\n",
    "   - Alternative Hypothesis (\\(H_1\\)): \\(mu_A != mu_B\\) (Significant difference between the teaching methods)\n",
    "\n",
    "3. **Calculate the Pooled Standard Error (SE):**\n",
    "   <p align=\"center\">\n",
    "   \\[\n",
    "   SE = \\sqrt{\\frac{s_A^2}{n_A} + \\frac{s_B^2}{n_B}} = \\sqrt{\\frac{6^2}{30} + \\frac{5^2}{30}} = \\sqrt{\\frac{36}{30} + \\frac{25}{30}} = \\sqrt{2.033 + 1.667} = \\sqrt{3.7} \\approx 1.92\n",
    "   \\]\n",
    "    </p>\n",
    "\n",
    "4. **Calculate the Test Statistic (t):**\n",
    "   <p align=\"center\">\n",
    "   \\[\n",
    "   t = \\frac{\\bar{x}_A - \\bar{x}_B}{SE} = \\frac{85 - 82}{1.92} \\approx \\frac{3}{1.92} \\approx 1.56\n",
    "   \\]\n",
    "    </p>\n",
    "\n",
    "\n",
    "5. **Determine the Critical Value for a Two-Tailed Test at \\(alpha = 0.01\\):**\n",
    "   - Degrees of freedom (df) can be approximated by the smaller of \\(n_A - 1\\) and \\(n_B - 1\\), which in this case is 29.\n",
    "   - For \\(alpha = 0.01\\) and df = 29, the critical t-value (two-tailed) is approximately 2.756.\n",
    "\n",
    "6. **Compare Test Statistic to Critical Value:**\n",
    "   - Since \\( |t| = 1.56 \\) is less than 2.756, we fail to reject the null hypothesis.\n",
    "\n",
    "**Result and Interpretation:**\n",
    "The test statistic (t ≈ 1.56) is less than the critical value (2.756). Therefore, we fail to reject the null hypothesis at the 0.01 significance level. This means there is no significant difference in student performance between the two teaching methods."
   ]
  },
  {
   "cell_type": "markdown",
   "id": "bf40b907",
   "metadata": {},
   "source": [
    "### Q13. A population has a mean of 60 and a standard deviation of 8. A sample of 50 observations has a mean of 65. Calculate the 90% confidence interval for the true population mean."
   ]
  },
  {
   "cell_type": "markdown",
   "id": "77fb5c4a",
   "metadata": {},
   "source": [
    "**ANS:** `Steps to Calculate the 90% Confidence Interval for the Population Mean:`\n",
    "\n",
    "1. **Given:**\n",
    "   - Population mean (\\(mu\\)) = 60 (not needed for the confidence interval calculation)\n",
    "   - Population standard deviation (\\(sigma\\)) = 8\n",
    "   - Sample size (n) = 50\n",
    "   - Sample mean (\\(bar{x}\\)) = 65\n",
    "   - Confidence level = 90%\n",
    "\n",
    "2. **Calculate the Standard Error (SE):**\n",
    "   <p align=\"center\">\n",
    "   \\[\n",
    "   SE = \\frac{\\sigma}{\\sqrt{n}} = \\frac{8}{\\sqrt{50}} = \\frac{8}{7.071} \\approx 1.13\n",
    "   \\]\n",
    "    </p>\n",
    "\n",
    "3. **Find the Critical Value (z*) for a 90% Confidence Level:**\n",
    "   - For a 90% confidence level, the critical value (z*) is approximately 1.645.\n",
    "\n",
    "4. **Calculate the Margin of Error (ME):**\n",
    "   <p align=\"center\">\n",
    "   \\[\n",
    "   ME = z^* \\times SE = 1.645 \\times 1.13 \\approx 1.86\n",
    "   \\]\n",
    "    </p>\n",
    "\n",
    "5. **Construct the Confidence Interval:**\n",
    "   <p align=\"center\">\n",
    "   \\[\n",
    "   (\\bar{x} - ME, \\bar{x} + ME) = (65 - 1.86, 65 + 1.86) = (63.14, 66.86)\n",
    "   \\]\n",
    "    </p>\n",
    "\n",
    "**Result and Interpretation:**\n",
    "The 90% confidence interval for the true population mean is (63.14, 66.86). This means we are 90% confident that the true population mean lies within this interval."
   ]
  },
  {
   "cell_type": "markdown",
   "id": "03bab27d",
   "metadata": {},
   "source": [
    "### Q14. In a study of the effects of caffeine on reaction time, a sample of 30 participants had an average reaction time of 0.25 seconds with a standard deviation of 0.05 seconds. Conduct a hypothesis test to determine if the caffeine has a significant effect on reaction time at a 90% confidence level using a t-test."
   ]
  },
  {
   "cell_type": "markdown",
   "id": "d98220f2",
   "metadata": {},
   "source": [
    "**ANS:** `Steps to Conduct a Hypothesis Test Using a T-Test:`\n",
    "\n",
    "1. **Given:**\n",
    "   - Sample mean (\\(bar{x}\\)) = 0.25 seconds\n",
    "   - Sample standard deviation (s) = 0.05 seconds\n",
    "   - Sample size (n) = 30\n",
    "   - Population mean (\\(mu_0\\)) = Assume the reaction time without caffeine is 0.3 seconds (hypothetical value)\n",
    "   - Significance level (\\(alpha\\)) = 0.10 (for a 90% confidence level)\n",
    "\n",
    "2. **Formulate Hypotheses:**\n",
    "   - Null Hypothesis (\\(H_0\\)): \\(mu = 0.3\\) (Caffeine has no effect)\n",
    "   - Alternative Hypothesis (\\(H_1\\)): \\(mu != 0.3\\) (Caffeine has an effect)\n",
    "\n",
    "3. **Calculate the Test Statistic:**\n",
    "   <p align=\"center\">\n",
    "   \\[\n",
    "   t = \\frac{\\bar{x} - \\mu_0}{\\frac{s}{\\sqrt{n}}}\n",
    "   \\]\n",
    "   \\[\n",
    "   t = \\frac{0.25 - 0.3}{\\frac{0.05}{\\sqrt{30}}} = \\frac{-0.05}{\\frac{0.05}{5.477}} = \\frac{-0.05}{0.00913} \\approx -5.48\n",
    "   \\]\n",
    "    </p>\n",
    "\n",
    "4. **Determine the Critical Value:**\n",
    "   - Degrees of freedom (df) = \\(n - 1 = 30 - 1 = 29\\)\n",
    "   - For a two-tailed test at \\(alpha = 0.10\\), the critical t-value from the t-distribution table is approximately ±1.699.\n",
    "\n",
    "5. **Compare Test Statistic to Critical Value:**\n",
    "   - Since \\( |t| = 5.48 \\) is much greater than 1.699, we reject the null hypothesis.\n",
    "\n",
    "**Result and Interpretation:**\n",
    "The test statistic (t ≈ -5.48) is significantly greater in magnitude than the critical value (±1.699). Therefore, we reject the null hypothesis at the 90% confidence level and conclude that caffeine has a significant effect on reaction time."
   ]
  }
 ],
 "metadata": {
  "kernelspec": {
   "display_name": "Python 3 (ipykernel)",
   "language": "python",
   "name": "python3"
  },
  "language_info": {
   "codemirror_mode": {
    "name": "ipython",
    "version": 3
   },
   "file_extension": ".py",
   "mimetype": "text/x-python",
   "name": "python",
   "nbconvert_exporter": "python",
   "pygments_lexer": "ipython3",
   "version": "3.9.13"
  }
 },
 "nbformat": 4,
 "nbformat_minor": 5
}
