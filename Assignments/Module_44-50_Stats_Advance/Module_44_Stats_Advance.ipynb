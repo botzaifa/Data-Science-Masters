{
 "cells": [
  {
   "cell_type": "markdown",
   "metadata": {},
   "source": [
    "# Assignment (8th March) : Statistics Advanced"
   ]
  },
  {
   "cell_type": "markdown",
   "metadata": {},
   "source": [
    "### Q1. What is the Probability density function?"
   ]
  },
  {
   "cell_type": "markdown",
   "metadata": {},
   "source": [
    "**ANS:** A Probability Density Function (PDF) describes the probability distribution of a continuous random variable. Mathematically, for a random variable ( X ), the PDF, denoted as ( f(x) ), gives the probability that ( X ) takes on a specific value within a range. The key properties of a PDF are:\n",
    "\n",
    "1. **Non-negative values:** ( f(x) >= 0 ) for all ( x ).\n",
    "2. **Total probability:** The integral of the PDF over its entire range equals 1:\n",
    "      ∞∫−∞ f(x)dx=1\n",
    "3. **Probability in an interval:** The probability that \\( X \\) lies within an interval \\( [a, b] \\) is given by:\n",
    "P(a≤X≤b)=  b∫a f(x)dx\n",
    "\n",
    "The PDF is a fundamental concept in statistics and is used to model and understand the behavior of continuous random variables in various applications."
   ]
  },
  {
   "cell_type": "markdown",
   "metadata": {},
   "source": [
    "### Q2. What are the types of Probability distribution?"
   ]
  },
  {
   "cell_type": "markdown",
   "metadata": {},
   "source": [
    "**ANS:** Probability distributions can be broadly classified into two main categories: `Discrete` and `Continuous` distributions. Each category includes several specific types of distributions, each with unique characteristics and applications.\n",
    "\n",
    "**a. `Discrete Probability Distributions:`**\n",
    "Discrete distributions describe the probabilities of outcomes of a discrete random variable (a variable that can take on a countable number of distinct values).\n",
    "\n",
    "1. **Binomial Distribution:** Models the number of successes in a fixed number of independent Bernoulli trials (e.g., flipping a coin).\n",
    "\n",
    "\n",
    "2. **Poisson Distribution:** Models the number of events occurring in a fixed interval of time or space, with events occurring independently.\n",
    "\n",
    "\n",
    "3. **Geometric Distribution:** Models the number of trials needed to get the first success in a series of independent Bernoulli trials.\n",
    "\n",
    "\n",
    "4. **Negative Binomial Distribution:** Generalizes the geometric distribution to model the number of trials needed to achieve a specified number of successes.\n",
    "\n",
    "\n",
    "\n",
    "**b. `Continuous Probability Distributions:`**\n",
    "Continuous distributions describe the probabilities of outcomes of a continuous random variable (a variable that can take on an infinite number of possible values within a range).\n",
    "\n",
    "1. **Normal (Gaussian) Distribution:** Symmetric, bell-shaped distribution that is characterized by its mean \\( \\mu \\) and standard deviation \\( \\sigma \\).\n",
    "\n",
    "\n",
    "2. **Uniform Distribution:** All intervals of the same length within the distribution's range are equally probable.\n",
    "\n",
    "\n",
    "3. **Exponential Distribution:** Models the time between events in a Poisson process.\n",
    "\n",
    "\n",
    "4. **Gamma Distribution:** Generalizes the exponential distribution and is used to model waiting times.\n",
    "\n",
    "\n",
    "\n",
    "5. **Beta Distribution:** Defined on the interval \\([0, 1]\\) and used in Bayesian statistics and modeling proportions.\n",
    "\n",
    "\n",
    "6. **Chi-Square Distribution:** Used in hypothesis testing and confidence interval estimation for variance in a normal distribution.\n",
    " \n",
    " "
   ]
  },
  {
   "cell_type": "markdown",
   "metadata": {},
   "source": [
    "### Q3. Write a Python function to calculate the probability density function of a normal distribution with given mean and standard deviation at a given point."
   ]
  },
  {
   "cell_type": "code",
   "execution_count": 1,
   "metadata": {},
   "outputs": [
    {
     "name": "stdout",
     "output_type": "stream",
     "text": [
      "The PDF value at x=1.0 is 0.24197072451914337\n"
     ]
    }
   ],
   "source": [
    "import math\n",
    "\n",
    "def normal_pdf(x, mean, std_dev):\n",
    "    coefficient = 1 / (std_dev * math.sqrt(2 * math.pi))\n",
    "    exponent = -((x - mean) ** 2) / (2 * std_dev ** 2)\n",
    "    return coefficient * math.exp(exponent)\n",
    "\n",
    "# Example usage:\n",
    "x = 1.0\n",
    "mean = 0.0\n",
    "std_dev = 1.0\n",
    "pdf_value = normal_pdf(x, mean, std_dev)\n",
    "print(f\"The PDF value at x={x} is {pdf_value}\")\n"
   ]
  },
  {
   "cell_type": "markdown",
   "metadata": {},
   "source": [
    "In this function:\n",
    "- `x` is the point at which you want to calculate the PDF.\n",
    "- `mean` is the mean (μ) of the normal distribution.\n",
    "- `std_dev` is the standard deviation (σ) of the normal distribution."
   ]
  },
  {
   "cell_type": "markdown",
   "metadata": {},
   "source": [
    "### Q4. What are the properties of Binomial distribution? Give two examples of events where binomial distribution can be applied."
   ]
  },
  {
   "cell_type": "markdown",
   "metadata": {},
   "source": [
    "**ANS:** The Properties of Binomial Distribution are as follows:\n",
    "\n",
    "1. **Fixed Number of Trials (n):** The distribution is defined for a fixed number of trials \\( n \\).\n",
    "\n",
    "2. **Two Possible Outcomes:** Each trial results in one of two outcomes: success (with probability \\( p \\)) or failure (with probability \\( 1 - p \\)).\n",
    "\n",
    "3. **Independence:** The trials are independent; the outcome of one trial does not affect the outcome of another.\n",
    "\n",
    "4. **Probability of Success (p):** The probability of success \\( p \\) is the same for each trial.\n",
    "\n",
    "5. **Discrete Distribution:** The binomial distribution is discrete, meaning it is defined for integer values from 0 to \\( n \\).\n",
    "\n",
    "6. **Mean and Variance:** The mean (\\( mu \\)) and variance (\\( sigma^2 \\)) of the binomial distribution are given by:\n",
    "    - μ=n⋅p\n",
    "    - σ2 =n⋅p⋅(1−p) \n",
    "\n",
    "7. **Probability Mass Function (PMF):** The probability of getting exactly \\( k \\) successes in \\( n \\) trials is given by the binomial formula:\n",
    "\n",
    "    - P(X=k)=( n / k ) p^k (1−p)^n−k\n",
    "\n",
    "   where ( n / k ) is the binomial coefficient, representing the number of ways to choose \\( k \\) successes from \\( n \\) trials.\n",
    "\n",
    "**Examples of Events Where Binomial Distribution Can Be Applied**\n",
    "\n",
    "1. **Quality Control in Manufacturing:**\n",
    "   Suppose a factory produces light bulbs, and each light bulb has a probability \\( p \\) of being defective. If an inspector randomly selects \\( n \\) light bulbs from a production batch, the number of defective bulbs out of the selected \\( n \\) can be modeled using a binomial distribution.\n",
    "\n",
    "2. **Survey Responses:**\n",
    "   In a survey, suppose a researcher asks \\( n \\) individuals whether they support a particular policy, with the probability \\( p \\) of any individual supporting the policy. The number of individuals who support the policy out of the total surveyed can be modeled using a binomial distribution.\n",
    "\n"
   ]
  },
  {
   "cell_type": "markdown",
   "metadata": {},
   "source": [
    "### Q5. Generate a random sample of size 1000 from a binomial distribution with probability of success 0.4 and plot a histogram of the results using matplotlib."
   ]
  },
  {
   "cell_type": "code",
   "execution_count": 3,
   "metadata": {},
   "outputs": [
    {
     "data": {
      "image/png": "[encoded data removed]",
      "text/plain": [
       "<Figure size 640x480 with 1 Axes>"
      ]
     },
     "metadata": {},
     "output_type": "display_data"
    }
   ],
   "source": [
    "import numpy as np\n",
    "import matplotlib.pyplot as plt\n",
    "\n",
    "# Parameters for the binomial distribution\n",
    "n = 10        # Number of trials\n",
    "p = 0.4       # Probability of success\n",
    "sample_size = 1000  # Size of the sample\n",
    "\n",
    "# Generate the random sample\n",
    "sample = np.random.binomial(n, p, sample_size)\n",
    "\n",
    "# Plot the histogram\n",
    "plt.hist(sample, bins=range(n+2), edgecolor='black', align='left', rwidth=0.8)\n",
    "plt.title('Histogram of Binomial Distribution Sample')\n",
    "plt.xlabel('Number of Successes')\n",
    "plt.ylabel('Frequency')\n",
    "plt.xticks(range(n+1))\n",
    "plt.show()\n"
   ]
  },
  {
   "cell_type": "markdown",
   "metadata": {},
   "source": [
    "### Q6. Write a Python function to calculate the cumulative distribution function of a Poisson distribution with given mean at a given point."
   ]
  },
  {
   "cell_type": "code",
   "execution_count": 4,
   "metadata": {},
   "outputs": [
    {
     "name": "stdout",
     "output_type": "stream",
     "text": [
      "The CDF value at x=5 for λ=3.0 is 0.9160820579686966\n"
     ]
    }
   ],
   "source": [
    "import math\n",
    "\n",
    "def poisson_cdf(x, lam):\n",
    "    cdf = 0.0\n",
    "    for k in range(0, x + 1):\n",
    "        cdf += (lam ** k) * math.exp(-lam) / math.factorial(k)\n",
    "    return cdf\n",
    "\n",
    "# Example usage:\n",
    "x = 5\n",
    "lam = 3.0\n",
    "cdf_value = poisson_cdf(x, lam)\n",
    "print(f\"The CDF value at x={x} for λ={lam} is {cdf_value}\")\n"
   ]
  },
  {
   "cell_type": "markdown",
   "metadata": {},
   "source": [
    "### Q7. How Binomial distribution different from Poisson distribution?"
   ]
  },
  {
   "cell_type": "markdown",
   "metadata": {},
   "source": [
    "**ANS:** The Binomial and Poisson distributions are both discrete probability distributions, but they have different characteristics and are used in different contexts. The key differences between the two are as follows:\n",
    "\n",
    "**1. `Context of Use:`**\n",
    "   - **Binomial:** Fixed number of trials, each with two possible outcomes.\n",
    "   - **Poisson:** Number of events in a fixed interval, with events occurring at a constant average rate.\n",
    "\n",
    "**2. `Parameters:`**\n",
    "   - **Binomial:** \\( n \\) (number of trials) and \\( p \\) (probability of success).\n",
    "   - **Poisson:** \\( lambda \\) (average rate of occurrence).\n",
    "\n",
    "**3. `Distribution Shape:`**\n",
    "   - **Binomial:** The shape depends on \\( n \\) and \\( p \\). It can be symmetric or skewed.\n",
    "   - **Poisson:** The shape depends on \\( lambda \\). For small \\( lambda \\), it is highly skewed; for large \\( lambda \\), it approximates a normal distribution.\n",
    "\n",
    "**4. `Use Cases:`**\n",
    "   - **Binomial:** Used in scenarios with a fixed number of independent trials with two possible outcomes (success/failure).\n",
    "   - **Poisson:** Used in scenarios where we count the number of occurrences of an event in a continuous interval.\n",
    "\n",
    "Understanding these differences helps in selecting the appropriate distribution for modeling different types of random events in various fields of study."
   ]
  },
  {
   "cell_type": "markdown",
   "metadata": {},
   "source": [
    "### Q8. Generate a random sample of size 1000 from a Poisson distribution with mean 5 and calculate the sample mean and variance."
   ]
  },
  {
   "cell_type": "code",
   "execution_count": 2,
   "metadata": {},
   "outputs": [
    {
     "name": "stdout",
     "output_type": "stream",
     "text": [
      "Sample Mean: 5.006\n",
      "Sample Variance: 4.969964\n"
     ]
    }
   ],
   "source": [
    "import numpy as np\n",
    "\n",
    "# Parameters for the Poisson distribution\n",
    "mean_lambda = 5\n",
    "sample_size = 1000\n",
    "\n",
    "# Generate the random sample\n",
    "sample = np.random.poisson(mean_lambda, sample_size)\n",
    "\n",
    "# Calculate the sample mean and variance\n",
    "sample_mean = np.mean(sample)\n",
    "sample_variance = np.var(sample)\n",
    "\n",
    "print(f\"Sample Mean: {sample_mean}\")\n",
    "print(f\"Sample Variance: {sample_variance}\")\n"
   ]
  },
  {
   "cell_type": "markdown",
   "metadata": {},
   "source": [
    "### Q9. How mean and variance are related in Binomial distribution and Poisson distribution?"
   ]
  },
  {
   "cell_type": "markdown",
   "metadata": {},
   "source": [
    "**ANS:** Mean and Variance are related in Binomial distribution and Poisson distribution in the following ways:\n",
    "\n",
    "**1. `Binomial Distribution:`** \n",
    "- The mean is ( n . p ), and the variance is ( n . p . (1 - p) ). The variance is dependent on both the number of trials and the probabilities of success and failure.\n",
    "- The mean is simply the product of the number of trials and the probability of success. The variance is the product of the mean, the probability of success, and the probability of failure.\n",
    "\n",
    "**2. `Poisson Distribution:`** \n",
    "- The mean and variance are both \\( \\lambda \\), reflecting the fact that the number of events in a fixed interval is directly related to the average rate of occurrence.\n",
    "- In a Poisson distribution, the mean and the variance are equal and are both equal to \\( \\lambda \\).\n",
    "\n",
    "In essence, for a binomial distribution, the mean and variance depend on the number of trials and the success probability, while for a Poisson distribution, the mean and variance are equal and depend solely on the rate parameter \\( \\lambda \\)."
   ]
  },
  {
   "cell_type": "markdown",
   "metadata": {},
   "source": [
    "### Q10. In normal distribution with respect to mean position, where does the least frequent data appear?"
   ]
  },
  {
   "cell_type": "markdown",
   "metadata": {},
   "source": [
    "**ANS:** In a normal distribution, the least frequent data points appear in the tails of the distribution, which are farthest from the mean. The normal distribution is symmetric and bell-shaped, centered around the mean ( mu ). \n",
    "\n",
    "### Key Points:\n",
    "\n",
    "1. **Mean (μ):** The mean is the central peak of the distribution, where the data is most frequent.\n",
    "2. **Standard Deviation (σ):** Measures the spread of the distribution. Most data points lie within one standard deviation of the mean.\n",
    "3. **Tails of the Distribution:** The areas farthest from the mean (more than two or three standard deviations away) are where the least frequent data points appear.\n",
    "\n",
    "\n",
    "### Visual Representation:\n",
    "In a standard normal distribution (\\( μ = 0 \\), \\( sigma = 1 \\)):\n",
    "\n",
    "- About 68.27% of the data lies within ( μ +\\- 1 sigma ).\n",
    "- About 95.45% of the data lies within ( μ +\\- 2 sigma ).\n",
    "- About 99.73% of the data lies within ( μ +\\- 3 sigma ).\n",
    "\n",
    "Thus, the least frequent data points appear in the `regions beyond (μ +/- 3 sigma)`, at the `Extreme ends of the Distribution Curve`."
   ]
  }
 ],
 "metadata": {
  "kernelspec": {
   "display_name": "Python 3 (ipykernel)",
   "language": "python",
   "name": "python3"
  },
  "language_info": {
   "codemirror_mode": {
    "name": "ipython",
    "version": 3
   },
   "file_extension": ".py",
   "mimetype": "text/x-python",
   "name": "python",
   "nbconvert_exporter": "python",
   "pygments_lexer": "ipython3",
   "version": "3.9.13"
  }
 },
 "nbformat": 4,
 "nbformat_minor": 2
}
