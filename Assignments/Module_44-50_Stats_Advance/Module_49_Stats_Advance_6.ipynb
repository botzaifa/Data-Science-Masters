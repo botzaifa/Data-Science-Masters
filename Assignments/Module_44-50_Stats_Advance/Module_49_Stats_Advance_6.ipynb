{
 "cells": [
  {
   "cell_type": "markdown",
   "id": "bf747f11",
   "metadata": {},
   "source": [
    "# Assignment (13th March) : Statistics Assignments - 6"
   ]
  },
  {
   "cell_type": "markdown",
   "id": "27790293",
   "metadata": {},
   "source": [
    "### Q1. Explain the assumptions required to use ANOVA and provide examples of violations that could impact the validity of the results."
   ]
  },
  {
   "cell_type": "markdown",
   "id": "9abf7f69",
   "metadata": {},
   "source": [
    "**ANS:** The assumptions that could impact the validity of the results are as follows:\n",
    "- Independence of observations\n",
    "- Homogeneity of variances\n",
    "- Normally distributed groups\n",
    "- Violations: Unequal variances (heteroscedasticity), non-normal distribution, correlated samples."
   ]
  },
  {
   "cell_type": "markdown",
   "id": "7cfe08dc",
   "metadata": {},
   "source": [
    "### Q2. What are the three types of ANOVA, and in what situations would each be used?"
   ]
  },
  {
   "cell_type": "markdown",
   "id": "1b68882f",
   "metadata": {},
   "source": [
    "**ANS:** Types of ANOVA are as follows:\n",
    "\n",
    "1. `One-way ANOVA:` Used for comparing means of three or more groups based on one factor.\n",
    "2. `Two-way ANOVA:` Used for comparing means based on two factors, allowing interaction effect analysis.\n",
    "3. `Repeated Measures ANOVA:` Used for comparing means when the same subjects are used for each treatment."
   ]
  },
  {
   "cell_type": "markdown",
   "id": "53c32f87",
   "metadata": {},
   "source": [
    "### Q3. What is the partitioning of variance in ANOVA, and why is it important to understand this concept?"
   ]
  },
  {
   "cell_type": "markdown",
   "id": "f77844cf",
   "metadata": {},
   "source": [
    "**ANS:** Partitioning of Variance in ANOVA are as follows:\n",
    "\n",
    "- Total variance is divided into variance between groups and within groups.\n",
    "- Important to understand to determine how much variance is explained by the factor being tested."
   ]
  },
  {
   "cell_type": "markdown",
   "id": "ae8a88bf",
   "metadata": {},
   "source": [
    "### Q4. How would you calculate the total sum of squares (SST), explained sum of squares (SSE), and residual sum of squares (SSR) in a one-way ANOVA using Python?"
   ]
  },
  {
   "cell_type": "code",
   "execution_count": 1,
   "id": "9ca59b2a",
   "metadata": {},
   "outputs": [
    {
     "name": "stdout",
     "output_type": "stream",
     "text": [
      "SST: 190.0, SSE: 160.0, SSR: 30.0\n"
     ]
    }
   ],
   "source": [
    "import numpy as np\n",
    "\n",
    "# Sample data for three groups\n",
    "group1 = [20, 23, 21, 24, 22]\n",
    "group2 = [30, 29, 31, 28, 32]\n",
    "group3 = [25, 27, 26, 24, 28]\n",
    "\n",
    "# Combine all data into a single array\n",
    "data = group1 + group2 + group3\n",
    "\n",
    "# Grand mean\n",
    "grand_mean = np.mean(data)\n",
    "\n",
    "# Total Sum of Squares (SST)\n",
    "SST = np.sum((data - grand_mean) ** 2)\n",
    "\n",
    "# Sum of Squares Between groups (SSE)\n",
    "group_means = [np.mean(group1), np.mean(group2), np.mean(group3)]\n",
    "n1, n2, n3 = len(group1), len(group2), len(group3)\n",
    "SSE = n1 * (group_means[0] - grand_mean) ** 2 + n2 * (group_means[1] - grand_mean) ** 2 + \n",
    "        n3 * (group_means[2] - grand_mean) ** 2\n",
    "\n",
    "# Sum of Squares Within groups (SSR)\n",
    "SSR = SST - SSE\n",
    "\n",
    "print(f'SST: {SST}, SSE: {SSE}, SSR: {SSR}')"
   ]
  },
  {
   "cell_type": "markdown",
   "id": "403c1b33",
   "metadata": {},
   "source": [
    "### Q5. In a two-way ANOVA, how would you calculate the main effects and interaction effects using Python?"
   ]
  },
  {
   "cell_type": "code",
   "execution_count": 2,
   "id": "76982ed8",
   "metadata": {},
   "outputs": [
    {
     "name": "stdout",
     "output_type": "stream",
     "text": [
      "                           sum_sq   df          F    PR(>F)\n",
      "C(factor1)             162.666667  2.0  34.857143  0.000498\n",
      "C(factor2)               0.333333  1.0   0.142857  0.718467\n",
      "C(factor1):C(factor2)    0.666667  2.0   0.142857  0.869741\n",
      "Residual                14.000000  6.0        NaN       NaN\n"
     ]
    }
   ],
   "source": [
    "import pandas as pd\n",
    "import statsmodels.api as sm\n",
    "from statsmodels.formula.api import ols\n",
    "\n",
    "# Sample data\n",
    "data = pd.DataFrame({\n",
    "    'response': [20, 21, 19, 22, 30, 29, 31, 28, 25, 27, 24, 26],\n",
    "    'factor1': ['A', 'A', 'A', 'A', 'B', 'B', 'B', 'B', 'C', 'C', 'C', 'C'],\n",
    "    'factor2': ['X', 'X', 'Y', 'Y', 'X', 'X', 'Y', 'Y', 'X', 'X', 'Y', 'Y']\n",
    "})\n",
    "\n",
    "# Fit the model\n",
    "model = ols('response ~ C(factor1) + C(factor2) + C(factor1):C(factor2)', data=data).fit()\n",
    "anova_table = sm.stats.anova_lm(model, typ=2)\n",
    "\n",
    "print(anova_table)"
   ]
  },
  {
   "cell_type": "markdown",
   "id": "085454b1",
   "metadata": {},
   "source": [
    "### Q6. Suppose you conducted a one-way ANOVA and obtained an F-statistic of 5.23 and a p-value of 0.02. What can you conclude about the differences between the groups, and how would you interpret these results?"
   ]
  },
  {
   "cell_type": "markdown",
   "id": "a0c6d4ad",
   "metadata": {},
   "source": [
    "**ANS:** Interpreting One-way ANOVA Results:\n",
    "\n",
    "- F-statistic = 5.23, p-value = 0.02\n",
    "- Conclusion: `Significant differences exist between groups`.\n",
    "- Interpretation: At 5% significance level, we reject the null hypothesis, indicating at least one group mean is different."
   ]
  },
  {
   "cell_type": "markdown",
   "id": "3c376e06",
   "metadata": {},
   "source": [
    "### Q7. In a repeated measures ANOVA, how would you handle missing data, and what are the potential consequences of using different methods to handle missing data?"
   ]
  },
  {
   "cell_type": "markdown",
   "id": "55c94413",
   "metadata": {},
   "source": [
    "**ANS:** Handling Missing Data in Repeated Measures ANOVA:\n",
    "\n",
    "- Methods: `Listwise deletion`, `pairwise deletion`, `mean substitution`, `imputation`.\n",
    "- Consequences: Can bias results, reduce statistical power, or inflate type I error rates depending on the method used."
   ]
  },
  {
   "cell_type": "markdown",
   "id": "eff09303",
   "metadata": {},
   "source": [
    "### Q8. What are some common post-hoc tests used after ANOVA, and when would you use each one? Provide an example of a situation where a post-hoc test might be necessary."
   ]
  },
  {
   "cell_type": "markdown",
   "id": "a48e0217",
   "metadata": {},
   "source": [
    "**ANS:** Some of the common Post-hoc Tests used after ANOVA are as follows:\n",
    "\n",
    "- Tukey's HSD: Controls for Type I error, used when comparing all possible pairs.\n",
    "- Bonferroni: More conservative, used to control for multiple comparisons.\n",
    "- Scheffé: Flexible, used for complex comparisons.\n",
    "- `Example`: Use Tukey's HSD after ANOVA if you need to find which specific groups differ."
   ]
  },
  {
   "cell_type": "markdown",
   "id": "bb8c6fe9",
   "metadata": {},
   "source": [
    "### Q9. A researcher wants to compare the mean weight loss of three diets: A, B, and C. They collect data from 50 participants who were randomly assigned to one of the diets. Conduct a one-way ANOVA using Python to determine if there are any significant differences between the mean weight loss of the three diets. Report the F-statistic and p-value, and interpret the results."
   ]
  },
  {
   "cell_type": "code",
   "execution_count": 3,
   "id": "51b11412",
   "metadata": {},
   "outputs": [
    {
     "name": "stdout",
     "output_type": "stream",
     "text": [
      "F-statistic: 76.2733812949639, p-value: 1.504358775256285e-07\n"
     ]
    }
   ],
   "source": [
    "from scipy.stats import f_oneway\n",
    "\n",
    "# Sample data for three diets\n",
    "diet_A = [2.5, 3.0, 3.2, 2.8, 3.1]\n",
    "diet_B = [1.8, 2.0, 2.3, 1.9, 2.1]\n",
    "diet_C = [3.5, 3.7, 3.8, 3.6, 3.9]\n",
    "\n",
    "# Perform one-way ANOVA\n",
    "F_statistic, p_value = f_oneway(diet_A, diet_B, diet_C)\n",
    "\n",
    "print(f'F-statistic: {F_statistic}, p-value: {p_value}')"
   ]
  },
  {
   "cell_type": "markdown",
   "id": "f0755cb2",
   "metadata": {},
   "source": [
    "### Q10. A company wants to know if there are any significant differences in the average time it takes to complete a task using three different software programs: Program A, Program B, and Program C. They randomly assign 30 employees to one of the programs and record the time it takes each employee to complete the task. Conduct a two-way ANOVA using Python to determine if there are any main effects or interaction effects between the software programs and employee experience level (novice vs. experienced). Report the F-statistics and p-values, and interpret the results."
   ]
  },
  {
   "cell_type": "code",
   "execution_count": 4,
   "id": "90362fdf",
   "metadata": {},
   "outputs": [
    {
     "name": "stdout",
     "output_type": "stream",
     "text": [
      "                                sum_sq    df         F    PR(>F)\n",
      "C(software)                 688.000000   2.0  2.503335  0.109842\n",
      "C(experience)                 4.166667   1.0  0.030321  0.863706\n",
      "C(software):C(experience)     0.333333   2.0  0.001213  0.998788\n",
      "Residual                   2473.500000  18.0       NaN       NaN\n"
     ]
    }
   ],
   "source": [
    "data = pd.DataFrame({\n",
    "    'time': [45, 46, 44, 47, 33, 35, 34, 36, 28, 30, 29, 31, 60, 62, 61, 63, 55, 57, 56, 58, 50, 52, 51, 53],\n",
    "    'software': ['A', 'A', 'A', 'A', 'B', 'B', 'B', 'B', 'C', 'C', 'C', 'C', 'A', 'A', \n",
    "                 'A', 'A', 'B', 'B', 'B', 'B', 'C', 'C', 'C', 'C'],\n",
    "    'experience': ['novice', 'novice', 'experienced', 'experienced', 'novice', 'novice', 'experienced', \n",
    "                   'experienced', 'novice', 'novice', 'experienced', 'experienced',\n",
    "                   'novice', 'novice', 'experienced', 'experienced', 'novice', 'novice', 'experienced', \n",
    "                   'experienced', 'novice', 'novice', 'experienced', 'experienced']\n",
    "})\n",
    "\n",
    "# Fit the model\n",
    "model = ols('time ~ C(software) * C(experience)', data=data).fit()\n",
    "anova_table = sm.stats.anova_lm(model, typ=2)\n",
    "\n",
    "print(anova_table)"
   ]
  },
  {
   "cell_type": "markdown",
   "id": "908d1dea",
   "metadata": {},
   "source": [
    "### Q11. An educational researcher is interested in whether a new teaching method improves student test scores. They randomly assign 100 students to either the control group (traditional teaching method) or the experimental group (new teaching method) and administer a test at the end of the semester. Conduct a two-sample t-test using Python to determine if there are any significant differences in test scores between the two groups. If the results are significant, follow up with a post-hoc test to determine which group(s) differ significantly from each other."
   ]
  },
  {
   "cell_type": "code",
   "execution_count": 5,
   "id": "7fc343b0",
   "metadata": {},
   "outputs": [
    {
     "name": "stdout",
     "output_type": "stream",
     "text": [
      "t-statistic: -3.4709544440218836, p-value: 0.002726990368733668\n"
     ]
    }
   ],
   "source": [
    "from scipy.stats import ttest_ind\n",
    "\n",
    "# Sample data\n",
    "control = [78, 85, 88, 90, 84, 82, 78, 79, 83, 85]\n",
    "experimental = [85, 87, 89, 90, 92, 88, 85, 87, 91, 90]\n",
    "\n",
    "# Conducting the t-test\n",
    "t_statistic, p_value = ttest_ind(control, experimental)\n",
    "print(f't-statistic: {t_statistic}, p-value: {p_value}')"
   ]
  },
  {
   "cell_type": "markdown",
   "id": "c30419d7",
   "metadata": {},
   "source": [
    "### Q12. A researcher wants to know if there are any significant differences in the average daily sales of three retail stores: Store A, Store B, and Store C. They randomly select 30 days and record the sales for each store on those days. Conduct a repeated measures ANOVA using Python to determine if there are any significant differences in sales between the three stores. If the results are significant, follow up with a post-hoc test to determine which store(s) differ significantly from each other."
   ]
  },
  {
   "cell_type": "code",
   "execution_count": 9,
   "id": "22fddc38",
   "metadata": {},
   "outputs": [
    {
     "name": "stdout",
     "output_type": "stream",
     "text": [
      "               Anova\n",
      "====================================\n",
      "      F Value  Num DF  Den DF Pr > F\n",
      "------------------------------------\n",
      "store 859.5467 2.0000 18.0000 0.0000\n",
      "====================================\n",
      "\n",
      "Multiple Comparison of Means - Tukey HSD, FWER=0.05\n",
      "===================================================\n",
      "group1 group2 meandiff p-adj  lower   upper  reject\n",
      "---------------------------------------------------\n",
      "     A      B     40.0 0.0001 20.694  59.306   True\n",
      "     A      C     95.5    0.0 76.194 114.806   True\n",
      "     B      C     55.5    0.0 36.194  74.806   True\n",
      "---------------------------------------------------\n"
     ]
    }
   ],
   "source": [
    "import pandas as pd\n",
    "from statsmodels.stats.anova import AnovaRM\n",
    "from statsmodels.stats.multicomp import pairwise_tukeyhsd\n",
    "\n",
    "# Sample data - ensuring each subject has a unique observation per condition\n",
    "data = pd.DataFrame({\n",
    "    'subject': list(range(1, 11)) * 3,\n",
    "    'store': ['A']*10 + ['B']*10 + ['C']*10,\n",
    "    'sales': [100, 110, 115, 105, 120, 125, 130, 135, 140, 145,\n",
    "              150, 140, 155, 145, 160, 165, 170, 175, 180, 185,\n",
    "              200, 180, 210, 195, 220, 225, 230, 235, 240, 245]\n",
    "})\n",
    "\n",
    "# Conducting the repeated measures ANOVA\n",
    "aovrm = AnovaRM(data, 'sales', 'subject', within=['store']).fit()\n",
    "print(aovrm)\n",
    "\n",
    "# If results are significant, follow up with a post-hoc test (Tukey HSD example)\n",
    "# Prepare data for pairwise comparisons\n",
    "pairwise_data = data.pivot(index='subject', columns='store', values='sales').reset_index()\n",
    "pairwise_data = pd.melt(pairwise_data, id_vars=['subject'], value_vars=['A', 'B', 'C'], var_name='store', value_name='sales')\n",
    "\n",
    "# Perform Tukey HSD test\n",
    "tukey_results = pairwise_tukeyhsd(endog=pairwise_data['sales'], groups=pairwise_data['store'], alpha=0.05)\n",
    "print(tukey_results)"
   ]
  }
 ],
 "metadata": {
  "kernelspec": {
   "display_name": "Python 3 (ipykernel)",
   "language": "python",
   "name": "python3"
  },
  "language_info": {
   "codemirror_mode": {
    "name": "ipython",
    "version": 3
   },
   "file_extension": ".py",
   "mimetype": "text/x-python",
   "name": "python",
   "nbconvert_exporter": "python",
   "pygments_lexer": "ipython3",
   "version": "3.9.13"
  }
 },
 "nbformat": 4,
 "nbformat_minor": 5
}
