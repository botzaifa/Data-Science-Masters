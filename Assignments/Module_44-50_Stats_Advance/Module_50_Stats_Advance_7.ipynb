{
 "cells": [
  {
   "cell_type": "markdown",
   "id": "a07e29db",
   "metadata": {},
   "source": [
    "# Assignment (14th March) : Statistics Advanced - 7"
   ]
  },
  {
   "cell_type": "markdown",
   "id": "cf1ae0ba",
   "metadata": {},
   "source": [
    "### Q1. Write a Python function that takes in two arrays of data and calculates the F-value for a variance ratio test. The function should return the F-value and the corresponding p-value for the test."
   ]
  },
  {
   "cell_type": "code",
   "execution_count": 1,
   "id": "90e40dea",
   "metadata": {},
   "outputs": [
    {
     "name": "stdout",
     "output_type": "stream",
     "text": [
      "F-value: 1.0, p-value: 1.0\n"
     ]
    }
   ],
   "source": [
    "import numpy as np\n",
    "from scipy.stats import f\n",
    "\n",
    "def variance_ratio_test(data1, data2):\n",
    "    # Calculate the variances of the two datasets\n",
    "    var1 = np.var(data1, ddof=1)\n",
    "    var2 = np.var(data2, ddof=1)\n",
    "    \n",
    "    # Calculate the F-value\n",
    "    if var1 > var2:\n",
    "        F = var1 / var2\n",
    "        dfn = len(data1) - 1  # degrees of freedom numerator\n",
    "        dfd = len(data2) - 1  # degrees of freedom denominator\n",
    "    else:\n",
    "        F = var2 / var1\n",
    "        dfn = len(data2) - 1\n",
    "        dfd = len(data1) - 1\n",
    "    \n",
    "    # Calculate the p-value\n",
    "    p_value = 2 * min(f.cdf(F, dfn, dfd), 1 - f.cdf(F, dfn, dfd))\n",
    "    \n",
    "    return F, p_value\n",
    "\n",
    "# Example usage\n",
    "data1 = [10, 20, 30, 40, 50]\n",
    "data2 = [15, 25, 35, 45, 55]\n",
    "\n",
    "F_value, p_value = variance_ratio_test(data1, data2)\n",
    "print(f\"F-value: {F_value}, p-value: {p_value}\")"
   ]
  },
  {
   "cell_type": "markdown",
   "id": "5550ad86",
   "metadata": {},
   "source": [
    "### Q2. Given a significance level of 0.05 and the degrees of freedom for the numerator and denominator of an F-distribution, write a Python function that returns the critical F-value for a two-tailed test."
   ]
  },
  {
   "cell_type": "code",
   "execution_count": 2,
   "id": "ac907545",
   "metadata": {},
   "outputs": [
    {
     "name": "stdout",
     "output_type": "stream",
     "text": [
      "Lower critical F-value: 0.10872743037293357, Upper critical F-value: 6.22716116435764\n"
     ]
    }
   ],
   "source": [
    "def critical_f_value(alpha, dfn, dfd):\n",
    "    # Calculate the critical value for the upper tail\n",
    "    upper_critical_value = f.ppf(1 - alpha / 2, dfn, dfd)\n",
    "    \n",
    "    # Calculate the critical value for the lower tail\n",
    "    lower_critical_value = f.ppf(alpha / 2, dfn, dfd)\n",
    "    \n",
    "    return lower_critical_value, upper_critical_value\n",
    "\n",
    "# Example usage\n",
    "alpha = 0.05\n",
    "dfn = 4  # degrees of freedom for the numerator\n",
    "dfd = 6  # degrees of freedom for the denominator\n",
    "\n",
    "lower_critical, upper_critical = critical_f_value(alpha, dfn, dfd)\n",
    "print(f\"Lower critical F-value: {lower_critical}, Upper critical F-value: {upper_critical}\")"
   ]
  },
  {
   "cell_type": "markdown",
   "id": "10c164d7",
   "metadata": {},
   "source": [
    "### Q3. Write a Python program that generates random samples from two normal distributions with known variances and uses an F-test to determine if the variances are equal. The program should output the F-value, degrees of freedom, and p-value for the test."
   ]
  },
  {
   "cell_type": "code",
   "execution_count": 4,
   "id": "ea3d7428",
   "metadata": {},
   "outputs": [
    {
     "name": "stdout",
     "output_type": "stream",
     "text": [
      "F-value: 1.8834107400092526\n",
      "Degrees of freedom: 29 (numerator), 29 (denominator)\n",
      "P-value: 0.09367521547676572\n",
      "Fail to reject the null hypothesis: The variances are not significantly different.\n"
     ]
    }
   ],
   "source": [
    "def generate_samples(mean1, var1, size1, mean2, var2, size2):\n",
    "    # Generate random samples from two normal distributions\n",
    "    sample1 = np.random.normal(mean1, np.sqrt(var1), size1)\n",
    "    sample2 = np.random.normal(mean2, np.sqrt(var2), size2)\n",
    "    return sample1, sample2\n",
    "\n",
    "def variance_ratio_test(data1, data2):\n",
    "    # Calculate the variances of the two datasets\n",
    "    var1 = np.var(data1, ddof=1)\n",
    "    var2 = np.var(data2, ddof=1)\n",
    "    \n",
    "    # Calculate the F-value\n",
    "    if var1 > var2:\n",
    "        F = var1 / var2\n",
    "        dfn = len(data1) - 1  # degrees of freedom numerator\n",
    "        dfd = len(data2) - 1  # degrees of freedom denominator\n",
    "    else:\n",
    "        F = var2 / var1\n",
    "        dfn = len(data2) - 1\n",
    "        dfd = len(data1) - 1\n",
    "    \n",
    "    # Calculate the p-value\n",
    "    p_value = 2 * min(f.cdf(F, dfn, dfd), 1 - f.cdf(F, dfn, dfd))\n",
    "    \n",
    "    return F, dfn, dfd, p_value\n",
    "\n",
    "def main():\n",
    "    # Parameters for the two normal distributions\n",
    "    mean1 = 50\n",
    "    var1 = 10\n",
    "    size1 = 30\n",
    "    \n",
    "    mean2 = 55\n",
    "    var2 = 15\n",
    "    size2 = 30\n",
    "    \n",
    "    # Generate random samples\n",
    "    sample1, sample2 = generate_samples(mean1, var1, size1, mean2, var2, size2)\n",
    "    \n",
    "    # Perform the F-test\n",
    "    F_value, dfn, dfd, p_value = variance_ratio_test(sample1, sample2)\n",
    "    \n",
    "    # Output the results\n",
    "    print(f\"F-value: {F_value}\")\n",
    "    print(f\"Degrees of freedom: {dfn} (numerator), {dfd} (denominator)\")\n",
    "    print(f\"P-value: {p_value}\")\n",
    "    \n",
    "    # Conclusion\n",
    "    alpha = 0.05\n",
    "    if p_value < alpha:\n",
    "        print(\"Reject the null hypothesis: The variances are significantly different.\")\n",
    "    else:\n",
    "        print(\"Fail to reject the null hypothesis: The variances are not significantly different.\")\n",
    "\n",
    "if __name__ == \"__main__\":\n",
    "    main()\n"
   ]
  },
  {
   "cell_type": "markdown",
   "id": "d7dea2a8",
   "metadata": {},
   "source": [
    "### Q4.The variances of two populations are known to be 10 and 15. A sample of 12 observations is taken from each population. Conduct an F-test at the 5% significance level to determine if the variances are significantly different."
   ]
  },
  {
   "cell_type": "code",
   "execution_count": 3,
   "id": "c1922f5d",
   "metadata": {},
   "outputs": [
    {
     "name": "stdout",
     "output_type": "stream",
     "text": [
      "F-value: 1.5\n",
      "Critical F-values: lower = 0.28787755798459863, upper = 3.473699051085809\n",
      "Fail to reject the null hypothesis: The variances are not significantly different.\n"
     ]
    }
   ],
   "source": [
    "variance1 = 10\n",
    "variance2 = 15\n",
    "\n",
    "n1 = 12\n",
    "n2 = 12\n",
    "\n",
    "alpha = 0.05\n",
    "\n",
    "# Calculate the F-value\n",
    "F_value = variance1 / variance2 if variance1 > variance2 else variance2 / variance1\n",
    "\n",
    "# Degrees of freedom\n",
    "dfn = n1 - 1  # degrees of freedom for the numerator\n",
    "dfd = n2 - 1  # degrees of freedom for the denominator\n",
    "\n",
    "# Calculate the critical F-values for a two-tailed test\n",
    "upper_critical_value = f.ppf(1 - alpha / 2, dfn, dfd)\n",
    "lower_critical_value = f.ppf(alpha / 2, dfn, dfd)\n",
    "\n",
    "# Print results\n",
    "print(f\"F-value: {F_value}\")\n",
    "print(f\"Critical F-values: lower = {lower_critical_value}, upper = {upper_critical_value}\")\n",
    "\n",
    "# Conclusion\n",
    "if F_value > upper_critical_value or F_value < lower_critical_value:\n",
    "    print(\"Reject the null hypothesis: The variances are significantly different.\")\n",
    "else:\n",
    "    print(\"Fail to reject the null hypothesis: The variances are not significantly different.\")"
   ]
  },
  {
   "cell_type": "markdown",
   "id": "8c5e926e",
   "metadata": {},
   "source": [
    "### Q5. A manufacturer claims that the variance of the diameter of a certain product is 0.005. A sample of 25 products is taken, and the sample variance is found to be 0.006. Conduct an F-test at the 1% significance level to determine if the claim is justified."
   ]
  },
  {
   "cell_type": "code",
   "execution_count": 5,
   "id": "d94d8361",
   "metadata": {},
   "outputs": [
    {
     "name": "stdout",
     "output_type": "stream",
     "text": [
      "F-value: 1.2\n",
      "Critical F-values: lower = 0.3370701342685674, upper = 2.966741631292762\n",
      "Fail to reject the null hypothesis: The claimed variance is justified.\n"
     ]
    }
   ],
   "source": [
    "claimed_variance = 0.005\n",
    "sample_variance = 0.006\n",
    "sample_size = 25\n",
    "alpha = 0.01\n",
    "\n",
    "# Calculate the F-value\n",
    "F_value = sample_variance / claimed_variance\n",
    "\n",
    "# Degrees of freedom\n",
    "dfn = sample_size - 1  # degrees of freedom for the numerator and denominator are the same\n",
    "\n",
    "# Calculate the critical F-values for a two-tailed test\n",
    "upper_critical_value = f.ppf(1 - alpha / 2, dfn, dfn)\n",
    "lower_critical_value = f.ppf(alpha / 2, dfn, dfn)\n",
    "\n",
    "# Print results\n",
    "print(f\"F-value: {F_value}\")\n",
    "print(f\"Critical F-values: lower = {lower_critical_value}, upper = {upper_critical_value}\")\n",
    "\n",
    "# Conclusion\n",
    "if F_value > upper_critical_value or F_value < lower_critical_value:\n",
    "    print(\"Reject the null hypothesis: The claimed variance is not justified.\")\n",
    "else:\n",
    "    print(\"Fail to reject the null hypothesis: The claimed variance is justified.\")"
   ]
  },
  {
   "cell_type": "markdown",
   "id": "c70600b9",
   "metadata": {},
   "source": [
    "### Q6. Write a Python function that takes in the degrees of freedom for the numerator and denominator of an F-distribution and calculates the mean and variance of the distribution. The function should return the mean and variance as a tuple."
   ]
  },
  {
   "cell_type": "code",
   "execution_count": 6,
   "id": "a9981172",
   "metadata": {},
   "outputs": [
    {
     "name": "stdout",
     "output_type": "stream",
     "text": [
      "Mean: 1.6666666666666667, Variance: 0.8333333333333334\n"
     ]
    }
   ],
   "source": [
    "def f_distribution_mean_variance(dfn, dfd):\n",
    "    if dfn <= 2:\n",
    "        raise ValueError(\"Degrees of freedom for the numerator must be greater than 2 to calculate the mean.\")\n",
    "    \n",
    "    if dfd <= 4:\n",
    "        raise ValueError(\"Degrees of freedom for the denominator must be greater than 4 to calculate the variance.\")\n",
    "    \n",
    "    # Calculate mean\n",
    "    mean = dfn / (dfn - 2)\n",
    "    \n",
    "    # Calculate variance\n",
    "    variance = (2 * dfd**2 * (dfn + dfn - 2)) / (dfn * (dfd - 2)**2 * (dfd - 4))\n",
    "    \n",
    "    return mean, variance\n",
    "\n",
    "\n",
    "dfn = 5  # degrees of freedom for the numerator\n",
    "dfd = 10 # degrees of freedom for the denominator\n",
    "\n",
    "mean, variance = f_distribution_mean_variance(dfn, dfd)\n",
    "print(f\"Mean: {mean}, Variance: {variance}\")"
   ]
  },
  {
   "cell_type": "markdown",
   "id": "c7eae743",
   "metadata": {},
   "source": [
    "### Q7. A random sample of 10 measurements is taken from a normal population with unknown variance. The sample variance is found to be 25. Another random sample of 15 measurements is taken from another normal population with unknown variance, and the sample variance is found to be 20. Conduct an F-test at the 10% significance level to determine if the variances are significantly different."
   ]
  },
  {
   "cell_type": "code",
   "execution_count": 7,
   "id": "62d23c1e",
   "metadata": {},
   "outputs": [
    {
     "name": "stdout",
     "output_type": "stream",
     "text": [
      "F-value: 1.25\n",
      "Degrees of freedom: 9 (numerator), 14 (denominator)\n",
      "Critical F-values: lower = 0.3305268601412525, upper = 2.6457907352338195\n",
      "Fail to reject the null hypothesis: The variances are not significantly different.\n"
     ]
    }
   ],
   "source": [
    "def f_test(sample_var1, sample_size1, sample_var2, sample_size2, alpha):\n",
    "    # Ensure the larger variance is in the numerator for F-value\n",
    "    if sample_var1 > sample_var2:\n",
    "        F_value = sample_var1 / sample_var2\n",
    "        dfn = sample_size1 - 1  # degrees of freedom numerator\n",
    "        dfd = sample_size2 - 1  # degrees of freedom denominator\n",
    "    else:\n",
    "        F_value = sample_var2 / sample_var1\n",
    "        dfn = sample_size2 - 1\n",
    "        dfd = sample_size1 - 1\n",
    "\n",
    "    # Calculate the critical F-values for a two-tailed test\n",
    "    upper_critical_value = f.ppf(1 - alpha / 2, dfn, dfd)\n",
    "    lower_critical_value = f.ppf(alpha / 2, dfn, dfd)\n",
    "\n",
    "    return F_value, dfn, dfd, lower_critical_value, upper_critical_value\n",
    "\n",
    "def main():\n",
    "    # Given data\n",
    "    sample_var1 = 25\n",
    "    sample_size1 = 10\n",
    "    sample_var2 = 20\n",
    "    sample_size2 = 15\n",
    "    alpha = 0.10\n",
    "\n",
    "    # Perform the F-test\n",
    "    F_value, dfn, dfd, lower_critical_value, upper_critical_value = f_test(\n",
    "        sample_var1, sample_size1, sample_var2, sample_size2, alpha\n",
    "    )\n",
    "\n",
    "    # Print results\n",
    "    print(f\"F-value: {F_value}\")\n",
    "    print(f\"Degrees of freedom: {dfn} (numerator), {dfd} (denominator)\")\n",
    "    print(f\"Critical F-values: lower = {lower_critical_value}, upper = {upper_critical_value}\")\n",
    "\n",
    "    # Conclusion\n",
    "    if F_value > upper_critical_value or F_value < lower_critical_value:\n",
    "        print(\"Reject the null hypothesis: The variances are significantly different.\")\n",
    "    else:\n",
    "        print(\"Fail to reject the null hypothesis: The variances are not significantly different.\")\n",
    "\n",
    "if __name__ == \"__main__\":\n",
    "    main()"
   ]
  },
  {
   "cell_type": "markdown",
   "id": "eab524b5",
   "metadata": {},
   "source": [
    "### Q8. The following data represent the waiting times in minutes at two different restaurants on a Saturday night: Restaurant A: 24, 25, 28, 23, 22, 20, 27; Restaurant B: 31, 33, 35, 30, 32, 36. Conduct an F-test at the 5% significance level to determine if the variances are significantly different."
   ]
  },
  {
   "cell_type": "code",
   "execution_count": 8,
   "id": "841ddaaf",
   "metadata": {},
   "outputs": [
    {
     "name": "stdout",
     "output_type": "stream",
     "text": [
      "F-value: 1.4551907719609583\n",
      "Degrees of freedom: 6 (numerator), 5 (denominator)\n",
      "Critical F-values: lower = 0.16701279718024772, upper = 6.977701858535566\n",
      "Fail to reject the null hypothesis: The variances are not significantly different.\n"
     ]
    }
   ],
   "source": [
    "def f_test(data1, data2, alpha):\n",
    "    # Calculate the sample variances\n",
    "    var1 = np.var(data1, ddof=1)\n",
    "    var2 = np.var(data2, ddof=1)\n",
    "    \n",
    "    # Ensure the larger variance is in the numerator for the F-value\n",
    "    if var1 > var2:\n",
    "        F_value = var1 / var2\n",
    "        dfn = len(data1) - 1  # degrees of freedom numerator\n",
    "        dfd = len(data2) - 1  # degrees of freedom denominator\n",
    "    else:\n",
    "        F_value = var2 / var1\n",
    "        dfn = len(data2) - 1\n",
    "        dfd = len(data1) - 1\n",
    "    \n",
    "    # Calculate the critical F-values for a two-tailed test\n",
    "    upper_critical_value = f.ppf(1 - alpha / 2, dfn, dfd)\n",
    "    lower_critical_value = f.ppf(alpha / 2, dfn, dfd)\n",
    "    \n",
    "    return F_value, dfn, dfd, lower_critical_value, upper_critical_value\n",
    "\n",
    "def main():\n",
    "    # Waiting times at the two restaurants\n",
    "    restaurant_a = [24, 25, 28, 23, 22, 20, 27]\n",
    "    restaurant_b = [31, 33, 35, 30, 32, 36]\n",
    "    alpha = 0.05\n",
    "\n",
    "    # Perform the F-test\n",
    "    F_value, dfn, dfd, lower_critical_value, upper_critical_value = f_test(\n",
    "        restaurant_a, restaurant_b, alpha\n",
    "    )\n",
    "\n",
    "    # Print results\n",
    "    print(f\"F-value: {F_value}\")\n",
    "    print(f\"Degrees of freedom: {dfn} (numerator), {dfd} (denominator)\")\n",
    "    print(f\"Critical F-values: lower = {lower_critical_value}, upper = {upper_critical_value}\")\n",
    "\n",
    "    # Conclusion\n",
    "    if F_value > upper_critical_value or F_value < lower_critical_value:\n",
    "        print(\"Reject the null hypothesis: The variances are significantly different.\")\n",
    "    else:\n",
    "        print(\"Fail to reject the null hypothesis: The variances are not significantly different.\")\n",
    "\n",
    "if __name__ == \"__main__\":\n",
    "    main()"
   ]
  },
  {
   "cell_type": "markdown",
   "id": "9cd40e5c",
   "metadata": {},
   "source": [
    "### Q9. The following data represent the test scores of two groups of students: Group A: 80, 85, 90, 92, 87, 83; Group B: 75, 78, 82, 79, 81, 84. Conduct an F-test at the 1% significance level to determine if the variances are significantly different."
   ]
  },
  {
   "cell_type": "code",
   "execution_count": 9,
   "id": "e12b99cf",
   "metadata": {},
   "outputs": [
    {
     "name": "stdout",
     "output_type": "stream",
     "text": [
      "F-value: 1.9442622950819677\n",
      "Degrees of freedom: 5 (numerator), 5 (denominator)\n",
      "Critical F-values: lower = 0.06693617195469603, upper = 14.939605459912219\n",
      "Fail to reject the null hypothesis: The variances are not significantly different.\n"
     ]
    }
   ],
   "source": [
    "def f_test(data1, data2, alpha):\n",
    "    # Calculate the sample variances\n",
    "    var1 = np.var(data1, ddof=1)\n",
    "    var2 = np.var(data2, ddof=1)\n",
    "    \n",
    "    # Ensure the larger variance is in the numerator for the F-value\n",
    "    if var1 > var2:\n",
    "        F_value = var1 / var2\n",
    "        dfn = len(data1) - 1  # degrees of freedom numerator\n",
    "        dfd = len(data2) - 1  # degrees of freedom denominator\n",
    "    else:\n",
    "        F_value = var2 / var1\n",
    "        dfn = len(data2) - 1\n",
    "        dfd = len(data1) - 1\n",
    "    \n",
    "    # Calculate the critical F-values for a two-tailed test\n",
    "    upper_critical_value = f.ppf(1 - alpha / 2, dfn, dfd)\n",
    "    lower_critical_value = f.ppf(alpha / 2, dfn, dfd)\n",
    "    \n",
    "    return F_value, dfn, dfd, lower_critical_value, upper_critical_value\n",
    "\n",
    "def main():\n",
    "    # Test scores of the two groups\n",
    "    group_a = [80, 85, 90, 92, 87, 83]\n",
    "    group_b = [75, 78, 82, 79, 81, 84]\n",
    "    alpha = 0.01\n",
    "\n",
    "    # Perform the F-test\n",
    "    F_value, dfn, dfd, lower_critical_value, upper_critical_value = f_test(\n",
    "        group_a, group_b, alpha\n",
    "    )\n",
    "\n",
    "    # Print results\n",
    "    print(f\"F-value: {F_value}\")\n",
    "    print(f\"Degrees of freedom: {dfn} (numerator), {dfd} (denominator)\")\n",
    "    print(f\"Critical F-values: lower = {lower_critical_value}, upper = {upper_critical_value}\")\n",
    "\n",
    "    # Conclusion\n",
    "    if F_value > upper_critical_value or F_value < lower_critical_value:\n",
    "        print(\"Reject the null hypothesis: The variances are significantly different.\")\n",
    "    else:\n",
    "        print(\"Fail to reject the null hypothesis: The variances are not significantly different.\")\n",
    "\n",
    "if __name__ == \"__main__\":\n",
    "    main()"
   ]
  }
 ],
 "metadata": {
  "kernelspec": {
   "display_name": "Python 3 (ipykernel)",
   "language": "python",
   "name": "python3"
  },
  "language_info": {
   "codemirror_mode": {
    "name": "ipython",
    "version": 3
   },
   "file_extension": ".py",
   "mimetype": "text/x-python",
   "name": "python",
   "nbconvert_exporter": "python",
   "pygments_lexer": "ipython3",
   "version": "3.9.13"
  }
 },
 "nbformat": 4,
 "nbformat_minor": 5
}
