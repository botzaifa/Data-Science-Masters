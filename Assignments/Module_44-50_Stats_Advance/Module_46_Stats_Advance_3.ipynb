{
 "cells": [
  {
   "cell_type": "markdown",
   "id": "2e2a9b66",
   "metadata": {},
   "source": [
    "# Assignment (10th March) : Statistics Assignments - 3"
   ]
  },
  {
   "cell_type": "markdown",
   "id": "7718d511",
   "metadata": {},
   "source": [
    "### Q1: What is Estimation Statistics? Explain point estimate and interval estimate."
   ]
  },
  {
   "cell_type": "markdown",
   "id": "77aa87cd",
   "metadata": {},
   "source": [
    "**ANS:** Estimation statistics involves using sample data to estimate population parameters. A point estimate gives a single value as the best guess of the parameter, such as the sample mean representing the population mean. An interval estimate provides a range, defined by lower and upper bounds, within which the parameter is likely to lie, often with a specified confidence level (e.g., 95% confidence interval). This range accounts for sampling variability and offers a measure of precision for the estimate."
   ]
  },
  {
   "cell_type": "markdown",
   "id": "e3e07a26",
   "metadata": {},
   "source": [
    "### Q2. Write a Python function to estimate the population mean using a sample mean and standard deviation."
   ]
  },
  {
   "cell_type": "code",
   "execution_count": 1,
   "id": "0c0e4247",
   "metadata": {},
   "outputs": [
    {
     "name": "stdout",
     "output_type": "stream",
     "text": [
      "Estimated Population Mean: 100\n",
      "Confidence Interval: (95.84228852695097, 104.15771147304903)\n"
     ]
    }
   ],
   "source": [
    "import math\n",
    "from scipy import stats\n",
    "\n",
    "def estimate_population_mean(sample_mean, sample_std, sample_size, confidence_level=0.95):\n",
    "    # Calculate the standard error\n",
    "    standard_error = sample_std / math.sqrt(sample_size)\n",
    "    \n",
    "    # Determine the z-score for the given confidence level\n",
    "    z_score = stats.norm.ppf((1 + confidence_level) / 2)\n",
    "    \n",
    "    # Calculate the margin of error\n",
    "    margin_of_error = z_score * standard_error\n",
    "    \n",
    "    # Calculate the confidence interval\n",
    "    lower_bound = sample_mean - margin_of_error\n",
    "    upper_bound = sample_mean + margin_of_error\n",
    "    \n",
    "    return sample_mean, (lower_bound, upper_bound)\n",
    "\n",
    "# Example usage\n",
    "sample_mean = 100\n",
    "sample_std = 15\n",
    "sample_size = 50\n",
    "confidence_level = 0.95\n",
    "\n",
    "mean, confidence_interval = estimate_population_mean(sample_mean, sample_std, sample_size, confidence_level)\n",
    "print(f\"Estimated Population Mean: {mean}\")\n",
    "print(f\"Confidence Interval: {confidence_interval}\")\n"
   ]
  },
  {
   "cell_type": "markdown",
   "id": "83d785f0",
   "metadata": {},
   "source": [
    "### Q3: What is Hypothesis testing? Why is it used? State the importance of Hypothesis testing."
   ]
  },
  {
   "cell_type": "markdown",
   "id": "66054b69",
   "metadata": {},
   "source": [
    "**ANS:** Hypothesis testing is a statistical method used to make decisions or inferences about population parameters based on sample data. It involves formulating two competing hypotheses: the null hypothesis (H0), which represents the default assumption or status quo, and the alternative hypothesis (H1), which represents the claim to be tested.\n",
    "\n",
    "Hypothesis testing is used to determine whether there is enough evidence in a sample to support a specific hypothesis about a population parameter. It helps in:\n",
    "\n",
    "1. **Decision Making**: It provides a structured method for making decisions based on data.\n",
    "2. **Scientific Research**: It is essential in research to test theories and models.\n",
    "3. **Quality Control**: It helps in maintaining quality standards in manufacturing and production processes.\n",
    "4. **Policy Making**: It aids in formulating policies based on empirical evidence.\n",
    "\n",
    "The importance of hypothesis testing lies in its ability to provide a clear and objective framework for evaluating evidence, reducing uncertainty, and guiding actions based on statistical data. It helps ensure that decisions are made based on data rather than assumptions or guesswork."
   ]
  },
  {
   "cell_type": "markdown",
   "id": "7478b1f8",
   "metadata": {},
   "source": [
    "### Q4. Create a hypothesis that states whether the average weight of male college students is greater than the average weight of female college students."
   ]
  },
  {
   "cell_type": "markdown",
   "id": "809aa7a1",
   "metadata": {},
   "source": [
    "**ANS:** Here is a hypothesis to test whether the average weight of male college students is greater than the average weight of female college students:\n",
    "\n",
    "- **Null Hypothesis (H0)**: The average weight of male college students is equal to or less than the average weight of female college students.  \n",
    "  \\( H_0: mu_{{male}} <= mu_{{female}} \\)\n",
    "\n",
    "- **Alternative Hypothesis (H1)**: The average weight of male college students is greater than the average weight of female college students.  \n",
    "  \\( H_1: mu_{{male}} > mu_{{female}} \\)\n",
    "\n",
    "Where:\n",
    "- \\( mu_{{male}} \\) is the population mean weight of male college students.\n",
    "- \\( mu_{{female}} \\) is the population mean weight of female college students."
   ]
  },
  {
   "cell_type": "markdown",
   "id": "1abe9b2e",
   "metadata": {},
   "source": [
    "### Q5. Write a Python script to conduct a hypothesis test on the difference between two population means, given a sample from each population."
   ]
  },
  {
   "cell_type": "code",
   "execution_count": 2,
   "id": "486a2f5c",
   "metadata": {},
   "outputs": [
    {
     "name": "stdout",
     "output_type": "stream",
     "text": [
      "Mean of sample 1: 191.0\n",
      "Mean of sample 2: 148.0\n",
      "Standard deviation of sample 1: 14.317821063276353\n",
      "Standard deviation of sample 2: 11.510864433221338\n",
      "Sample size of sample 1: 5\n",
      "Sample size of sample 2: 5\n",
      "T-statistic: 5.233793327271588\n",
      "P-value: 0.0009119600556293395\n",
      "Reject the null hypothesis: True\n"
     ]
    }
   ],
   "source": [
    "import numpy as np\n",
    "from scipy import stats\n",
    "\n",
    "def hypothesis_test_two_means(sample1, sample2, alpha=0.05):\n",
    "    # Calculate the means and standard deviations\n",
    "    mean1, mean2 = np.mean(sample1), np.mean(sample2)\n",
    "    std1, std2 = np.std(sample1, ddof=1), np.std(sample2, ddof=1)\n",
    "    n1, n2 = len(sample1), len(sample2)\n",
    "    \n",
    "    # Perform the two-sample t-test\n",
    "    t_statistic, p_value = stats.ttest_ind(sample1, sample2, equal_var=False)\n",
    "    \n",
    "    # Determine if we reject the null hypothesis\n",
    "    reject_null = p_value < alpha\n",
    "    \n",
    "    # Results\n",
    "    result = {\n",
    "        'mean1': mean1,\n",
    "        'mean2': mean2,\n",
    "        'std1': std1,\n",
    "        'std2': std2,\n",
    "        'n1': n1,\n",
    "        'n2': n2,\n",
    "        't_statistic': t_statistic,\n",
    "        'p_value': p_value,\n",
    "        'reject_null': reject_null\n",
    "    }\n",
    "    \n",
    "    return result\n",
    "\n",
    "# Example usage\n",
    "sample1 = [180, 175, 200, 210, 190]  # Sample data for population 1 (e.g., male weights)\n",
    "sample2 = [130, 145, 160, 155, 150]  # Sample data for population 2 (e.g., female weights)\n",
    "\n",
    "alpha = 0.05  # Significance level\n",
    "\n",
    "result = hypothesis_test_two_means(sample1, sample2, alpha)\n",
    "\n",
    "print(\"Mean of sample 1:\", result['mean1'])\n",
    "print(\"Mean of sample 2:\", result['mean2'])\n",
    "print(\"Standard deviation of sample 1:\", result['std1'])\n",
    "print(\"Standard deviation of sample 2:\", result['std2'])\n",
    "print(\"Sample size of sample 1:\", result['n1'])\n",
    "print(\"Sample size of sample 2:\", result['n2'])\n",
    "print(\"T-statistic:\", result['t_statistic'])\n",
    "print(\"P-value:\", result['p_value'])\n",
    "print(\"Reject the null hypothesis:\", result['reject_null'])\n"
   ]
  },
  {
   "cell_type": "markdown",
   "id": "fb191096",
   "metadata": {},
   "source": [
    "### Q6: What is a null and alternative hypothesis? Give some examples."
   ]
  },
  {
   "cell_type": "markdown",
   "id": "6286c738",
   "metadata": {},
   "source": [
    "**ANS:** A null hypothesis (H0) is a statement that there is no effect or no difference, and it serves as the default or baseline assumption in hypothesis testing. The alternative hypothesis (H1 or Ha) is a statement that there is an effect or a difference, and it represents what you aim to support.\n",
    "\n",
    "**Examples:**\n",
    "\n",
    "1. **Testing a new drug's effectiveness:**\n",
    "   - **Null Hypothesis (H0):** The new drug has no effect on patients' recovery time.\n",
    "     - \\( H_0: mu_{{new drug}} = mu_{{placebo}} \\)\n",
    "   - **Alternative Hypothesis (H1):** The new drug reduces patients' recovery time.\n",
    "     - \\( H_1: mu_{{new drug}} < mu_{{placebo}} \\)\n",
    "\n",
    "2. **Comparing average test scores between two groups:**\n",
    "   - **Null Hypothesis (H0):** There is no difference in the average test scores between Group A and Group B.\n",
    "     - \\( H_0: mu_{{A}} = mu_{{B}} \\)\n",
    "   - **Alternative Hypothesis (H1):** There is a difference in the average test scores between Group A and Group B.\n",
    "     - \\( H_1: mu_{{A}} notequals mu_{text{B}} \\)\n",
    "\n",
    "3. **Evaluating a marketing campaign:**\n",
    "   - **Null Hypothesis (H0):** The marketing campaign has no effect on sales.\n",
    "     - \\( H_0: mu_{{campaign}} = mu_{{no campaign}} \\)\n",
    "   - **Alternative Hypothesis (H1):** The marketing campaign increases sales.\n",
    "     - \\( H_1: mu_{{campaign}} > mu_{{no campaign}} \\)\n",
    "\n",
    "4. **Testing the fairness of a coin:**\n",
    "   - **Null Hypothesis (H0):** The coin is fair (the probability of heads is 0.5).\n",
    "     - \\( H_0: p = 0.5 \\)\n",
    "   - **Alternative Hypothesis (H1):** The coin is not fair (the probability of heads is not 0.5).\n",
    "     - \\( H_1: p notequals 0.5 \\)\n",
    "\n",
    "In each example, the null hypothesis represents a statement of no effect or no difference, while the alternative hypothesis represents the statement that there is an effect or a difference."
   ]
  },
  {
   "cell_type": "markdown",
   "id": "156ea75d",
   "metadata": {},
   "source": [
    "### Q7: Write down the steps involved in hypothesis testing."
   ]
  },
  {
   "cell_type": "markdown",
   "id": "429dcff5",
   "metadata": {},
   "source": [
    "**ANS:** The steps involved in hypothesis testing are as follows:\n",
    "\n",
    "1. **State the Hypotheses:**\n",
    "   - Formulate the null hypothesis (H0) and the alternative hypothesis (H1).\n",
    "\n",
    "2. **Choose the Significance Level (α):**\n",
    "   - Select a significance level, typically 0.05, which defines the probability of rejecting the null hypothesis when it is actually true.\n",
    "\n",
    "3. **Select the Appropriate Test:**\n",
    "   - Choose the appropriate statistical test based on the type of data, sample size, and the hypothesis being tested (e.g., t-test, chi-square test, ANOVA).\n",
    "\n",
    "4. **Collect and Summarize the Data:**\n",
    "   - Gather the sample data and compute relevant statistics (e.g., sample mean, standard deviation).\n",
    "\n",
    "5. **Calculate the Test Statistic:**\n",
    "   - Compute the test statistic (e.g., t-statistic, z-score) using the sample data.\n",
    "\n",
    "6. **Determine the P-value or Critical Value:**\n",
    "   - Find the p-value associated with the test statistic or compare the test statistic to the critical value from the appropriate statistical distribution.\n",
    "\n",
    "7. **Make a Decision:**\n",
    "   - Compare the p-value to the significance level (α):\n",
    "     - If the p-value ≤ α, reject the null hypothesis (evidence suggests H1 is true).\n",
    "     - If the p-value > α, fail to reject the null hypothesis (insufficient evidence to support H1).\n",
    "\n",
    "8. **Draw a Conclusion:**\n",
    "   - Summarize the results and state the conclusion in the context of the research question."
   ]
  },
  {
   "cell_type": "markdown",
   "id": "467aeedf",
   "metadata": {},
   "source": [
    "### Q8. Define p-value and explain its significance in hypothesis testing."
   ]
  },
  {
   "cell_type": "markdown",
   "id": "3847a79c",
   "metadata": {},
   "source": [
    "**ANS:** The p-value is the probability of obtaining test results at least as extreme as the observed results, assuming that the null hypothesis (H0) is true. It quantifies the evidence against the null hypothesis provided by the sample data.\n",
    "\n",
    "### Significance of P-value in Hypothesis Testing:\n",
    "\n",
    "1. **Evidence Against the Null Hypothesis:**\n",
    "   - A small p-value indicates strong evidence against the null hypothesis, suggesting that the observed data is unlikely under the null hypothesis.\n",
    "   - A large p-value indicates weak evidence against the null hypothesis, suggesting that the observed data is consistent with the null hypothesis.\n",
    "\n",
    "2. **Decision Making:**\n",
    "   - The p-value helps in making decisions about whether to reject or fail to reject the null hypothesis.\n",
    "   - Commonly, a significance level (α) is chosen (e.g., 0.05). If the p-value is less than or equal to α, the null hypothesis is rejected. If the p-value is greater than α, the null hypothesis is not rejected.\n",
    "\n",
    "3. **Interpretation of Results:**\n",
    "   - **P-value ≤ α:** There is sufficient evidence to reject the null hypothesis in favor of the alternative hypothesis.\n",
    "   - **P-value > α:** There is insufficient evidence to reject the null hypothesis, and it remains plausible."
   ]
  },
  {
   "cell_type": "markdown",
   "id": "8dd4b031",
   "metadata": {},
   "source": [
    "### Q9. Generate a Student's t-distribution plot using Python's matplotlib library, with the degrees of freedom parameter set to 10."
   ]
  },
  {
   "cell_type": "code",
   "execution_count": 3,
   "id": "07eff093",
   "metadata": {},
   "outputs": [
    {
     "data": {
      "image/png": "[encoded data removed]",
      "text/plain": [
       "<Figure size 800x600 with 1 Axes>"
      ]
     },
     "metadata": {},
     "output_type": "display_data"
    }
   ],
   "source": [
    "import numpy as np\n",
    "import matplotlib.pyplot as plt\n",
    "from scipy.stats import t\n",
    "\n",
    "df = 10\n",
    "\n",
    "# Generate x values\n",
    "x = np.linspace(-5, 5, 1000)\n",
    "\n",
    "# Calculate the t-distribution values for the given degrees of freedom\n",
    "y = t.pdf(x, df)\n",
    "\n",
    "# Plot the t-distribution\n",
    "plt.figure(figsize=(8, 6))\n",
    "plt.plot(x, y, label=f't-distribution (df={df})', color='blue')\n",
    "plt.title(\"Student's t-Distribution\")\n",
    "plt.xlabel('x')\n",
    "plt.ylabel('Probability Density')\n",
    "plt.legend()\n",
    "plt.grid(True)\n",
    "plt.show()\n"
   ]
  },
  {
   "cell_type": "markdown",
   "id": "375abdc8",
   "metadata": {},
   "source": [
    "### Q10. Write a Python program to calculate the two-sample t-test for independent samples, given two random samples of equal size and a null hypothesis that the population means are equal."
   ]
  },
  {
   "cell_type": "code",
   "execution_count": 4,
   "id": "423af3ae",
   "metadata": {},
   "outputs": [
    {
     "name": "stdout",
     "output_type": "stream",
     "text": [
      "Sample 1 Mean: 2.84\n",
      "Sample 2 Mean: 3.38\n",
      "Sample 1 Standard Deviation: 0.2880972058177587\n",
      "Sample 2 Standard Deviation: 0.4207136793592525\n",
      "Sample 1 Size: 5\n",
      "Sample 2 Size: 5\n",
      "T-statistic: -2.368056652128979\n",
      "P-value: 0.04937437815647066\n",
      "Reject the null hypothesis. There is a significant difference between the two sample means.\n"
     ]
    }
   ],
   "source": [
    "import numpy as np\n",
    "from scipy import stats\n",
    "\n",
    "def two_sample_t_test(sample1, sample2):\n",
    "    # Calculate the means and standard deviations of the samples\n",
    "    mean1, mean2 = np.mean(sample1), np.mean(sample2)\n",
    "    std1, std2 = np.std(sample1, ddof=1), np.std(sample2, ddof=1)\n",
    "    n1, n2 = len(sample1), len(sample2)\n",
    "    \n",
    "    # Perform the two-sample t-test\n",
    "    t_statistic, p_value = stats.ttest_ind(sample1, sample2, equal_var=False)\n",
    "    \n",
    "    # Output results\n",
    "    print(\"Sample 1 Mean:\", mean1)\n",
    "    print(\"Sample 2 Mean:\", mean2)\n",
    "    print(\"Sample 1 Standard Deviation:\", std1)\n",
    "    print(\"Sample 2 Standard Deviation:\", std2)\n",
    "    print(\"Sample 1 Size:\", n1)\n",
    "    print(\"Sample 2 Size:\", n2)\n",
    "    print(\"T-statistic:\", t_statistic)\n",
    "    print(\"P-value:\", p_value)\n",
    "    \n",
    "    # Determine if we reject the null hypothesis\n",
    "    alpha = 0.05  # Significance level\n",
    "    if p_value < alpha:\n",
    "        print(\"Reject the null hypothesis. There is a significant difference between the two sample means.\")\n",
    "    else:\n",
    "        print(\"Fail to reject the null hypothesis. There is no significant difference between the two sample means.\")\n",
    "\n",
    "# Example usage\n",
    "sample1 = [2.9, 3.0, 2.5, 2.6, 3.2]\n",
    "sample2 = [3.8, 2.7, 3.6, 3.3, 3.5]\n",
    "\n",
    "two_sample_t_test(sample1, sample2)\n"
   ]
  },
  {
   "cell_type": "markdown",
   "id": "b663a9db",
   "metadata": {},
   "source": [
    "### Q11: What is Student’s t distribution? When to use the t-Distribution."
   ]
  },
  {
   "cell_type": "markdown",
   "id": "eac475f8",
   "metadata": {},
   "source": [
    "**ANS:** Student's t-distribution is a probability distribution that is similar to the normal distribution but has heavier tails. It is used to estimate population parameters when the sample size is small and the population standard deviation is unknown.\n",
    "\n",
    "### When to Use the t-Distribution:\n",
    "\n",
    "1. **Small Sample Sizes**: When you have a small sample size (typically less than 30).\n",
    "2. **Unknown Population Standard Deviation**: When the population standard deviation is unknown and has to be estimated from the sample.\n",
    "3. **Comparing Means**: When comparing the means of two samples, especially if the sample sizes are small or variances are not equal.\n",
    "\n"
   ]
  },
  {
   "cell_type": "markdown",
   "id": "929003f2",
   "metadata": {},
   "source": [
    "### Q12: What is t-statistic? State the formula for t-statistic."
   ]
  },
  {
   "cell_type": "markdown",
   "id": "89ce1c42",
   "metadata": {},
   "source": [
    "**ANS:** The t-statistic is a measure used in hypothesis testing to determine whether there is a significant difference between the means of two groups or whether a sample mean significantly differs from a known population mean. It is used when the sample size is small, and the population standard deviation is unknown.\n",
    "\n",
    "### Formula for t-Statistic\n",
    "\n",
    "There are different formulas for the t-statistic depending on the context. Here are the formulas for two common scenarios:\n",
    "\n",
    "1. **One-Sample t-Test**: Comparing a sample mean to a known population mean.\n",
    "   \n",
    "   [ t = (bar{x} - mu) / (s / sqrt{n})]\n",
    "   \n",
    "   - \\(bar{x}\\): Sample mean\n",
    "   - \\(mu\\): Population mean\n",
    "   - \\(s\\): Sample standard deviation\n",
    "   - \\(n\\): Sample size\n",
    "\n",
    "\n",
    "\n",
    "2. **Two-Sample t-Test**: Comparing the means of two independent samples.\n",
    "   \n",
    "   If we assume equal variances (pooled variance):\n",
    "   \n",
    "   [ t = (bar{x}_1 - bar{x}_2) / (s_p (sqrt ({{1} / {n_1} + {1} / {n_2}))) ]\n",
    "   \n",
    "   - \\(bar{x}_1\\): Mean of sample 1\n",
    "   - \\(bar{x}_2\\): Mean of sample 2\n",
    "   - \\(s_p\\): Pooled standard deviation\n",
    "   - \\(n_1\\): Size of sample 1\n",
    "   - \\(n_2\\): Size of sample 2\n",
    "   \n",
    "   Where \\(s_p\\) (pooled standard deviation) is calculated as:\n",
    "   \n",
    "   \\[\n",
    "   s_p = sqrt { {(n_1 - 1)s_1^2 + (n_2 - 1)s_2^2} / {n_1 + n_2 - 2}}\n",
    "   \\]\n",
    "   \n",
    "   - \\(s_1\\): Standard deviation of sample 1\n",
    "   - \\(s_2\\): Standard deviation of sample 2\n",
    "\n",
    "These formulas help in determining the t-statistic, which can then be compared against critical values from the t-distribution to make inferences about the population means."
   ]
  },
  {
   "cell_type": "markdown",
   "id": "be0f7218",
   "metadata": {},
   "source": [
    "### Q13. A coffee shop owner wants to estimate the average daily revenue for their shop. They take a random sample of 50 days and find the sample mean revenue to be 500 with a standard deviation of 50. Estimate the population mean revenue with a 95% confidence interval."
   ]
  },
  {
   "cell_type": "code",
   "execution_count": 5,
   "id": "a9dcccb3",
   "metadata": {},
   "outputs": [
    {
     "name": "stdout",
     "output_type": "stream",
     "text": [
      "Sample Mean: 500\n",
      "Standard Error: 7.07\n",
      "t-Critical Value: 2.01\n",
      "Margin of Error: 14.21\n",
      "95% Confidence Interval: (485.79015724388137, 514.2098427561186)\n"
     ]
    },
    {
     "data": {
      "text/plain": [
       "(485.79015724388137, 514.2098427561186)"
      ]
     },
     "execution_count": 5,
     "metadata": {},
     "output_type": "execute_result"
    }
   ],
   "source": [
    "import scipy.stats as stats\n",
    "import numpy as np\n",
    "\n",
    "# Given data\n",
    "sample_mean = 500\n",
    "sample_std = 50\n",
    "sample_size = 50\n",
    "confidence_level = 0.95\n",
    "\n",
    "# Calculate the standard error of the mean\n",
    "standard_error = sample_std / np.sqrt(sample_size)\n",
    "\n",
    "# Find the critical value (t*) from the t-distribution\n",
    "degrees_of_freedom = sample_size - 1\n",
    "t_critical = stats.t.ppf((1 + confidence_level) / 2, degrees_of_freedom)\n",
    "\n",
    "# Calculate the margin of error\n",
    "margin_of_error = t_critical * standard_error\n",
    "\n",
    "# Calculate the confidence interval\n",
    "confidence_interval = (sample_mean - margin_of_error, sample_mean + margin_of_error)\n",
    "\n",
    "# Output the results\n",
    "print(f\"Sample Mean: {sample_mean}\")\n",
    "print(f\"Standard Error: {standard_error:.2f}\")\n",
    "print(f\"t-Critical Value: {t_critical:.2f}\")\n",
    "print(f\"Margin of Error: {margin_of_error:.2f}\")\n",
    "print(f\"95% Confidence Interval: {confidence_interval}\")\n",
    "\n",
    "# Example output\n",
    "confidence_interval"
   ]
  },
  {
   "cell_type": "markdown",
   "id": "b55bb7ba",
   "metadata": {},
   "source": [
    "### Q14. A researcher hypothesizes that a new drug will decrease blood pressure by 10 mmHg. They conduct a clinical trial with 100 patients and find that the sample mean decrease in blood pressure is 8 mmHg with a standard deviation of 3 mmHg. Test the hypothesis with a significance level of 0.05."
   ]
  },
  {
   "cell_type": "code",
   "execution_count": 6,
   "id": "5b8ac209",
   "metadata": {},
   "outputs": [
    {
     "name": "stdout",
     "output_type": "stream",
     "text": [
      "Sample Mean: 8\n",
      "Sample Standard Deviation: 3\n",
      "Sample Size: 100\n",
      "T-statistic: -6.67\n",
      "P-value: 0.0000\n",
      "Reject the null hypothesis. There is a significant difference in the mean decrease in blood pressure.\n"
     ]
    }
   ],
   "source": [
    "import scipy.stats as stats\n",
    "import numpy as np\n",
    "\n",
    "# Given data\n",
    "sample_mean = 8\n",
    "population_mean = 10  # The hypothesized mean decrease\n",
    "sample_std = 3\n",
    "sample_size = 100\n",
    "alpha = 0.05\n",
    "\n",
    "# Calculate the t-statistic\n",
    "t_statistic = (sample_mean - population_mean) / (sample_std / np.sqrt(sample_size))\n",
    "\n",
    "# Calculate the degrees of freedom\n",
    "degrees_of_freedom = sample_size - 1\n",
    "\n",
    "# Calculate the p-value (two-tailed)\n",
    "p_value = 2 * stats.t.sf(np.abs(t_statistic), degrees_of_freedom)\n",
    "\n",
    "# Output results\n",
    "print(f\"Sample Mean: {sample_mean}\")\n",
    "print(f\"Sample Standard Deviation: {sample_std}\")\n",
    "print(f\"Sample Size: {sample_size}\")\n",
    "print(f\"T-statistic: {t_statistic:.2f}\")\n",
    "print(f\"P-value: {p_value:.4f}\")\n",
    "\n",
    "# Decision\n",
    "if p_value < alpha:\n",
    "    print(\"Reject the null hypothesis.\")\n",
    "else:\n",
    "    print(\"Fail to reject the null hypothesis.\")"
   ]
  },
  {
   "cell_type": "markdown",
   "id": "a3c3e29c",
   "metadata": {},
   "source": [
    "### Q15. An electronics company produces a certain type of product with a mean weight of 5 pounds and a standard deviation of 0.5 pounds. A random sample of 25 products is taken, and the sample mean weight is found to be 4.8 pounds. Test the hypothesis that the true mean weight of the products is less than 5 pounds with a significance level of 0.01."
   ]
  },
  {
   "cell_type": "code",
   "execution_count": 7,
   "id": "8e3b523f",
   "metadata": {},
   "outputs": [
    {
     "name": "stdout",
     "output_type": "stream",
     "text": [
      "Sample Mean: 4.8\n",
      "Sample Standard Deviation: 0.5\n",
      "Sample Size: 25\n",
      "T-statistic: -2.00\n",
      "P-value: 0.0285\n",
      "Fail to reject the null hypothesis. There is not enough evidence to conclude that the true mean weight of the products is less than 5 pounds.\n"
     ]
    }
   ],
   "source": [
    "import scipy.stats as stats\n",
    "import numpy as np\n",
    "\n",
    "# Given data\n",
    "population_mean = 5  # The hypothesized mean\n",
    "sample_mean = 4.8\n",
    "sample_std = 0.5\n",
    "sample_size = 25\n",
    "alpha = 0.01\n",
    "\n",
    "# Calculate the t-statistic\n",
    "t_statistic = (sample_mean - population_mean) / (sample_std / np.sqrt(sample_size))\n",
    "\n",
    "# Calculate the degrees of freedom\n",
    "degrees_of_freedom = sample_size - 1\n",
    "\n",
    "# Calculate the p-value (one-tailed)\n",
    "p_value = stats.t.cdf(t_statistic, degrees_of_freedom)\n",
    "\n",
    "# Output results\n",
    "print(f\"Sample Mean: {sample_mean}\")\n",
    "print(f\"Sample Standard Deviation: {sample_std}\")\n",
    "print(f\"Sample Size: {sample_size}\")\n",
    "print(f\"T-statistic: {t_statistic:.2f}\")\n",
    "print(f\"P-value: {p_value:.4f}\")\n",
    "\n",
    "# Decision\n",
    "if p_value < alpha:\n",
    "    print(\"Reject the null hypothesis.\")\n",
    "else:\n",
    "    print(\"Fail to reject the null hypothesis.\")"
   ]
  },
  {
   "cell_type": "markdown",
   "id": "f856f3ee",
   "metadata": {},
   "source": [
    "### Q16. Two groups of students are given different study materials to prepare for a test. The first group (n1 = 30) has a mean score of 80 with a standard deviation of 10, and the second group (n2 = 40) has a mean score of 75 with a standard deviation of 8. Test the hypothesis that the population means for the two groups are equal with a significance level of 0.01."
   ]
  },
  {
   "cell_type": "code",
   "execution_count": 8,
   "id": "a462a526",
   "metadata": {},
   "outputs": [
    {
     "name": "stdout",
     "output_type": "stream",
     "text": [
      "Group 1 Mean: 80\n",
      "Group 1 Standard Deviation: 10\n",
      "Group 1 Size: 30\n",
      "Group 2 Mean: 75\n",
      "Group 2 Standard Deviation: 8\n",
      "Group 2 Size: 40\n",
      "T-statistic: 2.25\n",
      "Degrees of Freedom: 54.23\n",
      "P-value: 0.0285\n",
      "Fail to reject the null hypothesis.\n"
     ]
    }
   ],
   "source": [
    "import scipy.stats as stats\n",
    "import numpy as np\n",
    "\n",
    "# Given data\n",
    "mean1 = 80\n",
    "std1 = 10\n",
    "n1 = 30\n",
    "\n",
    "mean2 = 75\n",
    "std2 = 8\n",
    "n2 = 40\n",
    "\n",
    "alpha = 0.01\n",
    "\n",
    "# Calculate the t-statistic\n",
    "pooled_se = np.sqrt((std1**2 / n1) + (std2**2 / n2))\n",
    "t_statistic = (mean1 - mean2) / pooled_se\n",
    "\n",
    "# Calculate the degrees of freedom\n",
    "df_num = (std1**2 / n1 + std2**2 / n2)**2\n",
    "df_denom = ((std1**2 / n1)**2 / (n1 - 1)) + ((std2**2 / n2)**2 / (n2 - 1))\n",
    "degrees_of_freedom = df_num / df_denom\n",
    "\n",
    "# Calculate the p-value (two-tailed)\n",
    "p_value = 2 * stats.t.sf(np.abs(t_statistic), degrees_of_freedom)\n",
    "\n",
    "# Output results\n",
    "print(f\"Group 1 Mean: {mean1}\")\n",
    "print(f\"Group 1 Standard Deviation: {std1}\")\n",
    "print(f\"Group 1 Size: {n1}\")\n",
    "print(f\"Group 2 Mean: {mean2}\")\n",
    "print(f\"Group 2 Standard Deviation: {std2}\")\n",
    "print(f\"Group 2 Size: {n2}\")\n",
    "print(f\"T-statistic: {t_statistic:.2f}\")\n",
    "print(f\"Degrees of Freedom: {degrees_of_freedom:.2f}\")\n",
    "print(f\"P-value: {p_value:.4f}\")\n",
    "\n",
    "# Decision\n",
    "if p_value < alpha:\n",
    "    print(\"Reject the null hypothesis.\")\n",
    "else:\n",
    "    print(\"Fail to reject the null hypothesis.\")"
   ]
  },
  {
   "cell_type": "markdown",
   "id": "3610e378",
   "metadata": {},
   "source": [
    "### Q17. A marketing company wants to estimate the average number of ads watched by viewers during a TV program. They take a random sample of 50 viewers and find that the sample mean is 4 with a standard deviation of 1.5. Estimate the population mean with a 99% confidence interval."
   ]
  },
  {
   "cell_type": "code",
   "execution_count": 9,
   "id": "b7d03811",
   "metadata": {},
   "outputs": [
    {
     "name": "stdout",
     "output_type": "stream",
     "text": [
      "Sample Mean: 4\n",
      "Standard Error: 0.21\n",
      "T-Critical Value: 2.68\n",
      "Margin of Error: 0.57\n",
      "99% Confidence Interval: (3.4314963358572577, 4.568503664142742)\n"
     ]
    },
    {
     "data": {
      "text/plain": [
       "(3.4314963358572577, 4.568503664142742)"
      ]
     },
     "execution_count": 9,
     "metadata": {},
     "output_type": "execute_result"
    }
   ],
   "source": [
    "import scipy.stats as stats\n",
    "import numpy as np\n",
    "\n",
    "# Given data\n",
    "sample_mean = 4\n",
    "sample_std = 1.5\n",
    "sample_size = 50\n",
    "confidence_level = 0.99\n",
    "\n",
    "# Calculate the standard error of the mean\n",
    "standard_error = sample_std / np.sqrt(sample_size)\n",
    "\n",
    "# Find the critical value (t*) from the t-distribution\n",
    "degrees_of_freedom = sample_size - 1\n",
    "t_critical = stats.t.ppf((1 + confidence_level) / 2, degrees_of_freedom)\n",
    "\n",
    "# Calculate the margin of error\n",
    "margin_of_error = t_critical * standard_error\n",
    "\n",
    "# Calculate the confidence interval\n",
    "confidence_interval = (sample_mean - margin_of_error, sample_mean + margin_of_error)\n",
    "\n",
    "# Output the results\n",
    "print(f\"Sample Mean: {sample_mean}\")\n",
    "print(f\"Standard Error: {standard_error:.2f}\")\n",
    "print(f\"T-Critical Value: {t_critical:.2f}\")\n",
    "print(f\"Margin of Error: {margin_of_error:.2f}\")\n",
    "print(f\"99% Confidence Interval: {confidence_interval}\")\n",
    "\n",
    "confidence_interval"
   ]
  }
 ],
 "metadata": {
  "kernelspec": {
   "display_name": "Python 3 (ipykernel)",
   "language": "python",
   "name": "python3"
  },
  "language_info": {
   "codemirror_mode": {
    "name": "ipython",
    "version": 3
   },
   "file_extension": ".py",
   "mimetype": "text/x-python",
   "name": "python",
   "nbconvert_exporter": "python",
   "pygments_lexer": "ipython3",
   "version": "3.9.13"
  }
 },
 "nbformat": 4,
 "nbformat_minor": 5
}
