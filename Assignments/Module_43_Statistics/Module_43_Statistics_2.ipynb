{
 "cells": [
  {
   "cell_type": "markdown",
   "id": "1142ddd5",
   "metadata": {},
   "source": [
    "# Assignment (7th March) : Statistics Basics - 2"
   ]
  },
  {
   "cell_type": "markdown",
   "id": "97d6aced",
   "metadata": {},
   "source": [
    "### Q1. What are the three measures of central tendency?"
   ]
  },
  {
   "cell_type": "markdown",
   "id": "5bdcfd8a",
   "metadata": {},
   "source": [
    "**ANS:** The three measures of central tendency are as follows:\n",
    "\n",
    "**1. `Mean:`** The arithmetic average of a set of values, calculated by summing all the values and dividing by the number of values.\n",
    "\n",
    "\n",
    "**2. `Median:`** The middle value in a set of values when they are arranged in ascending or descending order. If the set has an even number of values, the median is the average of the two middle values.\n",
    "\n",
    "\n",
    "**3. `Mode:`** The value that appears most frequently in a set of values. A set of values can have more than one mode if multiple values occur with the same maximum frequency."
   ]
  },
  {
   "cell_type": "markdown",
   "id": "98932091",
   "metadata": {},
   "source": [
    "### Q2. What is the difference between the mean, median, and mode? How are they used to measure the central tendency of a dataset?"
   ]
  },
  {
   "cell_type": "markdown",
   "id": "06163825",
   "metadata": {},
   "source": [
    "**ANS:** The mean, median, and mode are all measures of central tendency, but they capture different aspects of the data distribution:\n",
    "\n",
    "1. **`Mean:`** This is the average of all the values in a dataset. It is calculated by summing up all the values and dividing by the number of values. The mean is sensitive to outliers because it takes into account the magnitude of each value. It is commonly used when the dataset is approximately normally distributed or symmetrically distributed around a central value.\n",
    "\n",
    " **Use**: The mean is useful when you want to find a typical value that represents the entire dataset, especially when the dataset is normally distributed.\n",
    "\n",
    "\n",
    "\n",
    "2. **`Median:`** The median is the middle value in a sorted list of numbers. If the dataset has an odd number of values, the median is the value at the exact center. If the dataset has an even number of values, the median is the average of the two middle values. The median is not affected by extreme values (outliers) in the dataset.\n",
    "\n",
    " **Use**: The median is useful when the dataset contains outliers or when the distribution is skewed (not symmetric). It provides a measure of central tendency that is more robust to extreme values.\n",
    "\n",
    "\n",
    "\n",
    "3. **`Mode:`** The mode is the value that appears most frequently in a dataset. Unlike the mean and median, which are based on actual values, the mode is a value derived from the frequencies of values in the dataset.\n",
    "\n",
    " **Use**: The mode is useful when you want to find the most typical or commonly occurring value in the dataset. It is especially helpful for categorical data or discrete values.\n",
    "\n",
    "\n",
    "**`How they measure central tendency:`**\n",
    "- **Mean**: Represents the balance point of the data, influenced by all values in the dataset.\n",
    "- **Median**: Represents the middle value, dividing the dataset into two halves. It is less influenced by extreme values.\n",
    "- **Mode**: Represents the most frequent value(s) in the dataset, providing insight into typical values or common occurrences.\n",
    "\n"
   ]
  },
  {
   "cell_type": "markdown",
   "id": "d60fa601",
   "metadata": {},
   "source": [
    "### Q3. Measure the three measures of central tendency for the given height data:\n",
    "#### [178,177,176,177,178.2,178,175,179,180,175,178.9,176.2,177,172.5,178,176.5]"
   ]
  },
  {
   "cell_type": "markdown",
   "id": "14dc4206",
   "metadata": {},
   "source": [
    "**ANS:** For the given height data - \n",
    "([178, 177, 176, 177, 178.2, 178, 175, 179, 180, 175, 178.9, 176.2, 177, 172.5, 178, 176.5]):\n",
    "\n",
    "- **`Mean:`** The mean height is ( 177.02 ).\n",
    "- **`Median:`** The median height is ( 177.0 ).\n",
    "- **`Mode:`** The mode height is ( 177.0 ), which appears 3 times.\n"
   ]
  },
  {
   "cell_type": "markdown",
   "id": "bddbec0d",
   "metadata": {},
   "source": [
    "### Q4. Find the standard deviation for the given data:\n",
    "#### [178,177,176,177,178.2,178,175,179,180,175,178.9,176.2,177,172.5,178,176.5]"
   ]
  },
  {
   "cell_type": "markdown",
   "id": "63d17ac7",
   "metadata": {},
   "source": [
    "**ANS:** Finding the Standard Deviation:\n",
    "\n",
    "**Step 1: Calculate the `Mean`**\n",
    "- [ bar{X} = (178 + 177 + 176 + 177 + 178.2 + 178 + 175 + 179 + 180 + 175 + 178.9 + 176.2 + 177 + 172.5 + 178 + 176.5) / 16 ]\n",
    "- [ bar{X} = 2827.3 / 16 ]\n",
    "- [ bar{X} = 176.70625 ]\n",
    "\n",
    "**Step 2: Calculate the `Variance`**\n",
    "- [ sigma^2 = {(178 - 176.70625)^2 + (177 - 176.70625)^2 + ... + (176.5 - 176.70625)^2} / 16 ]\n",
    "\n",
    "\n",
    "Calculating each term:\n",
    "- [ (178 - 176.70625)^2 = (1.29375)^2 = 1.67477 ]\n",
    "- [ (177 - 176.70625)^2 = (0.29375)^2 = 0.08625 ]\n",
    "\n",
    "    .\n",
    "\n",
    "    .\n",
    "\n",
    "    .\n",
    "\n",
    "- [ (176.5 - 176.70625)^2 = (-0.20625)^2 = 0.04259 ]\n",
    "\n",
    "Summing these values and dividing by 16 gives us the variance.\n",
    "\n",
    "- [ sigma^2 = 8.87681 / 16 ]\n",
    "- [ sigma^2 = 0.5548 ]\n",
    "\n",
    "**Step 3: Calculate the `Standard Deviation`**\n",
    "- [SD = sqrt(Variance)]\n",
    "- [ sigma = sqrt(0.5548) ]\n",
    "\n",
    "Therefore, the standard deviation of the given dataset is approximately `0.7451`."
   ]
  },
  {
   "cell_type": "markdown",
   "id": "fd0bbd61",
   "metadata": {},
   "source": [
    "### Q5. How are measures of dispersion such as range, variance, and standard deviation used to describe the spread of a dataset? Provide an example."
   ]
  },
  {
   "cell_type": "markdown",
   "id": "3aaba5d8",
   "metadata": {},
   "source": [
    "**ANS:** Measures of dispersion describe the spread or variability within a dataset. They help understand how much the data values deviate from the central tendency (mean, median, or mode). The main measures of dispersion are:\n",
    "\n",
    "1. **`Range`**: The difference between the maximum and minimum values in a dataset. It gives a simple measure of the total spread but is sensitive to outliers.\n",
    "\n",
    "\n",
    "\n",
    "2. **`Variance`**: The average of the squared differences between each data point and the mean. It provides a measure of how data points spread out around the mean but in squared units, making it less intuitive.\n",
    "\n",
    "\n",
    "\n",
    "3. **`Standard Deviation`**: The square root of the variance. It brings the dispersion measure back to the original units of the data, making it more interpretable. It indicates how much the individual data points typically differ from the mean.\n",
    "\n",
    "\n",
    "\n",
    "**`Example:`** \n",
    "Consider a classroom with two sets of students' heights measured in centimeters:\n",
    "\n",
    "- **Class A**: \\([150, 152, 153, 155, 157, 160, 162, 163, 165, 167]\\)\n",
    "- **Class B**: \\([140, 145, 150, 155, 160, 165, 170, 175, 180, 185]\\)\n",
    "\n",
    "- **Range**:\n",
    "  - Class A: \\(167 - 150 = 17\\)\n",
    "  - Class B: \\(185 - 140 = 45\\)\n",
    "\n",
    "- **Variance and Standard Deviation**:\n",
    "  - Class A: Mean = 158.6, Variance ≈ 27.16, Standard Deviation ≈ 5.21\n",
    "  - Class B: Mean = 162.5, Variance ≈ 242.25, Standard Deviation ≈ 15.56\n",
    "\n"
   ]
  },
  {
   "cell_type": "markdown",
   "id": "71a09bb6",
   "metadata": {},
   "source": [
    "### Q6. What is a Venn diagram?"
   ]
  },
  {
   "cell_type": "markdown",
   "id": "43e239aa",
   "metadata": {},
   "source": [
    "**ANS:** A Venn diagram is a visual representation used to illustrate the relationships between different sets. It consists of overlapping circles, each representing a set, with the overlapping areas showing the common elements between the sets. The main purposes of Venn diagrams are to visually demonstrate the similarities and differences between sets and to highlight how they interact.\n",
    "\n",
    "**`Components of a Venn Diagram:`**\n",
    "1. **Circles**: Each circle represents a set.\n",
    "2. **Overlapping Regions**: The areas where circles overlap represent the elements that are common to the overlapping sets.\n",
    "3. **Non-overlapping Regions**: The areas within a circle that do not overlap with other circles represent the elements unique to that set.\n",
    "\n",
    "**`Uses of Venn Diagrams:`**\n",
    "- **Set Theory**: To illustrate unions, intersections, and complements of sets.\n",
    "- **Logic**: To show logical relationships and to solve problems involving logical reasoning.\n",
    "- **Probability**: To visualize events and their probabilities, especially in the context of combined or mutually exclusive events.\n",
    "- **Comparative Analysis**: To compare and contrast different groups or categories.\n",
    "\n"
   ]
  },
  {
   "cell_type": "markdown",
   "id": "dd775a34",
   "metadata": {},
   "source": [
    "### Q7. For the two given sets A = (2,3,4,5,6,7) & B = (0,2,6,8,10). Find:\n",
    "#### (i) A (intersection) B\n",
    "#### (ii) A (union) B"
   ]
  },
  {
   "cell_type": "markdown",
   "id": "9b682bba",
   "metadata": {},
   "source": [
    "**ANS:** To solve for the intersection and union of the two given sets \\( A = \\{2, 3, 4, 5, 6, 7\\} \\) and \\( B = \\{0, 2, 6, 8, 10\\} \\), we use the following definitions:\n",
    "\n",
    "1. **Intersection:** The set of elements that are common to both \\(A\\) and \\(B\\).\n",
    "2. **Union:** The set of all elements that are in \\(A\\) or \\(B\\) or both.\n",
    "\n",
    "**(i) `Intersection [A (intersection) B]:`**\n",
    "- Find the common elements in both sets (A) and (B).\n",
    "- Common elements: (2) and (6).\n",
    "\n",
    "Therefore, [A (intersection) B] = {2, 6}.\n",
    "\n",
    "**(ii) `Union [A (union) B]:`**\n",
    "- Combine all elements from sets (A) and (B), ensuring no duplicates.\n",
    "- All unique elements: (0, 2, 3, 4, 5, 6, 7, 8, 10).\n",
    "\n",
    "Therefore, [A (union) B] = {0, 2, 3, 4, 5, 6, 7, 8, 10}.\n",
    "\n"
   ]
  },
  {
   "cell_type": "markdown",
   "id": "9945bfdb",
   "metadata": {},
   "source": [
    "### Q8. What do you understand about skewness in data?"
   ]
  },
  {
   "cell_type": "markdown",
   "id": "b53ee6f9",
   "metadata": {},
   "source": [
    "**ANS:** Skewness is a measure of the `asymmetry or distortion of the distribution` of data values. It indicates the extent to which the distribution of data deviates from a symmetrical bell curve (normal distribution). Understanding skewness helps in identifying the nature of the data distribution, which can influence statistical analyses and interpretations.\n",
    "\n",
    "**Types of Skewness**:\n",
    "1. **Positive Skewness (Right Skewed)**:\n",
    "   - The right tail (higher values) is longer or fatter than the left tail (lower values).\n",
    "   - Most data points are concentrated on the left side, with a few extreme values on the right.\n",
    "   - The mean is typically greater than the median.\n",
    "   - Example: Income distribution in a population where a few individuals have very high incomes.\n",
    "\n",
    "2. **Negative Skewness (Left Skewed)**:\n",
    "   - The left tail (lower values) is longer or fatter than the right tail (higher values).\n",
    "   - Most data points are concentrated on the right side, with a few extreme values on the left.\n",
    "   - The mean is typically less than the median.\n",
    "   - Example: Age at retirement in a population where a few individuals retire very early.\n",
    "\n",
    "3. **Zero Skewness (Symmetrical Distribution)**:\n",
    "   - The distribution is symmetrical, meaning both tails are equally balanced.\n",
    "   - The mean, median, and mode are equal.\n",
    "   - Example: Heights of adult men in a large, homogenous population.\n",
    "\n"
   ]
  },
  {
   "cell_type": "markdown",
   "id": "2f03212f",
   "metadata": {},
   "source": [
    "### Q9. If a data is right skewed then what will be the position of median with respect to mean?"
   ]
  },
  {
   "cell_type": "markdown",
   "id": "df92c040",
   "metadata": {},
   "source": [
    "**ANS:** If a dataset is right-skewed (positively skewed), the distribution has a longer tail on the right side. In such a case, the `mean is typically greater than the median`. It is due to the following reason:\n",
    "\n",
    "- **Mean**: The mean is influenced by all the values in the dataset, including the extreme high values (outliers) in the right tail. These high values pull the mean to the right, increasing its value.\n",
    "- **Median**: The median is the middle value when the data is ordered. It is less affected by extreme values because it depends only on the order of the data, not the magnitude of the values.\n",
    "\n",
    "Therefore, in a right-skewed distribution:\n",
    "[Mean > Median]\n",
    "\n",
    "This relationship helps identify the skewness of the data when analyzing summary statistics."
   ]
  },
  {
   "cell_type": "markdown",
   "id": "36c25029",
   "metadata": {},
   "source": [
    "### Q10. Explain the difference between covariance and correlation. How are these measures used in statistical analysis?"
   ]
  },
  {
   "cell_type": "markdown",
   "id": "bb082f7d",
   "metadata": {},
   "source": [
    "**ANS:** Covariance and correlation are both measures used in statistics to describe the relationship between two variables. While they are related concepts, they serve slightly different purposes and provide different types of information about the relationship between variables.\n",
    "\n",
    "**1. `Covariance:`**\n",
    "Covariance measures the extent to which two variables change together. Mathematically, it is calculated as the average product of the deviations of each variable from their respective means:\n",
    "[ Cov(X, Y) = 1/n summation i=1 to n (X_i - bar{X})(Y_i - bar{Y}) ]\n",
    "where ( X_i ) and ( Y_i ) are individual data points, ( bar{X} ) and ( bar{Y} ) are the means of ( X ) and ( Y ), and (n) is the number of data points.\n",
    "\n",
    "- **Interpretation**: \n",
    "  - If Cov(X, Y) > 0, it suggests a positive relationship (as one variable increases, the other tends to increase).\n",
    "  - If Cov(X, Y) < 0, it suggests a negative relationship (as one variable increases, the other tends to decrease).\n",
    "  - Cov(X, Y) = 0 indicates no linear relationship between \\( X \\) and \\( Y \\).\n",
    "\n",
    "- **Use in Statistical Analysis**:\n",
    "  - Covariance is used to understand the direction of the relationship between variables (positive or negative).\n",
    "  - It is not standardized and depends on the units of the variables, making comparisons between different pairs of variables difficult.\n",
    "\n",
    "**2. `Correlation:`**\n",
    "Correlation measures both the strength and direction of the linear relationship between two variables. Unlike covariance, correlation is standardized and ranges from -1 to 1:\n",
    "[ rho_{X,Y} = {Cov}(X, Y) / {sigma_X * sigma_Y} ]\n",
    "where ( sigma_X ) and ( sigma_Y ) are the standard deviations of ( X ) and ( Y ), respectively.\n",
    "\n",
    "- **Interpretation**:\n",
    "  - ( rho_{X,Y} = 1 ) indicates a perfect positive linear relationship.\n",
    "  - ( rho_{X,Y} = -1 ) indicates a perfect negative linear relationship.\n",
    "  - ( rho_{X,Y} = 0 ) indicates no linear relationship.\n",
    "  - Values between -1 and 1 indicate the strength and direction of the linear relationship (closer to 1 or -1 means a stronger relationship).\n",
    "\n",
    "- **Use in Statistical Analysis**:\n",
    "  - Correlation is used to understand how strongly two variables are related linearly, providing a standardized measure that allows for comparisons between different pairs of variables.\n",
    "  - It helps in determining the predictive power of one variable given another (e.g., in regression analysis).\n",
    "  - Correlation does not imply causation; it only measures the strength and direction of the linear relationship.\n"
   ]
  },
  {
   "cell_type": "markdown",
   "id": "ea26445e",
   "metadata": {},
   "source": [
    "### Q11. What is the formula for calculating the sample mean? Provide an example calculation for a dataset."
   ]
  },
  {
   "cell_type": "markdown",
   "id": "f998d356",
   "metadata": {},
   "source": [
    "**ANS:** The sample mean, often denoted as (bar{X}), is the average value of a dataset. It is calculated by summing all the data points in the sample and dividing by the number of data points \\( n \\).\n",
    "\n",
    "**Formula for Sample Mean:**\n",
    "`[ bar{X} = 1/n summation of i=1 to n (Xi) ]`\n",
    "\n",
    "where:\n",
    "- ( bar{X} ) is the sample mean,\n",
    "- ( Xi ) are the individual data points,\n",
    "- ( n ) is the number of data points in the sample.\n",
    "\n",
    "**Example Calculation:**\n",
    "\n",
    "Let's calculate the sample mean for a dataset:\n",
    "[ X = { 5, 7, 8, 4, 6 } ]\n",
    "\n",
    "1. **Identify the data points and count \\( n \\)**:\n",
    "   - Data points \\( X_1 = 5 \\), \\( X_2 = 7 \\), \\( X_3 = 8 \\), \\( X_4 = 4 \\), \\( X_5 = 6 \\)\n",
    "   - \\( n = 5 \\) (there are 5 data points in the dataset).\n",
    "\n",
    "2. **Sum the data points**:\n",
    "   \\[ summation of i=1 to 5 (Xi) = 5 + 7 + 8 + 4 + 6 = 30 \\]\n",
    "\n",
    "3. **Calculate the sample mean**:\n",
    "   \\[ \\bar{X} = \\frac{1}{5} \\times 30 = \\frac{30}{5} = 6 \\]\n",
    "\n",
    "Therefore, the sample mean \\( \\bar{X} \\) for the dataset \\( X = \\{ 5, 7, 8, 4, 6 \\} \\) is \\( 6 \\).\n",
    "\n"
   ]
  },
  {
   "cell_type": "markdown",
   "id": "43bcadfd",
   "metadata": {},
   "source": [
    "### Q12. For a normal distribution data what is the relationship between its measure of central tendency?"
   ]
  },
  {
   "cell_type": "markdown",
   "id": "0b7acdf9",
   "metadata": {},
   "source": [
    "**ANS:** For a normal distribution, which is symmetric and bell-shaped, the measures of central tendency — mean, median, and mode — are related in the following ways:\n",
    "\n",
    "1. **`Mean`**: The mean of a normal distribution is located at the center of symmetry. For a normal distribution with mean (mu) and standard deviation (sigma), the mean is equal to (mu).\n",
    "\n",
    "2. **`Median`**: The median of a normal distribution is also located at the center of the distribution. Therefore, the median is equal to the mean, (mu).\n",
    "\n",
    "3. **`Mode`**: The mode of a normal distribution is the point of highest frequency, which is also at the center of the distribution. Thus, the mode of a normal distribution is equal to the mean and median, (mu).\n",
    "\n",
    "**`Relationship Summary`**: In a normal distribution:\n",
    "- Mean = Median = Mode = (mu)\n",
    "\n",
    "This equality of the mean, median, and mode in a normal distribution is a characteristic unique to the normal distribution and reflects its symmetry about the mean.\n",
    "\n"
   ]
  },
  {
   "cell_type": "markdown",
   "id": "46525669",
   "metadata": {},
   "source": [
    "### Q13. How is covariance different from correlation?"
   ]
  },
  {
   "cell_type": "markdown",
   "id": "59bd861e",
   "metadata": {},
   "source": [
    "**ANS:** Covariance and correlation are both measures used to describe the relationship between two variables, but they differ in several key aspects:\n",
    "\n",
    "**1. `Definition:`**\n",
    "- Covariance: Covariance measures the degree to which two variables change together. It indicates the direction of the linear relationship between variables. \n",
    "- Correlation: Correlation measures both the strength and direction of the linear relationship between two variables. Unlike covariance, correlation is standardized and ranges from -1 to 1. \n",
    "\n",
    "\n",
    "**2. `Standardization:`**\n",
    "- Covariance is not standardized and its value depends on the units of the variables.\n",
    "- Correlation is standardized, making it easier to interpret and compare across different pairs of variables. The correlation coefficient \\( \\rho_{X,Y} \\) always ranges between -1 (perfect negative correlation) and 1 (perfect positive correlation).\n",
    "\n",
    "\n",
    "**3. `Interpretation:`**\n",
    "- Covariance indicates the direction of the linear relationship between variables (positive, negative, or no relationship) and its magnitude reflects the strength of this relationship, but it is not directly interpretable beyond this.\n",
    "- Correlation provides a standardized measure that not only indicates the direction and strength of the linear relationship but also allows for comparisons between different pairs of variables. It is easier to interpret since it is bound within the range of -1 to 1.\n",
    "\n",
    "\n",
    "**4. `Units:`**\n",
    "- Covariance is in units that are the product of the units of the two variables (e.g., square units if the variables are in square units).\n",
    "- Correlation is a unitless measure, which makes it more useful for comparing relationships between variables that are measured in different units or scales.\n",
    "\n",
    "\n",
    "**5. `Practical Use:`**\n",
    "- Covariance is often used in financial analysis and portfolio management to assess the risk and return of assets relative to each other.\n",
    "- Correlation is widely used in many fields, including economics, biology, psychology, and social sciences, to study relationships between variables and make predictions.\n",
    "\n",
    "\n",
    "**6. `Overall:`**\n",
    "- Covariance and correlation are related but distinct measures of the relationship between variables. Covariance measures the direction and strength of the linear relationship but is influenced by the units of measurement. Correlation, on the other hand, standardizes this measurement, making it more interpretable and allowing for comparisons between different pairs of variables. \n"
   ]
  },
  {
   "cell_type": "markdown",
   "id": "0523467f",
   "metadata": {},
   "source": [
    "### Q14. How do outliers affect measures of central tendency and dispersion? Provide an example."
   ]
  },
  {
   "cell_type": "markdown",
   "id": "2bf5630f",
   "metadata": {},
   "source": [
    "**ANS:** \n",
    "\n",
    "**1. `Measures of Central Tendency:`**\n",
    "\n",
    "- **Mean**: Outliers can pull the mean towards them because the mean is sensitive to extreme values. A single extreme outlier can greatly increase or decrease the mean depending on its value.\n",
    "  \n",
    "- **Median**: The median is less affected by outliers because it is simply the middle value when the data is ordered. Outliers have no effect on the median unless they affect the order of values around the middle.\n",
    "\n",
    "- **Mode**: Outliers generally do not affect the mode because the mode is the most frequent value(s) in the dataset, which is often less sensitive to extreme values unless the outlier occurs very frequently.\n",
    "\n",
    "**`Example:`**\n",
    "Consider a dataset of exam scores: [ \\{ 75, 80, 85, 85, 90, 95, 150 \\} \\]\n",
    "\n",
    "- **Mean**: Sum of data points = 95.83. (The presence of the outlier increases the mean `significantly`).\n",
    "\n",
    "- **Median**: Since there are 6 data points, the median is the average of the 3rd and 4th values = 87.5. (The median is `less affected` because it focuses on the middle values.)\n",
    "\n",
    "- **Mode**: The mode is 85.  there is `no affect` in the mode because no outlier score repeats in this data but if the outlier repeats it `would affect` the mode.\n",
    "\n",
    "\n",
    "\n",
    "**2. `Measures of Dispersion:`**\n",
    "\n",
    "- **Range**: Outliers can widen the range by stretching the distance between the minimum and maximum values in the dataset.\n",
    "\n",
    "- **Variance and Standard Deviation**: Outliers increase the variance and standard deviation because these measures are based on the squared deviations from the mean. Since outliers can be far from the mean, their squared deviations are large, which inflates these measures.\n",
    "\n",
    "**`Example:`**\n",
    "Consider a dataset of incomes: [ { 40, 45, 50, 55, 60, 200 \\} ]\n",
    "\n",
    "- **Range**: The presence of the outlier increases the range `significantly`.\n",
    "\n",
    "- **Variance and Standard Deviation**:\n",
    "  - Calculate the mean income:\n",
    "    [ Mean = {40 + 45 + 50 + 55 + 60 + 200} / {6} = 75 ]\n",
    "  \n",
    "  - Calculate variance:\n",
    "    [ Variance = {1225 + 900 + 625 + 400 + 225 + 12025} / {6} = 2550 ]\n",
    "\n",
    "  - Calculate standard deviation:\n",
    "    [ Standard Deviation = sqrt{2550} approx = 50.5 ]\n",
    "\n",
    "  The presence of the outlier `significantly increases` both the variance and the standard deviation.\n"
   ]
  }
 ],
 "metadata": {
  "kernelspec": {
   "display_name": "Python 3 (ipykernel)",
   "language": "python",
   "name": "python3"
  },
  "language_info": {
   "codemirror_mode": {
    "name": "ipython",
    "version": 3
   },
   "file_extension": ".py",
   "mimetype": "text/x-python",
   "name": "python",
   "nbconvert_exporter": "python",
   "pygments_lexer": "ipython3",
   "version": "3.9.13"
  }
 },
 "nbformat": 4,
 "nbformat_minor": 5
}
