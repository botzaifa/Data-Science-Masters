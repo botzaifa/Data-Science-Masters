{
 "cells": [
  {
   "cell_type": "markdown",
   "id": "0808d812",
   "metadata": {},
   "source": [
    "# Assignment (6th March) : Statistics Basics - 1"
   ]
  },
  {
   "cell_type": "markdown",
   "id": "bc39fda1",
   "metadata": {},
   "source": [
    "### Q1. What is Statistics?"
   ]
  },
  {
   "cell_type": "markdown",
   "id": "c12aff04",
   "metadata": {},
   "source": [
    "**ANS:** Statistics is a branch of mathematics that involves the `collection, analysis, interpretation, presentation, and organization of data`. It provides tools and methodologies for making sense of numerical data and drawing meaningful conclusions from it. Statistics is used in a wide range of fields, including business, economics, engineering, medicine, social sciences, and more. It helps in making informed decisions, understanding trends, and validating scientific discoveries."
   ]
  },
  {
   "cell_type": "markdown",
   "id": "2538e89d",
   "metadata": {},
   "source": [
    "### Q2. Define the different types of statistics and give an example of when each type might be used."
   ]
  },
  {
   "cell_type": "markdown",
   "id": "f6f68117",
   "metadata": {},
   "source": [
    "**ANS:** Statistics can be broadly classified into two main types: descriptive statistics and inferential statistics. Each type serves a different purpose and is used in different contexts.\n",
    "\n",
    "#### 1. **`Descriptive Statistics:`** \n",
    "\n",
    "- Definition: Descriptive statistics summarize and describe the main features of a dataset. They provide simple summaries about the sample and the measures.\n",
    "\n",
    "- Example: A school wants to understand the average performance of students in a mathematics test. They calculate the mean, median, and mode of the test scores and create a histogram to visualize the distribution of scores.\n",
    "\n",
    "\n",
    "#### 2. **`Inferential Statistics:`**\n",
    "\n",
    "- Definition: Inferential statistics use a random sample of data taken from a population to make inferences or predictions about the population. It involves generalizing from the sample data to the larger population.\n",
    "\n",
    "- Example: A pharmaceutical company conducts a clinical trial on a new drug. They collect data from a sample of patients who received the drug and those who received a placebo. Using inferential statistics, the company can determine whether the drug has a significant effect on the patients’ health outcomes compared to the placebo, and they can estimate the drug’s effectiveness in the general population."
   ]
  },
  {
   "cell_type": "markdown",
   "id": "717fd44c",
   "metadata": {},
   "source": [
    "### Q3. What are the different types of data and how do they differ from each other? Provide an example of each type of data."
   ]
  },
  {
   "cell_type": "markdown",
   "id": "bce3ed1a",
   "metadata": {},
   "source": [
    "**ANS:** Data can be classified into different types based on their nature and the measurement scales used. The main types of data are:\n",
    "\n",
    "#### 1. **`Nominal Data`**\n",
    "\n",
    "\n",
    "**Characteristics**:\n",
    "- Categorical data with no meaningful order\n",
    "- Often used for labeling variables without any quantitative significance\n",
    "\n",
    "**Example**: Types of fruit in a basket (apple, banana, cherry). Each fruit type is a category, and there is no logical order among them.\n",
    "\n",
    "\n",
    "#### 2. **`Ordinal Data`**\n",
    "\n",
    "\n",
    "**Characteristics**:\n",
    "- Categorical data with a meaningful order\n",
    "- The intervals between the ranks are not necessarily equal\n",
    "\n",
    "**Example**: Survey responses indicating satisfaction levels (very dissatisfied, dissatisfied, neutral, satisfied, very satisfied). The responses have a meaningful order, but the difference between each level is not quantified.\n",
    "\n",
    "\n",
    "#### 3. **`Interval Data`**\n",
    "\n",
    "\n",
    "**Characteristics**:\n",
    "- Numeric data with equal intervals between values\n",
    "- No true zero point (zero does not mean absence of the variable)\n",
    "\n",
    "**Example**: Temperature measured in Celsius or Fahrenheit. The difference between 20°C and 30°C is the same as between 30°C and 40°C, but 0°C does not represent an absence of temperature.\n",
    "\n",
    "\n",
    "\n",
    "#### 4. **`Ratio Data`**\n",
    "\n",
    "**Characteristics**:\n",
    "- Numeric data with equal intervals between values\n",
    "- True zero point (zero means absence of the variable)\n",
    "\n",
    "**Example**: Weight of an object. A weight of 0 kg means there is no weight, and the difference between 10 kg and 20 kg is the same as between 20 kg and 30 kg."
   ]
  },
  {
   "cell_type": "markdown",
   "id": "526d4755",
   "metadata": {},
   "source": [
    "### Q4. Categorise the following datasets with respect to quantitative and qualitative data types:\n",
    "(i) Grading in exam: A+, A, B+, B, C+, C, D, E\n",
    "\n",
    "(ii) Colour of mangoes: yellow, green, orange, red\n",
    "\n",
    "(iii) Height data of a class: [178.9, 179, 179.5, 176, 177.2, 178.3, 175.8,...]\n",
    "\n",
    "(iv) Number of mangoes exported by a farm: [500, 600, 478, 672, ...]"
   ]
  },
  {
   "cell_type": "markdown",
   "id": "a3fff80a",
   "metadata": {},
   "source": [
    "**ANS:** \n",
    "\n",
    "#### **(i) `Grading in exam`: A+, A, B+, B, C+, C, D, E**\n",
    "- **Type**: Qualitative\n",
    "- **Sub-type**: Ordinal\n",
    "- **Reason**: The grades represent categories with a meaningful order or ranking but do not have numerical values.\n",
    "\n",
    "#### **(ii) `Colour of mangoes`: yellow, green, orange, red**\n",
    "- **Type**: Qualitative\n",
    "- **Sub-type**: Nominal\n",
    "- **Reason**: The colors are categories without a meaningful order or ranking.\n",
    "\n",
    "\n",
    "\n",
    "#### **(iii) `Height data of a class`: [178.9, 179, 179.5, 176, 177.2, 178.3, 175.8, ...]**\n",
    "- **Type**: Quantitative\n",
    "- **Sub-type**: Continuous\n",
    "- **Reason**: Heights are numerical values that can take any value within a range, and measurements can be infinitely precise.\n",
    "\n",
    "#### **(iv) `Number of mangoes exported by a farm`: [500, 600, 478, 672, ...]**\n",
    "- **Type**: Quantitative\n",
    "- **Sub-type**: Discrete\n",
    "- **Reason**: The number of mangoes is counted in whole numbers, and there are no fractional values between the counts.\n",
    "\n"
   ]
  },
  {
   "cell_type": "markdown",
   "id": "3aaa254f",
   "metadata": {},
   "source": [
    "### Q5. Explain the concept of levels of measurement and give an example of a variable for each level."
   ]
  },
  {
   "cell_type": "markdown",
   "id": "f80c8a0f",
   "metadata": {},
   "source": [
    "**ANS:** The concept of levels of measurement, also known as scales of measurement, refers to the different ways in which variables can be quantified or categorized. These levels determine the types of statistical analysis that can be performed on the data. There are four primary levels of measurement:\n",
    "\n",
    "\n",
    "\n",
    "#### **1. `Nominal Level:`**\n",
    "\n",
    "Example: Gender (male, female, non-binary). Each category is distinct and there is no inherent order.\n",
    "\n",
    "#### **2. `Ordinal Level:`**\n",
    "\n",
    "Example: Educational attainment (high school diploma, bachelor's degree, master's degree, doctorate). The levels indicate an order of educational progress but the intervals between each level are not precisely defined.\n",
    "\n",
    "#### **3. `Interval Level:`**\n",
    "\n",
    "Example: Temperature in Celsius or Fahrenheit. The difference between 10°C and 20°C is the same as between 20°C and 30°C, but 0°C does not represent an absence of temperature.\n",
    "\n",
    "#### **4. `Ratio Level:`**\n",
    "\n",
    "Example: Weight (in kilograms). A weight of 0 kg indicates no weight, and the intervals between values are equal.\n",
    "\n"
   ]
  },
  {
   "cell_type": "markdown",
   "id": "1bc3c129",
   "metadata": {},
   "source": [
    "### Q6. Why is it important to understand the level of measurement when analyzing data? Provide an example to illustrate your answer."
   ]
  },
  {
   "cell_type": "markdown",
   "id": "16687893",
   "metadata": {},
   "source": [
    "**ANS:** Understanding the level of measurement when analyzing data is crucial because it determines the types of statistical methods that are appropriate for the data, as well as how the data can be interpreted. Different levels of measurement have different properties and thus require different analytical techniques. Using inappropriate statistical methods can lead to incorrect conclusions. Some reasons why understanding Levels of Measurement is Important are as follows:\n",
    "\n",
    "1. **`Appropriate Statistical Tests`**: Different levels of measurement dictate which statistical tests can be applied. For example, mean and standard deviation are meaningful for interval and ratio data but not for nominal or ordinal data.\n",
    "\n",
    "\n",
    "2. **`Interpretation of Results`**:  The way results are interpreted depends on the level of measurement. For example, saying that the average gender is not meaningful because gender is a nominal variable.\n",
    "\n",
    "\n",
    "3. **`Data Transformation`**: Some statistical methods require data to be transformed into a different level of measurement. For instance, non-parametric tests are used for ordinal data because they do not assume a normal distribution.\n",
    "\n",
    "\n",
    "4. **`Validity of Conclusions`**: Using inappropriate methods for the level of measurement can lead to invalid or misleading conclusions. For instance, applying linear regression to nominal data does not make sense and would lead to incorrect predictions.\n",
    "\n",
    "\n",
    "**`Example`**: Analyzing Customer Satisfaction Survey Data\n",
    "\n",
    "Suppose a company conducts a customer satisfaction survey with the following question:\n",
    "\"How satisfied are you with our service?\"\n",
    "- Very Unsatisfied\n",
    "- Unsatisfied\n",
    "- Neutral\n",
    "- Satisfied\n",
    "- Very Satisfied\n",
    "\n",
    "This data is ordinal because the responses have a meaningful order but the intervals between responses are not necessarily equal."
   ]
  },
  {
   "cell_type": "markdown",
   "id": "96e7586e",
   "metadata": {},
   "source": [
    "### Q7. How nominal data type is different from ordinal data type."
   ]
  },
  {
   "cell_type": "markdown",
   "id": "6453f6ee",
   "metadata": {},
   "source": [
    "**ANS:** Nominal and ordinal data are both types of qualitative (categorical) data, but they have distinct characteristics that differentiate them. Some of the differences are as follows:\n",
    "\n",
    "\n",
    "1. **`Defination`**:\n",
    "    - **Nominal Data**: Nominal data represents categories or labels that have no inherent order or ranking among them.\n",
    "    - **Ordinal Data**: Ordinal data represents categories that have a meaningful order or ranking among them, but the intervals between the categories are not necessarily equal or known.\n",
    "\n",
    "\n",
    "2. **`Order`**:\n",
    "   - **Nominal Data**: No order or ranking among categories.\n",
    "   - **Ordinal Data**: Categories have a meaningful order or ranking.\n",
    "\n",
    "\n",
    "3. **`Intervals`**:\n",
    "   - **Nominal Data**: No information about intervals or distances between categories.\n",
    "   - **Ordinal Data**: Order is known, but intervals between categories are not necessarily equal or known.\n",
    "\n",
    "\n",
    "4. **`Examples`**:\n",
    "   - **Nominal Data**: Types of fruit (apple, banana, cherry).\n",
    "   - **Ordinal Data**: Movie ratings (poor, fair, good, excellent).\n",
    "\n",
    "\n",
    "5. **`Statistical Analysis`**:\n",
    "   - **Nominal Data**: Limited to frequency counts, mode, chi-square tests for independence.\n",
    "   - **Ordinal Data**: Can use non-parametric tests like Mann-Whitney U test, Kruskal-Wallis test, median, and mode.\n"
   ]
  },
  {
   "cell_type": "markdown",
   "id": "734dbfa6",
   "metadata": {},
   "source": [
    "### Q8. Which type of plot can be used to display data in terms of range?"
   ]
  },
  {
   "cell_type": "markdown",
   "id": "d54ad009",
   "metadata": {},
   "source": [
    "**ANS:** To display data in terms of range, a **`box plot`** (also known as a `box-and-whisker plot`) is often used. This type of plot effectively visualizes the distribution of a dataset, including its range, quartiles, and potential outliers. Some of the Key features and an Example of a box plot are as follows:\n",
    "\n",
    "\n",
    "#### a. **`Box Plot Features:`**\n",
    "\n",
    "1. **Minimum and Maximum**: The \"whiskers\" of the box plot extend to the smallest and largest values in the dataset (excluding outliers).\n",
    "2. **Interquartile Range (IQR)**: The box itself spans from the first quartile (Q1) to the third quartile (Q3), representing the middle 50% of the data.\n",
    "3. **Median**: A line inside the box indicates the median (Q2) of the data.\n",
    "4. **Outliers**: Individual points outside the whiskers may indicate outliers, often plotted as individual dots.\n",
    "\n",
    "\n",
    "#### b. **`Example:`**\n",
    "\n",
    "Suppose you have a dataset of exam scores for a class:\n",
    "\n",
    "**Scores: [65, 70, 72, 75, 78, 80, 85, 88, 90, 92, 95, 98, 100]**\n",
    "\n",
    "A box plot for this dataset would show:\n",
    "- **Minimum score** (excluding outliers)\n",
    "- **First quartile (Q1)**: The 25th percentile score\n",
    "- **Median (Q2)**: The 50th percentile score\n",
    "- **Third quartile (Q3)**: The 75th percentile score\n",
    "- **Maximum score** (excluding outliers)\n",
    "- Any scores significantly outside the range as an **outlier**\n"
   ]
  },
  {
   "cell_type": "markdown",
   "id": "2a4e9ce7",
   "metadata": {},
   "source": [
    "### Q9. Describe the difference between descriptive and inferential statistics. Give an example of each type of statistics and explain how they are used."
   ]
  },
  {
   "cell_type": "markdown",
   "id": "ac9a5756",
   "metadata": {},
   "source": [
    "**ANS:** Difference between `Descriptive Statistics` and `Inferential Statistics` are as follows:\n",
    "\n",
    "1. **`Definition`**:\n",
    "   - **Descriptive Statistics**: Descriptive statistics involves summarizing and organizing data to describe its main features. It provides simple summaries about the sample and the measures, without drawing conclusions beyond the data itself.\n",
    "   - **Inferential Statistics**: Inferential statistics involves making predictions or inferences about a population based on a sample of data drawn from that population. It goes beyond the immediate data to make generalizations and test hypotheses.\n",
    "\n",
    "\n",
    "\n",
    "2. **`Purpose`**:\n",
    "   - **Descriptive Statistics**: To describe and summarize data.\n",
    "   - **Inferential Statistics**: To make inferences about a population based on sample data.\n",
    "\n",
    "\n",
    "3. **`Scope`**:\n",
    "   - **Descriptive Statistics**: Focused on the sample data at hand.\n",
    "   - **Inferential Statistics**: Aims to generalize findings from the sample to the larger population.\n",
    "\n",
    "\n",
    "4. **`Techniques`**:\n",
    "   - **Descriptive Statistics**: Mean, median, mode, standard deviation, histograms, etc.\n",
    "   - **Inferential Statistics**: Hypothesis testing, confidence intervals, regression analysis, etc.\n",
    "\n",
    "\n",
    "5. **`Examples`**:\n",
    "   - **Descriptive Statistics**: Calculating the average age of participants in a survey.\n",
    "   - **Inferential Statistics**: Using survey data to estimate the average age of all individuals in the population.\n",
    "\n"
   ]
  },
  {
   "cell_type": "markdown",
   "id": "06cf16c3",
   "metadata": {},
   "source": [
    "### Q10. What are some common measures of central tendency and variability used in statistics? Explain how each measure can be used to describe a dataset."
   ]
  },
  {
   "cell_type": "markdown",
   "id": "356f2d65",
   "metadata": {},
   "source": [
    "**ANS:** Measures of central tendency and measures of variability are used to summarize and describe the main characteristics of a dataset. These measures provide insights into the data's center point and the spread of the data values, respectively.\n",
    "\n",
    "#### **`Measures of Central Tendency:`**\n",
    "\n",
    "1. **Mean:**  The mean is the sum of all data values divided by the number of values.\n",
    "   - **Use**: The mean is used to determine the central value of a dataset. It is sensitive to outliers, which can skew the mean if the dataset contains extreme values.\n",
    "\n",
    "\n",
    "2. **Median:**  The median is the middle value when the data values are arranged in ascending or descending order.\n",
    "   - **Use**: The median is used to find the central value of a dataset, particularly useful when the dataset has outliers, as it is not affected by extreme values.\n",
    "\n",
    "\n",
    "3. **Mode:** The mode is the most frequently occurring value in a dataset.\n",
    "   - **Use**: The mode is used to identify the most common value(s) in the dataset. It is particularly useful for categorical data.\n",
    "\n",
    "\n",
    "#### **`Measures of Variability (Dispersion)`**\n",
    "\n",
    "1. **Range:**  The range is the difference between the maximum and minimum values in a dataset.\n",
    "    - **Use**: The range provides a quick sense of the spread of the data but is sensitive to outliers.\n",
    "    \n",
    "    \n",
    "    \n",
    "2. **Variance:**  Variance measures the average squared deviation of each data point from the mean.\n",
    "   - **Use**: Variance is used to quantify the degree of spread in a dataset. A higher variance indicates greater dispersion.\n",
    "\n",
    "\n",
    "3. **Standard Deviation:** The standard deviation is the square root of the variance and measures the average distance of each data point from the mean.\n",
    "   - **Use**: Standard deviation is used to quantify the amount of variation or dispersion in a dataset. It is in the same units as the data, making it more interpretable than variance.\n",
    "\n",
    "\n",
    "\n",
    "\n",
    "4. **Interquartile Range:**  The IQR is the range of the middle 50% of the data, calculated as the difference between the third quartile (Q3) and the first quartile (Q1).\n",
    "   - **Use**: The IQR is used to measure the spread of the middle portion of the data, providing a measure of variability that is less affected by outliers.\n",
    "   \n"
   ]
  }
 ],
 "metadata": {
  "kernelspec": {
   "display_name": "Python 3 (ipykernel)",
   "language": "python",
   "name": "python3"
  },
  "language_info": {
   "codemirror_mode": {
    "name": "ipython",
    "version": 3
   },
   "file_extension": ".py",
   "mimetype": "text/x-python",
   "name": "python",
   "nbconvert_exporter": "python",
   "pygments_lexer": "ipython3",
   "version": "3.9.13"
  }
 },
 "nbformat": 4,
 "nbformat_minor": 5
}
