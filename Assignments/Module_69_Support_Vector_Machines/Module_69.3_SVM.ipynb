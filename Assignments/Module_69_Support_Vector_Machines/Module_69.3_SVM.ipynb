{
 "cells": [
  {
   "cell_type": "markdown",
   "metadata": {},
   "source": [
    "# Assignment (8th April) : Support Vector Machines - 3"
   ]
  },
  {
   "cell_type": "markdown",
   "metadata": {},
   "source": [
    "### Q1. In order to predict house price based on several characteristics, such as location, square footage, number of bedrooms, etc., you are developing an SVM regression model. Which regression metric in this situation would be the best to employ?\n",
    "\n",
    "**ANS**: For predicting `house prices`, `Mean Absolute Error (MAE)` is a good choice because:\n",
    "- It measures the average magnitude of errors in predictions, which makes it easy to interpret directly in terms of price (e.g., dollars).\n",
    "- MAE is robust to outliers and provides an easily understandable value representing the average error in predictions.\n",
    "\n",
    "Thus, MAE would be ideal for straightforward, interpretable error measurement in house price prediction."
   ]
  },
  {
   "cell_type": "markdown",
   "metadata": {},
   "source": [
    "### Q2. You have built an SVM regression model and are trying to decide between using MSE or R-squared as your evaluation metric. Which metric would be more appropriate if your goal is to predict the actual price of a house as accurately as possible?\n",
    "\n",
    "**ANS**: If the goal is to `predict the actual price of a house as accurately as possible`, then `Mean Squared Error (MSE)` is more appropriate because:\n",
    "- MSE penalizes larger errors more than smaller ones, thus pushing the model to improve accuracy, particularly in cases with significant deviations.\n",
    "- It directly measures the average squared difference between predicted and actual values, which aligns with minimizing prediction errors.\n",
    "\n",
    "Therefore, MSE is preferable here as it emphasizes accuracy in absolute price predictions."
   ]
  },
  {
   "cell_type": "markdown",
   "metadata": {},
   "source": [
    "### Q3. You have a dataset with a significant number of outliers and are trying to select an appropriate regression metric to use with your SVM model. Which metric would be the most appropriate in this scenario?\n",
    "\n",
    "**ANS**: In the presence of significant `outliers`, `Median Absolute Error (MedAE)` or `Mean Absolute Error (MAE)` are good choices:\n",
    "- `MedAE`: This metric is particularly robust to outliers because it calculates the median of the absolute errors, focusing on the middle of the error distribution and disregarding extreme values.\n",
    "- `MAE`: Although not as robust as MedAE, it is still less sensitive to outliers than MSE and RMSE.\n",
    "\n",
    "Here, MedAE is generally the most suitable choice, given its strong resistance to outliers.\n"
   ]
  },
  {
   "cell_type": "markdown",
   "metadata": {},
   "source": [
    "### Q4. You have built an SVM regression model using a polynomial kernel and are trying to select the best metric to evaluate its performance. You have calculated both MSE and RMSE and found that both values are very close. Which metric should you choose to use in this case?\n",
    "\n",
    "**ANS**: If `MSE and RMSE values are very close`, then `Root Mean Squared Error (RMSE)` is preferred because:\n",
    "- RMSE is in the same unit as the target variable (house price), making it easier to interpret in practical terms.\n",
    "- It is helpful for understanding typical prediction errors without the squaring effect present in MSE, which can sometimes exaggerate error magnitudes.\n",
    "\n",
    "Thus, RMSE would be the best choice for a straightforward interpretation of prediction errors.\n"
   ]
  },
  {
   "cell_type": "markdown",
   "metadata": {},
   "source": [
    "### Q5. You are comparing the performance of different SVM regression models using different kernels (linear, polynomial, and RBF) and are trying to select the best evaluation metric. Which metric would be most appropriate if your goal is to measure how well the model explains the variance in the target variable?\n",
    "\n",
    "**ANS**: To measure how well the model explains the variance in the target variable, `R-squared (R²)` is the most appropriate metric because:\n",
    "- R² indicates the proportion of the variance in the target variable that is predictable from the features, providing insight into the model's explanatory power.\n",
    "- It helps compare models directly, especially when using different kernels, as it reflects how well each model accounts for data variability.\n",
    "\n",
    "Therefore, R-squared is the best metric to evaluate the model's ability to explain the variance in the target variable."
   ]
  }
 ],
 "metadata": {
  "language_info": {
   "name": "python"
  }
 },
 "nbformat": 4,
 "nbformat_minor": 2
}
