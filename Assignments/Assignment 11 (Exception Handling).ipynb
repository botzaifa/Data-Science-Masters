{
 "cells": [
  {
   "cell_type": "markdown",
   "id": "a7aad792",
   "metadata": {},
   "source": [
    "# Assignment - 11 (Exception Handling)"
   ]
  },
  {
   "cell_type": "markdown",
   "id": "24a74b9c",
   "metadata": {},
   "source": [
    "### Q1. What is an exception in python? Write the difference between Exceptions and syntax errors"
   ]
  },
  {
   "cell_type": "markdown",
   "id": "fc067cc0",
   "metadata": {},
   "source": [
    "ANS: Exception is an event that occurs during the execution of a program, which disrupts the normal flow of the program's instructions. When an exception occurs, the program stops executing its current statements and jumps to a special block of code called an exception handler.\n",
    "\n",
    "The difference between exceptions and syntax errors is:\n",
    "\n",
    "1. Syntax errors: These errors occur when there is a mistake in the way the code is written. They are detected by the Python interpreter before the program starts running. Syntax errors need to be fixed in the code itself to conform to the language's syntax rules.\n",
    "\n",
    "2. Exceptions: Exceptions are errors or exceptional conditions that happen while the program is running. They are detected during the execution of the program when the interpreter encounters a situation it cannot handle. Exceptions can be managed and handled within the program using exception handling mechanisms like try-except blocks, allowing the program to respond to errors and continue running if appropriate error handling is implemented."
   ]
  },
  {
   "cell_type": "markdown",
   "id": "c017826e",
   "metadata": {},
   "source": [
    "### Q2. What happens when an exception is not handled? Explain with an example."
   ]
  },
  {
   "cell_type": "markdown",
   "id": "348cf5b8",
   "metadata": {},
   "source": [
    "ANS: When an exception is not handled in Python, it leads to the termination of the program's execution and an error message is displayed. This error message includes information about the type of exception that occurred, along with a traceback that shows the sequence of function calls and code lines that led to the exception."
   ]
  },
  {
   "cell_type": "code",
   "execution_count": 2,
   "id": "58d3c587",
   "metadata": {},
   "outputs": [
    {
     "ename": "ZeroDivisionError",
     "evalue": "division by zero",
     "output_type": "error",
     "traceback": [
      "\u001b[1;31m---------------------------------------------------------------------------\u001b[0m",
      "\u001b[1;31mZeroDivisionError\u001b[0m                         Traceback (most recent call last)",
      "\u001b[1;32m~\\AppData\\Local\\Temp\\ipykernel_20984\\3900813198.py\u001b[0m in \u001b[0;36m<module>\u001b[1;34m\u001b[0m\n\u001b[0;32m      7\u001b[0m \u001b[0mnum2\u001b[0m \u001b[1;33m=\u001b[0m \u001b[1;36m0\u001b[0m\u001b[1;33m\u001b[0m\u001b[1;33m\u001b[0m\u001b[0m\n\u001b[0;32m      8\u001b[0m \u001b[1;33m\u001b[0m\u001b[0m\n\u001b[1;32m----> 9\u001b[1;33m \u001b[0mresult\u001b[0m \u001b[1;33m=\u001b[0m \u001b[0mdivide_numbers\u001b[0m\u001b[1;33m(\u001b[0m\u001b[0mnum1\u001b[0m\u001b[1;33m,\u001b[0m \u001b[0mnum2\u001b[0m\u001b[1;33m)\u001b[0m\u001b[1;33m\u001b[0m\u001b[1;33m\u001b[0m\u001b[0m\n\u001b[0m\u001b[0;32m     10\u001b[0m \u001b[0mprint\u001b[0m\u001b[1;33m(\u001b[0m\u001b[0mresult\u001b[0m\u001b[1;33m)\u001b[0m\u001b[1;33m\u001b[0m\u001b[1;33m\u001b[0m\u001b[0m\n",
      "\u001b[1;32m~\\AppData\\Local\\Temp\\ipykernel_20984\\3900813198.py\u001b[0m in \u001b[0;36mdivide_numbers\u001b[1;34m(a, b)\u001b[0m\n\u001b[0;32m      1\u001b[0m \u001b[1;31m# For example:\u001b[0m\u001b[1;33m\u001b[0m\u001b[1;33m\u001b[0m\u001b[0m\n\u001b[0;32m      2\u001b[0m \u001b[1;32mdef\u001b[0m \u001b[0mdivide_numbers\u001b[0m\u001b[1;33m(\u001b[0m\u001b[0ma\u001b[0m\u001b[1;33m,\u001b[0m \u001b[0mb\u001b[0m\u001b[1;33m)\u001b[0m\u001b[1;33m:\u001b[0m\u001b[1;33m\u001b[0m\u001b[1;33m\u001b[0m\u001b[0m\n\u001b[1;32m----> 3\u001b[1;33m     \u001b[0mresult\u001b[0m \u001b[1;33m=\u001b[0m \u001b[0ma\u001b[0m \u001b[1;33m/\u001b[0m \u001b[0mb\u001b[0m\u001b[1;33m\u001b[0m\u001b[1;33m\u001b[0m\u001b[0m\n\u001b[0m\u001b[0;32m      4\u001b[0m     \u001b[1;32mreturn\u001b[0m \u001b[0mresult\u001b[0m\u001b[1;33m\u001b[0m\u001b[1;33m\u001b[0m\u001b[0m\n\u001b[0;32m      5\u001b[0m \u001b[1;33m\u001b[0m\u001b[0m\n",
      "\u001b[1;31mZeroDivisionError\u001b[0m: division by zero"
     ]
    }
   ],
   "source": [
    "# For example:\n",
    "def divide_numbers(a, b):\n",
    "    result = a / b\n",
    "    return result\n",
    "\n",
    "num1 = 10\n",
    "num2 = 0\n",
    "\n",
    "result = divide_numbers(num1, num2)\n",
    "print(result)"
   ]
  },
  {
   "cell_type": "markdown",
   "id": "93ee422f",
   "metadata": {},
   "source": [
    "### Q3. Which Python statements are used to catch and handle exceptions? Explain with an example."
   ]
  },
  {
   "cell_type": "markdown",
   "id": "ee44773b",
   "metadata": {},
   "source": [
    "ANS: The try and except statements are used to catch and handle exceptions. The try block contains the code that might raise an exception, while the except block specifies the actions to be taken if a particular exception is encountered."
   ]
  },
  {
   "cell_type": "code",
   "execution_count": 3,
   "id": "6f7873b1",
   "metadata": {},
   "outputs": [
    {
     "name": "stdout",
     "output_type": "stream",
     "text": [
      "Error: Division by zero is not allowed.\n"
     ]
    }
   ],
   "source": [
    "def divide_numbers(a, b):\n",
    "    try:\n",
    "        result = a / b\n",
    "        return result\n",
    "    except ZeroDivisionError:\n",
    "        print(\"Error: Division by zero is not allowed.\")\n",
    "        return None\n",
    "\n",
    "num1 = 10\n",
    "num2 = 0\n",
    "\n",
    "result = divide_numbers(num1, num2)\n",
    "if result is not None:\n",
    "    print(result)"
   ]
  },
  {
   "cell_type": "markdown",
   "id": "72da4eb6",
   "metadata": {},
   "source": [
    "### Q4. Explain with an example: 1. try and else 2. Finally 3. Raise"
   ]
  },
  {
   "cell_type": "markdown",
   "id": "d4b4f093",
   "metadata": {},
   "source": [
    "ANS:\n",
    "1. Else: The else block is used along with the try-except statement to specify code that should be executed if no exception occurs in the try block. It provides a way to distinguish between the code that can potentially raise an exception and the code that should be executed only when no exception occurs."
   ]
  },
  {
   "cell_type": "code",
   "execution_count": 4,
   "id": "bdf15d32",
   "metadata": {},
   "outputs": [
    {
     "name": "stdout",
     "output_type": "stream",
     "text": [
      "The division result is: 2.0\n"
     ]
    }
   ],
   "source": [
    "def divide_numbers(a, b):\n",
    "    try:\n",
    "        result = a / b\n",
    "    except ZeroDivisionError:\n",
    "        print(\"Error: Division by zero is not allowed.\")\n",
    "    else:\n",
    "        print(\"The division result is:\", result)\n",
    "\n",
    "num1 = 10\n",
    "num2 = 5\n",
    "\n",
    "divide_numbers(num1, num2)"
   ]
  },
  {
   "cell_type": "markdown",
   "id": "da20c887",
   "metadata": {},
   "source": [
    "2. The finally block is used in conjunction with the try-except statement and allows you to specify code that will be executed regardless of whether an exception occurred or not. It ensures that certain cleanup or finalization tasks are performed, such as closing files or releasing resources, regardless of the outcome."
   ]
  },
  {
   "cell_type": "code",
   "execution_count": 5,
   "id": "0fd6f409",
   "metadata": {},
   "outputs": [
    {
     "name": "stdout",
     "output_type": "stream",
     "text": [
      "Error: Division by zero is not allowed.\n",
      "Division operation complete.\n"
     ]
    }
   ],
   "source": [
    "def divide_numbers(a, b):\n",
    "    try:\n",
    "        result = a / b\n",
    "        print(\"The division result is:\", result)\n",
    "    except ZeroDivisionError:\n",
    "        print(\"Error: Division by zero is not allowed.\")\n",
    "    finally:\n",
    "        print(\"Division operation complete.\")\n",
    "\n",
    "num1 = 10\n",
    "num2 = 0\n",
    "\n",
    "divide_numbers(num1, num2)"
   ]
  },
  {
   "cell_type": "markdown",
   "id": "ce1e04fe",
   "metadata": {},
   "source": [
    "3. The raise statement is used to explicitly raise an exception in Python. It allows you to generate and throw custom exceptions when certain conditions are met. By raising an exception, you can signal errors or exceptional conditions in your code."
   ]
  },
  {
   "cell_type": "code",
   "execution_count": 6,
   "id": "c6f3a523",
   "metadata": {},
   "outputs": [
    {
     "name": "stdout",
     "output_type": "stream",
     "text": [
      "Error: Age must be 18 or above.\n"
     ]
    }
   ],
   "source": [
    "def validate_age(age):\n",
    "    if age < 18:\n",
    "        raise ValueError(\"Age must be 18 or above.\")\n",
    "    else:\n",
    "        print(\"Age is valid.\")\n",
    "\n",
    "user_age = 15\n",
    "\n",
    "try:\n",
    "    validate_age(user_age)\n",
    "except ValueError as e:\n",
    "    print(\"Error:\", str(e))"
   ]
  },
  {
   "cell_type": "markdown",
   "id": "a46866cc",
   "metadata": {},
   "source": [
    "### Q5. What are custom exception in python? Why do we need custom exceptions? Explain with an example."
   ]
  },
  {
   "cell_type": "markdown",
   "id": "9e1b2f21",
   "metadata": {},
   "source": [
    "ANS: Custom exceptions are user-defined exceptions that allow you to create your own specific exception classes. These classes inherit from the base Exception class or its subclasses, providing you with the ability to define and handle exceptions that are tailored to your application's needs.\n",
    "\n",
    "1. Specific Error Handling\n",
    "2. Code Readability and Maintainability\n",
    "3. Seperation of concerns"
   ]
  },
  {
   "cell_type": "code",
   "execution_count": 7,
   "id": "f1ab6265",
   "metadata": {},
   "outputs": [
    {
     "name": "stdout",
     "output_type": "stream",
     "text": [
      "Error: Insufficient balance. Available balance: 1000. Required amount: 1500\n",
      "Available balance: 1000\n",
      "Required amount: 1500\n"
     ]
    }
   ],
   "source": [
    "class InsufficientBalanceError(Exception):\n",
    "    def __init__(self, balance, amount):\n",
    "        super().__init__(f\"Insufficient balance. Available balance: {balance}. Required amount: {amount}\")\n",
    "        self.balance = balance\n",
    "        self.amount = amount\n",
    "\n",
    "    def get_balance(self):\n",
    "        return self.balance\n",
    "\n",
    "    def get_required_amount(self):\n",
    "        return self.amount\n",
    "\n",
    "def withdraw(balance, amount):\n",
    "    if amount > balance:\n",
    "        raise InsufficientBalanceError(balance, amount)\n",
    "    else:\n",
    "        print(\"Withdrawal successful.\")\n",
    "\n",
    "account_balance = 1000\n",
    "withdraw_amount = 1500\n",
    "\n",
    "try:\n",
    "    withdraw(account_balance, withdraw_amount)\n",
    "except InsufficientBalanceError as e:\n",
    "    print(\"Error:\", str(e))\n",
    "    print(\"Available balance:\", e.get_balance())\n",
    "    print(\"Required amount:\", e.get_required_amount())"
   ]
  },
  {
   "cell_type": "markdown",
   "id": "3df6fc2e",
   "metadata": {},
   "source": [
    "### Q6. Create a custom exception class. Use this class to handle an exception"
   ]
  },
  {
   "cell_type": "code",
   "execution_count": 8,
   "id": "3f61bfcf",
   "metadata": {},
   "outputs": [
    {
     "name": "stdout",
     "output_type": "stream",
     "text": [
      "Error: Invalid input: abc\n",
      "Invalid input value: abc\n"
     ]
    }
   ],
   "source": [
    "class InvalidInputError(Exception):\n",
    "    def __init__(self, input_value):\n",
    "        super().__init__(f\"Invalid input: {input_value}\")\n",
    "        self.input_value = input_value\n",
    "\n",
    "    def get_input_value(self):\n",
    "        return self.input_value\n",
    "\n",
    "\n",
    "def process_input(input_value):\n",
    "    if not isinstance(input_value, int):\n",
    "        raise InvalidInputError(input_value)\n",
    "    else:\n",
    "        print(\"Input processing successful.\")\n",
    "\n",
    "\n",
    "try:\n",
    "    user_input = \"abc\"\n",
    "    process_input(user_input)\n",
    "except InvalidInputError as e:\n",
    "    print(\"Error:\", str(e))\n",
    "    print(\"Invalid input value:\", e.get_input_value())"
   ]
  },
  {
   "cell_type": "code",
   "execution_count": null,
   "id": "b50dd50f",
   "metadata": {},
   "outputs": [],
   "source": []
  }
 ],
 "metadata": {
  "kernelspec": {
   "display_name": "Python 3 (ipykernel)",
   "language": "python",
   "name": "python3"
  },
  "language_info": {
   "codemirror_mode": {
    "name": "ipython",
    "version": 3
   },
   "file_extension": ".py",
   "mimetype": "text/x-python",
   "name": "python",
   "nbconvert_exporter": "python",
   "pygments_lexer": "ipython3",
   "version": "3.9.13"
  }
 },
 "nbformat": 4,
 "nbformat_minor": 5
}
