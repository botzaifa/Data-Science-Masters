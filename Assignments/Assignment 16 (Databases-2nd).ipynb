{
 "cells": [
  {
   "cell_type": "markdown",
   "id": "ce6866f0",
   "metadata": {},
   "source": [
    "# Assignment-16 (Databases-2nd)"
   ]
  },
  {
   "cell_type": "markdown",
   "id": "c48ce78b",
   "metadata": {},
   "source": [
    "### Q1. What is MongoDB? Explain non-relational databases in short. In which scenarios it is preferred to use MongoDB over SQL databases?"
   ]
  },
  {
   "cell_type": "markdown",
   "id": "2aec45e1",
   "metadata": {},
   "source": [
    "ANS: a)MongoDB is a non-relational, document-oriented database that provides a flexible and scalable approach to storing and managing data. It is designed to handle large volumes of structured, semi-structured, and unstructured data. MongoDB stores data in a format called BSON (Binary JSON), which allows for efficient storage and retrieval of documents.\n",
    "\n",
    "b) Non-relational databases, also known as NoSQL databases, are database systems that do not use the traditional tabular relational model of SQL databases. Instead, they provide flexible schemas and data models that can adapt to changing data structures and requirements.\n",
    "\n",
    "c) MongoDB is preferred over SQL databases in certain scenarios:\n",
    "\n",
    "1. Flexible data models: MongoDB's document-oriented nature allows for flexible schema designs. It can handle semi-structured and unstructured data efficiently, making it suitable for applications with evolving or unpredictable data structures.\n",
    "\n",
    "2. Scalability and performance: MongoDB is designed to scale horizontally across multiple servers, making it a good choice for applications with high write loads and large amounts of data.\n",
    "\n",
    "3. Rapid development and iteration: MongoDB's flexible schema and query language enable developers to quickly iterate and adapt their data models as application requirements change. \n",
    "\n",
    "4. Real-time analytics: MongoDB's query capabilities and aggregation framework make it well-suited for real-time analytics and data processing tasks. "
   ]
  },
  {
   "cell_type": "markdown",
   "id": "6403ec29",
   "metadata": {},
   "source": [
    "### Q2. State and Explain the features of MongoDB."
   ]
  },
  {
   "cell_type": "markdown",
   "id": "b05744c3",
   "metadata": {},
   "source": [
    "ANS: The Prominent features of MongoDB are as Follows:\n",
    "1. Document-oriented model: MongoDB is a document-oriented database, which means it stores data in flexible, JSON-like documents called BSON. Documents can have varying structures and fields, providing flexibility to handle evolving data models.\n",
    "\n",
    "2. Scalability and High Availability: MongoDB is designed to scale horizontally by distributing data across multiple servers or nodes. It supports automatic sharding, allowing for easy distribution of data and workload across the cluster. Replication is built-in, ensuring data redundancy and high availability.\n",
    "\n",
    "3. Indexing and Querying: MongoDB provides efficient indexing mechanisms to support fast query execution. It supports various types of indexes, including single-field, compound, geospatial, and text indexes. MongoDB's query language is rich and expressive, enabling complex queries and aggregations.\n",
    "\n",
    "4. Flexible Schema: MongoDB offers a dynamic schema design, allowing documents in a collection to have different structures and fields. This flexibility makes it suitable for scenarios where data models evolve over time or where the schema is not predefined.\n",
    "\n",
    "5. Replication and Fault Tolerance: MongoDB provides automatic data replication through replica sets. Replica sets consist of multiple copies of data distributed across different nodes, ensuring data redundancy and fault tolerance. If a node fails, the system automatically promotes a replica to the primary role, ensuring high availability.\n",
    "\n",
    "6. Horizontal Scalability: MongoDB can scale horizontally by adding more servers or nodes to a cluster. It allows for seamless distribution of data across multiple nodes, enabling increased capacity and improved performance as the workload grows."
   ]
  },
  {
   "cell_type": "markdown",
   "id": "15213de4",
   "metadata": {},
   "source": [
    "### Q3. Write a code to connect MongoDB to Python. Also, create a database and a collection in MongoDB."
   ]
  },
  {
   "cell_type": "code",
   "execution_count": 1,
   "id": "56ec9580",
   "metadata": {},
   "outputs": [
    {
     "name": "stdout",
     "output_type": "stream",
     "text": [
      "Pinged your deployment. You successfully connected to MongoDB!\n"
     ]
    }
   ],
   "source": [
    "# The Requrired code is:\n",
    "import pymongo\n",
    "\n",
    "# Connect to MongoDB server\n",
    "client = pymongo.MongoClient(\"mongodb://localhost:27017/\")\n",
    "\n",
    "# Create or access a database\n",
    "database = client[\"mydatabase\"]\n",
    "\n",
    "# Create or access a collection\n",
    "collection = database[\"mycollection\"]\n",
    "\n",
    "# Print the list of available databases\n",
    "print(client.list_database_names())"
   ]
  },
  {
   "cell_type": "markdown",
   "id": "1b56eae0",
   "metadata": {},
   "source": [
    "### Q4. Using the database and the collection created in question number 3, write a code to insert one record, and insert many records. Use the find() and find_one() methods to print the inserted record."
   ]
  },
  {
   "cell_type": "code",
   "execution_count": 4,
   "id": "2c94a585",
   "metadata": {},
   "outputs": [
    {
     "name": "stdout",
     "output_type": "stream",
     "text": [
      "Inserted record ID: <inserted_id_of_record_one>\n",
      "Inserted record IDs: [<inserted_id_of_record_two>, <inserted_id_of_record_three>, <inserted_id_of_record_four>]\n",
      "One record: {'_id': ObjectId('...'), 'name': 'John Doe', 'age': 30}\n",
      "All records:\n",
      "{'_id': ObjectId('...'), 'name': 'John Doe', 'age': 30}\n",
      "{'_id': ObjectId('...'), 'name': 'Jane Smith', 'age': 25}\n",
      "{'_id': ObjectId('...'), 'name': 'Bob Johnson', 'age': 35}\n",
      "{'_id': ObjectId('...'), 'name': 'Alice Williams', 'age': 28}\n"
     ]
    }
   ],
   "source": [
    "# Access the database and collection\n",
    "database = client[\"mydatabase\"]\n",
    "collection = database[\"mycollection\"]\n",
    "\n",
    "# Insert one record\n",
    "record_one = {\"name\": \"John Doe\", \"age\": 30}\n",
    "insert_one_result = collection.insert_one(record_one)\n",
    "print(\"Inserted record ID:\", insert_one_result.inserted_id)\n",
    "\n",
    "# Insert multiple records\n",
    "records_many = [\n",
    "    {\"name\": \"Jane Smith\", \"age\": 25},\n",
    "    {\"name\": \"Bob Johnson\", \"age\": 35},\n",
    "    {\"name\": \"Alice Williams\", \"age\": 28}\n",
    "]\n",
    "insert_many_result = collection.insert_many(records_many)\n",
    "print(\"Inserted record IDs:\", insert_many_result.inserted_ids)\n",
    "\n",
    "# Find and print one record\n",
    "one_record = collection.find_one({\"name\": \"John Doe\"})\n",
    "print(\"One record:\", one_record)\n",
    "\n",
    "# Find and print all records\n",
    "all_records = collection.find()\n",
    "print(\"All records:\")\n",
    "for record in all_records:\n",
    "    print(record)"
   ]
  },
  {
   "cell_type": "markdown",
   "id": "3df001c9",
   "metadata": {},
   "source": [
    "### Q5. Explain how you can use the find() method to query the MongoDB database. Write a simple code to demonstrate this."
   ]
  },
  {
   "cell_type": "markdown",
   "id": "cc62160a",
   "metadata": {},
   "source": [
    "ANS: To use the 'find()' method, you call it on a collection object and provide a query document as an argument. The query document specifies the conditions that the returned documents must match. MongoDB uses the query document to match fields and values in the documents within the collection."
   ]
  },
  {
   "cell_type": "code",
   "execution_count": 8,
   "id": "5d86823f",
   "metadata": {},
   "outputs": [
    {
     "name": "stdout",
     "output_type": "stream",
     "text": [
      "{'name': 'John Doe', 'age': 30}\n",
      "{'name': 'Bob Johnson', 'age': 35}\n",
      "{'name': 'Alice Williams', 'age': 28}\n"
     ]
    }
   ],
   "source": [
    "# Required Code:\n",
    "client = pymongo.MongoClient(\"mongodb://localhost:27017/\")\n",
    "\n",
    "# Access the database and collection\n",
    "database = client[\"mydatabase\"]\n",
    "collection = database[\"mycollection\"]\n",
    "\n",
    "# Find documents matching a query\n",
    "query = {\"age\": {\"$gt\": 25}}\n",
    "projection = {\"_id\": 0, \"name\": 1, \"age\": 1}\n",
    "\n",
    "results = collection.find(query, projection)\n",
    "\n",
    "# Print the matched documents\n",
    "for doc in results:\n",
    "    print(doc)"
   ]
  },
  {
   "cell_type": "markdown",
   "id": "4ffd4dd5",
   "metadata": {},
   "source": [
    "### Q6. Explain the sort() method. Give an example to demonstrate sorting in MongoDB."
   ]
  },
  {
   "cell_type": "markdown",
   "id": "065d58f3",
   "metadata": {},
   "source": [
    "ANS: The sort() method in MongoDB is used to sort the result of a query in ascending or descending order based on one or more fields. It allows you to specify the sorting criteria to arrange the returned documents in a particular order."
   ]
  },
  {
   "cell_type": "code",
   "execution_count": 11,
   "id": "cec41832",
   "metadata": {},
   "outputs": [
    {
     "name": "stdout",
     "output_type": "stream",
     "text": [
      "{'_id': ObjectId('...'), 'name': 'Jane Smith', 'age': 25}\n",
      "{'_id': ObjectId('...'), 'name': 'Alice Williams', 'age': 28}\n",
      "{'_id': ObjectId('...'), 'name': 'John Doe', 'age': 30}\n",
      "{'_id': ObjectId('...'), 'name': 'Bob Johnson', 'age': 35}\n"
     ]
    }
   ],
   "source": [
    "# Required code:\n",
    "client = pymongo.MongoClient(\"mongodb://localhost:27017/\")\n",
    "\n",
    "# Access the database and collection\n",
    "database = client[\"mydatabase\"]\n",
    "collection = database[\"mycollection\"]\n",
    "\n",
    "# Sort documents based on a field\n",
    "sorting = [(\"age\", pymongo.ASCENDING)]  \n",
    "\n",
    "results = collection.find().sort(sorting)\n",
    "\n",
    "# Print the sorted documents\n",
    "for doc in results:\n",
    "    print(doc)"
   ]
  },
  {
   "cell_type": "markdown",
   "id": "27ad5cc6",
   "metadata": {},
   "source": [
    "### Q7. Explain why delete_one(), delete_many(), and drop() is used."
   ]
  },
  {
   "cell_type": "markdown",
   "id": "d15c3e4e",
   "metadata": {},
   "source": [
    "ANS: The delete_one(), delete_many(), and drop() methods in MongoDB are used to remove documents or collections from a database.\n",
    "1. delete_one(): This method is used to delete a single document that matches a specified filter. It removes the first document that satisfies the filter criteria and stops further processing. If multiple documents match the filter, only the first one encountered will be deleted.\n",
    "2. delete_many(): This method is used to delete multiple documents that match a specified filter. It removes all documents that satisfy the filter criteria.\n",
    "3. drop(): This method is used to remove an entire collection from a database. It permanently deletes the collection and all its documents."
   ]
  }
 ],
 "metadata": {
  "kernelspec": {
   "display_name": "Python 3 (ipykernel)",
   "language": "python",
   "name": "python3"
  },
  "language_info": {
   "codemirror_mode": {
    "name": "ipython",
    "version": 3
   },
   "file_extension": ".py",
   "mimetype": "text/x-python",
   "name": "python",
   "nbconvert_exporter": "python",
   "pygments_lexer": "ipython3",
   "version": "3.9.13"
  }
 },
 "nbformat": 4,
 "nbformat_minor": 5
}
