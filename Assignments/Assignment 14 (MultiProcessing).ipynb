{
 "cells": [
  {
   "cell_type": "markdown",
   "id": "6ae0f80b",
   "metadata": {},
   "source": [
    "# Assignment-14 (MultiProcessing)"
   ]
  },
  {
   "cell_type": "markdown",
   "id": "020886be",
   "metadata": {},
   "source": [
    "### Q1. What is multiprocessing in python? Why is it useful?"
   ]
  },
  {
   "cell_type": "markdown",
   "id": "a988aeb7",
   "metadata": {},
   "source": [
    "ANS: Multiprocessing is a module that allows you to run multiple processes concurrently, taking advantage of multiple CPUs or processor cores. It provides a way to parallelize the execution of code, enabling faster execution and improved performance for computationally intensive tasks.\n",
    "It is useful because:\n",
    "1. Parallel Execution: Multiple processes can work concurrently, utilizing the full potential of multi-core systems and reducing the overall execution time for CPU-bound tasks.\n",
    "\n",
    "2. Improved Performance: By taking advantage of multiple CPUs or cores, multiprocessing can significantly enhance the performance of computationally intensive operations.\n",
    "\n",
    "3. Increased Throughput: The ability to run tasks in parallel can improve the throughput of your applications, allowing you to process more data or handle more requests simultaneously.\n",
    "\n",
    "4. Simplified Programming Model: The multiprocessing module provides a high-level API that abstracts away the complexities of inter-process communication and synchronization, making it easier to write parallel code."
   ]
  },
  {
   "cell_type": "markdown",
   "id": "2f489941",
   "metadata": {},
   "source": [
    "### Q2. What are the differences between multiprocessing and multithreading?"
   ]
  },
  {
   "cell_type": "markdown",
   "id": "a7af8274",
   "metadata": {},
   "source": [
    "ANS:The difference between Multiprocessing and MultiThreading are:\n",
    "\n",
    "a) Multiprocessing:\n",
    "1. Uses multiple processes.\n",
    "2. Enables true parallel execution on multiple CPUs or cores.\n",
    "3. Each process has its own memory space.\n",
    "4. Communication between processes requires IPC mechanisms.\n",
    "5. Suitable for CPU-bound tasks.\n",
    "\n",
    "b)Multithreading:\n",
    "1. Uses multiple threads within a single process.\n",
    "2. Does not enable true parallel execution due to the GIL.\n",
    "3. Threads share the same memory space.\n",
    "4. Communication between threads is direct but requires synchronization.\n",
    "5. Suitable for IO-bound tasks."
   ]
  },
  {
   "cell_type": "markdown",
   "id": "cfc4f0fa",
   "metadata": {},
   "source": [
    "### Q3. Write a python code to create a process using the multiprocessing module."
   ]
  },
  {
   "cell_type": "code",
   "execution_count": 1,
   "id": "7802d37d",
   "metadata": {},
   "outputs": [
    {
     "name": "stdout",
     "output_type": "stream",
     "text": [
      "Main process completed.\n"
     ]
    }
   ],
   "source": [
    "import multiprocessing\n",
    "\n",
    "def my_process():\n",
    "    \"\"\"Function to be executed by the process\"\"\"\n",
    "    print(\"This is a child process.\")\n",
    "\n",
    "if __name__ == '__main__':\n",
    "    process = multiprocessing.Process(target=my_process)\n",
    "    process.start()\n",
    "    process.join()\n",
    "    print(\"Main process completed.\")"
   ]
  },
  {
   "cell_type": "markdown",
   "id": "048a93b0",
   "metadata": {},
   "source": [
    "### Q4.  What is a multiprocessing pool in python? Why is it used?"
   ]
  },
  {
   "cell_type": "markdown",
   "id": "04c472a8",
   "metadata": {},
   "source": [
    "ANS: The 'multiprocessing.Pool' class is used to create a pool of worker processes. It internally manages a queue of tasks and automatically assigns those tasks to the available worker processes in the pool. The pool handles the creation, management, and coordination of the processes, making it easier to parallelize work without explicitly dealing with the details of process creation and communication. It is used for:\n",
    "1. Performance Improvement\n",
    "2. Workload distribution\n",
    "3. Simplicity and Abstraction\n",
    "4. Resource Utilization."
   ]
  },
  {
   "cell_type": "markdown",
   "id": "8ddfeabf",
   "metadata": {},
   "source": [
    "### Q5. How can we create a pool of worker processes in python using the multiprocessing module?"
   ]
  },
  {
   "cell_type": "code",
   "execution_count": 2,
   "id": "945683fd",
   "metadata": {},
   "outputs": [
    {
     "name": "stdout",
     "output_type": "stream",
     "text": [
      "[2, 4, 6, 8, 10]\n"
     ]
    }
   ],
   "source": [
    "# We can create a pool of worker processes using the multiprocessing module in the following way:\n",
    "import multiprocessing\n",
    "\n",
    "def worker_function(task):\n",
    "    \"\"\"Function to be executed by worker processes\"\"\"\n",
    "    result = task * 2\n",
    "    return result\n",
    "\n",
    "if __name__ == '__main__':\n",
    "    # Create a Pool object with the desired number of processes\n",
    "    pool = multiprocessing.Pool(processes=4)\n",
    "    \n",
    "    # Create a list of tasks to be executed by the worker processes\n",
    "    tasks = [1, 2, 3, 4, 5]\n",
    "    \n",
    "    # Apply the worker function to the tasks using the pool\n",
    "    results = pool.map(worker_function, tasks)\n",
    "    \n",
    "    # Close the pool to indicate that no more tasks will be submitted\n",
    "    pool.close()\n",
    "    \n",
    "    # Wait for all the worker processes to finish\n",
    "    pool.join()\n",
    "    \n",
    "    # Print the results\n",
    "    print(results)"
   ]
  },
  {
   "cell_type": "markdown",
   "id": "acfffbe4",
   "metadata": {},
   "source": [
    "### Q6. Write a python program to create 4 processes, each process should print a different number using the multiprocessing module in python."
   ]
  },
  {
   "cell_type": "code",
   "execution_count": 7,
   "id": "257e60b5",
   "metadata": {},
   "outputs": [
    {
     "name": "stdout",
     "output_type": "stream",
     "text": [
      "Process ID: 1234\n",
      "Number: 0\n",
      "Process ID: 5678\n",
      "Number: 1\n",
      "Process ID: 9101\n",
      "Number: 2\n",
      "Process ID: 1121\n",
      "Number: 3\n"
     ]
    }
   ],
   "source": [
    "# Code for the following:\n",
    "import multiprocessing\n",
    "\n",
    "def print_number(num):\n",
    "    \"\"\"Function to print a number\"\"\"\n",
    "    print(\"Process ID:\", multiprocessing.current_process().pid)\n",
    "    print(\"Number:\", num)\n",
    "\n",
    "if __name__ == '__main__':\n",
    "    processes = []\n",
    "    \n",
    "    for i in range(4):\n",
    "        process = multiprocessing.Process(target=print_number, args=(i,))\n",
    "        processes.append(process)\n",
    "        process.start()\n",
    "    \n",
    "    for process in processes:\n",
    "        process.join()"
   ]
  }
 ],
 "metadata": {
  "kernelspec": {
   "display_name": "Python 3 (ipykernel)",
   "language": "python",
   "name": "python3"
  },
  "language_info": {
   "codemirror_mode": {
    "name": "ipython",
    "version": 3
   },
   "file_extension": ".py",
   "mimetype": "text/x-python",
   "name": "python",
   "nbconvert_exporter": "python",
   "pygments_lexer": "ipython3",
   "version": "3.9.13"
  }
 },
 "nbformat": 4,
 "nbformat_minor": 5
}
