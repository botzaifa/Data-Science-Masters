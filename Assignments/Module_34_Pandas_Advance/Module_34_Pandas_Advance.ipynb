{
 "cells": [
  {
   "cell_type": "markdown",
   "id": "7f69dad0",
   "metadata": {},
   "source": [
    "# Assignment (24th Feb) : Pandas Advance"
   ]
  },
  {
   "cell_type": "markdown",
   "id": "2d9badff",
   "metadata": {},
   "source": [
    "### Q1. List any five functions of the pandas library with execution."
   ]
  },
  {
   "cell_type": "markdown",
   "id": "f09fc2ba",
   "metadata": {},
   "source": [
    "**ANS**: Some fuctions of the Padas Library are as follows:\n",
    "\n",
    "1. head() - Display the first n rows of the DataFrame\n",
    "\n",
    "2. describe() - Generate descriptive statistics\n",
    "\n",
    "3. groupby() - Group data by a column and perform an aggregate function\n",
    "\n",
    "4. sort_values() - Sort the DataFrame by a column\n",
    "\n",
    "5. dropna() - Remove rows with missing values"
   ]
  },
  {
   "cell_type": "code",
   "execution_count": 1,
   "id": "470bccab",
   "metadata": {},
   "outputs": [
    {
     "name": "stdout",
     "output_type": "stream",
     "text": [
      "1. head()\n",
      "     Name  Age  Gender  Salary\n",
      "0   Alice   25  Female   50000\n",
      "1     Bob   30    Male   60000\n",
      "2  Claire   27  Female   55000\n",
      "\n",
      "\n",
      "2. describe()\n",
      "             Age        Salary\n",
      "count   5.000000      5.000000\n",
      "mean   27.800000  55600.000000\n",
      "std     4.969909   7021.395873\n",
      "min    22.000000  48000.000000\n",
      "25%    25.000000  50000.000000\n",
      "50%    27.000000  55000.000000\n",
      "75%    30.000000  60000.000000\n",
      "max    35.000000  65000.000000\n",
      "\n",
      "\n",
      "3. groupby()\n",
      "Gender\n",
      "Female    51000.0\n",
      "Male      62500.0\n",
      "Name: Salary, dtype: float64\n",
      "\n",
      "\n",
      "4. sort_values()\n",
      "     Name  Age  Gender  Salary\n",
      "4     Eva   22  Female   48000\n",
      "0   Alice   25  Female   50000\n",
      "2  Claire   27  Female   55000\n",
      "1     Bob   30    Male   60000\n",
      "3   David   35    Male   65000\n",
      "\n",
      "\n",
      "5. dropna()\n",
      "    Name Age  Gender  Salary\n",
      "0  Alice  25  Female   50000\n",
      "1    Bob  30    Male   60000\n",
      "3  David  35    Male   65000\n",
      "4    Eva  22  Female   48000\n"
     ]
    }
   ],
   "source": [
    "import pandas as pd\n",
    "\n",
    "# Sample DataFrame \n",
    "data = {\n",
    "    'Name': ['Alice', 'Bob', 'Claire', 'David', 'Eva'],\n",
    "    'Age': [25, 30, 27, 35, 22],\n",
    "    'Gender': ['Female', 'Male', 'Female', 'Male', 'Female'],\n",
    "    'Salary': [50000, 60000, 55000, 65000, 48000]\n",
    "}\n",
    "df = pd.DataFrame(data)\n",
    "\n",
    "# 1. head() \n",
    "print(\"1. head()\")\n",
    "print(df.head(3))\n",
    "print(\"\\n\")\n",
    "\n",
    "# 2. describe()\n",
    "print(\"2. describe()\")\n",
    "print(df.describe())\n",
    "print(\"\\n\")\n",
    "\n",
    "# 3. groupby()\n",
    "print(\"3. groupby()\")\n",
    "print(df.groupby('Gender')['Salary'].mean())\n",
    "print(\"\\n\")\n",
    "\n",
    "# 4. sort_values()\n",
    "print(\"4. sort_values()\")\n",
    "print(df.sort_values(by='Age'))\n",
    "print(\"\\n\")\n",
    "\n",
    "# 5. dropna()\n",
    "# For demonstration, let's add a NaN value and then drop it\n",
    "df_with_nan = df.copy()\n",
    "df_with_nan.loc[2, 'Age'] = pd.NA\n",
    "print(\"5. dropna()\")\n",
    "print(df_with_nan.dropna())\n"
   ]
  },
  {
   "cell_type": "markdown",
   "id": "c8d73617",
   "metadata": {},
   "source": [
    "### Q2. Given a Pandas DataFrame df with columns 'A', 'B', and 'C', write a Python function to re-index the DataFrame with a new index that starts from 1 and increments by 2 for each row."
   ]
  },
  {
   "cell_type": "code",
   "execution_count": 2,
   "id": "3884c163",
   "metadata": {},
   "outputs": [
    {
     "name": "stdout",
     "output_type": "stream",
     "text": [
      "    A   B   C\n",
      "1  10  40  70\n",
      "3  20  50  80\n",
      "5  30  60  90\n"
     ]
    }
   ],
   "source": [
    "import pandas as pd\n",
    "\n",
    "def reindex_dataframe(df):\n",
    "    # Create a new index that starts from 1 and increments by 2 for each row\n",
    "    new_index = range(1, 2 * len(df) + 1, 2)\n",
    "    \n",
    "    # Re-index the DataFrame\n",
    "    df.index = new_index\n",
    "    \n",
    "    return df\n",
    "\n",
    "# Example DataFrame\n",
    "data = {\n",
    "    'A': [10, 20, 30],\n",
    "    'B': [40, 50, 60],\n",
    "    'C': [70, 80, 90]}\n",
    "\n",
    "df = pd.DataFrame(data)\n",
    "\n",
    "# Re-index the DataFrame\n",
    "df_reindexed = reindex_dataframe(df)\n",
    "print(df_reindexed)"
   ]
  },
  {
   "cell_type": "markdown",
   "id": "0f6873b0",
   "metadata": {},
   "source": [
    "### Q3. You have a Pandas DataFrame df with a column named 'Values'. Write a Python function that iterates over the DataFrame and calculates the sum of the first three values in the 'Values' column. The function should print the sum to the console."
   ]
  },
  {
   "cell_type": "code",
   "execution_count": 3,
   "id": "6265a5fa",
   "metadata": {},
   "outputs": [
    {
     "name": "stdout",
     "output_type": "stream",
     "text": [
      "Sum of the first three values in 'Values' column: 75\n"
     ]
    }
   ],
   "source": [
    "import pandas as pd\n",
    "\n",
    "data = {'Values': [15, 25, 35, 45, 55]}\n",
    "\n",
    "df = pd.DataFrame(data)\n",
    "\n",
    "def sum_first_three_values(df):\n",
    "    if 'Values' in df.columns:\n",
    "        # Selecting the first three values from the 'Values' column\n",
    "        first_three_values = df['Values'].head(3)\n",
    "        \n",
    "        # Calculating the sum of the first three values\n",
    "        sum_values = first_three_values.sum()\n",
    "        \n",
    "        # Printing the sum to the console\n",
    "        print(f\"Sum of the first three values in 'Values' column: {sum_values}\")\n",
    "    else:\n",
    "        print(\"Error: 'Values' column not found in the DataFrame.\")\n",
    "\n",
    "        \n",
    "\n",
    "sum_first_three_values(df)"
   ]
  },
  {
   "cell_type": "markdown",
   "id": "d5e2cadc",
   "metadata": {},
   "source": [
    "### Q4. Given a Pandas DataFrame df with a column 'Text', write a Python function to create a new column 'Word_Count' that contains the number of words in each row of the 'Text' column."
   ]
  },
  {
   "cell_type": "code",
   "execution_count": 4,
   "id": "af350b14",
   "metadata": {},
   "outputs": [
    {
     "name": "stdout",
     "output_type": "stream",
     "text": [
      "                        Text  Word_Count\n",
      "0                Hello world           2\n",
      "1         This is a sentence           4\n",
      "2  Python programming is fun           4\n"
     ]
    }
   ],
   "source": [
    "import pandas as pd\n",
    "\n",
    "# Example DataFrame\n",
    "data = {\n",
    "    'Text': [\n",
    "        \"Hello world\",\n",
    "        \"This is a sentence\",\n",
    "        \"Python programming is fun\"\n",
    "    ]\n",
    "}\n",
    "df = pd.DataFrame(data)\n",
    "\n",
    "# Function to count words in each row of 'Text' column\n",
    "def count_words(text):\n",
    "    # Split the text into words using whitespace as delimiter\n",
    "    words = text.split()\n",
    "    # Return the number of words\n",
    "    return len(words)\n",
    "\n",
    "# Apply the function to create 'Word_Count' column\n",
    "df['Word_Count'] = df['Text'].apply(count_words)\n",
    "\n",
    "# Display the DataFrame with the new 'Word_Count' column\n",
    "print(df)"
   ]
  },
  {
   "cell_type": "markdown",
   "id": "add7c84c",
   "metadata": {},
   "source": [
    "### Q5. How are DataFrame.size() and DataFrame.shape() different?"
   ]
  },
  {
   "cell_type": "markdown",
   "id": "06c9794b",
   "metadata": {},
   "source": [
    "**ANS**: DataFrame.size() and DataFrame.shape() are both attributes of a Pandas DataFrame, but they serve different purposes and provide different kinds of information about the DataFrame.\n",
    "\n",
    "- **DataFrame.size()**: Gives the total number of elements (cells) in the DataFrame (rows * columns).\n",
    "- **DataFrame.shape()**: Provides a tuple representing the dimensions of the DataFrame ((rows, columns)).\n",
    "\n",
    "In other words, DataFrame.size() tells you how many data points are present in the DataFrame, while DataFrame.shape() tells you the structure of the DataFrame in terms of its dimensions (rows and columns)."
   ]
  },
  {
   "cell_type": "markdown",
   "id": "2d95d64a",
   "metadata": {},
   "source": [
    "### Q6. Which function of pandas do we use to read an excel file?"
   ]
  },
  {
   "cell_type": "markdown",
   "id": "cb56b550",
   "metadata": {},
   "source": [
    "**ANS:** In Pandas, we use the `read_excel()` function to read data from an Excel file into a Pandas DataFrame. This function is versatile and widely used for importing data from Excel files into Pandas DataFrames, making it easy to manipulate and analyze data stored in spreadsheet format."
   ]
  },
  {
   "cell_type": "markdown",
   "id": "b97e12d1",
   "metadata": {},
   "source": [
    "### Q7. You have a Pandas DataFrame df that contains a column named 'Email' that contains email addresses in the format 'username@domain.com'. Write a Python function that creates a new column 'Username' in df that contains only the username part of each email address."
   ]
  },
  {
   "cell_type": "code",
   "execution_count": 6,
   "id": "c30f57d9",
   "metadata": {},
   "outputs": [
    {
     "name": "stdout",
     "output_type": "stream",
     "text": [
      "                      Email      Username\n",
      "0      john.doe@example.com      john.doe\n",
      "1  huzaifa.khan@example.com  huzaifa.khan\n",
      "2     pw.skills@example.com     pw.skills\n"
     ]
    }
   ],
   "source": [
    "import pandas as pd\n",
    "\n",
    "# Example DataFrame\n",
    "data = {'Email': [\n",
    "        'john.doe@example.com',\n",
    "        'huzaifa.khan@example.com',\n",
    "        'pw.skills@example.com'\n",
    "    ]\n",
    "}\n",
    "df = pd.DataFrame(data)\n",
    "\n",
    "\n",
    "def extract_username(email):\n",
    "    username = email.split('@')[0]\n",
    "    return username\n",
    "\n",
    "# Apply the function to create 'Username' column\n",
    "df['Username'] = df['Email'].apply(extract_username)\n",
    "\n",
    "# Display the DataFrame with the new 'Username' column\n",
    "print(df)"
   ]
  },
  {
   "cell_type": "markdown",
   "id": "7dd3cfe4",
   "metadata": {},
   "source": [
    "### Q8. You have a Pandas DataFrame df with columns 'A', 'B', and 'C'. Write a Python function that selects all rows where the value in column 'A' is greater than 5 and the value in column 'B' is less than 10. The function should return a new DataFrame that contains only the selected rows. "
   ]
  },
  {
   "cell_type": "code",
   "execution_count": 7,
   "id": "bcb9b30a",
   "metadata": {},
   "outputs": [
    {
     "name": "stdout",
     "output_type": "stream",
     "text": [
      "   A  B  C\n",
      "1  8  2  7\n",
      "2  6  9  4\n",
      "4  9  1  2\n"
     ]
    }
   ],
   "source": [
    "import pandas as pd\n",
    "\n",
    "# Example DataFrame\n",
    "data = {\n",
    "    'A': [3, 8, 6, 2, 9],\n",
    "    'B': [5, 2, 9, 3, 1],\n",
    "    'C': [1, 7, 4, 5, 2]}\n",
    "\n",
    "df = pd.DataFrame(data)\n",
    "\n",
    "\n",
    "def select_rows(df):\n",
    "    selected_rows = df[(df['A'] > 5) & (df['B'] < 10)]\n",
    "    return selected_rows\n",
    "\n",
    "# Calling the function\n",
    "selected_df = select_rows(df)\n",
    "\n",
    "print(selected_df)"
   ]
  },
  {
   "cell_type": "markdown",
   "id": "8ed9186d",
   "metadata": {},
   "source": [
    "### Q9. Given a Pandas DataFrame df with a column 'Values', write a Python function to calculate the mean, median, and standard deviation of the values in the 'Values' column."
   ]
  },
  {
   "cell_type": "code",
   "execution_count": 9,
   "id": "ca5dc1f4",
   "metadata": {},
   "outputs": [
    {
     "name": "stdout",
     "output_type": "stream",
     "text": [
      "Mean: 30.0\n",
      "Median: 30.0\n",
      "Standard Deviation: 15.811388300841896\n"
     ]
    }
   ],
   "source": [
    "import pandas as pd\n",
    "\n",
    "# Example DataFrame\n",
    "data = {'Values': [10, 20, 30, 40, 50]}\n",
    "\n",
    "df = pd.DataFrame(data)\n",
    "\n",
    "\n",
    "def calculate_stats(df):\n",
    "    # Calculate mean\n",
    "    mean_value = df['Values'].mean()\n",
    "    \n",
    "    # Calculate median\n",
    "    median_value = df['Values'].median()\n",
    "    \n",
    "    # Calculate standard deviation\n",
    "    std_value = df['Values'].std()\n",
    "    \n",
    "    return mean_value, median_value, std_value\n",
    "\n",
    "# Call the function \n",
    "mean_val, median_val, std_val = calculate_stats(df)\n",
    "\n",
    "# Print the results\n",
    "print(f\"Mean: {mean_val}\")\n",
    "print(f\"Median: {median_val}\")\n",
    "print(f\"Standard Deviation: {std_val}\")\n"
   ]
  },
  {
   "cell_type": "markdown",
   "id": "ef01d8b0",
   "metadata": {},
   "source": [
    "### Q10. Given a Pandas DataFrame df with a column 'Sales' and a column 'Date', write a Python function to create a new column 'MovingAverage' that contains the moving average of the sales for the past 7 days for each row in the DataFrame. The moving average should be calculated using a window of size 7 and should include the current day."
   ]
  },
  {
   "cell_type": "code",
   "execution_count": 10,
   "id": "ba19613f",
   "metadata": {},
   "outputs": [
    {
     "name": "stdout",
     "output_type": "stream",
     "text": [
      "        Date  Sales  MovingAverage\n",
      "0 2023-01-01    100     100.000000\n",
      "1 2023-01-02    110     105.000000\n",
      "2 2023-01-03    105     105.000000\n",
      "3 2023-01-04    120     108.750000\n",
      "4 2023-01-05    130     113.000000\n",
      "5 2023-01-06    125     115.000000\n",
      "6 2023-01-07    115     115.000000\n",
      "7 2023-01-08    135     120.000000\n",
      "8 2023-01-09    140     124.285714\n",
      "9 2023-01-10    145     130.000000\n"
     ]
    }
   ],
   "source": [
    "import pandas as pd\n",
    "\n",
    "# Example DataFrame\n",
    "data = {\n",
    "    'Date': pd.date_range(start='2023-01-01', periods=10),\n",
    "    'Sales': [100, 110, 105, 120, 130, 125, 115, 135, 140, 145]}\n",
    "\n",
    "df = pd.DataFrame(data)\n",
    "\n",
    "\n",
    "def calculate_moving_average(df):\n",
    "    # Sort DataFrame by 'Date' if it is not already sorted\n",
    "    df = df.sort_values(by='Date').reset_index(drop=True)\n",
    "    \n",
    "    # Calculate moving average with window size of 7 days\n",
    "    df['MovingAverage'] = df['Sales'].rolling(window=7, min_periods=1).mean()\n",
    "    \n",
    "    return df\n",
    "\n",
    "# Call the function \n",
    "df_with_ma = calculate_moving_average(df)\n",
    "\n",
    "\n",
    "print(df_with_ma)"
   ]
  },
  {
   "cell_type": "markdown",
   "id": "ca0b0e4f",
   "metadata": {},
   "source": [
    "### Q11. You have a Pandas DataFrame df with a column 'Date'. Write a Python function that creates a new column 'Weekday' in the DataFrame. The 'Weekday' column should contain the weekday name (e.g. Monday, Tuesday) corresponding to each date in the 'Date' column."
   ]
  },
  {
   "cell_type": "code",
   "execution_count": 11,
   "id": "aa172e91",
   "metadata": {},
   "outputs": [
    {
     "name": "stdout",
     "output_type": "stream",
     "text": [
      "        Date    Weekday\n",
      "0 2023-01-01     Sunday\n",
      "1 2023-01-02     Monday\n",
      "2 2023-01-03    Tuesday\n",
      "3 2023-01-04  Wednesday\n",
      "4 2023-01-05   Thursday\n"
     ]
    }
   ],
   "source": [
    "import pandas as pd\n",
    "\n",
    "# Example DataFrame\n",
    "data = {'Date': pd.date_range(start='2023-01-01', periods=5)}\n",
    "\n",
    "df = pd.DataFrame(data)\n",
    "\n",
    "def add_weekday_column(df):\n",
    "    # Convert 'Date' column to datetime if it's not already\n",
    "    df['Date'] = pd.to_datetime(df['Date'])\n",
    "    \n",
    "    # Create 'Weekday' column using apply function with lambda\n",
    "    df['Weekday'] = df['Date'].apply(lambda x: x.strftime('%A'))\n",
    "    \n",
    "    return df\n",
    "\n",
    "# Call the function \n",
    "df_with_weekday = add_weekday_column(df)\n",
    "\n",
    "print(df_with_weekday)"
   ]
  },
  {
   "cell_type": "markdown",
   "id": "2f5fc79e",
   "metadata": {},
   "source": [
    "### Q12. Given a Pandas DataFrame df with a column 'Date' that contains timestamps, write a Python function to select all rows where the date is between '2023-01-01' and '2023-01-31'."
   ]
  },
  {
   "cell_type": "code",
   "execution_count": 12,
   "id": "e82b39ef",
   "metadata": {},
   "outputs": [
    {
     "name": "stdout",
     "output_type": "stream",
     "text": [
      "         Date\n",
      "0  2023-01-01\n",
      "1  2023-01-02\n",
      "2  2023-01-03\n",
      "3  2023-01-04\n",
      "4  2023-01-05\n",
      "5  2023-01-06\n",
      "6  2023-01-07\n",
      "7  2023-01-08\n",
      "8  2023-01-09\n",
      "9  2023-01-10\n",
      "10 2023-01-11\n",
      "11 2023-01-12\n",
      "12 2023-01-13\n",
      "13 2023-01-14\n",
      "14 2023-01-15\n",
      "15 2023-01-16\n",
      "16 2023-01-17\n",
      "17 2023-01-18\n",
      "18 2023-01-19\n",
      "19 2023-01-20\n",
      "20 2023-01-21\n",
      "21 2023-01-22\n",
      "22 2023-01-23\n",
      "23 2023-01-24\n",
      "24 2023-01-25\n",
      "25 2023-01-26\n",
      "26 2023-01-27\n",
      "27 2023-01-28\n",
      "28 2023-01-29\n",
      "29 2023-01-30\n",
      "30 2023-01-31\n"
     ]
    }
   ],
   "source": [
    "import pandas as pd\n",
    "\n",
    "# Example DataFrame\n",
    "data = {'Date': pd.date_range(start='2023-01-01', end='2023-02-10')}\n",
    "\n",
    "df = pd.DataFrame(data)\n",
    "\n",
    "\n",
    "def select_rows_in_date_range(df, start_date, end_date):\n",
    "    # Convert start_date and end_date to datetime objects if they are not already\n",
    "    start_date = pd.to_datetime(start_date)\n",
    "    end_date = pd.to_datetime(end_date)\n",
    "    \n",
    "    # Filter rows based on date range\n",
    "    mask = (df['Date'] >= start_date) & (df['Date'] <= end_date)\n",
    "    selected_df = df.loc[mask]\n",
    "    \n",
    "    return selected_df\n",
    "\n",
    "# Call the function \n",
    "start_date = '2023-01-01'\n",
    "end_date = '2023-01-31'\n",
    "selected_df = select_rows_in_date_range(df, start_date, end_date)\n",
    "\n",
    "print(selected_df)"
   ]
  },
  {
   "cell_type": "markdown",
   "id": "3646f5fd",
   "metadata": {},
   "source": [
    "### Q13. To use the basic functions of pandas, what is the first and foremost necessary library that needs to be imported?"
   ]
  },
  {
   "cell_type": "markdown",
   "id": "75fbd234",
   "metadata": {},
   "source": [
    "**ANS:** To use the basic functions of Pandas, the first and foremost necessary library that needs to be imported is `pandas` itself. \n",
    "\n",
    "Here’s how you typically import Pandas:\n",
    "\n",
    "`import pandas as pd`"
   ]
  }
 ],
 "metadata": {
  "kernelspec": {
   "display_name": "Python 3 (ipykernel)",
   "language": "python",
   "name": "python3"
  },
  "language_info": {
   "codemirror_mode": {
    "name": "ipython",
    "version": 3
   },
   "file_extension": ".py",
   "mimetype": "text/x-python",
   "name": "python",
   "nbconvert_exporter": "python",
   "pygments_lexer": "ipython3",
   "version": "3.9.13"
  }
 },
 "nbformat": 4,
 "nbformat_minor": 5
}
