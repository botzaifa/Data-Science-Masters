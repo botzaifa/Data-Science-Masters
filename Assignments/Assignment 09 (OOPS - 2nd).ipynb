{
 "cells": [
  {
   "cell_type": "markdown",
   "id": "c5b9f3dd",
   "metadata": {},
   "source": [
    "# Assignment 9 (OOPS - 2nd)"
   ]
  },
  {
   "cell_type": "markdown",
   "id": "6284e85e",
   "metadata": {},
   "source": [
    "### Q1, Create a vehicle class with an init method having instance variables as name_of_vehicle, max_speed and average_of_vehicle."
   ]
  },
  {
   "cell_type": "code",
   "execution_count": 1,
   "id": "cc259b8e",
   "metadata": {},
   "outputs": [],
   "source": [
    "class Vehicle:\n",
    "    def __init__(self, name_of_vehicle, max_speed, average_speed):\n",
    "        self.name_of_vehicle = name_of_vehicle\n",
    "        self.max_speed = max_speed\n",
    "        self.average_speed = average_speed"
   ]
  },
  {
   "cell_type": "code",
   "execution_count": 2,
   "id": "fba3f56c",
   "metadata": {},
   "outputs": [],
   "source": [
    "car = Vehicle(\"Car\", 200, 80)"
   ]
  },
  {
   "cell_type": "code",
   "execution_count": 3,
   "id": "a8317b4c",
   "metadata": {},
   "outputs": [
    {
     "name": "stdout",
     "output_type": "stream",
     "text": [
      "Car\n",
      "200\n",
      "80\n"
     ]
    }
   ],
   "source": [
    "print(car.name_of_vehicle)\n",
    "print(car.max_speed)     \n",
    "print(car.average_speed)"
   ]
  },
  {
   "cell_type": "markdown",
   "id": "dab0f4ce",
   "metadata": {},
   "source": [
    "### Q2. Create a child class car from the vehicle class created in Que 1, which will inherit the vehicle class. Create a method named seating_capacity which takes capacity as an argument and returns the name of the vehicle and its seating capacity."
   ]
  },
  {
   "cell_type": "code",
   "execution_count": 4,
   "id": "3a80575c",
   "metadata": {},
   "outputs": [],
   "source": [
    "class Car(Vehicle):\n",
    "    def seating_capacity(self, capacity):\n",
    "        return f\"{self.name_of_vehicle} has a seating capacity of {capacity} passengers.\""
   ]
  },
  {
   "cell_type": "code",
   "execution_count": 5,
   "id": "ca9e6e80",
   "metadata": {},
   "outputs": [
    {
     "name": "stdout",
     "output_type": "stream",
     "text": [
      "Sedan has a seating capacity of 5 passengers.\n"
     ]
    }
   ],
   "source": [
    "car = Car(\"Sedan\", 180, 60)\n",
    "print(car.seating_capacity(5))"
   ]
  },
  {
   "cell_type": "markdown",
   "id": "69b67338",
   "metadata": {},
   "source": [
    "### Q3. What is multiple inheritance? Write a python code to demonstrate multiple inheritance."
   ]
  },
  {
   "cell_type": "markdown",
   "id": "4a11ced6",
   "metadata": {},
   "source": [
    "ANS: Multiple inheritance is a feature in object-oriented programming where a class can inherit attributes and methods from multiple parent classes. This means that a child class can have multiple base classes, allowing it to inherit and utilize the attributes and methods defined in each of those parent classes."
   ]
  },
  {
   "cell_type": "code",
   "execution_count": 7,
   "id": "17bb736d",
   "metadata": {},
   "outputs": [],
   "source": [
    "class Vehicle:\n",
    "    def __init__(self, name):\n",
    "        self.name = name\n",
    "\n",
    "    def drive(self):\n",
    "        print(f\"{self.name} is driving.\")\n",
    "\n",
    "class Engine:\n",
    "    def start_engine(self):\n",
    "        print(\"Engine started.\")\n",
    "\n",
    "class Car(Vehicle, Engine):\n",
    "    def __init__(self, name):\n",
    "        super().__init__(name)"
   ]
  },
  {
   "cell_type": "code",
   "execution_count": 8,
   "id": "0eb629a9",
   "metadata": {},
   "outputs": [
    {
     "name": "stdout",
     "output_type": "stream",
     "text": [
      "Engine started.\n",
      "Sedan is driving.\n"
     ]
    }
   ],
   "source": [
    "car = Car(\"Sedan\")\n",
    "car.start_engine()\n",
    "car.drive()"
   ]
  },
  {
   "cell_type": "markdown",
   "id": "a098cf23",
   "metadata": {},
   "source": [
    "### Q4. What are getter and setter in python? Create a class and create a getter and a setter method in this class."
   ]
  },
  {
   "cell_type": "markdown",
   "id": "fe1b0114",
   "metadata": {},
   "source": [
    "ANS: getters and setters are methods used to access and modify the values of class attributes or properties. They provide controlled access to class variables by encapsulating them within methods. Getters are used to retrieve the value of an attribute, while setters are used to modify or set the value of an attribute."
   ]
  },
  {
   "cell_type": "code",
   "execution_count": 9,
   "id": "2e507a6a",
   "metadata": {},
   "outputs": [],
   "source": [
    "class Person:\n",
    "    def __init__(self, name):\n",
    "        self._name = name\n",
    "\n",
    "    def get_name(self):\n",
    "        return self._name\n",
    "\n",
    "    def set_name(self, new_name):\n",
    "        self._name = new_name"
   ]
  },
  {
   "cell_type": "code",
   "execution_count": 10,
   "id": "9f4e857b",
   "metadata": {},
   "outputs": [
    {
     "name": "stdout",
     "output_type": "stream",
     "text": [
      "Huzaifa\n",
      "Khan\n"
     ]
    }
   ],
   "source": [
    "person = Person(\"Huzaifa\")\n",
    "print(person.get_name())\n",
    "\n",
    "person.set_name(\"Khan\")\n",
    "print(person.get_name())"
   ]
  },
  {
   "cell_type": "markdown",
   "id": "fa2609f9",
   "metadata": {},
   "source": [
    "### Q5. What is method overriding in python? Write a python code to demonstrate method overriding."
   ]
  },
  {
   "cell_type": "markdown",
   "id": "ee5c2859",
   "metadata": {},
   "source": [
    "ANS: Method overriding is a feature in object-oriented programming where a subclass provides a different implementation for a method that is already defined in its superclass. This allows the subclass to modify or extend the behavior of the inherited method."
   ]
  },
  {
   "cell_type": "code",
   "execution_count": 11,
   "id": "3f538bdd",
   "metadata": {},
   "outputs": [],
   "source": [
    "class Vehicle:\n",
    "    def start(self):\n",
    "        print(\"Vehicle is starting.\")\n",
    "\n",
    "class Car(Vehicle):\n",
    "    def start(self):\n",
    "        print(\"Car is starting.\")"
   ]
  },
  {
   "cell_type": "code",
   "execution_count": 12,
   "id": "16ef152b",
   "metadata": {},
   "outputs": [
    {
     "name": "stdout",
     "output_type": "stream",
     "text": [
      "Vehicle is starting.\n",
      "Car is starting.\n"
     ]
    }
   ],
   "source": [
    "vehicle = Vehicle()\n",
    "vehicle.start()\n",
    "\n",
    "car = Car()\n",
    "car.start()"
   ]
  }
 ],
 "metadata": {
  "kernelspec": {
   "display_name": "Python 3 (ipykernel)",
   "language": "python",
   "name": "python3"
  },
  "language_info": {
   "codemirror_mode": {
    "name": "ipython",
    "version": 3
   },
   "file_extension": ".py",
   "mimetype": "text/x-python",
   "name": "python",
   "nbconvert_exporter": "python",
   "pygments_lexer": "ipython3",
   "version": "3.9.13"
  }
 },
 "nbformat": 4,
 "nbformat_minor": 5
}
