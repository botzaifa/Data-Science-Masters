{
 "cells": [
  {
   "cell_type": "markdown",
   "id": "2c738971",
   "metadata": {},
   "source": [
    "# Assignment-8 (7th Feb)"
   ]
  },
  {
   "cell_type": "markdown",
   "id": "1da6dcfd",
   "metadata": {},
   "source": [
    "### Q1. You are writing code for a company. The requirement of the company is that you create a python function that will check whether the password entered by the user is correct or not. The function should take the password as input and return the string “Valid Password” if the entered password follows the below-given password guidelines else it should return “Invalid Password”.\n",
    "\n",
    "### Note: \n",
    "1. The Password should contain at least two uppercase letters and at least two lowercase letters.\n",
    "2. The Password should contain at least a number and three special characters.\n",
    "3. The length of the password should be 10 characters long."
   ]
  },
  {
   "cell_type": "code",
   "execution_count": 1,
   "id": "b5e9f0ee",
   "metadata": {},
   "outputs": [],
   "source": [
    "def check_password(password):\n",
    "    # Check the length of the password\n",
    "    if len(password) != 10:\n",
    "        return \"Invalid Password\"\n",
    "    \n",
    "    # Count the number of uppercase and lowercase letters\n",
    "    num_uppercase = sum(1 for c in password if c.isupper())\n",
    "    num_lowercase = sum(1 for c in password if c.islower())\n",
    "    \n",
    "    # Check for at least two uppercase and two lowercase letters\n",
    "    if num_uppercase < 2 or num_lowercase < 2:\n",
    "        return \"Invalid Password\"\n",
    "    \n",
    "    # Count the number of digits and special characters\n",
    "    num_digits = sum(1 for c in password if c.isdigit())\n",
    "    num_special = sum(1 for c in password if c in \"!@#$%^&*(),.?\\\":{}|<>\")\n",
    "    \n",
    "    # Check for at least a number and three special characters\n",
    "    if num_digits < 1 or num_special < 3:\n",
    "        return \"Invalid Password\"\n",
    "    \n",
    "    # If all conditions are satisfied, the password is valid\n",
    "    return \"Valid Password\""
   ]
  },
  {
   "cell_type": "code",
   "execution_count": 2,
   "id": "96e9c569",
   "metadata": {},
   "outputs": [
    {
     "data": {
      "text/plain": [
       "'Invalid Password'"
      ]
     },
     "execution_count": 2,
     "metadata": {},
     "output_type": "execute_result"
    }
   ],
   "source": [
    "check_password('invalid')"
   ]
  },
  {
   "cell_type": "markdown",
   "id": "8058fe4a",
   "metadata": {},
   "source": [
    "### Q2. Solve the below-given questions using at least one of the following:\n",
    "1. Lambda function\n",
    "2. Filter function\n",
    "3. Zap function\n",
    "4. List Comprehension\n",
    "\n",
    "a. Check if the string starts with a particular letter\n",
    "\n",
    "b. Check if the string is numeric\n",
    "\n",
    "c. Sort a list of tuples having fruit names and their quantity. [(\"mango\",99),(\"orange\",80), (\"grapes\", 1000)]\n",
    "\n",
    "d. Find the squares of numbers from 1 to 10\n",
    "\n",
    "f. Find the cube root of numbers from 1 to 10\n",
    "\n",
    "g. Check if a given number is even\n",
    "\n",
    "h. Filter odd numbers from the given list.\n",
    "[1,2,3,4,5,6,7,8,9,10]\n",
    "\n",
    "i. Sort a list of integers into positive and negative integers lists.\n",
    "[1,2,3,4,5,6,-1,-2,-3,-4,-5,0]"
   ]
  },
  {
   "cell_type": "code",
   "execution_count": 3,
   "id": "d943b65f",
   "metadata": {},
   "outputs": [
    {
     "name": "stdout",
     "output_type": "stream",
     "text": [
      "['cherry']\n",
      "['banana']\n"
     ]
    }
   ],
   "source": [
    "# Checking if the string starts with a particular letter\n",
    "\n",
    "string_list = ['apple', 'banana', 'cherry', 'date']\n",
    "starts_with_c = list(filter(lambda s: s.startswith('c'), string_list))\n",
    "print(starts_with_c)\n",
    "\n",
    "# Using list comprehension\n",
    "starts_with_b = [s for s in string_list if s.startswith('b')]\n",
    "print(starts_with_b)"
   ]
  },
  {
   "cell_type": "code",
   "execution_count": 4,
   "id": "0654bdd9",
   "metadata": {},
   "outputs": [
    {
     "name": "stdout",
     "output_type": "stream",
     "text": [
      "['123', '789']\n",
      "['abc', '456.78']\n"
     ]
    }
   ],
   "source": [
    "# Check if the string is numeric\n",
    "\n",
    "string_list = ['123', 'abc', '456.78', '789']\n",
    "is_numeric = list(filter(lambda s: s.isdigit(), string_list))\n",
    "print(is_numeric)\n",
    "\n",
    "# Using list comprehension\n",
    "is_not_numeric = [s for s in string_list if not s.isdigit()]\n",
    "print(is_not_numeric)"
   ]
  },
  {
   "cell_type": "code",
   "execution_count": 5,
   "id": "d308ec15",
   "metadata": {},
   "outputs": [
    {
     "name": "stdout",
     "output_type": "stream",
     "text": [
      "[('orange', 80), ('mango', 99), ('grapes', 1000)]\n",
      "[(1000, 'grapes'), (99, 'mango'), (80, 'orange')]\n"
     ]
    }
   ],
   "source": [
    "# Sort a list of tuples having fruit names and their quantity.\n",
    "\n",
    "fruits = [(\"mango\",99),(\"orange\",80), (\"grapes\", 1000)]\n",
    "sorted_fruits = sorted(fruits, key=lambda x: x[1])\n",
    "print(sorted_fruits)\n",
    "\n",
    "# Using list comprehension and sorted() function\n",
    "reverse_sorted_fruits = sorted([(q, f) for f, q in fruits], reverse=True)\n",
    "print(reverse_sorted_fruits)"
   ]
  },
  {
   "cell_type": "code",
   "execution_count": 6,
   "id": "87ee979e",
   "metadata": {},
   "outputs": [
    {
     "name": "stdout",
     "output_type": "stream",
     "text": [
      "[1, 4, 9, 16, 25, 36, 49, 64, 81, 100]\n",
      "[1, 4, 9, 16, 25, 36, 49, 64, 81, 100]\n"
     ]
    }
   ],
   "source": [
    "# Find the squares of numbers from 1 to 10\n",
    "\n",
    "numbers = list(range(1, 11))\n",
    "squares = list(map(lambda x: x**2, numbers))\n",
    "print(squares)\n",
    "\n",
    "# Using list comprehension\n",
    "squares = [x**2 for x in numbers]\n",
    "print(squares)"
   ]
  },
  {
   "cell_type": "code",
   "execution_count": 7,
   "id": "1e50e749",
   "metadata": {},
   "outputs": [
    {
     "name": "stdout",
     "output_type": "stream",
     "text": [
      "[1.0, 1.2599210498948732, 1.4422495703074083, 1.5874010519681994, 1.7099759466766968, 1.8171205928321397, 1.912931182772389, 2.0, 2.080083823051904, 2.154434690031884]\n",
      "[1.0, 1.2599210498948732, 1.4422495703074083, 1.5874010519681994, 1.7099759466766968, 1.8171205928321397, 1.912931182772389, 2.0, 2.080083823051904, 2.154434690031884]\n"
     ]
    }
   ],
   "source": [
    "# Find the cube root of numbers from 1 to 10\n",
    "\n",
    "import math\n",
    "numbers = list(range(1, 11))\n",
    "cube_roots = list(map(lambda x: math.pow(x, 1/3), numbers))\n",
    "print(cube_roots)\n",
    "\n",
    "# Using list comprehension\n",
    "cube_roots = [math.pow(x, 1/3) for x in numbers]\n",
    "print(cube_roots)"
   ]
  },
  {
   "cell_type": "code",
   "execution_count": 8,
   "id": "c0712044",
   "metadata": {},
   "outputs": [
    {
     "data": {
      "text/plain": [
       "True"
      ]
     },
     "execution_count": 8,
     "metadata": {},
     "output_type": "execute_result"
    }
   ],
   "source": [
    "# Check if a given number is even\n",
    "\n",
    "is_even = lambda x: x % 2 == 0\n",
    "\n",
    "is_even(4)"
   ]
  },
  {
   "cell_type": "code",
   "execution_count": 9,
   "id": "3944699e",
   "metadata": {},
   "outputs": [
    {
     "data": {
      "text/plain": [
       "[1, 3, 5, 7, 9]"
      ]
     },
     "execution_count": 9,
     "metadata": {},
     "output_type": "execute_result"
    }
   ],
   "source": [
    "# Filter odd numbers from the given list\n",
    "\n",
    "numbers = [1, 2, 3, 4, 5, 6, 7, 8, 9, 10]\n",
    "odd_numbers = list(filter(lambda x: x % 2 != 0, numbers))\n",
    "\n",
    "odd_numbers"
   ]
  },
  {
   "cell_type": "code",
   "execution_count": 10,
   "id": "19629e74",
   "metadata": {},
   "outputs": [
    {
     "data": {
      "text/plain": [
       "[1, 2, 3, 4, 5, 6, 0]"
      ]
     },
     "execution_count": 10,
     "metadata": {},
     "output_type": "execute_result"
    }
   ],
   "source": [
    "# Sort a list of integers into positive and negative integers lists\n",
    "\n",
    "numbers = [1, 2, 3, 4, 5, 6, -1, -2, -3, -4, -5, 0]\n",
    "positive_numbers = [x for x in numbers if x >= 0]\n",
    "negative_numbers = [x for x in numbers if x < 0]\n",
    "\n",
    "positive_numbers"
   ]
  },
  {
   "cell_type": "code",
   "execution_count": 11,
   "id": "4e9a4c55",
   "metadata": {},
   "outputs": [
    {
     "data": {
      "text/plain": [
       "[-1, -2, -3, -4, -5]"
      ]
     },
     "execution_count": 11,
     "metadata": {},
     "output_type": "execute_result"
    }
   ],
   "source": [
    "negative_numbers"
   ]
  }
 ],
 "metadata": {
  "kernelspec": {
   "display_name": "Python 3 (ipykernel)",
   "language": "python",
   "name": "python3"
  },
  "language_info": {
   "codemirror_mode": {
    "name": "ipython",
    "version": 3
   },
   "file_extension": ".py",
   "mimetype": "text/x-python",
   "name": "python",
   "nbconvert_exporter": "python",
   "pygments_lexer": "ipython3",
   "version": "3.9.13"
  }
 },
 "nbformat": 4,
 "nbformat_minor": 5
}
