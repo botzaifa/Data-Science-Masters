{
 "cells": [
  {
   "cell_type": "markdown",
   "id": "8c47ff0e",
   "metadata": {},
   "source": [
    "# Assignment - 13 (MultiThreading)"
   ]
  },
  {
   "cell_type": "markdown",
   "id": "abe9e7f0",
   "metadata": {},
   "source": [
    "### Q1. What is multithreading in python? Why is it used? Name the module used to handle threads in python."
   ]
  },
  {
   "cell_type": "markdown",
   "id": "24ca12a6",
   "metadata": {},
   "source": [
    "ANS: \n",
    "a) Multithreading in Python refers to the ability of a program to execute multiple threads concurrently, allowing different parts of the code to run simultaneously. A thread is a lightweight subprocess, also known as a \"lightweight process,\" that can perform tasks independently while sharing the same memory space.\n",
    "\n",
    "b) Multithreading is used to improve the performance and responsiveness of a program by utilizing the available system resources more efficiently. It is particularly useful when there are tasks that can be executed independently or when there is a need to perform multiple operations concurrently, such as handling multiple network connections or processing large amounts of data.\n",
    "\n",
    "c) The 'threading' module is used to handle threads."
   ]
  },
  {
   "cell_type": "markdown",
   "id": "609c3b94",
   "metadata": {},
   "source": [
    "### Q2. Why threading module used? Write the use of the following functions: \n",
    "### 1. activeCount()\n",
    "### 2. currentThread()\n",
    "### 3. enumerate()"
   ]
  },
  {
   "cell_type": "markdown",
   "id": "817e7f59",
   "metadata": {},
   "source": [
    "ANS: The threading module in Python is used for working with threads. It provides a high-level interface for creating, managing and synchronizing threads in a program.\n",
    "1. activeCount(): This function returns the number of 'Thread' objects that are currently in the \"alive\" state, meaning they have been created and not yet finished executing or terminated. This function can be useful for monitoring the number of active threads in a program, allowing you to check the concurrency and workload of the threaded application.\n",
    "2. currentThread(): This function returns the 'Thread' object corresponding to the currently executing thread. This is useful for various purposes, such as obtaining information about the current thread, accessing its attributes, or synchronizing with other threads.\n",
    "3. enumerate(): This function returns a list of all currently active Thread objects. It returns a list that contains all the Thread objects currently alive, regardless of their state (e.g., running, blocked, or terminated). It can be useful for obtaining information about all the threads currently running or for iterating over all the threads to perform some operation or gather information about them."
   ]
  },
  {
   "cell_type": "markdown",
   "id": "187dbc65",
   "metadata": {},
   "source": [
    "### Q3. Explain the following functions:\n",
    "### 1. run() \n",
    "### 2. start()\n",
    "### 3. join() \n",
    "### 4. isAlive()"
   ]
  },
  {
   "cell_type": "markdown",
   "id": "76021e89",
   "metadata": {},
   "source": [
    "ANS: \n",
    "1. run(): The run() method is the entry point for the thread's activity. It is the method that gets executed when you call start() on a Thread object. By default, the run() method of the Thread class does nothing. However, you can subclass the Thread class and override the run() method to define the behavior you want for your thread.\n",
    "\n",
    "2. start(): The start() method is used to start the execution of a thread. It schedules the thread to be run and initiates its execution. It does this by calling the run() method of the thread. Once the thread is started, it runs independently and concurrently with other threads in the program.\n",
    "\n",
    "3. join(): The join() method is used to wait for a thread to complete its execution. When you call join() on a Thread object, it blocks the calling thread until the target thread has finished executing. This is useful when you want to ensure that all the threads have completed their tasks before continuing with the rest of the program. By default, join() blocks indefinitely until the thread terminates. \n",
    "\n",
    "4. isAlive(): The isAlive() method is used to check whether a thread is currently executing or alive. When you call isAlive() on a Thread object, it returns True if the thread is still running or alive, and False otherwise. "
   ]
  },
  {
   "cell_type": "markdown",
   "id": "e06b0db1",
   "metadata": {},
   "source": [
    "### Q4. Write a python program to create two threads. Thread one must print the list of squares and thread must print the list of cubes."
   ]
  },
  {
   "cell_type": "code",
   "execution_count": 1,
   "id": "71c545e7",
   "metadata": {},
   "outputs": [],
   "source": [
    "import threading"
   ]
  },
  {
   "cell_type": "code",
   "execution_count": 2,
   "id": "a7d23d8a",
   "metadata": {},
   "outputs": [],
   "source": [
    "def psquares():\n",
    "    squares= [x ** 2  for x in range(1,6)]\n",
    "    for num in squares:\n",
    "        print(num)\n",
    "        \n",
    "def pcubes():\n",
    "    cubes=[x** 3 for x in range(1,6)]\n",
    "    for num in cubes:\n",
    "        print(num)"
   ]
  },
  {
   "cell_type": "code",
   "execution_count": 3,
   "id": "c2f672fe",
   "metadata": {},
   "outputs": [],
   "source": [
    "thread1= threading.Thread(target=psquares)\n",
    "thread2= threading.Thread(target=pcubes)"
   ]
  },
  {
   "cell_type": "code",
   "execution_count": 5,
   "id": "2b17c464",
   "metadata": {},
   "outputs": [
    {
     "name": "stdout",
     "output_type": "stream",
     "text": [
      "1\n",
      "4\n",
      "9\n",
      "16\n",
      "25\n"
     ]
    }
   ],
   "source": [
    "thread1.start()"
   ]
  },
  {
   "cell_type": "code",
   "execution_count": 6,
   "id": "5b710f59",
   "metadata": {},
   "outputs": [
    {
     "name": "stdout",
     "output_type": "stream",
     "text": [
      "1\n",
      "8\n",
      "27\n",
      "64\n",
      "125\n"
     ]
    }
   ],
   "source": [
    "thread2.start()"
   ]
  },
  {
   "cell_type": "code",
   "execution_count": 8,
   "id": "c407e53c",
   "metadata": {},
   "outputs": [
    {
     "data": {
      "text/plain": [
       "<Thread(Thread-5, stopped 4996)>"
      ]
     },
     "execution_count": 8,
     "metadata": {},
     "output_type": "execute_result"
    }
   ],
   "source": [
    "thread1"
   ]
  },
  {
   "cell_type": "code",
   "execution_count": 10,
   "id": "55138b0c",
   "metadata": {},
   "outputs": [
    {
     "data": {
      "text/plain": [
       "<Thread(Thread-6, stopped 23736)>"
      ]
     },
     "execution_count": 10,
     "metadata": {},
     "output_type": "execute_result"
    }
   ],
   "source": [
    "thread2"
   ]
  },
  {
   "cell_type": "markdown",
   "id": "25e90bf1",
   "metadata": {},
   "source": [
    "### Q5. State advantages and disadvantages of multithreading"
   ]
  },
  {
   "cell_type": "markdown",
   "id": "9f4f9855",
   "metadata": {},
   "source": [
    "ANS: The advantages and disadvantages of multithreading are as follows:\n",
    "\n",
    "a) Advantages:\n",
    "1. Increased Performance: Multithreading allows for concurrent execution of multiple threads, enabling tasks to be executed simultaneously.\n",
    "\n",
    "2. Enhanced Responsiveness: Multithreading helps keep an application responsive, particularly when performing tasks that involve waiting, such as network operations or input/output operations.\n",
    "\n",
    "3. Resource Sharing: Threads within a process share the same memory space, enabling efficient sharing of data and resources. \n",
    "\n",
    "4. Modular Design: Multithreading allows for a modular design approach, where different parts of a program can be divided into separate threads, each responsible for a specific task. \n",
    "\n",
    "\n",
    "b) Disadvantages:\n",
    "1. Complexity: Multithreaded programs can be more complex to design, implement, and debug compared to single-threaded programs. Handling thread synchronization, race conditions, and deadlocks can introduce complexity and increase the potential for bugs.\n",
    "\n",
    "2. Synchronization Overhead: When multiple threads access shared data concurrently, proper synchronization mechanisms must be employed to prevent data corruption and ensure data integrity. These synchronization mechanisms, such as locks or semaphores, add overhead and can introduce performance penalties.\n",
    "\n",
    "3. Increased Memory Usage: Each thread in a multithreaded program requires its own stack and resources, which can result in increased memory usage compared to a single-threaded program. This can be a concern when dealing with resource-constrained environments or when creating a large number of threads.\n",
    "\n",
    "4. Difficulty in Debugging: Debugging multithreaded programs can be challenging due to issues such as race conditions, deadlocks, and thread interference. Identifying and resolving these issues requires careful analysis and testing, which can increase the development and debugging time."
   ]
  },
  {
   "cell_type": "markdown",
   "id": "27ec7eaa",
   "metadata": {},
   "source": [
    "### Q6. Explain deadlocks and race conditions"
   ]
  },
  {
   "cell_type": "markdown",
   "id": "42b774b3",
   "metadata": {},
   "source": [
    "ANS: Deadlocks and race conditions are two common synchronization problems that can occur in multithreaded or concurrent programs. \n",
    "1. Deadlocks: A deadlock is a situation where two or more threads are blocked forever, waiting for each other to release resources they hold. In a deadlock, none of the involved threads can proceed, resulting in a program freeze or deadlock situation.\n",
    "2. Race Conditions: A race condition occurs when the behavior of a program depends on the relative timing or interleaving of multiple threads or processes. It arises when multiple threads access shared resources concurrently and attempt to modify the same resource simultaneously. The result of a race condition is unpredictable and can lead to incorrect or inconsistent program behavior. "
   ]
  },
  {
   "cell_type": "code",
   "execution_count": null,
   "id": "9513bf62",
   "metadata": {},
   "outputs": [],
   "source": []
  }
 ],
 "metadata": {
  "kernelspec": {
   "display_name": "Python 3 (ipykernel)",
   "language": "python",
   "name": "python3"
  },
  "language_info": {
   "codemirror_mode": {
    "name": "ipython",
    "version": 3
   },
   "file_extension": ".py",
   "mimetype": "text/x-python",
   "name": "python",
   "nbconvert_exporter": "python",
   "pygments_lexer": "ipython3",
   "version": "3.9.13"
  }
 },
 "nbformat": 4,
 "nbformat_minor": 5
}
