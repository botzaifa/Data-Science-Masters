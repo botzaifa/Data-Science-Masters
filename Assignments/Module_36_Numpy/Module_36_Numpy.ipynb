{
 "cells": [
  {
   "cell_type": "markdown",
   "id": "3bbbaead",
   "metadata": {},
   "source": [
    "# Assignment (26th Feb) : Numpy"
   ]
  },
  {
   "cell_type": "markdown",
   "id": "a4340358",
   "metadata": {},
   "source": [
    "### Q1. Is there any difference in the data type of variables list_ and array_list? If there is then write a code to print the data types of both the variables."
   ]
  },
  {
   "cell_type": "markdown",
   "id": "beffd5e2",
   "metadata": {},
   "source": [
    "**ANS:** Yes, there is a difference in the data types of list_ and array_list after the conversion."
   ]
  },
  {
   "cell_type": "code",
   "execution_count": 1,
   "id": "895f5be4",
   "metadata": {},
   "outputs": [
    {
     "name": "stdout",
     "output_type": "stream",
     "text": [
      "Data type of list_: <class 'str'>\n",
      "Data type of array_list: <U1\n"
     ]
    }
   ],
   "source": [
    "import numpy as np\n",
    "\n",
    "list_ = ['1', '2', '3', '4', '5']\n",
    "\n",
    "array_list = np.array(list_)\n",
    "\n",
    "print(\"Data type of list_:\", type(list_[0]))\n",
    "print(\"Data type of array_list:\", array_list.dtype)"
   ]
  },
  {
   "cell_type": "markdown",
   "id": "c0878890",
   "metadata": {},
   "source": [
    "### Q2. Write a code to print the data type of each and every element of both the variables list_ and arra_list."
   ]
  },
  {
   "cell_type": "code",
   "execution_count": 2,
   "id": "9e3eefd6",
   "metadata": {},
   "outputs": [
    {
     "name": "stdout",
     "output_type": "stream",
     "text": [
      "Data types in list_:\n",
      "<class 'str'>\n",
      "<class 'str'>\n",
      "<class 'str'>\n",
      "<class 'str'>\n",
      "<class 'str'>\n",
      "\n",
      "Data types in array_list:\n",
      "<class 'numpy.str_'>\n",
      "<class 'numpy.str_'>\n",
      "<class 'numpy.str_'>\n",
      "<class 'numpy.str_'>\n",
      "<class 'numpy.str_'>\n"
     ]
    }
   ],
   "source": [
    "import numpy as np\n",
    "\n",
    "list_ = ['1', '2', '3', '4', '5']\n",
    "\n",
    "array_list = np.array(list_)\n",
    "\n",
    "print(\"Data types in list_:\")\n",
    "for element in list_:\n",
    "    print(type(element))\n",
    "    \n",
    "print(\"\\nData types in array_list:\")\n",
    "for element in array_list:\n",
    "    print(type(element))"
   ]
  },
  {
   "cell_type": "markdown",
   "id": "cc8e14fc",
   "metadata": {},
   "source": [
    "### Q3. Considering the following changes in the variable, array_list:\n",
    "array_list = np.array(object = list_, dtype = int)\n",
    "### Will there be any difference in the data type of the elements present in both the variables, list_ and arra_list? If so then print the data types of each and every element present in both the variables, list_ and arra_list."
   ]
  },
  {
   "cell_type": "markdown",
   "id": "11df1c06",
   "metadata": {},
   "source": [
    "**ANS**: Yes, there will be a difference in the data type of the elements in list_ and array_list when you specify dtype=int during the conversion. The array_list will now contain integers instead of strings."
   ]
  },
  {
   "cell_type": "code",
   "execution_count": 3,
   "id": "057cec5f",
   "metadata": {},
   "outputs": [
    {
     "name": "stdout",
     "output_type": "stream",
     "text": [
      "Data types in list_:\n",
      "<class 'str'>\n",
      "<class 'str'>\n",
      "<class 'str'>\n",
      "<class 'str'>\n",
      "<class 'str'>\n",
      "\n",
      "Data types in array_list:\n",
      "<class 'numpy.int32'>\n",
      "<class 'numpy.int32'>\n",
      "<class 'numpy.int32'>\n",
      "<class 'numpy.int32'>\n",
      "<class 'numpy.int32'>\n"
     ]
    }
   ],
   "source": [
    "import numpy as np\n",
    "\n",
    "list_ = ['1', '2', '3', '4', '5']\n",
    "\n",
    "array_list = np.array(object = list_, dtype = int)\n",
    "\n",
    "print(\"Data types in list_:\")\n",
    "for element in list_:\n",
    "    print(type(element))\n",
    "\n",
    "print(\"\\nData types in array_list:\")\n",
    "for element in array_list:\n",
    "    print(type(element))"
   ]
  },
  {
   "cell_type": "markdown",
   "id": "0065b46c",
   "metadata": {},
   "source": [
    "### Q4. Write a code to find the following characteristics of variable, num_array:\n",
    "(i) shape\n",
    "\n",
    "(ii) size"
   ]
  },
  {
   "cell_type": "code",
   "execution_count": 4,
   "id": "d5823d8b",
   "metadata": {},
   "outputs": [
    {
     "name": "stdout",
     "output_type": "stream",
     "text": [
      "Shape of num_array: (2, 3)\n",
      "Size of num_array: 6\n"
     ]
    }
   ],
   "source": [
    "import numpy as np\n",
    "\n",
    "num_list = [[1, 2, 3], [4, 5, 6]]\n",
    "\n",
    "num_array = np.array(num_list)\n",
    "\n",
    "print(\"Shape of num_array:\", num_array.shape)\n",
    "\n",
    "print(\"Size of num_array:\", num_array.size)"
   ]
  },
  {
   "cell_type": "markdown",
   "id": "182dc77c",
   "metadata": {},
   "source": [
    "### Q5. Write a code to create numpy array of 3*3 matrix containing zeros only, using a numpy array creation function."
   ]
  },
  {
   "cell_type": "code",
   "execution_count": 5,
   "id": "a06fc438",
   "metadata": {},
   "outputs": [
    {
     "name": "stdout",
     "output_type": "stream",
     "text": [
      "[[0. 0. 0.]\n",
      " [0. 0. 0.]\n",
      " [0. 0. 0.]]\n"
     ]
    }
   ],
   "source": [
    "import numpy as np\n",
    "\n",
    "zero_matrix = np.zeros((3, 3))\n",
    "\n",
    "print(zero_matrix)"
   ]
  },
  {
   "cell_type": "markdown",
   "id": "25772643",
   "metadata": {},
   "source": [
    "### Q6. Create an identity matrix of shape (5,5) using numpy functions?"
   ]
  },
  {
   "cell_type": "code",
   "execution_count": 6,
   "id": "6d356cfd",
   "metadata": {},
   "outputs": [
    {
     "name": "stdout",
     "output_type": "stream",
     "text": [
      "[[1. 0. 0. 0. 0.]\n",
      " [0. 1. 0. 0. 0.]\n",
      " [0. 0. 1. 0. 0.]\n",
      " [0. 0. 0. 1. 0.]\n",
      " [0. 0. 0. 0. 1.]]\n"
     ]
    }
   ],
   "source": [
    "import numpy as np\n",
    "\n",
    "identity_matrix = np.identity(5)\n",
    "\n",
    "print(identity_matrix)"
   ]
  }
 ],
 "metadata": {
  "kernelspec": {
   "display_name": "Python 3 (ipykernel)",
   "language": "python",
   "name": "python3"
  },
  "language_info": {
   "codemirror_mode": {
    "name": "ipython",
    "version": 3
   },
   "file_extension": ".py",
   "mimetype": "text/x-python",
   "name": "python",
   "nbconvert_exporter": "python",
   "pygments_lexer": "ipython3",
   "version": "3.9.13"
  }
 },
 "nbformat": 4,
 "nbformat_minor": 5
}
