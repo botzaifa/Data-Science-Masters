{
 "cells": [
  {
   "cell_type": "markdown",
   "id": "8ba82327",
   "metadata": {},
   "source": [
    "# Assignment - 01 (Tuple Set and Dictionary)"
   ]
  },
  {
   "cell_type": "markdown",
   "id": "8a4a5a76",
   "metadata": {},
   "source": [
    "### Q1. What are the Characteristics of the Tuples? Is Tuple Immutable?"
   ]
  },
  {
   "cell_type": "markdown",
   "id": "64c31634",
   "metadata": {},
   "source": [
    "ANS: Tuples are ordered collections of elements, which can be of different data types such as integers, floats, strings, or even other tuples. \n",
    "1. The main characteristics of tuples are:\n",
    "        a. Immutable\n",
    "        b. Heterogeneous\n",
    "        c. Ordered\n",
    "        d. Iterable\n",
    "2. No Tuples are Mutable."
   ]
  },
  {
   "cell_type": "markdown",
   "id": "7129b2de",
   "metadata": {},
   "source": [
    "### Q2. What are the Two Tuple methods in Python? Give an Example of each method. Give a reason why Tuples have only Two in-built methods as compared to Lists."
   ]
  },
  {
   "cell_type": "markdown",
   "id": "73ae3af5",
   "metadata": {},
   "source": [
    "ANS: The Two tuple methods in python are:\n",
    "1. count()\n",
    "2. index()\n",
    "\n",
    "The reason why tuples have only two in-built methods as compared to lists is that tuples are immutable, while lists are mutable. This means that tuples do not require as many methods as lists since tuples cannot be modified. The two methods provided for tuples are useful for accessing and manipulating the data in the tuple, without altering its contents. Lists, on the other hand, have more in-built methods since they can be modified and therefore require additional methods for appending, removing, and sorting elements."
   ]
  },
  {
   "cell_type": "code",
   "execution_count": 1,
   "id": "7d1b1632",
   "metadata": {},
   "outputs": [
    {
     "name": "stdout",
     "output_type": "stream",
     "text": [
      "2\n"
     ]
    }
   ],
   "source": [
    "# Count()\n",
    "tup=(1,2,3,4,4,5)\n",
    "print(tup.count(4))"
   ]
  },
  {
   "cell_type": "code",
   "execution_count": 2,
   "id": "c0d13b51",
   "metadata": {},
   "outputs": [
    {
     "name": "stdout",
     "output_type": "stream",
     "text": [
      "2\n"
     ]
    }
   ],
   "source": [
    "# Index()\n",
    "tup=(1,2,3,4,5)\n",
    "print(tup.index(3))"
   ]
  },
  {
   "cell_type": "markdown",
   "id": "db27161f",
   "metadata": {},
   "source": [
    "### Q3. Which collection datatypes in python do not allow duplicate items? Write a code using a set to remove duplicates from the given list.\n",
    "List = [1, 1, 1, 2, 1, 3, 1, 4, 2, 1, 2, 2, 2, 3, 2, 4, 3, 1, 3, 2, 3, 3, 3, 4, 4, 1, 4, 2, 4, 3, 4, 4]\n"
   ]
  },
  {
   "cell_type": "markdown",
   "id": "bd7295a0",
   "metadata": {},
   "source": [
    "ANS: The collection of datatype in Python that doesn't allow duplicate items is the ‘Set’."
   ]
  },
  {
   "cell_type": "code",
   "execution_count": 5,
   "id": "92e7842c",
   "metadata": {},
   "outputs": [
    {
     "name": "stdout",
     "output_type": "stream",
     "text": [
      "[1, 2, 3, 4]\n"
     ]
    }
   ],
   "source": [
    "my_list = [1, 1, 1, 2, 1, 3, 1, 4, 2, 1, 2, 2, 2, 3, 2, \n",
    "           4, 3, 1, 3, 2, 3, 3, 3, 4, 4, 1, 4, 2, 4, 3, 4, 4]\n",
    "\n",
    "my_set = set(my_list)\n",
    "my_list = list(my_set)\n",
    "print(my_list)  "
   ]
  },
  {
   "cell_type": "markdown",
   "id": "668ac076",
   "metadata": {},
   "source": [
    "### Q4. Explain the difference between the union() and update() methods for a set. Give an example of each method."
   ]
  },
  {
   "cell_type": "markdown",
   "id": "02152237",
   "metadata": {},
   "source": [
    "ANS: The ‘Union()’ and ‘Update()’ methods are used to combine sets in Python. However, there is a small difference between these two methods.\n",
    "1. ‘Union()’ : This method returns a new set containing all the elements from the original set and another set or iterable. The original sets remain unchanged. If there are duplicate elements in the sets, the resulting set will only contain one instance of each unique element.\n",
    "2. ‘Update()’ : This method adds all the elements from another set or iterable to the original set. The original set is modified in place. If there are duplicate elements in the sets, the resulting set will only contain one instance of each unique element."
   ]
  },
  {
   "cell_type": "code",
   "execution_count": 6,
   "id": "dd35559e",
   "metadata": {},
   "outputs": [
    {
     "name": "stdout",
     "output_type": "stream",
     "text": [
      "{1, 2, 3, 4, 5}\n"
     ]
    }
   ],
   "source": [
    "set_a = {1, 2, 3}\n",
    "set_b = {3, 4, 5}\n",
    "set_c = set_a.union(set_b)\n",
    "print(set_c)  "
   ]
  },
  {
   "cell_type": "code",
   "execution_count": 7,
   "id": "a12db322",
   "metadata": {},
   "outputs": [
    {
     "name": "stdout",
     "output_type": "stream",
     "text": [
      "{1, 2, 3, 4, 5}\n"
     ]
    }
   ],
   "source": [
    "set_a = {1, 2, 3}\n",
    "set_b = {3, 4, 5}\n",
    "set_a.update(set_b)\n",
    "print(set_a)  "
   ]
  },
  {
   "cell_type": "markdown",
   "id": "6ea1c244",
   "metadata": {},
   "source": [
    "### Q5. What is a Dictionary? Give an example. Also, state whether a Dictionary is Ordered or Unordered."
   ]
  },
  {
   "cell_type": "markdown",
   "id": "b00af8ee",
   "metadata": {},
   "source": [
    "ANS: A dictionary is a collection data type in Python that stores data as key-value pairs. Each key is unique, and the corresponding value can be any data type such as integers, strings, lists, or other dictionaries. Dictionaries are enclosed in curly braces ‘{}’ and the key-value pairs are separated by a colon ‘:’\n",
    "\n",
    "Dictionaries are unordered, Which means that the order in which the items are inserted into the dictionary is not preserved. Meaning that if we iterate over the items in a dictionary, we cannot rely on the order of the items."
   ]
  },
  {
   "cell_type": "code",
   "execution_count": 8,
   "id": "c848a83d",
   "metadata": {},
   "outputs": [
    {
     "name": "stdout",
     "output_type": "stream",
     "text": [
      "{'Name': 'Huzi', 'Age': 19, 'Mobile Num': 92969420}\n"
     ]
    }
   ],
   "source": [
    "d1 = {\"Name\":\"Huzi\",\"Age\":19,\"Mobile Num\":92969420}\n",
    "print(d1)"
   ]
  },
  {
   "cell_type": "markdown",
   "id": "b53d6c71",
   "metadata": {},
   "source": [
    "### Q6. Can we create a Nested Dictionary? If so, please give an Example by creating a simple One-Level Nested Dictionary."
   ]
  },
  {
   "cell_type": "markdown",
   "id": "b87d3d1c",
   "metadata": {},
   "source": [
    "ANS: Yes, we can create a nested dictionary in Python, where a dictionary can contain other dictionaries as values."
   ]
  },
  {
   "cell_type": "code",
   "execution_count": 9,
   "id": "713baf74",
   "metadata": {},
   "outputs": [
    {
     "name": "stdout",
     "output_type": "stream",
     "text": [
      "{'name': 'John', 'age': 30, 'address': {'street': '123 Main St', 'city': 'New York', 'state': 'NY', 'zipcode': '10001'}}\n"
     ]
    }
   ],
   "source": [
    "# Example\n",
    "person = { \"name\": \"John\",\n",
    "    \"age\": 30,\n",
    "    \"address\": {\n",
    "        \"street\": \"123 Main St\",\n",
    "        \"city\": \"New York\",\n",
    "        \"state\": \"NY\",\n",
    "        \"zipcode\": \"10001\" }}\n",
    "print(person)"
   ]
  },
  {
   "cell_type": "markdown",
   "id": "7652c6d3",
   "metadata": {},
   "source": [
    "### Q7. Using setdefault() method, create key named topics in the given dictionary and also add the value of the key as this list \n",
    "['Python', 'Machine Learning’, 'Deep Learning']\n",
    "\n",
    "dict1 = {'language' : 'Python', 'course': 'Data Science Masters'}\n"
   ]
  },
  {
   "cell_type": "code",
   "execution_count": 10,
   "id": "698b4819",
   "metadata": {},
   "outputs": [
    {
     "name": "stdout",
     "output_type": "stream",
     "text": [
      "{'language': 'Python', 'course': 'Data Science Masters', 'topics': ['Python', 'Machine Learning', 'Deep Learning']}\n"
     ]
    }
   ],
   "source": [
    "dict1 = {'language' : 'Python', 'course': 'Data Science Masters'}\n",
    "dict1.setdefault(\"topics\",['Python', 'Machine Learning', 'Deep Learning'])\n",
    "print(dict1)"
   ]
  },
  {
   "cell_type": "markdown",
   "id": "cb528e42",
   "metadata": {},
   "source": [
    "### Q8. What are the three view objects in dictionaries? Use the three in-built methods in python to display these three view objects for the given dictionary.\n",
    "dict1 = {'Sport': 'Cricket' , 'Teams': ['India', 'Australia', 'England', 'South Africa', 'Sri Lanka', 'New Zealand']}"
   ]
  },
  {
   "cell_type": "markdown",
   "id": "c4d2e0c0",
   "metadata": {},
   "source": [
    "ANS: The Three ciew objects in dictionaries are:\n",
    "1. Keys: A view object that contains the keys of the dictionary.\n",
    "2. Values: A view object that contains the calues of the dictionary.\n",
    "3. Items: A view object that contains sthe key-value pairs of the dictionary as tuples."
   ]
  },
  {
   "cell_type": "code",
   "execution_count": 11,
   "id": "f3ac25f5",
   "metadata": {},
   "outputs": [
    {
     "name": "stdout",
     "output_type": "stream",
     "text": [
      "dict_keys(['Sport', 'Teams'])\n",
      "dict_values(['Cricket', ['India', 'Australia', 'England', 'South Africa', 'Sri Lanka', 'New Zealand']])\n",
      "dict_items([('Sport', 'Cricket'), ('Teams', ['India', 'Australia', 'England', 'South Africa', 'Sri Lanka', 'New Zealand'])])\n"
     ]
    }
   ],
   "source": [
    "dict1 = {'Sport': 'Cricket' , 'Teams': ['India', 'Australia', 'England', 'South Africa', 'Sri Lanka', 'New Zealand']}\n",
    "\n",
    "# Display dict_keys object\n",
    "keys = dict1.keys()\n",
    "print(keys)\n",
    "\n",
    "# Display dict_values object\n",
    "values = dict1.values()\n",
    "print(values)\n",
    "\n",
    "# Display dict_items object\n",
    "items = dict1.items()\n",
    "print(items)"
   ]
  }
 ],
 "metadata": {
  "kernelspec": {
   "display_name": "Python 3 (ipykernel)",
   "language": "python",
   "name": "python3"
  },
  "language_info": {
   "codemirror_mode": {
    "name": "ipython",
    "version": 3
   },
   "file_extension": ".py",
   "mimetype": "text/x-python",
   "name": "python",
   "nbconvert_exporter": "python",
   "pygments_lexer": "ipython3",
   "version": "3.9.13"
  }
 },
 "nbformat": 4,
 "nbformat_minor": 5
}
