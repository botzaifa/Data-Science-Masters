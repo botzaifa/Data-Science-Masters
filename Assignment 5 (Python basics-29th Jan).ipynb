{
 "cells": [
  {
   "cell_type": "markdown",
   "id": "76037bda",
   "metadata": {},
   "source": [
    "# Assignment-5 (29th Jan)"
   ]
  },
  {
   "cell_type": "markdown",
   "id": "1fd9d045",
   "metadata": {},
   "source": [
    "### Q1. Who developed Python Language?"
   ]
  },
  {
   "cell_type": "markdown",
   "id": "d8af2616",
   "metadata": {},
   "source": [
    "ANS: Python was developed by Guido van Rossum, a Dutch programmer, in the late 1980s. The first version of Python was released in 1991."
   ]
  },
  {
   "cell_type": "markdown",
   "id": "51bcc2fd",
   "metadata": {},
   "source": [
    "### Q2. Which type of programming does Python support?"
   ]
  },
  {
   "cell_type": "markdown",
   "id": "531c22e2",
   "metadata": {},
   "source": [
    "ANS: Python is a high-level, general-purpose programming language that supports a wide range of programming paradigms, including:\n",
    "\n",
    "1. Procedural programming\n",
    "2. Object-oriented programming\n",
    "3. Functional programming\n",
    "4. Aspect-oriented programming\n",
    "5. Imperative programming\n",
    "6. Event-driven programming\n",
    "7. Metaprogramming\n",
    "Python's versatility in supporting multiple programming paradigms has made it a popular choice for a variety of applications, including web development, scientific computing, data analysis, artificial intelligence, and more."
   ]
  },
  {
   "cell_type": "markdown",
   "id": "e7177597",
   "metadata": {},
   "source": [
    "### Q3. Is Python case sesnsitive when dealing with Identifiers?"
   ]
  },
  {
   "cell_type": "markdown",
   "id": "70bd7c57",
   "metadata": {},
   "source": [
    "ANS: Yes, Python is a case-sensitive language when it comes to identifiers such as variable names, function names, class names, and so on. This means that the Python interpreter treats variables with different capitalization as different variables."
   ]
  },
  {
   "cell_type": "markdown",
   "id": "bacfa56d",
   "metadata": {},
   "source": [
    "### Q4. What is the correct extension of Python file?"
   ]
  },
  {
   "cell_type": "markdown",
   "id": "bc2b1112",
   "metadata": {},
   "source": [
    "ANS: In Python, the standard extension for a Python source code file is \".py\". This extension is used to indicate to the operating system and other tools that the file contains Python code."
   ]
  },
  {
   "cell_type": "markdown",
   "id": "32b8f25e",
   "metadata": {},
   "source": [
    "### Q5. Is Python code compiled or interpreted?"
   ]
  },
  {
   "cell_type": "markdown",
   "id": "4dac04de",
   "metadata": {},
   "source": [
    "ANS: Python code is interpreted. When you write Python code, it is compiled into bytecode by the Python interpreter. The bytecode is a low-level platform-independent representation of the code that can be executed by the Python Virtual Machine (PVM).\n",
    "When you run a Python program, the PVM reads the bytecode and executes it. This interpretation process happens dynamically, which means that the Python interpreter compiles the code as it is being executed."
   ]
  },
  {
   "cell_type": "markdown",
   "id": "d3aab7b5",
   "metadata": {},
   "source": [
    "### Q6. Name a few blocks of code used to define in Python language"
   ]
  },
  {
   "cell_type": "markdown",
   "id": "f75d7162",
   "metadata": {},
   "source": [
    "ANS: In Python, blocks of code are defined using indentation. The amount of indentation determines which statements are part of a block. Some of the common blocks of code used in Python include:\n",
    "1. Function blocks\n",
    "2. Conditional blocks\n",
    "3. Loop blocks\n",
    "4. Class blocks\n",
    "5. Exception handling blocks"
   ]
  },
  {
   "cell_type": "markdown",
   "id": "acc160f1",
   "metadata": {},
   "source": [
    "### Q7. State a character used to give single line comments in Python?"
   ]
  },
  {
   "cell_type": "markdown",
   "id": "a25eb355",
   "metadata": {},
   "source": [
    "ANS: In Python, the hash symbol (#) is used to indicate a single line comment. Any text that follows the hash symbol on a line is treated as a comment and ignored by the Python interpreter."
   ]
  },
  {
   "cell_type": "markdown",
   "id": "6356f032",
   "metadata": {},
   "source": [
    "### Q8. Mention functions which can help us to find the Version of Python that we are currently working on?"
   ]
  },
  {
   "cell_type": "markdown",
   "id": "568ddc6e",
   "metadata": {},
   "source": [
    "ANS: The functions required which can help us to find the Version of Python that we are currently working on are:"
   ]
  },
  {
   "cell_type": "code",
   "execution_count": 1,
   "id": "53fd22ef",
   "metadata": {},
   "outputs": [
    {
     "name": "stdout",
     "output_type": "stream",
     "text": [
      "3.9.13 (main, Aug 25 2022, 23:51:50) [MSC v.1916 64 bit (AMD64)]\n"
     ]
    }
   ],
   "source": [
    "import sys\n",
    "print(sys.version)"
   ]
  },
  {
   "cell_type": "code",
   "execution_count": 2,
   "id": "54c457da",
   "metadata": {},
   "outputs": [
    {
     "name": "stdout",
     "output_type": "stream",
     "text": [
      "sys.version_info(major=3, minor=9, micro=13, releaselevel='final', serial=0)\n"
     ]
    }
   ],
   "source": [
    "import sys\n",
    "print(sys.version_info)"
   ]
  },
  {
   "cell_type": "code",
   "execution_count": 3,
   "id": "ef5c93fd",
   "metadata": {},
   "outputs": [
    {
     "name": "stdout",
     "output_type": "stream",
     "text": [
      "3.9.13\n"
     ]
    }
   ],
   "source": [
    "import platform\n",
    "print(platform.python_version())"
   ]
  },
  {
   "cell_type": "code",
   "execution_count": 4,
   "id": "a786e761",
   "metadata": {},
   "outputs": [
    {
     "name": "stdout",
     "output_type": "stream",
     "text": [
      "CPython\n"
     ]
    }
   ],
   "source": [
    "import platform\n",
    "print(platform.python_implementation())"
   ]
  },
  {
   "cell_type": "markdown",
   "id": "942b3f72",
   "metadata": {},
   "source": [
    "### Q9. Python supports the creation of anonymus functions at runtime, using a construct called?"
   ]
  },
  {
   "cell_type": "markdown",
   "id": "b9a9cfeb",
   "metadata": {},
   "source": [
    "ANS: Python supports the creation of anonymous functions at runtime, using a construct called \"lambda\" functions.\n",
    "\n",
    "A lambda function is a small anonymous function that can have any number of parameters, but can only have one expression. They are commonly used in situations where you need a short function for a specific purpose, such as sorting or filtering a list.\n",
    "\n",
    "Lambda functions are defined using the 'lambda' keyword, followed by a comma-separated list of arguments (if any), a colon, and the expression that the function should evaluate to."
   ]
  },
  {
   "cell_type": "markdown",
   "id": "c55ee527",
   "metadata": {},
   "source": [
    "### Q10. What does pip stand for Python?"
   ]
  },
  {
   "cell_type": "markdown",
   "id": "b34846b1",
   "metadata": {},
   "source": [
    "ANS: Pip stands for \"Pip Installs Packages\" or sometimes referred to as \"Pip Installs Python\". It is a package manager for Python that allows you to install and manage software packages (or libraries) written in Python. Pip makes it easy to install third-party libraries and modules that are not included in the standard Python library."
   ]
  },
  {
   "cell_type": "markdown",
   "id": "9cb6538b",
   "metadata": {},
   "source": [
    "### Q11. Mention a few built in functions in Python?"
   ]
  },
  {
   "cell_type": "markdown",
   "id": "cfb4a1e8",
   "metadata": {},
   "source": [
    "ANS: Python provides a large number of built-in functions that are available for use without the need for importing any external libraries. Some of the most commonly used built-in functions in Python include:\n",
    "1. print(): This function is used to print a message or value to the console.\n",
    "2. len(): This function returns the number of items in an object, such as a string, list, or tuple.\n",
    "\n",
    "3. range(): This function returns a sequence of numbers, starting from 0 (by default) and incrementing by 1 (by default), up to a specified number.\n",
    "4. input(): This function is used to get input from the user.\n",
    "5. type(): This function returns the type of an object.\n",
    "\n",
    "6. int(): This function converts a value to an integer.\n",
    "\n",
    "7. str(): This function converts a value to a string.\n",
    "\n",
    "8. float(): This function converts a value to a floating-point number."
   ]
  },
  {
   "cell_type": "markdown",
   "id": "4301c5e8",
   "metadata": {},
   "source": [
    "### Q12. What is the maximum possible length of an identifier in Python?"
   ]
  },
  {
   "cell_type": "markdown",
   "id": "dc4b2a60",
   "metadata": {},
   "source": [
    "ANS: In Python, the maximum length of an identifier (i.e., a variable, function, or class name) is not specified by the language specification. However, the practical limit is determined by the maximum size of a string in Python.\n",
    "\n",
    "In Python 3, the maximum size of a string is determined by the amount of available memory. This means that the maximum length of an identifier is also limited by the amount of available memory.\n",
    "\n",
    "In practice, however, it is rare to encounter an identifier that is so long that it exceeds the practical limit of available memory. Most identifiers in Python are relatively short and descriptive, making them easy to read and understand."
   ]
  },
  {
   "cell_type": "markdown",
   "id": "0df3552d",
   "metadata": {},
   "source": [
    "### Q13. What are the benefits of using Python?"
   ]
  },
  {
   "cell_type": "markdown",
   "id": "88892d37",
   "metadata": {},
   "source": [
    "Python is a powerful and versatile programming language that offers a number of benefits, including:\n",
    "\n",
    "1. Easy to learn: Python has a simple and intuitive syntax that is easy to learn, making it an ideal language for beginners.\n",
    "\n",
    "2. Large standard library: Python comes with a large standard library that provides a wide range of useful modules and functions, making it easy to perform common tasks without the need for third-party libraries.\n",
    "\n",
    "3. Cross-platform compatibility: Python is available on a wide range of platforms, including Windows, macOS, and Linux, making it a versatile language for developing software that can run on multiple operating systems.\n",
    "\n",
    "4. High-level language: Python is a high-level language, which means that it abstracts away many of the low-level details of computer hardware, making it easier to write code that is easy to read and maintain.\n",
    "\n",
    "5. Dynamically typed: Python is a dynamically typed language, which means that you don't need to specify variable types explicitly. This makes it easier to write code quickly and without the need for complex type declarations."
   ]
  },
  {
   "cell_type": "markdown",
   "id": "3cbdf709",
   "metadata": {},
   "source": [
    "### Q14. How is memory managed in Python?"
   ]
  },
  {
   "cell_type": "markdown",
   "id": "1c425c4e",
   "metadata": {},
   "source": [
    "ANS: Memory management in Python is handled automatically by a built-in mechanism called the Python Memory Manager. The Memory Manager uses a combination of techniques to manage the allocation and deallocation of memory in a way that is transparent to the developer.\n",
    "The Python Memory Manager is responsible for the following tasks:\n",
    "\n",
    "1. Allocation of memory: The Memory Manager allocates memory when a new object is created.\n",
    "\n",
    "2. Deallocation of memory: The Memory Manager deallocates memory when an object is no longer needed. This is done using a technique called garbage collection.\n",
    "\n",
    "3. Optimization of memory usage: The Memory Manager optimizes memory usage by reusing memory that is no longer needed by one object for another object."
   ]
  },
  {
   "cell_type": "markdown",
   "id": "ab39a349",
   "metadata": {},
   "source": [
    "### Q15. How to install Python on Windows and set path variables?"
   ]
  },
  {
   "cell_type": "markdown",
   "id": "2fbd90f5",
   "metadata": {},
   "source": [
    "ANS: To install Python on Windows and set path variables, follow these steps:\n",
    "\n",
    "1. Download the latest version of Python from the official Python website (https://www.python.org/downloads/windows/). Choose the appropriate version based on your system architecture (32-bit or 64-bit) and the version of Python you want to install.\n",
    "\n",
    "2. Once the download is complete, double-click on the downloaded file to start the installation process.\n",
    "\n",
    "3. In the installer, select \"Add Python to PATH\" and then click \"Install Now\" to start the installation.\n",
    "\n",
    "4. Wait for the installation to complete. Once the installation is complete, you should see a message saying \"Setup was successful.\"\n",
    "\n",
    "5. To set the path variables, right-click on \"This PC\" or \"My Computer\" and select \"Properties\".\n",
    "\n",
    "6. Click on \"Advanced system settings\" and then click on the \"Environment Variables\" button.\n",
    "\n",
    "7. Under \"System Variables\", scroll down and find the \"Path\" variable. Click on \"Edit\" to add the path to your Python installation.\n",
    "\n",
    "8. Click on \"New\" and add the path to the Python executable, which should be something like \"C:\\PythonXX;C:\\PythonXX\\Scripts\" (replace \"XX\" with the version number of Python you installed).\n",
    "\n",
    "9. Click \"OK\" to save the changes and close all the windows.\n",
    "\n",
    "To check if Python is installed correctly and the path variables are set correctly, open a command prompt and type \"python\" followed by the \"Enter\" key. You should see the Python interpreter start up and display the version number of Python you installed."
   ]
  },
  {
   "cell_type": "markdown",
   "id": "047a1241",
   "metadata": {},
   "source": [
    "### Q16. Is identation required in Python?"
   ]
  },
  {
   "cell_type": "markdown",
   "id": "0af5f8e1",
   "metadata": {},
   "source": [
    "ANS: Yes, indentation is required in Python. Python uses whitespace indentation to define blocks of code, such as loops, functions, and conditional statements. In other programming languages, curly braces or similar symbols are used to define blocks of code. However, in Python, indentation is used instead."
   ]
  }
 ],
 "metadata": {
  "kernelspec": {
   "display_name": "Python 3 (ipykernel)",
   "language": "python",
   "name": "python3"
  },
  "language_info": {
   "codemirror_mode": {
    "name": "ipython",
    "version": 3
   },
   "file_extension": ".py",
   "mimetype": "text/x-python",
   "name": "python",
   "nbconvert_exporter": "python",
   "pygments_lexer": "ipython3",
   "version": "3.9.13"
  }
 },
 "nbformat": 4,
 "nbformat_minor": 5
}
