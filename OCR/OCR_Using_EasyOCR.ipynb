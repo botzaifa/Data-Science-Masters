{
 "cells": [
  {
   "cell_type": "markdown",
   "id": "b4188b02",
   "metadata": {},
   "source": [
    "# Installing the Libraries"
   ]
  },
  {
   "cell_type": "code",
   "execution_count": null,
   "id": "2d83b391",
   "metadata": {},
   "outputs": [],
   "source": [
    "# Un-comment these to install the libraires\n",
    "\n",
    "# !pip install easyocr\n",
    "# !pip install opencv-python\n",
    "# !pip install matplotlib"
   ]
  },
  {
   "cell_type": "markdown",
   "id": "7b33201d",
   "metadata": {},
   "source": [
    "# Importing the downloaded Libraries"
   ]
  },
  {
   "cell_type": "code",
   "execution_count": 2,
   "id": "90c2b8d5",
   "metadata": {},
   "outputs": [],
   "source": [
    "import matplotlib.pyplot as plt\n",
    "import cv2\n",
    "import easyocr\n",
    "from IPython.display import Image\n",
    "import warnings\n",
    "warnings.filterwarnings(\"ignore\")"
   ]
  },
  {
   "cell_type": "code",
   "execution_count": 5,
   "id": "d91b7cc4",
   "metadata": {},
   "outputs": [
    {
     "data": {
      "image/jpeg": "[encoded data removed]",
      "text/plain": [
       "<IPython.core.display.Image object>"
      ]
     },
     "execution_count": 5,
     "metadata": {},
     "output_type": "execute_result"
    }
   ],
   "source": [
    "Image(\"assets/bmwplate.jpg\")"
   ]
  },
  {
   "cell_type": "code",
   "execution_count": 4,
   "id": "4c14831d",
   "metadata": {},
   "outputs": [
    {
     "name": "stderr",
     "output_type": "stream",
     "text": [
      "Neither CUDA nor MPS are available - defaulting to CPU. Note: This module is much faster with a GPU.\n"
     ]
    }
   ],
   "source": [
    "reader = easyocr.Reader(['en'])"
   ]
  },
  {
   "cell_type": "code",
   "execution_count": 7,
   "id": "972b69d5",
   "metadata": {},
   "outputs": [],
   "source": [
    "output = reader.readtext('assets/bmwplate.jpg')"
   ]
  },
  {
   "cell_type": "code",
   "execution_count": 8,
   "id": "23a5f459",
   "metadata": {},
   "outputs": [
    {
     "data": {
      "text/plain": [
       "[([[16, 12], [112, 12], [112, 36], [16, 36]], 'HY7O BMW', 0.188936846056334)]"
      ]
     },
     "execution_count": 8,
     "metadata": {},
     "output_type": "execute_result"
    }
   ],
   "source": [
    "output"
   ]
  },
  {
   "cell_type": "code",
   "execution_count": 10,
   "id": "b7440f7e",
   "metadata": {},
   "outputs": [
    {
     "data": {
      "text/plain": [
       "'HY7O BMW'"
      ]
     },
     "execution_count": 10,
     "metadata": {},
     "output_type": "execute_result"
    }
   ],
   "source": [
    "output[-1][1]"
   ]
  },
  {
   "cell_type": "code",
   "execution_count": null,
   "id": "ca59b7fa",
   "metadata": {},
   "outputs": [],
   "source": []
  }
 ],
 "metadata": {
  "kernelspec": {
   "display_name": "Python 3 (ipykernel)",
   "language": "python",
   "name": "python3"
  },
  "language_info": {
   "codemirror_mode": {
    "name": "ipython",
    "version": 3
   },
   "file_extension": ".py",
   "mimetype": "text/x-python",
   "name": "python",
   "nbconvert_exporter": "python",
   "pygments_lexer": "ipython3",
   "version": "3.9.13"
  }
 },
 "nbformat": 4,
 "nbformat_minor": 5
}
