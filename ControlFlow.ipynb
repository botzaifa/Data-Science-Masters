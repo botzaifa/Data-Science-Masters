{
 "cells": [
  {
   "cell_type": "code",
   "execution_count": 1,
   "metadata": {},
   "outputs": [
    {
     "name": "stdout",
     "output_type": "stream",
     "text": [
      "huzaifa\n"
     ]
    }
   ],
   "source": [
    "print('huzaifa')"
   ]
  },
  {
   "cell_type": "code",
   "execution_count": 7,
   "metadata": {},
   "outputs": [],
   "source": [
    "age=18"
   ]
  },
  {
   "cell_type": "code",
   "execution_count": 3,
   "metadata": {},
   "outputs": [
    {
     "name": "stdout",
     "output_type": "stream",
     "text": [
      "you are Eligible to vote!\n"
     ]
    }
   ],
   "source": [
    "if age>=18:\n",
    "    print(\"you are Eligible to vote!\")"
   ]
  },
  {
   "cell_type": "code",
   "execution_count": 6,
   "metadata": {},
   "outputs": [
    {
     "name": "stdout",
     "output_type": "stream",
     "text": [
      "you are not an Adult\n"
     ]
    }
   ],
   "source": [
    "if age==18:\n",
    "    print(\"Congratulation you are an Adult now\")\n",
    "else:\n",
    "    print(\"you are not an Adult\")"
   ]
  },
  {
   "cell_type": "code",
   "execution_count": 1,
   "metadata": {},
   "outputs": [
    {
     "name": "stdout",
     "output_type": "stream",
     "text": [
      "Enter your name:Huzaifa Khan\n"
     ]
    }
   ],
   "source": [
    "name=input(\"Enter your name:\")"
   ]
  },
  {
   "cell_type": "code",
   "execution_count": 2,
   "metadata": {},
   "outputs": [
    {
     "data": {
      "text/plain": [
       "'Huzaifa Khan'"
      ]
     },
     "execution_count": 2,
     "metadata": {},
     "output_type": "execute_result"
    }
   ],
   "source": [
    "name"
   ]
  },
  {
   "cell_type": "code",
   "execution_count": 3,
   "metadata": {},
   "outputs": [
    {
     "name": "stdout",
     "output_type": "stream",
     "text": [
      "my name is Huzaifa Khan\n"
     ]
    }
   ],
   "source": [
    "print(f'my name is {name}')"
   ]
  },
  {
   "cell_type": "code",
   "execution_count": 7,
   "metadata": {},
   "outputs": [
    {
     "name": "stdout",
     "output_type": "stream",
     "text": [
      "Enter Your age:72\n"
     ]
    }
   ],
   "source": [
    "age=int(input(\"Enter Your age:\"))"
   ]
  },
  {
   "cell_type": "code",
   "execution_count": 8,
   "metadata": {},
   "outputs": [
    {
     "data": {
      "text/plain": [
       "72"
      ]
     },
     "execution_count": 8,
     "metadata": {},
     "output_type": "execute_result"
    }
   ],
   "source": [
    "age"
   ]
  },
  {
   "cell_type": "code",
   "execution_count": 9,
   "metadata": {},
   "outputs": [
    {
     "name": "stdout",
     "output_type": "stream",
     "text": [
      "You are not a Young Blood\n"
     ]
    }
   ],
   "source": [
    "if age>=18 and age<=45:\n",
    "    print(\"You are Young Blood\")\n",
    "else:\n",
    "    print(\"You are not a Young Blood\")"
   ]
  },
  {
   "cell_type": "code",
   "execution_count": 11,
   "metadata": {},
   "outputs": [
    {
     "name": "stdout",
     "output_type": "stream",
     "text": [
      "Enter the product price:900\n",
      "You have accquired a discount of 30%\n"
     ]
    }
   ],
   "source": [
    "price=int(input(\"Enter the product price:\"))\n",
    "if price>1000:\n",
    "    print(\"You have accquired a discount of 20%\")\n",
    "else:\n",
    "    print(\"You have accquired a discount of 30%\")"
   ]
  },
  {
   "cell_type": "code",
   "execution_count": 25,
   "metadata": {},
   "outputs": [
    {
     "name": "stdout",
     "output_type": "stream",
     "text": [
      "Enter the product price:0\n",
      "Congratulations You have accquired a discount of 30%\n",
      "Your Final price after discount is: 0.0\n"
     ]
    }
   ],
   "source": [
    "price=int(input(\"Enter the product price:\"))\n",
    "if price>1000:\n",
    "    print(\"Congratulations you have accquired a discount of 20%\")\n",
    "    print(\"Your Final price after discount is:\",price-(price*20/100))\n",
    "else:\n",
    "    print(\"Congratulations You have accquired a discount of 30%\")\n",
    "    print(\"Your Final price after discount is:\",price-(price*30/100))"
   ]
  },
  {
   "cell_type": "code",
   "execution_count": 20,
   "metadata": {},
   "outputs": [
    {
     "name": "stdout",
     "output_type": "stream",
     "text": [
      "Enter the product price:900\n",
      "Congratulations You have accquired a discount of 30%\n",
      "Your Final price after discount is: 630.0\n"
     ]
    }
   ],
   "source": [
    "price=int(input(\"Enter the product price:\"))\n",
    "if price>1000:\n",
    "    print(\"Congratulations you have accquired a discount of 20%\")\n",
    "    print(\"Your Final price after discount is:\",price*0.8)\n",
    "else:\n",
    "    print(\"Congratulations You have accquired a discount of 30%\")\n",
    "    print(\"Your Final price after discount is:\",price*0.7)"
   ]
  },
  {
   "cell_type": "code",
   "execution_count": 21,
   "metadata": {},
   "outputs": [
    {
     "name": "stdout",
     "output_type": "stream",
     "text": [
      "Enter the product price:1500\n",
      "You have got a discount of 20% therefore, the price after discount is:1200.0! \n",
      "Thank you!\n"
     ]
    }
   ],
   "source": [
    "price=int(input(\"Enter the product price:\"))\n",
    "if price>1000:\n",
    "    print(\"You have got a discount of 20% therefore, the price after discount is:{}! \\nThank you!\".format(price*0.8))\n",
    "else:\n",
    "    print(\"You have got a discount of 30% therefore, the price after discount is:{}! \\nThank you!\".format(price*0.7))"
   ]
  },
  {
   "cell_type": "code",
   "execution_count": 26,
   "metadata": {},
   "outputs": [
    {
     "name": "stdout",
     "output_type": "stream",
     "text": [
      "Enter the product price:2999\n",
      "Congratulations you get an additional gift!\n",
      "You have got a discount of 30% therefore, the price after discount is:2099.2999999999997! \n",
      "Thank you!\n"
     ]
    }
   ],
   "source": [
    "price=int(input(\"Enter the product price:\"))\n",
    "if price>3000:\n",
    "    print(\"You have got a discount of 20% therefore, the price after discount is:{}! \\nThank you!\".format(price*0.8))\n",
    "elif price>=2000 and price<=3000:\n",
    "    if price==2999:\n",
    "        print(\"Congratulations you get an additional gift!\")\n",
    "    print(\"You have got a discount of 30% therefore, the price after discount is:{}! \\nThank you!\".format(price*0.7))\n",
    "else:\n",
    "    print(\"You have got a discount of 40% therefore, the price after discount is:{}! \\nThank you!\".format(price*0.6))"
   ]
  },
  {
   "cell_type": "code",
   "execution_count": 2,
   "metadata": {},
   "outputs": [
    {
     "name": "stdout",
     "output_type": "stream",
     "text": [
      "Enter the value:3000\n",
      "The value is more than or equal to 3k!\n"
     ]
    }
   ],
   "source": [
    "# Single Cell\n",
    "val=int(input('Enter the value:'))\n",
    "if(val<=2999):print('The value is less than 3k!')\n",
    "else:print('The value is more than or equal to 3k!')"
   ]
  },
  {
   "cell_type": "code",
   "execution_count": null,
   "metadata": {},
   "outputs": [],
   "source": []
  }
 ],
 "metadata": {
  "kernelspec": {
   "display_name": "Python 3 (ipykernel)",
   "language": "python",
   "name": "python3"
  },
  "language_info": {
   "codemirror_mode": {
    "name": "ipython",
    "version": 3
   },
   "file_extension": ".py",
   "mimetype": "text/x-python",
   "name": "python",
   "nbconvert_exporter": "python",
   "pygments_lexer": "ipython3",
   "version": "3.9.13"
  },
  "vscode": {
   "interpreter": {
    "hash": "1951b3093147bc974bac290151ae3116f310d3bdbbd6e3a58a8fb1cdb08cf0c6"
   }
  }
 },
 "nbformat": 4,
 "nbformat_minor": 2
}
