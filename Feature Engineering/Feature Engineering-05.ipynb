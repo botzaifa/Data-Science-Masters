{
 "cells": [
  {
   "cell_type": "markdown",
   "id": "5950ca57",
   "metadata": {},
   "source": [
    "# Handling Outliers"
   ]
  },
  {
   "cell_type": "code",
   "execution_count": 1,
   "id": "3c41c67d",
   "metadata": {},
   "outputs": [],
   "source": [
    "import numpy as np\n",
    "import seaborn as sns"
   ]
  },
  {
   "cell_type": "code",
   "execution_count": 3,
   "id": "6501b127",
   "metadata": {},
   "outputs": [],
   "source": [
    "marks=[42,32,56,75,89,54,32,89,90,87,67,54,45,98,99,67,74]"
   ]
  },
  {
   "cell_type": "code",
   "execution_count": 6,
   "id": "fcf55ea7",
   "metadata": {},
   "outputs": [
    {
     "name": "stdout",
     "output_type": "stream",
     "text": [
      "32.0 54.0 67.0 89.0 99.0\n"
     ]
    }
   ],
   "source": [
    "minimum,Q1,median,Q3,maximum = np.quantile(marks,[0,0.25,0.50,0.75,1])\n",
    "print(minimum,Q1,median,Q3,maximum)"
   ]
  },
  {
   "cell_type": "code",
   "execution_count": 7,
   "id": "9e803150",
   "metadata": {},
   "outputs": [
    {
     "name": "stdout",
     "output_type": "stream",
     "text": [
      "35.0\n"
     ]
    }
   ],
   "source": [
    "IQR = Q3-Q1\n",
    "print(IQR)"
   ]
  },
  {
   "cell_type": "code",
   "execution_count": 13,
   "id": "fa6b7d68",
   "metadata": {},
   "outputs": [
    {
     "name": "stdout",
     "output_type": "stream",
     "text": [
      "1.5 \t 141.5\n"
     ]
    }
   ],
   "source": [
    "lower_fence=Q1-1.5*(IQR)\n",
    "higher_fence=Q3+1.5*(IQR)\n",
    "print(lower_fence,'\\t', higher_fence)"
   ]
  },
  {
   "cell_type": "code",
   "execution_count": 15,
   "id": "ac140cbd",
   "metadata": {},
   "outputs": [
    {
     "name": "stderr",
     "output_type": "stream",
     "text": [
      "C:\\Users\\Huzaifa Khan\\anaconda3\\lib\\site-packages\\seaborn\\_decorators.py:36: FutureWarning: Pass the following variable as a keyword arg: x. From version 0.12, the only valid positional argument will be `data`, and passing other arguments without an explicit keyword will result in an error or misinterpretation.\n",
      "  warnings.warn(\n"
     ]
    },
    {
     "data": {
      "text/plain": [
       "<AxesSubplot:>"
      ]
     },
     "execution_count": 15,
     "metadata": {},
     "output_type": "execute_result"
    },
    {
     "data": {
      "image/png": "[encoded data removed]",
      "text/plain": [
       "<Figure size 640x480 with 1 Axes>"
      ]
     },
     "metadata": {},
     "output_type": "display_data"
    }
   ],
   "source": [
    "sns.boxplot(marks)"
   ]
  },
  {
   "cell_type": "markdown",
   "id": "a4036bb2",
   "metadata": {},
   "source": [
    "## Testing with outliers"
   ]
  },
  {
   "cell_type": "code",
   "execution_count": 16,
   "id": "f08338ea",
   "metadata": {},
   "outputs": [],
   "source": [
    "marks_out =[-100,-200,45,32,56,75,89,54,32,89,90,87,67,54,45,98,99,67,74,150,170,180]"
   ]
  },
  {
   "cell_type": "code",
   "execution_count": 17,
   "id": "4690cb6d",
   "metadata": {},
   "outputs": [
    {
     "name": "stderr",
     "output_type": "stream",
     "text": [
      "C:\\Users\\Huzaifa Khan\\anaconda3\\lib\\site-packages\\seaborn\\_decorators.py:36: FutureWarning: Pass the following variable as a keyword arg: x. From version 0.12, the only valid positional argument will be `data`, and passing other arguments without an explicit keyword will result in an error or misinterpretation.\n",
      "  warnings.warn(\n"
     ]
    },
    {
     "data": {
      "text/plain": [
       "<AxesSubplot:>"
      ]
     },
     "execution_count": 17,
     "metadata": {},
     "output_type": "execute_result"
    },
    {
     "data": {
      "image/png": "[encoded data removed]",
      "text/plain": [
       "<Figure size 640x480 with 1 Axes>"
      ]
     },
     "metadata": {},
     "output_type": "display_data"
    }
   ],
   "source": [
    "sns.boxplot(marks_out)"
   ]
  }
 ],
 "metadata": {
  "kernelspec": {
   "display_name": "Python 3 (ipykernel)",
   "language": "python",
   "name": "python3"
  },
  "language_info": {
   "codemirror_mode": {
    "name": "ipython",
    "version": 3
   },
   "file_extension": ".py",
   "mimetype": "text/x-python",
   "name": "python",
   "nbconvert_exporter": "python",
   "pygments_lexer": "ipython3",
   "version": "3.9.13"
  }
 },
 "nbformat": 4,
 "nbformat_minor": 5
}
