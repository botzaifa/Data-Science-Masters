{
 "cells": [
  {
   "cell_type": "markdown",
   "id": "895397d2",
   "metadata": {},
   "source": [
    "# Boosting Regression Implementation"
   ]
  },
  {
   "cell_type": "code",
   "execution_count": 1,
   "id": "f05d6858",
   "metadata": {},
   "outputs": [],
   "source": [
    "import xgboost as xb\n",
    "from sklearn.datasets import make_regression\n",
    "from sklearn.model_selection import train_test_split\n",
    "from sklearn.ensemble import AdaBoostRegressor, GradientBoostingRegressor \n",
    "from sklearn.metrics import mean_squared_error, r2_score"
   ]
  },
  {
   "cell_type": "code",
   "execution_count": 2,
   "id": "3fba2997",
   "metadata": {},
   "outputs": [],
   "source": [
    "X, y = make_regression(n_features=4, n_informative=2, random_state=0, shuffle=False)"
   ]
  },
  {
   "cell_type": "code",
   "execution_count": 3,
   "id": "41f658bb",
   "metadata": {},
   "outputs": [],
   "source": [
    "X_train, X_test, y_train, y_test = train_test_split(X, y, test_size=0.33, random_state=42)"
   ]
  },
  {
   "cell_type": "markdown",
   "id": "ceea9046",
   "metadata": {},
   "source": [
    "## 1. AdaBoost Regressor"
   ]
  },
  {
   "cell_type": "code",
   "execution_count": 4,
   "id": "8b4eeb67",
   "metadata": {},
   "outputs": [],
   "source": [
    "regressor1 = AdaBoostRegressor()"
   ]
  },
  {
   "cell_type": "code",
   "execution_count": 5,
   "id": "d0f97f24",
   "metadata": {},
   "outputs": [
    {
     "data": {
      "text/plain": [
       "AdaBoostRegressor()"
      ]
     },
     "execution_count": 5,
     "metadata": {},
     "output_type": "execute_result"
    }
   ],
   "source": [
    "regressor1.fit(X_train, y_train)"
   ]
  },
  {
   "cell_type": "code",
   "execution_count": 6,
   "id": "058e67d5",
   "metadata": {},
   "outputs": [],
   "source": [
    "y_pred1 = regressor1.predict(X_test)"
   ]
  },
  {
   "cell_type": "code",
   "execution_count": 7,
   "id": "ad3567f2",
   "metadata": {},
   "outputs": [],
   "source": [
    "mse_a = mean_squared_error(y_test, y_pred1)\n",
    "r2_a = r2_score(y_test, y_pred1)"
   ]
  },
  {
   "cell_type": "code",
   "execution_count": 8,
   "id": "4f83894e",
   "metadata": {},
   "outputs": [
    {
     "name": "stdout",
     "output_type": "stream",
     "text": [
      "Mean Squared Error: 100.58625937653822\n",
      "R^2 Score: 0.9190985756955283\n"
     ]
    }
   ],
   "source": [
    "print(\"Mean Squared Error:\", mse_a)\n",
    "print(\"R^2 Score:\", r2_a)"
   ]
  },
  {
   "cell_type": "markdown",
   "id": "07535e0d",
   "metadata": {},
   "source": [
    "## 2. Gradient Boosting Regressor"
   ]
  },
  {
   "cell_type": "code",
   "execution_count": 9,
   "id": "95bca080",
   "metadata": {},
   "outputs": [],
   "source": [
    "regressor2 = GradientBoostingRegressor()"
   ]
  },
  {
   "cell_type": "code",
   "execution_count": 10,
   "id": "9c2bbf98",
   "metadata": {},
   "outputs": [
    {
     "data": {
      "text/plain": [
       "GradientBoostingRegressor()"
      ]
     },
     "execution_count": 10,
     "metadata": {},
     "output_type": "execute_result"
    }
   ],
   "source": [
    "regressor2.fit(X_train, y_train)"
   ]
  },
  {
   "cell_type": "code",
   "execution_count": 11,
   "id": "42f8e1fd",
   "metadata": {},
   "outputs": [],
   "source": [
    "y_pred2 = regressor2.predict(X_test)"
   ]
  },
  {
   "cell_type": "code",
   "execution_count": 12,
   "id": "244622e7",
   "metadata": {},
   "outputs": [],
   "source": [
    "mse_g = mean_squared_error(y_test, y_pred2)\n",
    "r2_g = r2_score(y_test, y_pred2)"
   ]
  },
  {
   "cell_type": "code",
   "execution_count": 13,
   "id": "fa4976c2",
   "metadata": {},
   "outputs": [
    {
     "name": "stdout",
     "output_type": "stream",
     "text": [
      "Mean Squared Error: 77.53409518521997\n",
      "R^2 Score: 0.9376394074944011\n"
     ]
    }
   ],
   "source": [
    "print(\"Mean Squared Error:\", mse_g)\n",
    "print(\"R^2 Score:\", r2_g)"
   ]
  },
  {
   "cell_type": "markdown",
   "id": "a8e177bf",
   "metadata": {},
   "source": [
    "## 3. XG Boost Regressor"
   ]
  },
  {
   "cell_type": "code",
   "execution_count": 14,
   "id": "dc2b8789",
   "metadata": {},
   "outputs": [],
   "source": [
    "regressor3 = xb.XGBRegressor()"
   ]
  },
  {
   "cell_type": "code",
   "execution_count": 15,
   "id": "fc9f56f4",
   "metadata": {},
   "outputs": [
    {
     "data": {
      "text/plain": [
       "XGBRegressor(base_score=None, booster=None, callbacks=None,\n",
       "             colsample_bylevel=None, colsample_bynode=None,\n",
       "             colsample_bytree=None, device=None, early_stopping_rounds=None,\n",
       "             enable_categorical=False, eval_metric=None, feature_types=None,\n",
       "             gamma=None, grow_policy=None, importance_type=None,\n",
       "             interaction_constraints=None, learning_rate=None, max_bin=None,\n",
       "             max_cat_threshold=None, max_cat_to_onehot=None,\n",
       "             max_delta_step=None, max_depth=None, max_leaves=None,\n",
       "             min_child_weight=None, missing=nan, monotone_constraints=None,\n",
       "             multi_strategy=None, n_estimators=None, n_jobs=None,\n",
       "             num_parallel_tree=None, random_state=None, ...)"
      ]
     },
     "execution_count": 15,
     "metadata": {},
     "output_type": "execute_result"
    }
   ],
   "source": [
    "regressor3.fit(X_train, y_train)"
   ]
  },
  {
   "cell_type": "code",
   "execution_count": 16,
   "id": "dc311507",
   "metadata": {},
   "outputs": [],
   "source": [
    "y_pred3 = regressor3.predict(X_test)"
   ]
  },
  {
   "cell_type": "code",
   "execution_count": 17,
   "id": "93bf32ee",
   "metadata": {},
   "outputs": [],
   "source": [
    "mse_x = mean_squared_error(y_test, y_pred3)\n",
    "r2_x = r2_score(y_test, y_pred3)"
   ]
  },
  {
   "cell_type": "code",
   "execution_count": 18,
   "id": "274692ee",
   "metadata": {},
   "outputs": [
    {
     "name": "stdout",
     "output_type": "stream",
     "text": [
      "Mean Squared Error: 110.66647245546422\n",
      "R^2 Score: 0.9109910707496999\n"
     ]
    }
   ],
   "source": [
    "print(\"Mean Squared Error:\", mse_x)\n",
    "print(\"R^2 Score:\", r2_x)"
   ]
  },
  {
   "cell_type": "code",
   "execution_count": null,
   "id": "c6c664c4",
   "metadata": {},
   "outputs": [],
   "source": []
  }
 ],
 "metadata": {
  "kernelspec": {
   "display_name": "Python 3 (ipykernel)",
   "language": "python",
   "name": "python3"
  },
  "language_info": {
   "codemirror_mode": {
    "name": "ipython",
    "version": 3
   },
   "file_extension": ".py",
   "mimetype": "text/x-python",
   "name": "python",
   "nbconvert_exporter": "python",
   "pygments_lexer": "ipython3",
   "version": "3.9.13"
  }
 },
 "nbformat": 4,
 "nbformat_minor": 5
}
