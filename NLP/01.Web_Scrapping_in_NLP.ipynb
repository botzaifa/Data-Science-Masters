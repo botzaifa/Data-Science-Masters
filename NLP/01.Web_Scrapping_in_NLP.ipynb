{
 "cells": [
  {
   "cell_type": "markdown",
   "metadata": {
    "id": "VoqPCOhP2MFh"
   },
   "source": [
    "# Import necessary libraries"
   ]
  },
  {
   "cell_type": "code",
   "execution_count": 1,
   "metadata": {},
   "outputs": [],
   "source": [
    "# Installing Libraries\n",
    "# !pip install nltk\n",
    "# !pip install beautifulsoup4\n",
    "# !pip install regex\n",
    "# !pip install requests"
   ]
  },
  {
   "cell_type": "code",
   "execution_count": 2,
   "metadata": {
    "id": "JytTvIGg2MFl"
   },
   "outputs": [],
   "source": [
    "import requests\n",
    "from bs4 import BeautifulSoup\n",
    "import re\n",
    "from nltk.tokenize import word_tokenize\n",
    "from nltk.corpus import stopwords\n",
    "from nltk.stem import PorterStemmer"
   ]
  },
  {
   "cell_type": "markdown",
   "metadata": {
    "id": "sKJV4dRd2MFm"
   },
   "source": [
    "# Fetch and Parse HTML"
   ]
  },
  {
   "cell_type": "markdown",
   "metadata": {
    "id": "jstf7cO_2MFm"
   },
   "source": [
    "Use the requests library to fetch the HTML content of a webpage and then use BeautifulSoup to parse it."
   ]
  },
  {
   "cell_type": "code",
   "execution_count": 3,
   "metadata": {
    "id": "zn-aEgXV2MFn"
   },
   "outputs": [],
   "source": [
    "# Replace with the URL of the webpage you want to scrape\n",
    "url = \"https://en.wikipedia.org/wiki/Duolingo\""
   ]
  },
  {
   "cell_type": "code",
   "execution_count": 4,
   "metadata": {},
   "outputs": [],
   "source": [
    "response = requests.get(url)\n",
    "html_content = response.content"
   ]
  },
  {
   "cell_type": "code",
   "execution_count": 5,
   "metadata": {},
   "outputs": [],
   "source": [
    "soup = BeautifulSoup(html_content, 'html.parser')"
   ]
  },
  {
   "cell_type": "markdown",
   "metadata": {
    "id": "mLDdT_4n2MFn"
   },
   "source": [
    "# Extract Text Data"
   ]
  },
  {
   "cell_type": "markdown",
   "metadata": {
    "id": "UoNnI4XU2MFn"
   },
   "source": [
    "Once you have the parsed HTML, extract the relevant text data using various methods such as .find(), .find_all(), and .get_text()."
   ]
  },
  {
   "cell_type": "code",
   "execution_count": 6,
   "metadata": {
    "id": "4LxVtuNt2MFn"
   },
   "outputs": [],
   "source": [
    "# Example: Extracting all paragraphs\n",
    "paragraphs = soup.find_all('p')"
   ]
  },
  {
   "cell_type": "code",
   "execution_count": 7,
   "metadata": {},
   "outputs": [],
   "source": [
    "# Extracting text from each paragraph\n",
    "paragraph_texts = [paragraph.get_text() for paragraph in paragraphs]"
   ]
  },
  {
   "cell_type": "markdown",
   "metadata": {
    "id": "W1dMt6Vu2MFo"
   },
   "source": [
    "# Text Preprocessing"
   ]
  },
  {
   "cell_type": "markdown",
   "metadata": {
    "id": "MDUuuWZP2MFo"
   },
   "source": [
    "Text preprocessing involves various steps to clean and normalize the extracted text."
   ]
  },
  {
   "cell_type": "code",
   "execution_count": 8,
   "metadata": {
    "id": "DkuDs0vg2MFo"
   },
   "outputs": [],
   "source": [
    "# Convert to lowercase\n",
    "lowercase_text = [text.lower() for text in paragraph_texts]"
   ]
  },
  {
   "cell_type": "code",
   "execution_count": 9,
   "metadata": {},
   "outputs": [],
   "source": [
    "# Remove special characters using regex\n",
    "cleaned_text = [re.sub(r'[^a-zA-Z0-9\\s]', '', text) for text in lowercase_text]"
   ]
  },
  {
   "cell_type": "code",
   "execution_count": 10,
   "metadata": {},
   "outputs": [],
   "source": [
    "# Tokenization\n",
    "tokenized_text = [word_tokenize(text) for text in cleaned_text]"
   ]
  },
  {
   "cell_type": "code",
   "execution_count": 11,
   "metadata": {},
   "outputs": [],
   "source": [
    "# Remove stopwords\n",
    "stop_words = set(stopwords.words('english'))\n",
    "filtered_text = [[word for word in tokens if word not in stop_words] for tokens in tokenized_text]"
   ]
  },
  {
   "cell_type": "code",
   "execution_count": 12,
   "metadata": {},
   "outputs": [],
   "source": [
    "# Stemming\n",
    "stemmer = PorterStemmer()\n",
    "stemmed_text = [[stemmer.stem(word) for word in tokens] for tokens in filtered_text]"
   ]
  },
  {
   "cell_type": "markdown",
   "metadata": {
    "id": "98bchYUl2MFo"
   },
   "source": [
    "# Further Processing"
   ]
  },
  {
   "cell_type": "markdown",
   "metadata": {
    "id": "xrijMyNs2MFp"
   },
   "source": [
    "You can perform additional steps such as removing empty tokens, converting the processed text back to sentences or paragraphs, and so on, based on your requirements."
   ]
  },
  {
   "cell_type": "code",
   "execution_count": 13,
   "metadata": {
    "id": "TuD5VCK92MFp"
   },
   "outputs": [],
   "source": [
    "# Remove empty tokens\n",
    "final_text = [[word for word in tokens if word.strip()] for tokens in stemmed_text]"
   ]
  },
  {
   "cell_type": "code",
   "execution_count": 14,
   "metadata": {},
   "outputs": [],
   "source": [
    "# Convert tokens back to sentences\n",
    "sentences = [' '.join(tokens) for tokens in final_text]"
   ]
  },
  {
   "cell_type": "code",
   "execution_count": 15,
   "metadata": {},
   "outputs": [],
   "source": [
    "# Convert sentences back to paragraphs\n",
    "processed_paragraphs = '\\n\\n'.join(sentences)"
   ]
  },
  {
   "cell_type": "markdown",
   "metadata": {
    "id": "j6E_a_ca2MFp"
   },
   "source": [
    "# Save Processed Text"
   ]
  },
  {
   "cell_type": "markdown",
   "metadata": {
    "id": "WhJLW6Ge2MFp"
   },
   "source": [
    "Finally, you can save the processed text to a file for further analysis."
   ]
  },
  {
   "cell_type": "code",
   "execution_count": 16,
   "metadata": {
    "colab": {
     "base_uri": "https://localhost:8080/"
    },
    "id": "zESJcS5w2MFq",
    "outputId": "c17bc6c7-1f96-467e-efe9-3adf0086944d"
   },
   "outputs": [],
   "source": [
    "with open('processed_text.txt', 'w', encoding='utf-8') as file:\n",
    "    file.write(processed_paragraphs)"
   ]
  },
  {
   "cell_type": "code",
   "execution_count": 17,
   "metadata": {
    "id": "4-ebic7w2MFq"
   },
   "outputs": [
    {
     "name": "stdout",
     "output_type": "stream",
     "text": [
      "\n",
      "\n",
      "\n",
      "\n",
      "duolingo incb american educ technolog compani produc learn app provid languag certif duolingo offer cours music5 math6 43 languages7 rang english french spanish less commonli studi languag welsh irish8 servic includ duolingo english test onlin certif program duolingo abc literaci app children compani use freemium model option premium servic super duolingo adfre offer featur\n",
      "\n",
      "januari 2024updat duolingo world popular languag learn app base monthli download around 162 million user download month9 systemat review research duolingo 2012 2020 found compar studi platform efficaci languag learn review identifi sever studi report rel high user satisfact enjoy posit percept app effectiveness10 compani often recogn success market tactics1112\n",
      "\n",
      "idea duolingo formul 2009 carnegi mellon univers professor lui von ahn swissborn postgradu student severin hacker1314 von ahn sold second compani recaptcha googl hacker want work educationrel project15 von ahn state saw expens peopl commun guatemala learn english1617 hacker cofound current cto duolingo believ free educ realli chang world18 want provid access mean recogn nation inventor hall fame contribut languag learn technolog development19 duo mascot green owl cofound severin hacker hate color green20\n",
      "\n",
      "project origin financ von ahn macarthur fellowship nation scienc foundat grant212223 founder consid creat duolingo nonprofit organ von ahn judg model unsustainable18 earli revenu stream crowdsourc translat servic replac duolingo english test certif program advertis subscription2425\n",
      "\n",
      "octob 2011 duolingo announc rais 33 million seri round fund led union squar ventur particip author tim ferriss actor ashton kutcher invest firm agrad investments26 duolingo launch privat beta novemb 27 2011 accumul wait list 300000 people1427 launch gener public june 19 2012 point wait list grown around 5000002829\n",
      "\n",
      "septemb 2012 duolingo announc rais 15 million seri b fund round led new enterpris associ particip union squar ventures30 novemb 2012 duolingo releas iphon app31 follow android app may 2013 time duolingo around 3 million users32 juli 2013 grown 5 million user rate 1 free educ app googl play store33\n",
      "\n",
      "februari 2014 duolingo announc rais 20 million seri c fund round led kleiner caufield byer prior investor also participating34 time 34 employe report 25 million regist user 125 million activ users34 later report figur closer 60 million users35\n",
      "\n",
      "june 2015 announc rais 45 million seri fund round led googl capit bring total fund 833 million round valu compani around 470 million 100 million regist user globally2435 april 2016 report duolingo 18 million monthli users3637\n",
      "\n",
      "juli 2017 duolingo announc rais 25 million seri e fund round led drive capit bring total fund 1083 million round valu duolingo 700 million compani report pass 200 million regist user 25 million activ users38 report duolingo 95 employees39 fund seri e round would direct toward creat initi relat educ flashcard app tinycard testb initi relat read listen comprehension40 august 1 2018 duolingo surpass 300 million regist users41\n",
      "\n",
      "decemb 2019 announc duolingo rais 30 million seri f fund round alphabet invest compani capitalg17 round valu duolingo 15 billion duolingo report 30 million activ user time headcount compani increas around two hundr new offic open seattl new york beijing42 duolingo plan use fund develop new product expand team sector like engin busi develop design curriculum content creator commun outreach marketing43\n",
      "\n",
      "octob 2013 duolingo launch crowdsourc languag incubator44 march 2021 announc would end volunt contributor program donat money volunt contributor help develop compani said languag cours would maintain develop profession linguist align cefr standards45 june 28 2021 duolingo file initi public offer nasdaq ticker duol46 august 2021 june 2022 duolingo languag learn app remov app store china47\n",
      "\n",
      "early2020 duolingo note viral video social media platform tiktok4849\n",
      "\n",
      "august 2022 duolingo overhaul interfac chang cours structur treelik design user could choos rang lesson complet previou one linear progress updat critic user across social media outlet reddit twitter16 ceo lui von ahn state plan revers changesintend simplifi duolingo new usersmaintain old new version would difficult50 octob 2022 duolingo acquir detroitbas anim studio gunner studio produc art asset anim duolingo duolingo abc market campaign octob 2023 duolingo releas math music cours english spanish io users5152\n",
      "\n",
      "march 2023 duolingo offici announc plan duolingo max subscript tier super duolingo blog53 juli 2023 duolingo launch featur use io widget featur januari 2024 laid around ten percent contractor duolingo began use artifici intellig ai replac task usual done contractors5455 march 2024 widget featur also android56\n",
      "\n",
      "2024 duolingo acquir detroitbas design studio hobbes57\n",
      "\n",
      "duolingo app websit use gamifi approach languag learn lesson incorpor translat interact exercis quizz stories58 also use algorithm adapt learner provid person feedback recommendations5960\n",
      "\n",
      "duolingo mani design phase formerli provid user differ skill place along tree could progress complet everi skill user could upgrad skill time final goal turn golden legendari novemb 2022 duolingo switch aiassist path user learn level put singl path includ stories61 switch new format remov audioonli lesson offer languages62 duolingo also provid competit space63 leagu peopl compet friend see compar randomli select worldwid player group 30 user rank leagu determin amount xp experi point earn week badg duolingo repres achiev earn complet specif object challenges64\n",
      "\n",
      "duolingo provid featur allow teacher track student progress\n",
      "\n",
      "duolingo current offer follow languag courses7\n",
      "\n",
      "app person bandit algorithm system later ab test variant recov differ softmax algorithm determin daili notif sent user65\n",
      "\n",
      "duolingo widget featur io android widget featur initi start duolingo annual hackathon project io widget 39 illustr design kyle ruan intend anoth daili remind complet lesson top part widget user daili streak duolingo blog wrote decid come seri illustr would show duo mood differ part day56 lesson complet duolingo count toward user daili streak66 daili streak visual symbol app fire\n",
      "\n",
      "compani own blog call duolingo blog67 publish selfdata report common languag select duolingo app podcast websit call duolingo podcast june 2024updat duolingo podcast four podcast group separ spanish french english separ two podcast intend spanish portugues speakers68 podcast consist stori usual told nativ speaker target languag program use simplifi grammar vocabulari slower inton occasion assist context explan words69\n",
      "\n",
      "duolingo languagelearn featur free period advertis mobil web browser applic user remov pay subscript fee promot referr links70 program known super duolingo includ benefit unlimit heart retri levelskip ad progress quizzes71\n",
      "\n",
      "duolingo max subscript super duolingo use gpt4 featur role play ai convers partner explain answer break rule modifi gpt4 user make mistak avail io version duolingo app australia canada ireland new zealand unit kingdom unit state french spanish english speakers72 intend immersiona freeflow conversation73\n",
      "\n",
      "duolingo abc free app design young children learn letter sound phonic earli read concept releas 2020 contain ad inapp purchas april 2024 io android version avail english67475\n",
      "\n",
      "duolingo math app cours learn elementari mathemat announc youtub august 27 2022 duocon 2022 event76\n",
      "\n",
      "march 2023 duolingo reportedli develop new music cours would allow user learn read play music gamifi learn experience7778 octob 11 2023 duolingo formal unveil duolingo music youtub short52 new platform within exist app provid basic music learn piano drum sheet music lessons7980 april 2024 current avail io android devices81\n",
      "\n",
      "duolingo english test det onlin english profici test measur profici read write speak listen english computerbas test score scale 10160 score 120 consid english profici test question algorithm adjust testtak abil level test certif accept 5000 program internationally82 though school accept certificate83\n",
      "\n",
      "duolingo revenu 1 million 2016 13 million 201741 36 million 201884 25077 million 202185 may 2022 report 68 monthli activ user paid adfre version app duolingo deriv revenu subscript advertis duolingo english test86 april 2020 pass one million paid subscribers87 reach 29 million march 202288 48 million end march 202389\n",
      "\n",
      "2017 studi found signific differ elementari student learn spanish gamif duolingo app learn classroom environ group demonstr similar increas achiev selfefficacy90 2022 studi adult use duolingo languag learn tool publish journal foreign languag annal found particip complet cours similar read listen profici univers student four semest studi conclud duolingo could effect tool languag learning91 anoth 2022 studi malaysian student learn french publish nation univers malaysia press found facilit acquisit vocabulari conclud well suit beginn regard92\n",
      "\n",
      "accord duolingo 2021 studi five semest univers instruct roughli equival five section app duolingo effect tool intermedi level9394 2023 studi fund duolingo conclud duolingo english learner significantli learn much grammar95 duolingo english learner colombia spain found gain significantli profici student classroom except listening96\n",
      "\n",
      "languag profession critic app limit gamifi design97 other point duolingo similar app start point lack human interact requir fluent languag reallif conversations98 player also report gamif led cheat hack incentiv game strategi conflict actual learning99 duolingo studi conclus critic meaningless assertion100\n",
      "\n",
      "march 2022 duolingo forum discontinu user longer abl particip sentenc discussions101 chang critic onlin site reddit\n",
      "\n",
      "januari 2023 duolingo data 26 million user usernam name phone number sold hacker forum duolingo later state would investig dark web post102 conclud data obtain scrape publicli avail inform base expos applic program interfac api103104 duolingo spokesperson state api intent publicli visibl\n",
      "\n",
      "sinc end octob 2023 duolingo decid stop updat welsh cours focu languag higher demand user critic decis came expens learner languag limit resourc market potenti halt welsh govern cymraeg 2050 strategy105106\n",
      "\n",
      "2013 appl chose duolingo iphon app year first educ application107 year duolingo rank 7 fast compani world innov compani educ honore list crowdsourc web translat turn free languagelearn program108109110 duolingo best educ startup 2014 crunchies111112 download educ app googl play 2013 2014113 juli 2020 pcmag name best free languag learn app114\n",
      "\n",
      "compani duolingo likewis sever award recognit 2015 announc year index award winner play learn categori index project115 inc magazin best workplac 2018116 made entrepreneur magazin top compani cultur list 2018117 among cnbc disruptor 50 list 2018 2019118119120 rank one time magazin 50 geniu companies121 duolingo name one forbess next billiondollar startup 2019122 2023 duolingo design award 2023 edit appl design awards123\n",
      "\n",
      "due app frequent remind notif duolingo mascot green cartoon owl name duo subject internet meme mascot evil stalk threaten user keep use app124125\n",
      "\n",
      "duolingo lean onlin reput adjust social media market strategi accordingly126 acknowledg meme duolingo releas video april fool day 2019 depict faceti new featur call duolingo push video user duolingo push remind use app duo depict person wear duolingo mascot costum stare follow comply127128 also acknowledg duolingo 2022 april fool day video lawyer fight duolingo owl 2700000 fictiti law firm fight harm duolingo owl mascot129 referenc compani 2024 april fool day skit duo ice owl mix spanish english admit appetit human flesh user fail continu streak would eat head like pray mantis130 februari 2020 part compani partnership angri bird 2 skit video depict duo red angri bird attack peopl uploaded131\n",
      "\n",
      "novemb 2019 saturday night live parodi duolingo sketch adult learn commun children use fictiti cours call duolingo talk children132\n",
      "\n",
      "2023 film barbi contain run gag husband disgruntl mattel employe gloria use duolingo learn spanish gloria nativ languag\n"
     ]
    }
   ],
   "source": [
    "# Printing the Saved Processed Text\n",
    "print(processed_paragraphs)"
   ]
  },
  {
   "cell_type": "code",
   "execution_count": null,
   "metadata": {},
   "outputs": [],
   "source": []
  }
 ],
 "metadata": {
  "colab": {
   "provenance": []
  },
  "kernelspec": {
   "display_name": "Python 3 (ipykernel)",
   "language": "python",
   "name": "python3"
  },
  "language_info": {
   "codemirror_mode": {
    "name": "ipython",
    "version": 3
   },
   "file_extension": ".py",
   "mimetype": "text/x-python",
   "name": "python",
   "nbconvert_exporter": "python",
   "pygments_lexer": "ipython3",
   "version": "3.9.13"
  }
 },
 "nbformat": 4,
 "nbformat_minor": 1
}
