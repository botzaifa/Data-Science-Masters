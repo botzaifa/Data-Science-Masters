{
 "cells": [
  {
   "cell_type": "markdown",
   "metadata": {
    "id": "U90PCsQSoTIk"
   },
   "source": [
    "# Importing necessary libraries"
   ]
  },
  {
   "cell_type": "code",
   "execution_count": 1,
   "metadata": {
    "id": "L_H1WfxJoTIn"
   },
   "outputs": [],
   "source": [
    "import re"
   ]
  },
  {
   "cell_type": "markdown",
   "metadata": {
    "id": "vOCTH0lmoTIo"
   },
   "source": [
    "# Sample text"
   ]
  },
  {
   "cell_type": "code",
   "execution_count": 2,
   "metadata": {
    "id": "9AFBrJMYoTIp"
   },
   "outputs": [],
   "source": [
    "text = \"I can't believe it's that easy! Won't you join us?\""
   ]
  },
  {
   "cell_type": "markdown",
   "metadata": {
    "id": "z4BvBZ4poTIp"
   },
   "source": [
    "# Convert to lowercase"
   ]
  },
  {
   "cell_type": "code",
   "execution_count": 3,
   "metadata": {
    "colab": {
     "base_uri": "https://localhost:8080/"
    },
    "id": "YdrlrlSjoTIq",
    "outputId": "4656c3f6-5348-4d03-d491-978541bf078c"
   },
   "outputs": [],
   "source": [
    "lowercase_text = text.lower()"
   ]
  },
  {
   "cell_type": "code",
   "execution_count": 4,
   "metadata": {},
   "outputs": [
    {
     "name": "stdout",
     "output_type": "stream",
     "text": [
      "Lowercase text: i can't believe it's that easy! won't you join us?\n"
     ]
    }
   ],
   "source": [
    "print(\"Lowercase text:\", lowercase_text)"
   ]
  },
  {
   "cell_type": "markdown",
   "metadata": {
    "id": "wC0LeLc8oTIs"
   },
   "source": [
    "# Expand Contractions"
   ]
  },
  {
   "cell_type": "code",
   "execution_count": 5,
   "metadata": {
    "colab": {
     "base_uri": "https://localhost:8080/"
    },
    "id": "q__xqPraoTIt",
    "outputId": "50dad9bd-b452-4d5e-c9a7-8ded451560ce"
   },
   "outputs": [],
   "source": [
    "contractions_dict = {\n",
    "    \"can't\": \"cannot\",\n",
    "    \"won't\": \"will not\",\n",
    "    \"I'm\": \"I am\",\n",
    "    \"it's\": \"it is\",\n",
    "}"
   ]
  },
  {
   "cell_type": "code",
   "execution_count": 6,
   "metadata": {},
   "outputs": [
    {
     "name": "stdout",
     "output_type": "stream",
     "text": [
      "{\"can't\": 'cannot', \"won't\": 'will not', \"I'm\": 'I am', \"it's\": 'it is'}\n"
     ]
    }
   ],
   "source": [
    "print(contractions_dict)"
   ]
  },
  {
   "cell_type": "code",
   "execution_count": 7,
   "metadata": {},
   "outputs": [],
   "source": [
    "def expand_contractions(text, lowercase_text):\n",
    "    # Create a regex pattern with all contractions\n",
    "    contractions_pattern = re.compile('({})'.format('|'.join(re.escape(key) for key in lowercase_text.keys())))\n",
    "    def replace(match):\n",
    "        return lowercase_text[match.group(0)]\n",
    "    return contractions_pattern.sub(replace, text)"
   ]
  },
  {
   "cell_type": "code",
   "execution_count": 8,
   "metadata": {},
   "outputs": [
    {
     "name": "stdout",
     "output_type": "stream",
     "text": [
      "Text with expanded contractions: i cannot believe it is that easy! will not you join us?\n"
     ]
    }
   ],
   "source": [
    "expanded_text = expand_contractions(lowercase_text, contractions_dict)\n",
    "print(\"Text with expanded contractions:\", expanded_text)"
   ]
  },
  {
   "cell_type": "markdown",
   "metadata": {
    "id": "rn0FgP45oTIr"
   },
   "source": [
    "# Remove Punctuation"
   ]
  },
  {
   "cell_type": "code",
   "execution_count": 9,
   "metadata": {},
   "outputs": [],
   "source": [
    "cleaned_text = re.sub(r'[^\\w\\s]', '', expanded_text)"
   ]
  },
  {
   "cell_type": "code",
   "execution_count": 10,
   "metadata": {},
   "outputs": [
    {
     "name": "stdout",
     "output_type": "stream",
     "text": [
      "Text without punctuation: i cannot believe it is that easy will not you join us\n"
     ]
    }
   ],
   "source": [
    "print(\"Text without punctuation:\", cleaned_text)"
   ]
  },
  {
   "cell_type": "code",
   "execution_count": null,
   "metadata": {},
   "outputs": [],
   "source": []
  }
 ],
 "metadata": {
  "colab": {
   "provenance": []
  },
  "kernelspec": {
   "display_name": "Python 3 (ipykernel)",
   "language": "python",
   "name": "python3"
  },
  "language_info": {
   "codemirror_mode": {
    "name": "ipython",
    "version": 3
   },
   "file_extension": ".py",
   "mimetype": "text/x-python",
   "name": "python",
   "nbconvert_exporter": "python",
   "pygments_lexer": "ipython3",
   "version": "3.9.13"
  }
 },
 "nbformat": 4,
 "nbformat_minor": 1
}
