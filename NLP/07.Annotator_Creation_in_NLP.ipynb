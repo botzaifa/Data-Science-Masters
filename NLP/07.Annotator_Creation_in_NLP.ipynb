{
 "cells": [
  {
   "cell_type": "markdown",
   "metadata": {},
   "source": [
    "# Sample text data "
   ]
  },
  {
   "cell_type": "code",
   "execution_count": 1,
   "metadata": {},
   "outputs": [],
   "source": [
    "data = [\n",
    "    (\"I love this product!\", \"positive\"),\n",
    "    (\"This is not what I expected.\", \"negative\"),\n",
    "    (\"The customer service was excellent.\", \"positive\"),\n",
    "    (\"The quality of the item is poor.\", \"negative\")\n",
    "]"
   ]
  },
  {
   "cell_type": "markdown",
   "metadata": {},
   "source": [
    "# Define the annotator "
   ]
  },
  {
   "cell_type": "code",
   "execution_count": 2,
   "metadata": {},
   "outputs": [],
   "source": [
    "def annotate_data(data):\n",
    "    annotated_data = []\n",
    "    for text, label in data:\n",
    "        annotated_data.append((text, label))\n",
    "    return annotated_data"
   ]
  },
  {
   "cell_type": "markdown",
   "metadata": {},
   "source": [
    "# Annotate the data "
   ]
  },
  {
   "cell_type": "code",
   "execution_count": 4,
   "metadata": {},
   "outputs": [],
   "source": [
    "annotated_data = annotate_data(data)"
   ]
  },
  {
   "cell_type": "code",
   "execution_count": 5,
   "metadata": {},
   "outputs": [
    {
     "name": "stdout",
     "output_type": "stream",
     "text": [
      "Text: I love this product!\tLabel: positive\n",
      "Text: This is not what I expected.\tLabel: negative\n",
      "Text: The customer service was excellent.\tLabel: positive\n",
      "Text: The quality of the item is poor.\tLabel: negative\n"
     ]
    }
   ],
   "source": [
    "for text, label in annotated_data:\n",
    "    print(f\"Text: {text}\\tLabel: {label}\")"
   ]
  },
  {
   "cell_type": "code",
   "execution_count": null,
   "metadata": {},
   "outputs": [],
   "source": []
  }
 ],
 "metadata": {
  "kernelspec": {
   "display_name": "Python 3 (ipykernel)",
   "language": "python",
   "name": "python3"
  },
  "language_info": {
   "codemirror_mode": {
    "name": "ipython",
    "version": 3
   },
   "file_extension": ".py",
   "mimetype": "text/x-python",
   "name": "python",
   "nbconvert_exporter": "python",
   "pygments_lexer": "ipython3",
   "version": "3.9.13"
  }
 },
 "nbformat": 4,
 "nbformat_minor": 4
}
