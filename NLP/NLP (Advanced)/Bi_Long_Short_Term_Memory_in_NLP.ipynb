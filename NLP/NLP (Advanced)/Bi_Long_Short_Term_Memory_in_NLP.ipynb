{
 "cells": [
  {
   "cell_type": "code",
   "execution_count": 1,
   "metadata": {},
   "outputs": [],
   "source": [
    "import torch\n",
    "import torch.nn as nn"
   ]
  },
  {
   "cell_type": "code",
   "execution_count": 2,
   "metadata": {},
   "outputs": [],
   "source": [
    "# Understanding Bidirectional LSTMs\n",
    "class BiLSTMModel(nn.Module):\n",
    "    def __init__(self, vocab_size, embedding_dim, hidden_size, num_layers, num_classes):\n",
    "        super(BiLSTMModel, self).__init__()\n",
    "        self.embedding = nn.Embedding(vocab_size, embedding_dim)\n",
    "        self.bilstm = nn.LSTM(embedding_dim, hidden_size, num_layers, batch_first=True, bidirectional=True)\n",
    "        self.fc = nn.Linear(hidden_size * 2, num_classes)  # Bidirectional LSTM outputs are concatenated\n",
    "\n",
    "    def forward(self, x):\n",
    "        embed = self.embedding(x)\n",
    "        output, _ = self.bilstm(embed)\n",
    "        output = self.fc(output[:, -1, :])  # Use last time step's output for classification\n",
    "        return output"
   ]
  },
  {
   "cell_type": "code",
   "execution_count": 3,
   "metadata": {},
   "outputs": [],
   "source": [
    "# Instantiate BiLSTM model and provide data for training\n",
    "vocab_size = 10000\n",
    "embedding_dim = 100\n",
    "hidden_size = 128\n",
    "num_layers = 2\n",
    "num_classes = 5  # Replace with the number of classes for classification\n",
    "bilstm_model = BiLSTMModel(vocab_size, embedding_dim, hidden_size, num_layers, num_classes)"
   ]
  },
  {
   "cell_type": "code",
   "execution_count": 4,
   "metadata": {},
   "outputs": [],
   "source": [
    "# Define training data for text classification\n",
    "train_data = torch.randint(0, vocab_size, (128, 50))  # Example data with batch size 128 and sequence length 50\n",
    "train_labels = torch.randint(0, num_classes, (128,))  # Example classification labels"
   ]
  },
  {
   "cell_type": "code",
   "execution_count": 5,
   "metadata": {},
   "outputs": [],
   "source": [
    "# Loss and optimizer\n",
    "criterion = nn.CrossEntropyLoss()\n",
    "optimizer = torch.optim.Adam(bilstm_model.parameters(), lr=0.001)"
   ]
  },
  {
   "cell_type": "code",
   "execution_count": 6,
   "metadata": {},
   "outputs": [
    {
     "name": "stdout",
     "output_type": "stream",
     "text": [
      "BiLSTM Text Classification Epoch [1/10], Loss: 1.6080\n",
      "BiLSTM Text Classification Epoch [2/10], Loss: 1.5924\n",
      "BiLSTM Text Classification Epoch [3/10], Loss: 1.5769\n",
      "BiLSTM Text Classification Epoch [4/10], Loss: 1.5606\n",
      "BiLSTM Text Classification Epoch [5/10], Loss: 1.5428\n",
      "BiLSTM Text Classification Epoch [6/10], Loss: 1.5230\n",
      "BiLSTM Text Classification Epoch [7/10], Loss: 1.5005\n",
      "BiLSTM Text Classification Epoch [8/10], Loss: 1.4744\n",
      "BiLSTM Text Classification Epoch [9/10], Loss: 1.4442\n",
      "BiLSTM Text Classification Epoch [10/10], Loss: 1.4089\n"
     ]
    }
   ],
   "source": [
    "# Training loop\n",
    "num_epochs = 10\n",
    "for epoch in range(num_epochs):\n",
    "    optimizer.zero_grad()\n",
    "    output = bilstm_model(train_data)\n",
    "    loss = criterion(output, train_labels)\n",
    "    loss.backward()\n",
    "    optimizer.step()\n",
    "    print(f\"BiLSTM Text Classification Epoch [{epoch+1}/{num_epochs}], Loss: {loss.item():.4f}\")"
   ]
  },
  {
   "cell_type": "code",
   "execution_count": 7,
   "metadata": {},
   "outputs": [
    {
     "name": "stdout",
     "output_type": "stream",
     "text": [
      "BiLSTM Text Classification Epoch [1/10], Loss: 1.3676\n",
      "BiLSTM Text Classification Epoch [2/10], Loss: 1.3193\n",
      "BiLSTM Text Classification Epoch [3/10], Loss: 1.2630\n",
      "BiLSTM Text Classification Epoch [4/10], Loss: 1.1978\n",
      "BiLSTM Text Classification Epoch [5/10], Loss: 1.1236\n",
      "BiLSTM Text Classification Epoch [6/10], Loss: 1.0403\n",
      "BiLSTM Text Classification Epoch [7/10], Loss: 0.9475\n",
      "BiLSTM Text Classification Epoch [8/10], Loss: 0.8453\n",
      "BiLSTM Text Classification Epoch [9/10], Loss: 0.7413\n",
      "BiLSTM Text Classification Epoch [10/10], Loss: 0.6410\n"
     ]
    }
   ],
   "source": [
    "# Training loop\n",
    "num_epochs = 10\n",
    "for epoch in range(num_epochs):\n",
    "    optimizer.zero_grad()\n",
    "    output = bilstm_model(train_data)\n",
    "    loss = criterion(output, train_labels)\n",
    "    loss.backward()\n",
    "    optimizer.step()\n",
    "    print(f\"BiLSTM Text Classification Epoch [{epoch+1}/{num_epochs}], Loss: {loss.item():.4f}\")"
   ]
  },
  {
   "cell_type": "code",
   "execution_count": 8,
   "metadata": {},
   "outputs": [],
   "source": [
    "# Named Entity Recognition using BiLSTM\n",
    "class BiLSTMNER(nn.Module):\n",
    "    def __init__(self, vocab_size, embedding_dim, hidden_size, num_layers, num_classes):\n",
    "        super(BiLSTMNER, self).__init__()\n",
    "        self.embedding = nn.Embedding(vocab_size, embedding_dim)\n",
    "        self.bilstm = nn.LSTM(embedding_dim, hidden_size, num_layers, batch_first=True, bidirectional=True)\n",
    "        self.fc = nn.Linear(hidden_size * 2, num_classes)  # Bidirectional LSTM outputs are concatenated\n",
    "\n",
    "    def forward(self, x):\n",
    "        embed = self.embedding(x)\n",
    "        output, _ = self.bilstm(embed)\n",
    "        output = self.fc(output)\n",
    "        return output"
   ]
  },
  {
   "cell_type": "code",
   "execution_count": 9,
   "metadata": {},
   "outputs": [],
   "source": [
    "# Instantiate BiLSTM NER model and provide data for training\n",
    "num_classes_ner = 8  # Replace with the number of NER classes\n",
    "bilstm_ner_model = BiLSTMNER(vocab_size, embedding_dim, hidden_size, num_layers, num_classes_ner)"
   ]
  },
  {
   "cell_type": "code",
   "execution_count": 10,
   "metadata": {},
   "outputs": [],
   "source": [
    "# Define training data for NER\n",
    "train_data_ner = torch.randint(0, vocab_size, (128, 30))  # Example data with batch size 128 and sequence length 30\n",
    "train_labels_ner = torch.randint(0, num_classes_ner, (128, 30))  # Example NER labels"
   ]
  },
  {
   "cell_type": "code",
   "execution_count": 11,
   "metadata": {},
   "outputs": [],
   "source": [
    "# Loss and optimizer for NER\n",
    "criterion_ner = nn.CrossEntropyLoss()\n",
    "optimizer_ner = torch.optim.Adam(bilstm_ner_model.parameters(), lr=0.001)"
   ]
  },
  {
   "cell_type": "code",
   "execution_count": 12,
   "metadata": {},
   "outputs": [
    {
     "name": "stdout",
     "output_type": "stream",
     "text": [
      "BiLSTM NER Epoch [1/10], Loss: 2.0812\n",
      "BiLSTM NER Epoch [2/10], Loss: 2.0766\n",
      "BiLSTM NER Epoch [3/10], Loss: 2.0724\n",
      "BiLSTM NER Epoch [4/10], Loss: 2.0683\n",
      "BiLSTM NER Epoch [5/10], Loss: 2.0642\n",
      "BiLSTM NER Epoch [6/10], Loss: 2.0598\n",
      "BiLSTM NER Epoch [7/10], Loss: 2.0548\n",
      "BiLSTM NER Epoch [8/10], Loss: 2.0491\n",
      "BiLSTM NER Epoch [9/10], Loss: 2.0425\n",
      "BiLSTM NER Epoch [10/10], Loss: 2.0349\n"
     ]
    }
   ],
   "source": [
    "# Training loop for NER\n",
    "for epoch in range(num_epochs):\n",
    "    optimizer_ner.zero_grad()\n",
    "    output = bilstm_ner_model(train_data_ner)\n",
    "    loss = criterion_ner(output.view(-1, num_classes_ner), train_labels_ner.view(-1))\n",
    "    loss.backward()\n",
    "    optimizer_ner.step()\n",
    "    print(f\"BiLSTM NER Epoch [{epoch+1}/{num_epochs}], Loss: {loss.item():.4f}\")"
   ]
  },
  {
   "cell_type": "code",
   "execution_count": null,
   "metadata": {},
   "outputs": [],
   "source": []
  }
 ],
 "metadata": {
  "kernelspec": {
   "display_name": "Python 3 (ipykernel)",
   "language": "python",
   "name": "python3"
  },
  "language_info": {
   "codemirror_mode": {
    "name": "ipython",
    "version": 3
   },
   "file_extension": ".py",
   "mimetype": "text/x-python",
   "name": "python",
   "nbconvert_exporter": "python",
   "pygments_lexer": "ipython3",
   "version": "3.9.13"
  }
 },
 "nbformat": 4,
 "nbformat_minor": 4
}
