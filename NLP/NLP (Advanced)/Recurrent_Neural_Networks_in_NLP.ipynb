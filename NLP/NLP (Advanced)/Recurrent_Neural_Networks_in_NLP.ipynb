{
 "cells": [
  {
   "cell_type": "markdown",
   "metadata": {
    "id": "IkESMUSgQP44"
   },
   "source": [
    "# Step 1: Import Libraries"
   ]
  },
  {
   "cell_type": "code",
   "execution_count": 1,
   "metadata": {
    "id": "KpXQsS8nP9e6"
   },
   "outputs": [],
   "source": [
    "import numpy as np\n",
    "import tensorflow as tf\n",
    "from tensorflow.keras.models import Sequential\n",
    "from tensorflow.keras.layers import Embedding, SimpleRNN, Dense\n",
    "from tensorflow.keras.preprocessing.text import Tokenizer\n",
    "from tensorflow.keras.preprocessing.sequence import pad_sequences"
   ]
  },
  {
   "cell_type": "markdown",
   "metadata": {
    "id": "qzRjXh2UQmSE"
   },
   "source": [
    "# Step 2: Sample Text Data and Labels\n",
    "\n",
    "\n",
    "This dataset is used for sentiment analysis, where \n",
    "- Positive reviews are labeled as 1,\n",
    "- Negative reviews are labeled as 0."
   ]
  },
  {
   "cell_type": "code",
   "execution_count": 2,
   "metadata": {
    "id": "lWAsqydTQM0X"
   },
   "outputs": [],
   "source": [
    "texts = [\n",
    "    \"This is a positive review.\",\n",
    "    \"I love this product.\",\n",
    "    \"Negative experience, would not recommend.\",\n",
    "    \"Terrible customer service.\",\n",
    "]"
   ]
  },
  {
   "cell_type": "code",
   "execution_count": 3,
   "metadata": {},
   "outputs": [],
   "source": [
    "labels = [1, 1, 0, 0]  # 1 for positive, 0 for negative"
   ]
  },
  {
   "cell_type": "markdown",
   "metadata": {
    "id": "Luk91-OgQ3zU"
   },
   "source": [
    "# Step 3: Tokenization and Padding\n",
    "In this step, you preprocess the text data:\n",
    "- Tokenizer is used to convert text into sequences of integers and create a vocabulary with a maximum of 1000 words.\n",
    "- texts_to_sequences converts the text into sequences of integer tokens.\n",
    "- pad_sequences ensures that all sequences have the same length (in this case, 10)\n",
    "\n",
    "by padding shorter sequences with zeros and truncating longer sequences."
   ]
  },
  {
   "cell_type": "code",
   "execution_count": 4,
   "metadata": {
    "id": "qaktqP1rQ5UA"
   },
   "outputs": [],
   "source": [
    "tokenizer = Tokenizer(num_words=1000, oov_token=\"<OOV>\")"
   ]
  },
  {
   "cell_type": "code",
   "execution_count": 5,
   "metadata": {},
   "outputs": [],
   "source": [
    "tokenizer.fit_on_texts(texts)"
   ]
  },
  {
   "cell_type": "code",
   "execution_count": 6,
   "metadata": {},
   "outputs": [],
   "source": [
    "sequences = tokenizer.texts_to_sequences(texts)"
   ]
  },
  {
   "cell_type": "code",
   "execution_count": 7,
   "metadata": {},
   "outputs": [],
   "source": [
    "padded_sequences = pad_sequences(sequences, maxlen=10, padding=\"post\", truncating=\"post\")"
   ]
  },
  {
   "cell_type": "markdown",
   "metadata": {
    "id": "Ms3qhNHBREQv"
   },
   "source": [
    "# Step 4: Define the RNN Model\n",
    "\n",
    "Here, you define the RNN model using Keras:\n",
    "- An Embedding layer is used for word embeddings. It converts integer sequences into dense vectors.\n",
    "- A SimpleRNN layer with 32 units is added. This layer captures sequential patterns in the data.\n",
    "- A Dense layer with one output unit and a sigmoid activation function is added for binary sentiment classification."
   ]
  },
  {
   "cell_type": "code",
   "execution_count": 8,
   "metadata": {
    "id": "o3HR8sELRGDE"
   },
   "outputs": [],
   "source": [
    "model = Sequential()"
   ]
  },
  {
   "cell_type": "code",
   "execution_count": 9,
   "metadata": {},
   "outputs": [],
   "source": [
    "model.add(Embedding(input_dim=1000, output_dim=16, input_length=10))"
   ]
  },
  {
   "cell_type": "code",
   "execution_count": 10,
   "metadata": {},
   "outputs": [],
   "source": [
    "model.add(SimpleRNN(32))"
   ]
  },
  {
   "cell_type": "code",
   "execution_count": 11,
   "metadata": {},
   "outputs": [],
   "source": [
    "model.add(Dense(1, activation=\"sigmoid\"))"
   ]
  },
  {
   "cell_type": "markdown",
   "metadata": {
    "id": "jEu9aVjsRSTD"
   },
   "source": [
    "# Step 5: Compile the Model\n",
    "\n",
    "You compile the model by specifying the optimizer, loss function (binary cross-entropy), and evaluation metric (accuracy) for training."
   ]
  },
  {
   "cell_type": "code",
   "execution_count": 12,
   "metadata": {
    "id": "usQbAvHJRTk4"
   },
   "outputs": [],
   "source": [
    "model.compile(optimizer=\"adam\", loss=\"binary_crossentropy\", metrics=[\"accuracy\"])"
   ]
  },
  {
   "cell_type": "markdown",
   "metadata": {
    "id": "j4IJjyS4Ra7v"
   },
   "source": [
    "# Step 6: Train the Model\n",
    "\n",
    "- This step trains the model using the preprocessed data (padded_sequences) and labels.\n",
    "- The model is trained for 10 epochs, adjusting its internal parameters to minimize the loss function."
   ]
  },
  {
   "cell_type": "code",
   "execution_count": 13,
   "metadata": {
    "id": "AQ9Y_egWRcfO"
   },
   "outputs": [],
   "source": [
    "model = Sequential()"
   ]
  },
  {
   "cell_type": "code",
   "execution_count": 14,
   "metadata": {},
   "outputs": [],
   "source": [
    "model.add(Embedding(input_dim=1000, output_dim=16, input_length=10))"
   ]
  },
  {
   "cell_type": "code",
   "execution_count": 15,
   "metadata": {},
   "outputs": [],
   "source": [
    "model.add(SimpleRNN(32))"
   ]
  },
  {
   "cell_type": "code",
   "execution_count": 16,
   "metadata": {},
   "outputs": [],
   "source": [
    "model.add(Dense(1, activation=\"sigmoid\"))"
   ]
  },
  {
   "cell_type": "markdown",
   "metadata": {
    "id": "_bynmg7KRmpc"
   },
   "source": [
    "# Step 7: Make Predictions\n",
    "\n",
    "- We use the trained model to make predictions on new test data (test_texts).\n",
    "- The code tokenizes and pads the test data similarly to the training data, and then the model predicts the sentiment of each text. \n",
    "- Predictions are printed, and \"positive\" or \"negative\"\n",
    "- Labels are assigned based on the model's output."
   ]
  },
  {
   "cell_type": "code",
   "execution_count": 17,
   "metadata": {
    "colab": {
     "base_uri": "https://localhost:8080/"
    },
    "id": "8Gm5mmNmRoTk",
    "outputId": "a2895da4-282b-473e-d3c1-239d630c28f7"
   },
   "outputs": [],
   "source": [
    "test_texts = [\"Great service!\", \"Awful experience.\"]"
   ]
  },
  {
   "cell_type": "code",
   "execution_count": 18,
   "metadata": {},
   "outputs": [],
   "source": [
    "test_sequences = tokenizer.texts_to_sequences(test_texts)"
   ]
  },
  {
   "cell_type": "code",
   "execution_count": 19,
   "metadata": {},
   "outputs": [],
   "source": [
    "padded_test_sequences = pad_sequences(test_sequences, maxlen=10, padding=\"post\", truncating=\"post\")"
   ]
  },
  {
   "cell_type": "code",
   "execution_count": 20,
   "metadata": {},
   "outputs": [
    {
     "name": "stdout",
     "output_type": "stream",
     "text": [
      "1/1 [==============================] - 0s 129ms/step\n"
     ]
    }
   ],
   "source": [
    "predictions = model.predict(padded_test_sequences)"
   ]
  },
  {
   "cell_type": "code",
   "execution_count": 21,
   "metadata": {},
   "outputs": [
    {
     "name": "stdout",
     "output_type": "stream",
     "text": [
      "Text: Great service! | Predicted sentiment: negative\n",
      "Text: Awful experience. | Predicted sentiment: positive\n"
     ]
    }
   ],
   "source": [
    "for i, text in enumerate(test_texts):\n",
    "    sentiment = \"positive\" if predictions[i] > 0.5 else \"negative\"\n",
    "    print(f\"Text: {text} | Predicted sentiment: {sentiment}\")"
   ]
  },
  {
   "cell_type": "code",
   "execution_count": null,
   "metadata": {},
   "outputs": [],
   "source": []
  }
 ],
 "metadata": {
  "colab": {
   "provenance": []
  },
  "kernelspec": {
   "display_name": "Python 3 (ipykernel)",
   "language": "python",
   "name": "python3"
  },
  "language_info": {
   "codemirror_mode": {
    "name": "ipython",
    "version": 3
   },
   "file_extension": ".py",
   "mimetype": "text/x-python",
   "name": "python",
   "nbconvert_exporter": "python",
   "pygments_lexer": "ipython3",
   "version": "3.9.13"
  }
 },
 "nbformat": 4,
 "nbformat_minor": 1
}
