{
 "cells": [
  {
   "cell_type": "markdown",
   "id": "3776e230",
   "metadata": {},
   "source": [
    "## Write Method"
   ]
  },
  {
   "cell_type": "code",
   "execution_count": 1,
   "id": "28b08a3d",
   "metadata": {},
   "outputs": [],
   "source": [
    "f= open(\"test.txt\",\"w\")"
   ]
  },
  {
   "cell_type": "code",
   "execution_count": 9,
   "id": "99d6313b",
   "metadata": {},
   "outputs": [
    {
     "data": {
      "text/plain": [
       "'C:\\\\Users\\\\Huzaifa Khan\\\\Desktop\\\\Python Complete\\\\Files'"
      ]
     },
     "execution_count": 9,
     "metadata": {},
     "output_type": "execute_result"
    }
   ],
   "source": [
    "pwd"
   ]
  },
  {
   "cell_type": "code",
   "execution_count": 10,
   "id": "1fa0fead",
   "metadata": {},
   "outputs": [
    {
     "name": "stdout",
     "output_type": "stream",
     "text": [
      " Volume in drive C is Windows\n",
      " Volume Serial Number is 041D-30FD\n",
      "\n",
      " Directory of C:\\Users\\Huzaifa Khan\\Desktop\\Python Complete\\Files\n",
      "\n",
      "13-06-2023  22:11    <DIR>          .\n",
      "13-06-2023  19:38    <DIR>          ..\n",
      "13-06-2023  19:39    <DIR>          .ipynb_checkpoints\n",
      "13-06-2023  15:17                33 data_scientist.txt\n",
      "13-06-2023  17:26                24 example.txt\n",
      "13-06-2023  22:11             2,894 Files-01 (Working With Files).ipynb\n",
      "13-06-2023  22:11                 0 test.txt\n",
      "               4 File(s)          2,951 bytes\n",
      "               3 Dir(s)  309,709,717,504 bytes free\n"
     ]
    }
   ],
   "source": [
    "ls"
   ]
  },
  {
   "cell_type": "code",
   "execution_count": 4,
   "id": "14ea3071",
   "metadata": {},
   "outputs": [
    {
     "data": {
      "text/plain": [
       "33"
      ]
     },
     "execution_count": 4,
     "metadata": {},
     "output_type": "execute_result"
    }
   ],
   "source": [
    "f.write(\"This is my first write operation!\")"
   ]
  },
  {
   "cell_type": "code",
   "execution_count": 5,
   "id": "a88835fb",
   "metadata": {},
   "outputs": [],
   "source": [
    "f.close()"
   ]
  },
  {
   "cell_type": "markdown",
   "id": "bc125457",
   "metadata": {},
   "source": [
    "## Append method"
   ]
  },
  {
   "cell_type": "code",
   "execution_count": 7,
   "id": "b8bfa02a",
   "metadata": {},
   "outputs": [],
   "source": [
    "f=open(\"test.txt\",\"a\")"
   ]
  },
  {
   "cell_type": "code",
   "execution_count": 12,
   "id": "f19e22f1",
   "metadata": {},
   "outputs": [
    {
     "data": {
      "text/plain": [
       "719"
      ]
     },
     "execution_count": 12,
     "metadata": {},
     "output_type": "execute_result"
    }
   ],
   "source": [
    "f.write(\"Data Science Masters course is highly curated and uniquely designed according to the latest industry standards. This program instills students the skills essential to knowledge discovery efforts to identify standard, novel, and truly differentiated solutions and decision-making, including skills in managing, querying, analyzing, visualizing, and extracting meaning from extremely large data sets. This trending program provides students with the statistical, mathematical and computational skills needed to meet the large-scale data science challenges of today's professional world. You will learn all the stack required to work in data science industry including cloud infrastructure and real-time industry projects.\")"
   ]
  },
  {
   "cell_type": "code",
   "execution_count": 13,
   "id": "b612fc0d",
   "metadata": {},
   "outputs": [],
   "source": [
    "f.close()"
   ]
  },
  {
   "cell_type": "code",
   "execution_count": 14,
   "id": "95c7bb96",
   "metadata": {},
   "outputs": [],
   "source": [
    "f1=open(\"test.txt\",\"a\")"
   ]
  },
  {
   "cell_type": "code",
   "execution_count": 15,
   "id": "c2865b8a",
   "metadata": {},
   "outputs": [
    {
     "name": "stdout",
     "output_type": "stream",
     "text": [
      " Volume in drive C is Windows\n",
      " Volume Serial Number is 041D-30FD\n",
      "\n",
      " Directory of C:\\Users\\Huzaifa Khan\\Desktop\\Python Complete\\Files\n",
      "\n",
      "13-06-2023  22:13    <DIR>          .\n",
      "13-06-2023  19:38    <DIR>          ..\n",
      "13-06-2023  19:39    <DIR>          .ipynb_checkpoints\n",
      "13-06-2023  15:17                33 data_scientist.txt\n",
      "13-06-2023  17:26                24 example.txt\n",
      "13-06-2023  22:13             4,227 Files-01 (Working With Files).ipynb\n",
      "13-06-2023  22:12               719 test.txt\n",
      "               4 File(s)          5,003 bytes\n",
      "               3 Dir(s)  309,707,980,800 bytes free\n"
     ]
    }
   ],
   "source": [
    "ls"
   ]
  },
  {
   "cell_type": "code",
   "execution_count": 17,
   "id": "93ce9db4",
   "metadata": {},
   "outputs": [
    {
     "data": {
      "text/plain": [
       "5"
      ]
     },
     "execution_count": 17,
     "metadata": {},
     "output_type": "execute_result"
    }
   ],
   "source": [
    "f1.write(\"hello\")"
   ]
  },
  {
   "cell_type": "code",
   "execution_count": 18,
   "id": "f1a201ef",
   "metadata": {},
   "outputs": [],
   "source": [
    "f1.close()"
   ]
  },
  {
   "cell_type": "markdown",
   "id": "5f347439",
   "metadata": {},
   "source": [
    "## Read method"
   ]
  },
  {
   "cell_type": "code",
   "execution_count": 20,
   "id": "d78620d3",
   "metadata": {},
   "outputs": [],
   "source": [
    "f2=open(\"test.txt\",\"r\")"
   ]
  },
  {
   "cell_type": "code",
   "execution_count": 21,
   "id": "1fa67c60",
   "metadata": {},
   "outputs": [
    {
     "data": {
      "text/plain": [
       "\"Data Science Masters course is highly curated and uniquely designed according to the latest industry standards. This program instills students the skills essential to knowledge discovery efforts to identify standard, novel, and truly differentiated solutions and decision-making, including skills in managing, querying, analyzing, visualizing, and extracting meaning from extremely large data sets. This trending program provides students with the statistical, mathematical and computational skills needed to meet the large-scale data science challenges of today's professional world. You will learn all the stack required to work in data science industry including cloud infrastructure and real-time industry projects.hello\""
      ]
     },
     "execution_count": 21,
     "metadata": {},
     "output_type": "execute_result"
    }
   ],
   "source": [
    "f2.read()"
   ]
  },
  {
   "cell_type": "code",
   "execution_count": 23,
   "id": "b80d689f",
   "metadata": {},
   "outputs": [
    {
     "data": {
      "text/plain": [
       "''"
      ]
     },
     "execution_count": 23,
     "metadata": {},
     "output_type": "execute_result"
    }
   ],
   "source": [
    "f2.read() #it shows empty space because the cursor is at the last location after the previous read"
   ]
  },
  {
   "cell_type": "code",
   "execution_count": 25,
   "id": "64a8aa00",
   "metadata": {},
   "outputs": [
    {
     "data": {
      "text/plain": [
       "0"
      ]
     },
     "execution_count": 25,
     "metadata": {},
     "output_type": "execute_result"
    }
   ],
   "source": [
    "f2.seek(0) # seek is used to place the cursor at the start"
   ]
  },
  {
   "cell_type": "code",
   "execution_count": 26,
   "id": "642f6032",
   "metadata": {},
   "outputs": [
    {
     "data": {
      "text/plain": [
       "\"Data Science Masters course is highly curated and uniquely designed according to the latest industry standards. This program instills students the skills essential to knowledge discovery efforts to identify standard, novel, and truly differentiated solutions and decision-making, including skills in managing, querying, analyzing, visualizing, and extracting meaning from extremely large data sets. This trending program provides students with the statistical, mathematical and computational skills needed to meet the large-scale data science challenges of today's professional world. You will learn all the stack required to work in data science industry including cloud infrastructure and real-time industry projects.hello\""
      ]
     },
     "execution_count": 26,
     "metadata": {},
     "output_type": "execute_result"
    }
   ],
   "source": [
    "f2.read()"
   ]
  },
  {
   "cell_type": "markdown",
   "id": "ffc2d51e",
   "metadata": {},
   "source": [
    "## Another method for read"
   ]
  },
  {
   "cell_type": "code",
   "execution_count": 29,
   "id": "37f46415",
   "metadata": {},
   "outputs": [],
   "source": [
    "fr2=open(\"test.txt\",\"r\")"
   ]
  },
  {
   "cell_type": "code",
   "execution_count": 30,
   "id": "1e4bac01",
   "metadata": {},
   "outputs": [
    {
     "name": "stdout",
     "output_type": "stream",
     "text": [
      "Data Science Masters course is highly curated and uniquely designed according to the latest industry standards. This program instills students the skills essential to knowledge discovery efforts to identify standard, novel, and truly differentiated solutions and decision-making, including skills in managing, querying, analyzing, visualizing, and extracting meaning from extremely large data sets. This trending program provides students with the statistical, mathematical and computational skills needed to meet the large-scale data science challenges of today's professional world. You will learn all the stack required to work in data science industry including cloud infrastructure and real-time industry projects.hello\n"
     ]
    }
   ],
   "source": [
    "for i in fr2:\n",
    "    print(i)"
   ]
  },
  {
   "cell_type": "markdown",
   "id": "66714d9f",
   "metadata": {},
   "source": [
    "## Obtaining Size of the file"
   ]
  },
  {
   "cell_type": "code",
   "execution_count": 31,
   "id": "a6a300db",
   "metadata": {},
   "outputs": [],
   "source": [
    "import os"
   ]
  },
  {
   "cell_type": "code",
   "execution_count": 33,
   "id": "76f924c2",
   "metadata": {},
   "outputs": [
    {
     "data": {
      "text/plain": [
       "724"
      ]
     },
     "execution_count": 33,
     "metadata": {},
     "output_type": "execute_result"
    }
   ],
   "source": [
    "os.path.getsize(\"test.txt\") #Returns file size in kb"
   ]
  },
  {
   "cell_type": "markdown",
   "id": "81dae5ab",
   "metadata": {},
   "source": [
    "## Creating a clone file"
   ]
  },
  {
   "cell_type": "code",
   "execution_count": 34,
   "id": "071a9184",
   "metadata": {},
   "outputs": [],
   "source": [
    "import shutil"
   ]
  },
  {
   "cell_type": "code",
   "execution_count": 35,
   "id": "3ebb8a45",
   "metadata": {},
   "outputs": [
    {
     "data": {
      "text/plain": [
       "'text.txt'"
      ]
     },
     "execution_count": 35,
     "metadata": {},
     "output_type": "execute_result"
    }
   ],
   "source": [
    "shutil.copy(\"test.txt\",\"text.txt\")"
   ]
  },
  {
   "cell_type": "markdown",
   "id": "6e9b25ad",
   "metadata": {},
   "source": [
    "## Deleting a file"
   ]
  },
  {
   "cell_type": "code",
   "execution_count": 36,
   "id": "43da213c",
   "metadata": {},
   "outputs": [],
   "source": [
    "os.remove(\"text.txt\")"
   ]
  },
  {
   "cell_type": "markdown",
   "id": "01da7cc3",
   "metadata": {},
   "source": [
    "## Renaming a file"
   ]
  },
  {
   "cell_type": "code",
   "execution_count": 40,
   "id": "2381246e",
   "metadata": {},
   "outputs": [],
   "source": [
    "os.rename(\"test-Copy1.txt\",\"test1.txt\")"
   ]
  },
  {
   "cell_type": "markdown",
   "id": "cfb63f53",
   "metadata": {},
   "source": [
    "## Another Method of accessing a file"
   ]
  },
  {
   "cell_type": "code",
   "execution_count": 41,
   "id": "ab5aea82",
   "metadata": {},
   "outputs": [
    {
     "name": "stdout",
     "output_type": "stream",
     "text": [
      "Data Science Masters course is highly curated and uniquely designed according to the latest industry standards. This program instills students the skills essential to knowledge discovery efforts to identify standard, novel, and truly differentiated solutions and decision-making, including skills in managing, querying, analyzing, visualizing, and extracting meaning from extremely large data sets. This trending program provides students with the statistical, mathematical and computational skills needed to meet the large-scale data science challenges of today's professional world. You will learn all the stack required to work in data science industry including cloud infrastructure and real-time industry projects.hello\n"
     ]
    }
   ],
   "source": [
    "with open(\"test.txt\",\"r\") as f4:\n",
    "    print(f4.read())"
   ]
  }
 ],
 "metadata": {
  "kernelspec": {
   "display_name": "Python 3 (ipykernel)",
   "language": "python",
   "name": "python3"
  },
  "language_info": {
   "codemirror_mode": {
    "name": "ipython",
    "version": 3
   },
   "file_extension": ".py",
   "mimetype": "text/x-python",
   "name": "python",
   "nbconvert_exporter": "python",
   "pygments_lexer": "ipython3",
   "version": "3.9.13"
  }
 },
 "nbformat": 4,
 "nbformat_minor": 5
}
