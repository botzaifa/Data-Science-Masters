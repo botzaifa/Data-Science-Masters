{
 "cells": [
  {
   "cell_type": "code",
   "execution_count": 1,
   "id": "63f2da3b",
   "metadata": {},
   "outputs": [
    {
     "name": "stdout",
     "output_type": "stream",
     "text": [
      "Kernel check\n"
     ]
    }
   ],
   "source": [
    "print(\"Kernel check\")"
   ]
  },
  {
   "cell_type": "code",
   "execution_count": 1,
   "id": "330b77d8",
   "metadata": {},
   "outputs": [],
   "source": [
    "import logging"
   ]
  },
  {
   "cell_type": "code",
   "execution_count": 3,
   "id": "b7332671",
   "metadata": {},
   "outputs": [],
   "source": [
    "logging.basicConfig(filename='Text.log', level=logging.INFO)"
   ]
  },
  {
   "cell_type": "code",
   "execution_count": 4,
   "id": "46926ae4",
   "metadata": {},
   "outputs": [],
   "source": [
    "logging.info(\"this is the first line\")"
   ]
  },
  {
   "cell_type": "code",
   "execution_count": 5,
   "id": "d2eaeabb",
   "metadata": {},
   "outputs": [],
   "source": [
    "logging.error(\"Error found\")"
   ]
  },
  {
   "cell_type": "code",
   "execution_count": 6,
   "id": "fe5add81",
   "metadata": {},
   "outputs": [],
   "source": [
    "logging.critical(\"critical error\")"
   ]
  },
  {
   "cell_type": "code",
   "execution_count": 7,
   "id": "d9c1836d",
   "metadata": {},
   "outputs": [],
   "source": [
    "logging.debug(\"this is debug\")"
   ]
  },
  {
   "cell_type": "code",
   "execution_count": 8,
   "id": "92f08434",
   "metadata": {},
   "outputs": [
    {
     "ename": "AttributeError",
     "evalue": "module 'logging' has no attribute 'noset'",
     "output_type": "error",
     "traceback": [
      "\u001b[1;31m---------------------------------------------------------------------------\u001b[0m",
      "\u001b[1;31mAttributeError\u001b[0m                            Traceback (most recent call last)",
      "\u001b[1;32m~\\AppData\\Local\\Temp\\ipykernel_22492\\4020266339.py\u001b[0m in \u001b[0;36m<module>\u001b[1;34m\u001b[0m\n\u001b[1;32m----> 1\u001b[1;33m \u001b[0mlogging\u001b[0m\u001b[1;33m.\u001b[0m\u001b[0mnoset\u001b[0m\u001b[1;33m(\u001b[0m\u001b[1;34m\"this is my noset related log\"\u001b[0m\u001b[1;33m)\u001b[0m\u001b[1;33m\u001b[0m\u001b[1;33m\u001b[0m\u001b[0m\n\u001b[0m",
      "\u001b[1;31mAttributeError\u001b[0m: module 'logging' has no attribute 'noset'"
     ]
    }
   ],
   "source": [
    "logging.noset(\"this is my noset related log\")"
   ]
  },
  {
   "cell_type": "code",
   "execution_count": 9,
   "id": "2014eaf5",
   "metadata": {},
   "outputs": [],
   "source": [
    "logging.shutdown()"
   ]
  },
  {
   "cell_type": "code",
   "execution_count": 3,
   "id": "f32a4103",
   "metadata": {},
   "outputs": [],
   "source": [
    "logging.basicConfig(filename=\"test.log\", level = logging.DEBUG ,format = '%(asctime)s %(message)s')"
   ]
  },
  {
   "cell_type": "code",
   "execution_count": 4,
   "id": "e45e2fe0",
   "metadata": {},
   "outputs": [
    {
     "name": "stderr",
     "output_type": "stream",
     "text": [
      "2023-06-14 21:43:37,741 info found\n"
     ]
    }
   ],
   "source": [
    "logging.info(\"info found\")"
   ]
  },
  {
   "cell_type": "code",
   "execution_count": 5,
   "id": "b4818fdb",
   "metadata": {},
   "outputs": [
    {
     "name": "stderr",
     "output_type": "stream",
     "text": [
      "2023-06-14 21:43:38,066 this is my debug log\n"
     ]
    }
   ],
   "source": [
    "logging.debug(\"this is my debug log\")"
   ]
  },
  {
   "cell_type": "code",
   "execution_count": 6,
   "id": "f32d4c89",
   "metadata": {},
   "outputs": [
    {
     "name": "stderr",
     "output_type": "stream",
     "text": [
      "2023-06-14 21:43:41,447 this is my warning \n"
     ]
    }
   ],
   "source": [
    "logging.warning(\"this is my warning \")"
   ]
  },
  {
   "cell_type": "code",
   "execution_count": 7,
   "id": "301c611a",
   "metadata": {},
   "outputs": [],
   "source": [
    "logging.shutdown()"
   ]
  },
  {
   "cell_type": "code",
   "execution_count": 2,
   "id": "e5a117fa",
   "metadata": {},
   "outputs": [],
   "source": [
    "logging.basicConfig(filename=\"testtt.log\",level=logging.DEBUG, format = '%(asctime)s %(name)s %(levelname)s  %(message)s')"
   ]
  },
  {
   "cell_type": "code",
   "execution_count": 3,
   "id": "a848e445",
   "metadata": {},
   "outputs": [],
   "source": [
    "logging.info(\"this is my info log\")"
   ]
  },
  {
   "cell_type": "code",
   "execution_count": 4,
   "id": "eb1ed0cf",
   "metadata": {},
   "outputs": [],
   "source": [
    "l = [1,2,3,4,[4,5,6,7],'huzi','khan']"
   ]
  },
  {
   "cell_type": "code",
   "execution_count": 11,
   "id": "36a94af7",
   "metadata": {},
   "outputs": [],
   "source": [
    "l1_int = []\n",
    "l2_str = []\n",
    "for i in l:\n",
    "    logging.info(\"begining of the loop {}\".format(l))\n",
    "    logging.info(\"value of i {}\".format(i))\n",
    "    if type(i) == list:\n",
    "        for j in i :\n",
    "            logging.info(\"logggin my j {j} and i is {i}\".format(i = i ,j = j))\n",
    "            if type(j) == int :\n",
    "                l1_int.append(j)\n",
    "    elif type(i) == int :\n",
    "        l1_int.append(i)\n",
    "    else :\n",
    "        if type(i) == str:\n",
    "            l2_str.append(i)\n",
    "logging.info(\"this is my final result  with all int {l1} ,with all str{l2}\".format(l1 =l1_int ,l2 =l2_str ))"
   ]
  },
  {
   "cell_type": "code",
   "execution_count": 13,
   "id": "7c45556f",
   "metadata": {},
   "outputs": [
    {
     "data": {
      "text/plain": [
       "[1, 2, 3, 4, 4, 5, 6, 7]"
      ]
     },
     "execution_count": 13,
     "metadata": {},
     "output_type": "execute_result"
    }
   ],
   "source": [
    "l1_int"
   ]
  },
  {
   "cell_type": "code",
   "execution_count": 14,
   "id": "326ac037",
   "metadata": {},
   "outputs": [
    {
     "data": {
      "text/plain": [
       "['huzi', 'khan']"
      ]
     },
     "execution_count": 14,
     "metadata": {},
     "output_type": "execute_result"
    }
   ],
   "source": [
    "l2_str"
   ]
  },
  {
   "cell_type": "code",
   "execution_count": null,
   "id": "08594888",
   "metadata": {},
   "outputs": [],
   "source": []
  }
 ],
 "metadata": {
  "kernelspec": {
   "display_name": "Python 3 (ipykernel)",
   "language": "python",
   "name": "python3"
  },
  "language_info": {
   "codemirror_mode": {
    "name": "ipython",
    "version": 3
   },
   "file_extension": ".py",
   "mimetype": "text/x-python",
   "name": "python",
   "nbconvert_exporter": "python",
   "pygments_lexer": "ipython3",
   "version": "3.9.13"
  }
 },
 "nbformat": 4,
 "nbformat_minor": 5
}
