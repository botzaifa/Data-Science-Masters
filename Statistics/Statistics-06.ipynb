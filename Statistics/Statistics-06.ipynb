{
 "cells": [
  {
   "cell_type": "markdown",
   "id": "860c749e",
   "metadata": {},
   "source": [
    "# F test in statistics"
   ]
  },
  {
   "cell_type": "code",
   "execution_count": 1,
   "id": "db88c473",
   "metadata": {},
   "outputs": [],
   "source": [
    "# Evidences to say that two populational variences are unequal\n",
    "\n",
    "worker_1 = [18,19,20,22,23,28,41,45,51,55]\n",
    "worker_2 = [12,13,14,15,21,24,27,29,32,40]"
   ]
  },
  {
   "cell_type": "code",
   "execution_count": 6,
   "id": "6e123770",
   "metadata": {},
   "outputs": [],
   "source": [
    "import numpy as np\n",
    "import scipy.stats as stat"
   ]
  },
  {
   "cell_type": "code",
   "execution_count": 3,
   "id": "837fcdf6",
   "metadata": {},
   "outputs": [],
   "source": [
    "# Calculating the F test statistics\n",
    "f_test = np.var(worker_1)/np.var(worker_2)"
   ]
  },
  {
   "cell_type": "code",
   "execution_count": 4,
   "id": "0f19ccf7",
   "metadata": {},
   "outputs": [
    {
     "data": {
      "text/plain": [
       "2.330008837268022"
      ]
     },
     "execution_count": 4,
     "metadata": {},
     "output_type": "execute_result"
    }
   ],
   "source": [
    "f_test"
   ]
  },
  {
   "cell_type": "code",
   "execution_count": 5,
   "id": "22bef151",
   "metadata": {},
   "outputs": [],
   "source": [
    "# Degree of freedom\n",
    "df1 = len(worker_1)-1\n",
    "df2 = len(worker_2)-1\n",
    "significance_val=0.05"
   ]
  },
  {
   "cell_type": "code",
   "execution_count": 9,
   "id": "5530b94b",
   "metadata": {},
   "outputs": [],
   "source": [
    "critical_value = stat.f.ppf(q=1-significance_val,dfn=df1,dfd=df2)"
   ]
  },
  {
   "cell_type": "code",
   "execution_count": 10,
   "id": "724361ad",
   "metadata": {},
   "outputs": [
    {
     "data": {
      "text/plain": [
       "3.178893104458269"
      ]
     },
     "execution_count": 10,
     "metadata": {},
     "output_type": "execute_result"
    }
   ],
   "source": [
    "critical_value"
   ]
  },
  {
   "cell_type": "code",
   "execution_count": 11,
   "id": "cfd0e579",
   "metadata": {},
   "outputs": [
    {
     "name": "stdout",
     "output_type": "stream",
     "text": [
      "The Null Hypothesis is rejected\n"
     ]
    }
   ],
   "source": [
    "if f_test > critical_value:\n",
    "    print(\"The Null Hypothesis is accepted\")\n",
    "else:\n",
    "    print(\"The Null Hypothesis is rejected\")"
   ]
  }
 ],
 "metadata": {
  "kernelspec": {
   "display_name": "Python 3 (ipykernel)",
   "language": "python",
   "name": "python3"
  },
  "language_info": {
   "codemirror_mode": {
    "name": "ipython",
    "version": 3
   },
   "file_extension": ".py",
   "mimetype": "text/x-python",
   "name": "python",
   "nbconvert_exporter": "python",
   "pygments_lexer": "ipython3",
   "version": "3.9.13"
  }
 },
 "nbformat": 4,
 "nbformat_minor": 5
}
