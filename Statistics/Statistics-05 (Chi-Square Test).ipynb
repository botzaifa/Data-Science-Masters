{
 "cells": [
  {
   "cell_type": "markdown",
   "id": "cf173632",
   "metadata": {},
   "source": [
    "# Chi-Square test"
   ]
  },
  {
   "cell_type": "code",
   "execution_count": 2,
   "id": "e41a9400",
   "metadata": {},
   "outputs": [],
   "source": [
    "import scipy.stats as stat\n",
    "import numpy as np"
   ]
  },
  {
   "cell_type": "code",
   "execution_count": 3,
   "id": "b1107f90",
   "metadata": {},
   "outputs": [],
   "source": [
    "expected_data=[8,6,7,9,6,9,7]\n",
    "observed_data=[7,8,6,9,9,6,7]"
   ]
  },
  {
   "cell_type": "code",
   "execution_count": 6,
   "id": "8712b46a",
   "metadata": {},
   "outputs": [
    {
     "data": {
      "text/plain": [
       "(52, 52)"
      ]
     },
     "execution_count": 6,
     "metadata": {},
     "output_type": "execute_result"
    }
   ],
   "source": [
    "sum(expected_data),sum(observed_data)"
   ]
  },
  {
   "cell_type": "code",
   "execution_count": 8,
   "id": "3bbc4443",
   "metadata": {},
   "outputs": [],
   "source": [
    "chisquare_tset_statistics,p_value=stat.chisquare(observed_data,expected_data)"
   ]
  },
  {
   "cell_type": "code",
   "execution_count": 9,
   "id": "951f71ec",
   "metadata": {},
   "outputs": [
    {
     "name": "stdout",
     "output_type": "stream",
     "text": [
      "3.4345238095238093\n"
     ]
    }
   ],
   "source": [
    "print(chisquare_tset_statistics)"
   ]
  },
  {
   "cell_type": "code",
   "execution_count": 10,
   "id": "0bd8db9a",
   "metadata": {},
   "outputs": [
    {
     "name": "stdout",
     "output_type": "stream",
     "text": [
      "0.7526596580922865\n"
     ]
    }
   ],
   "source": [
    "print(p_value)"
   ]
  },
  {
   "cell_type": "code",
   "execution_count": 11,
   "id": "9338a939",
   "metadata": {},
   "outputs": [],
   "source": [
    "# Finding the critical value\n",
    "significance = 0.05\n",
    "dof = len(observed_data)-1\n",
    "critical_value = stat.chi2.ppf(1-significance,dof)"
   ]
  },
  {
   "cell_type": "code",
   "execution_count": 13,
   "id": "1136e91b",
   "metadata": {},
   "outputs": [
    {
     "name": "stdout",
     "output_type": "stream",
     "text": [
      "The Null Hypothesis is Accepted\n"
     ]
    }
   ],
   "source": [
    "if chisquare_tset_statistics > critical_value:\n",
    "    print(\"The Null Hypothesis is Rejected\")\n",
    "else:\n",
    "    print(\"The Null Hypothesis is Accepted\")"
   ]
  }
 ],
 "metadata": {
  "kernelspec": {
   "display_name": "Python 3 (ipykernel)",
   "language": "python",
   "name": "python3"
  },
  "language_info": {
   "codemirror_mode": {
    "name": "ipython",
    "version": 3
   },
   "file_extension": ".py",
   "mimetype": "text/x-python",
   "name": "python",
   "nbconvert_exporter": "python",
   "pygments_lexer": "ipython3",
   "version": "3.9.13"
  }
 },
 "nbformat": 4,
 "nbformat_minor": 5
}
