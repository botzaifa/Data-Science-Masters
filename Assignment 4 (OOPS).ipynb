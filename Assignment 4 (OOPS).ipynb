{
 "cells": [
  {
   "cell_type": "markdown",
   "id": "83611287",
   "metadata": {},
   "source": [
    "# Assignment 4 (OOPS)"
   ]
  },
  {
   "cell_type": "markdown",
   "id": "b13698a9",
   "metadata": {},
   "source": [
    "### Q1. Explain Class and Object with respect to Object-Oriented Programming. Give a suitable example."
   ]
  },
  {
   "cell_type": "markdown",
   "id": "e8f4ca38",
   "metadata": {},
   "source": [
    "### ANS: In Object-Oriented Programming (OOP), a class is a blueprint or a template for creating objects. It defines the properties and behavior that an object of that class should have. On the other hand, an object is an instance of a class that has its own unique set of values for the properties defined in the class."
   ]
  },
  {
   "cell_type": "code",
   "execution_count": 1,
   "id": "fcf55d0f",
   "metadata": {},
   "outputs": [],
   "source": [
    "# Example:\n",
    "class Car:\n",
    "    def __init__(self, make, model, year, color, mileage):\n",
    "        self.make = make\n",
    "        self.model = model\n",
    "        self.year = year\n",
    "        self.color = color\n",
    "        self.mileage = mileage\n",
    "        \n",
    "    def start(self):\n",
    "        print(\"Starting the car...\")\n",
    "        \n",
    "    def stop(self):\n",
    "        print(\"Stopping the car...\")\n",
    "        \n",
    "    def accelerate(self):\n",
    "        print(\"Accelerating...\")\n",
    "        \n",
    "    def brake(self):\n",
    "        print(\"Braking...\") "
   ]
  },
  {
   "cell_type": "code",
   "execution_count": 2,
   "id": "56fc84ae",
   "metadata": {},
   "outputs": [
    {
     "name": "stdout",
     "output_type": "stream",
     "text": [
      "Toyota\n",
      "black\n",
      "Starting the car...\n",
      "Accelerating...\n"
     ]
    }
   ],
   "source": [
    "my_car = Car(\"Toyota\", \"Camry\", 2018, \"silver\", 15000)\n",
    "your_car = Car(\"Honda\", \"Civic\", 2020, \"black\", 10000)\n",
    "\n",
    "print(my_car.make)  \n",
    "print(your_car.color) \n",
    "\n",
    "my_car.start()  \n",
    "your_car.accelerate() "
   ]
  },
  {
   "cell_type": "markdown",
   "id": "7b043d6a",
   "metadata": {},
   "source": [
    "### Q2. Name the four pillars of OOPs."
   ]
  },
  {
   "cell_type": "markdown",
   "id": "5fb1e25c",
   "metadata": {},
   "source": [
    "### Ans: The four pillars of Object-Oriented Programming (OOP) are:\n",
    "\n",
    "1. Encapsulation: Encapsulation is the concept of bundling data and methods (functions) that operate on that data within a single unit, typically a class in OOP. This allows for better data security and prevents outside interference with the data.\n",
    "\n",
    "2. Inheritance: Inheritance is a mechanism that allows a new class to be based on an existing class, inheriting the properties and methods of the existing class. This allows for code reuse, improved organization of classes, and helps to reduce code redundancy.\n",
    "\n",
    "3. Polymorphism: Polymorphism is the ability of an object or method to take on many forms. In OOP, polymorphism refers to the ability of a single method to have different implementations in different classes, or for objects of different classes to be treated as if they are of the same class.\n",
    "\n",
    "4. Abstraction: Abstraction is the concept of simplifying complex systems by breaking them down into smaller, more manageable parts. In OOP, abstraction refers to the ability to define abstract classes or interfaces, which provide a blueprint for derived classes but cannot be instantiated on their own. This helps to reduce complexity and improve code maintainability."
   ]
  },
  {
   "cell_type": "markdown",
   "id": "309e3664",
   "metadata": {},
   "source": [
    "### Q3. Explain why the __init__() function is used. Give a suitable example."
   ]
  },
  {
   "cell_type": "markdown",
   "id": "801475c6",
   "metadata": {},
   "source": [
    "### ANS: In Object-Oriented Programming (OOP), the __init__() function is a special method used to initialize the properties (attributes) of an object when it is created. It is also known as a constructor method, as it is called automatically when an object is instantiated from a class."
   ]
  },
  {
   "cell_type": "code",
   "execution_count": 3,
   "id": "d0137fe9",
   "metadata": {},
   "outputs": [],
   "source": [
    "# Example: \n",
    "class Person:\n",
    "    def __init__(self, name, age):\n",
    "        self.name = name\n",
    "        self.age = age\n",
    "        \n",
    "    def say_hello(self):\n",
    "        print(\"Hello, my name is\", self.name, \"and I am\", self.age, \"years old.\")"
   ]
  },
  {
   "cell_type": "code",
   "execution_count": 4,
   "id": "1be1e451",
   "metadata": {},
   "outputs": [
    {
     "name": "stdout",
     "output_type": "stream",
     "text": [
      "Hello, my name is Alice and I am 25 years old.\n",
      "Hello, my name is Bob and I am 30 years old.\n"
     ]
    }
   ],
   "source": [
    "person1 = Person(\"Alice\", 25)\n",
    "person2 = Person(\"Bob\", 30)\n",
    "\n",
    "person1.say_hello()\n",
    "person2.say_hello()"
   ]
  },
  {
   "cell_type": "markdown",
   "id": "91c1147a",
   "metadata": {},
   "source": [
    "### Q4. Why 'self' is used in OOPs?"
   ]
  },
  {
   "cell_type": "markdown",
   "id": "ca16d280",
   "metadata": {},
   "source": [
    "### ANS: In Object-Oriented Programming (OOP), 'self' is a reference to the object that is calling a method. It is used to access the properties and methods of that object from within the method. A simple answer to why 'self' is used in OOP is that it allows us to differentiate between the properties and methods of an object and those of the class itself. When we define a method in a class, we need to use 'self' as the first parameter in the method definition to indicate that it is an instance method that operates on the object itself. In short, 'self' is used in OOP to reference the object that is calling a method and allows us to access its properties and methods from within that method."
   ]
  },
  {
   "cell_type": "markdown",
   "id": "31a7bc24",
   "metadata": {},
   "source": [
    "### Q5. What is inheritance? Give an example for each type of inheritance."
   ]
  },
  {
   "cell_type": "markdown",
   "id": "b452feef",
   "metadata": {},
   "source": [
    "### ANS: Inheritance is a mechanism in Object-Oriented Programming (OOP) that allows a new class (the derived or child class) to be based on an existing class (the base or parent class), inheriting its properties and methods. This allows for code reuse, improved organization of classes, and helps to reduce code redundancy. There are four types of inheritance:\n",
    "\n",
    "1. Single inheritance: Single inheritance is when a derived class inherits from a single base class. This is the most common type of inheritance.\n",
    "\n",
    "2. Multiple inheritance: Multiple inheritance is when a derived class inherits from two or more base classes.\n",
    "\n",
    "3. Multilevel inheritance: Multilevel inheritance is when a derived class inherits from a base class, and that base class also inherits from another base class.\n",
    "\n",
    "4. Hierarchical inheritance: Hierarchical inheritance is when two or more derived classes inherit from a single base class."
   ]
  },
  {
   "cell_type": "code",
   "execution_count": 5,
   "id": "5be86c06",
   "metadata": {},
   "outputs": [],
   "source": [
    "# Example of Single inheritence \n",
    "class Animal:\n",
    "    def __init__(self, name):\n",
    "        self.name = name\n",
    "        \n",
    "    def speak(self):\n",
    "        pass\n",
    "    \n",
    "class Dog(Animal):\n",
    "    def speak(self):\n",
    "        return \"Woof\"\n",
    "    \n",
    "class Cat(Animal):\n",
    "    def speak(self):\n",
    "        return \"Meow\""
   ]
  },
  {
   "cell_type": "code",
   "execution_count": 6,
   "id": "f2238930",
   "metadata": {},
   "outputs": [],
   "source": [
    "# Example of Multiple inheritence \n",
    "class A:\n",
    "    def method(self):\n",
    "        print(\"A\")\n",
    "        \n",
    "class B:\n",
    "    def method(self):\n",
    "        print(\"B\")\n",
    "        \n",
    "class C(A, B):\n",
    "    pass"
   ]
  },
  {
   "cell_type": "code",
   "execution_count": 7,
   "id": "476cbc6d",
   "metadata": {},
   "outputs": [],
   "source": [
    "# Example of Multilevel inheritence \n",
    "class Animal:\n",
    "    def __init__(self, name):\n",
    "        self.name = name\n",
    "        \n",
    "    def speak(self):\n",
    "        pass\n",
    "    \n",
    "class Mammal(Animal):\n",
    "    def feed_baby_milk(self):\n",
    "        pass\n",
    "    \n",
    "class Cat(Mammal):\n",
    "    def speak(self):\n",
    "        return \"Meow\""
   ]
  },
  {
   "cell_type": "code",
   "execution_count": 8,
   "id": "7e0e94a5",
   "metadata": {},
   "outputs": [],
   "source": [
    "# Example of Hierarchical inheritence \n",
    "class Animal:\n",
    "    def __init__(self, name):\n",
    "        self.name = name\n",
    "        \n",
    "    def speak(self):\n",
    "        pass\n",
    "    \n",
    "class Dog(Animal):\n",
    "    def speak(self):\n",
    "        return \"Woof\"\n",
    "    \n",
    "class Cat(Animal):\n",
    "    def speak(self):\n",
    "        return \"Meow\""
   ]
  }
 ],
 "metadata": {
  "kernelspec": {
   "display_name": "Python 3 (ipykernel)",
   "language": "python",
   "name": "python3"
  },
  "language_info": {
   "codemirror_mode": {
    "name": "ipython",
    "version": 3
   },
   "file_extension": ".py",
   "mimetype": "text/x-python",
   "name": "python",
   "nbconvert_exporter": "python",
   "pygments_lexer": "ipython3",
   "version": "3.9.13"
  }
 },
 "nbformat": 4,
 "nbformat_minor": 5
}
