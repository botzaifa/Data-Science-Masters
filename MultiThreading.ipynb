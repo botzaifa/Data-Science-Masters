{
 "cells": [
  {
   "cell_type": "code",
   "execution_count": 1,
   "id": "61d0e400",
   "metadata": {},
   "outputs": [],
   "source": [
    "import threading"
   ]
  },
  {
   "cell_type": "code",
   "execution_count": 2,
   "id": "0a8a3d99",
   "metadata": {},
   "outputs": [],
   "source": [
    "def test(id):\n",
    "    print(\"The threading id is: %d\" %id)"
   ]
  },
  {
   "cell_type": "code",
   "execution_count": 3,
   "id": "e8f6eb73",
   "metadata": {},
   "outputs": [
    {
     "name": "stdout",
     "output_type": "stream",
     "text": [
      "The threading id is: 10\n"
     ]
    }
   ],
   "source": [
    "test(10)"
   ]
  },
  {
   "cell_type": "code",
   "execution_count": 4,
   "id": "1255c69c",
   "metadata": {},
   "outputs": [
    {
     "name": "stdout",
     "output_type": "stream",
     "text": [
      "The threading id is: 1\n"
     ]
    }
   ],
   "source": [
    "test(1)"
   ]
  },
  {
   "cell_type": "code",
   "execution_count": 5,
   "id": "3216f777",
   "metadata": {},
   "outputs": [
    {
     "name": "stdout",
     "output_type": "stream",
     "text": [
      "The threading id is: 3\n"
     ]
    }
   ],
   "source": [
    "test(3)"
   ]
  },
  {
   "cell_type": "code",
   "execution_count": 6,
   "id": "fbe0ae58",
   "metadata": {},
   "outputs": [],
   "source": [
    "thread = [threading.Thread(target=test, args=(i,)) for i in [10,1,3]]"
   ]
  },
  {
   "cell_type": "code",
   "execution_count": 7,
   "id": "ebf8b4fb",
   "metadata": {},
   "outputs": [
    {
     "data": {
      "text/plain": [
       "[<Thread(Thread-5, initial)>,\n",
       " <Thread(Thread-6, initial)>,\n",
       " <Thread(Thread-7, initial)>]"
      ]
     },
     "execution_count": 7,
     "metadata": {},
     "output_type": "execute_result"
    }
   ],
   "source": [
    "thread"
   ]
  },
  {
   "cell_type": "code",
   "execution_count": 8,
   "id": "29d6f855",
   "metadata": {},
   "outputs": [
    {
     "name": "stdout",
     "output_type": "stream",
     "text": [
      "The threading id is: 10\n",
      "The threading id is: 1\n",
      "The threading id is: 3\n"
     ]
    }
   ],
   "source": [
    "for t in thread:\n",
    "    t.start()"
   ]
  },
  {
   "cell_type": "markdown",
   "id": "3421782b",
   "metadata": {},
   "source": [
    "# Taking data from the web"
   ]
  },
  {
   "cell_type": "code",
   "execution_count": 9,
   "id": "0a2f10ab",
   "metadata": {},
   "outputs": [],
   "source": [
    "import urllib.request"
   ]
  },
  {
   "cell_type": "code",
   "execution_count": 10,
   "id": "58e86804",
   "metadata": {},
   "outputs": [],
   "source": [
    "def file_download(url, filename):\n",
    "    urllib.request.urlretrieve(url,filename)"
   ]
  },
  {
   "cell_type": "code",
   "execution_count": 12,
   "id": "79d64811",
   "metadata": {},
   "outputs": [],
   "source": [
    "file_download(\"https://raw.githubusercontent.com/itsfoss/text-files/master/agatha.txt\",\"test.txt\")"
   ]
  },
  {
   "cell_type": "code",
   "execution_count": 13,
   "id": "7f7ceabc",
   "metadata": {},
   "outputs": [],
   "source": [
    "url_list = ['https://raw.githubusercontent.com/itsfoss/text-files/master/agatha.txt','https://raw.githubusercontent.com/itsfoss/text-files/master/sherlock.txt','https://raw.githubusercontent.com/itsfoss/text-files/master/sample_log_file.txt']"
   ]
  },
  {
   "cell_type": "code",
   "execution_count": 14,
   "id": "097b7d02",
   "metadata": {},
   "outputs": [
    {
     "data": {
      "text/plain": [
       "['https://raw.githubusercontent.com/itsfoss/text-files/master/agatha.txt',\n",
       " 'https://raw.githubusercontent.com/itsfoss/text-files/master/sherlock.txt',\n",
       " 'https://raw.githubusercontent.com/itsfoss/text-files/master/sample_log_file.txt']"
      ]
     },
     "execution_count": 14,
     "metadata": {},
     "output_type": "execute_result"
    }
   ],
   "source": [
    "url_list"
   ]
  },
  {
   "cell_type": "code",
   "execution_count": 15,
   "id": "98f585de",
   "metadata": {},
   "outputs": [],
   "source": [
    "file_list = [\"Data1.txt\",\"Data2.txt\",\"Data3.txt\"]"
   ]
  },
  {
   "cell_type": "code",
   "execution_count": 16,
   "id": "3c1c8b4b",
   "metadata": {},
   "outputs": [
    {
     "data": {
      "text/plain": [
       "['Data1.txt', 'Data2.txt', 'Data3.txt']"
      ]
     },
     "execution_count": 16,
     "metadata": {},
     "output_type": "execute_result"
    }
   ],
   "source": [
    "file_list"
   ]
  },
  {
   "cell_type": "code",
   "execution_count": 18,
   "id": "e932b3d6",
   "metadata": {},
   "outputs": [],
   "source": [
    "thread_url=[threading.Thread(target=file_download,args=(url_list[i],file_list[i])) for i in range(len(url_list))]"
   ]
  },
  {
   "cell_type": "code",
   "execution_count": 19,
   "id": "3ab9303d",
   "metadata": {},
   "outputs": [
    {
     "data": {
      "text/plain": [
       "[<Thread(Thread-8, initial)>,\n",
       " <Thread(Thread-9, initial)>,\n",
       " <Thread(Thread-10, initial)>]"
      ]
     },
     "execution_count": 19,
     "metadata": {},
     "output_type": "execute_result"
    }
   ],
   "source": [
    "thread_url"
   ]
  },
  {
   "cell_type": "code",
   "execution_count": 20,
   "id": "fd768ee0",
   "metadata": {},
   "outputs": [],
   "source": [
    "for t in thread_url:\n",
    "    t.start()"
   ]
  },
  {
   "cell_type": "code",
   "execution_count": 21,
   "id": "491f39b0",
   "metadata": {},
   "outputs": [
    {
     "data": {
      "text/plain": [
       "[<Thread(Thread-8, stopped 28864)>,\n",
       " <Thread(Thread-9, stopped 29460)>,\n",
       " <Thread(Thread-10, stopped 27728)>]"
      ]
     },
     "execution_count": 21,
     "metadata": {},
     "output_type": "execute_result"
    }
   ],
   "source": [
    "thread_url"
   ]
  },
  {
   "cell_type": "code",
   "execution_count": 22,
   "id": "fcadc787",
   "metadata": {},
   "outputs": [],
   "source": [
    "import time"
   ]
  },
  {
   "cell_type": "code",
   "execution_count": 23,
   "id": "9badf2f3",
   "metadata": {},
   "outputs": [],
   "source": [
    "def test2(x):\n",
    "    for i in range(10):\n",
    "        print(\"test will print the value of x %d and the value of i %d\" %(x,i))"
   ]
  },
  {
   "cell_type": "code",
   "execution_count": 24,
   "id": "96c73c69",
   "metadata": {},
   "outputs": [
    {
     "name": "stdout",
     "output_type": "stream",
     "text": [
      "test will print the value of x 10 and the value of i 0\n",
      "test will print the value of x 10 and the value of i 1\n",
      "test will print the value of x 10 and the value of i 2\n",
      "test will print the value of x 10 and the value of i 3\n",
      "test will print the value of x 10 and the value of i 4\n",
      "test will print the value of x 10 and the value of i 5\n",
      "test will print the value of x 10 and the value of i 6\n",
      "test will print the value of x 10 and the value of i 7\n",
      "test will print the value of x 10 and the value of i 8\n",
      "test will print the value of x 10 and the value of i 9\n"
     ]
    }
   ],
   "source": [
    "test2(10)"
   ]
  },
  {
   "cell_type": "code",
   "execution_count": 25,
   "id": "35ef03da",
   "metadata": {},
   "outputs": [
    {
     "name": "stdout",
     "output_type": "stream",
     "text": [
      "test will print the value of x 3 and the value of i 0\n",
      "test will print the value of x 3 and the value of i 1\n",
      "test will print the value of x 3 and the value of i 2\n",
      "test will print the value of x 3 and the value of i 3\n",
      "test will print the value of x 3 and the value of i 4\n",
      "test will print the value of x 3 and the value of i 5\n",
      "test will print the value of x 3 and the value of i 6\n",
      "test will print the value of x 3 and the value of i 7\n",
      "test will print the value of x 3 and the value of i 8\n",
      "test will print the value of x 3 and the value of i 9\n"
     ]
    }
   ],
   "source": [
    "test2(3)"
   ]
  },
  {
   "cell_type": "code",
   "execution_count": 26,
   "id": "a061e234",
   "metadata": {},
   "outputs": [],
   "source": [
    "def test3(x):\n",
    "    for i in range(10):\n",
    "        print(\"test will print the value of x %d and the value of i %d\" %(x,i))\n",
    "        time.sleep(1) #CPU sleeps for 1sec after every single task"
   ]
  },
  {
   "cell_type": "code",
   "execution_count": 27,
   "id": "635e1f77",
   "metadata": {},
   "outputs": [
    {
     "name": "stdout",
     "output_type": "stream",
     "text": [
      "test will print the value of x 10 and the value of i 0\n",
      "test will print the value of x 10 and the value of i 1\n",
      "test will print the value of x 10 and the value of i 2\n",
      "test will print the value of x 10 and the value of i 3\n",
      "test will print the value of x 10 and the value of i 4\n",
      "test will print the value of x 10 and the value of i 5\n",
      "test will print the value of x 10 and the value of i 6\n",
      "test will print the value of x 10 and the value of i 7\n",
      "test will print the value of x 10 and the value of i 8\n",
      "test will print the value of x 10 and the value of i 9\n"
     ]
    }
   ],
   "source": [
    "test3(10)"
   ]
  },
  {
   "cell_type": "code",
   "execution_count": 28,
   "id": "6f0135e2",
   "metadata": {},
   "outputs": [],
   "source": [
    "thread2 = [threading.Thread(target=test3,args=(i,)) for i in [10,5,20]]"
   ]
  },
  {
   "cell_type": "code",
   "execution_count": 29,
   "id": "9f47608c",
   "metadata": {},
   "outputs": [
    {
     "data": {
      "text/plain": [
       "[<Thread(Thread-11, initial)>,\n",
       " <Thread(Thread-12, initial)>,\n",
       " <Thread(Thread-13, initial)>]"
      ]
     },
     "execution_count": 29,
     "metadata": {},
     "output_type": "execute_result"
    }
   ],
   "source": [
    "thread2"
   ]
  },
  {
   "cell_type": "code",
   "execution_count": 30,
   "id": "a1e0e533",
   "metadata": {},
   "outputs": [
    {
     "name": "stdout",
     "output_type": "stream",
     "text": [
      "test will print the value of x 10 and the value of i 0\n",
      "test will print the value of x 5 and the value of i 0\n",
      "test will print the value of x 20 and the value of i 0\n",
      "test will print the value of x 5 and the value of i 1\n",
      "test will print the value of x 10 and the value of i 1\n",
      "test will print the value of x 20 and the value of i 1\n",
      "test will print the value of x 5 and the value of i 2test will print the value of x 20 and the value of i 2\n",
      "test will print the value of x 10 and the value of i 2\n",
      "\n",
      "test will print the value of x 5 and the value of i 3test will print the value of x 20 and the value of i 3\n",
      "\n",
      "test will print the value of x 10 and the value of i 3\n",
      "test will print the value of x 10 and the value of i 4test will print the value of x 5 and the value of i 4\n",
      "\n",
      "test will print the value of x 20 and the value of i 4\n",
      "test will print the value of x 20 and the value of i 5\n",
      "test will print the value of x 10 and the value of i 5\n",
      "test will print the value of x 5 and the value of i 5\n",
      "test will print the value of x 5 and the value of i 6test will print the value of x 10 and the value of i 6\n",
      "test will print the value of x 20 and the value of i 6\n",
      "\n",
      "test will print the value of x 20 and the value of i 7test will print the value of x 5 and the value of i 7\n",
      "test will print the value of x 10 and the value of i 7\n",
      "\n",
      "test will print the value of x 10 and the value of i 8test will print the value of x 20 and the value of i 8\n",
      "test will print the value of x 5 and the value of i 8\n",
      "\n",
      "test will print the value of x 10 and the value of i 9test will print the value of x 5 and the value of i 9\n",
      "test will print the value of x 20 and the value of i 9\n",
      "\n"
     ]
    }
   ],
   "source": [
    "for t in thread2:\n",
    "    t.start()"
   ]
  },
  {
   "cell_type": "code",
   "execution_count": 33,
   "id": "cfbb1e5b",
   "metadata": {},
   "outputs": [],
   "source": [
    "shared_var = 0\n",
    "lock_var = threading.Lock()\n",
    "def test4(x):\n",
    "    global shared_var\n",
    "    with lock_var:\n",
    "        shared_var= shared_var + 1\n",
    "        print(\"value of x %d and shared_variable %d\" %(x,shared_var))\n",
    "        time.sleep(1)"
   ]
  },
  {
   "cell_type": "code",
   "execution_count": 34,
   "id": "3c148839",
   "metadata": {},
   "outputs": [],
   "source": [
    "thread5 = [threading.Thread(target=test4,args= (i,)) for i in [1,2,3,4,5,6]]"
   ]
  },
  {
   "cell_type": "code",
   "execution_count": 35,
   "id": "b3cb3c90",
   "metadata": {},
   "outputs": [
    {
     "name": "stdout",
     "output_type": "stream",
     "text": [
      "value of x 1 and shared_variable 1\n",
      "value of x 2 and shared_variable 2\n",
      "value of x 3 and shared_variable 3\n",
      "value of x 4 and shared_variable 4\n",
      "value of x 5 and shared_variable 5\n",
      "value of x 6 and shared_variable 6\n"
     ]
    }
   ],
   "source": [
    "for t in thread5:\n",
    "    t.start()"
   ]
  },
  {
   "cell_type": "code",
   "execution_count": null,
   "id": "935807b8",
   "metadata": {},
   "outputs": [],
   "source": []
  }
 ],
 "metadata": {
  "kernelspec": {
   "display_name": "Python 3 (ipykernel)",
   "language": "python",
   "name": "python3"
  },
  "language_info": {
   "codemirror_mode": {
    "name": "ipython",
    "version": 3
   },
   "file_extension": ".py",
   "mimetype": "text/x-python",
   "name": "python",
   "nbconvert_exporter": "python",
   "pygments_lexer": "ipython3",
   "version": "3.9.13"
  }
 },
 "nbformat": 4,
 "nbformat_minor": 5
}
