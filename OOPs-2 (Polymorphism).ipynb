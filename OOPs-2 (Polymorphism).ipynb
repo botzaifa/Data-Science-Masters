{
 "cells": [
  {
   "cell_type": "code",
   "execution_count": 1,
   "id": "0e51dedb",
   "metadata": {},
   "outputs": [],
   "source": [
    "def test(a,b) :\n",
    "    return a+b"
   ]
  },
  {
   "cell_type": "code",
   "execution_count": 2,
   "id": "e37cbe7b",
   "metadata": {},
   "outputs": [
    {
     "data": {
      "text/plain": [
       "15"
      ]
     },
     "execution_count": 2,
     "metadata": {},
     "output_type": "execute_result"
    }
   ],
   "source": [
    "test(7,8)"
   ]
  },
  {
   "cell_type": "code",
   "execution_count": 4,
   "id": "7955d779",
   "metadata": {},
   "outputs": [
    {
     "data": {
      "text/plain": [
       "'Huzi Khan'"
      ]
     },
     "execution_count": 4,
     "metadata": {},
     "output_type": "execute_result"
    }
   ],
   "source": [
    "test(\"Huzi \" , \"Khan\")"
   ]
  },
  {
   "cell_type": "code",
   "execution_count": 5,
   "id": "979cd8ed",
   "metadata": {},
   "outputs": [
    {
     "data": {
      "text/plain": [
       "[2, 3, 4, 5, 6, 4, 5, 6, 7]"
      ]
     },
     "execution_count": 5,
     "metadata": {},
     "output_type": "execute_result"
    }
   ],
   "source": [
    "test([2,3,4,5,6] , [4,5,6,7])"
   ]
  },
  {
   "cell_type": "code",
   "execution_count": 6,
   "id": "681915e0",
   "metadata": {},
   "outputs": [],
   "source": [
    "class data_science:\n",
    "    def syllabus(self): \n",
    "        print(\"this is my method for data science syllbaus \")"
   ]
  },
  {
   "cell_type": "code",
   "execution_count": 7,
   "id": "0349faee",
   "metadata": {},
   "outputs": [],
   "source": [
    "class web_dev:\n",
    "    def syllabus(self): \n",
    "        print(\"this is my method for web dev \")"
   ]
  },
  {
   "cell_type": "code",
   "execution_count": 8,
   "id": "d6992ed9",
   "metadata": {},
   "outputs": [],
   "source": [
    "def class_parcer(class_obj): \n",
    "    for i in class_obj: \n",
    "        i.syllabus()"
   ]
  },
  {
   "cell_type": "code",
   "execution_count": 9,
   "id": "056d8a4e",
   "metadata": {},
   "outputs": [],
   "source": [
    "obj_data_science = data_science()"
   ]
  },
  {
   "cell_type": "code",
   "execution_count": 10,
   "id": "d412095a",
   "metadata": {},
   "outputs": [],
   "source": [
    "obj_web_dev = web_dev()"
   ]
  },
  {
   "cell_type": "code",
   "execution_count": 11,
   "id": "892b0e95",
   "metadata": {},
   "outputs": [],
   "source": [
    "class_ojb = [obj_data_science , obj_web_dev]"
   ]
  },
  {
   "cell_type": "code",
   "execution_count": 12,
   "id": "1a9c8ae3",
   "metadata": {},
   "outputs": [
    {
     "name": "stdout",
     "output_type": "stream",
     "text": [
      "this is my method for data science syllbaus \n",
      "this is my method for web dev \n"
     ]
    }
   ],
   "source": [
    "class_parcer(class_ojb)"
   ]
  }
 ],
 "metadata": {
  "kernelspec": {
   "display_name": "Python 3 (ipykernel)",
   "language": "python",
   "name": "python3"
  },
  "language_info": {
   "codemirror_mode": {
    "name": "ipython",
    "version": 3
   },
   "file_extension": ".py",
   "mimetype": "text/x-python",
   "name": "python",
   "nbconvert_exporter": "python",
   "pygments_lexer": "ipython3",
   "version": "3.9.13"
  }
 },
 "nbformat": 4,
 "nbformat_minor": 5
}
