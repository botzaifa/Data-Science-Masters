{
 "cells": [
  {
   "cell_type": "code",
   "execution_count": 1,
   "id": "1316da13",
   "metadata": {},
   "outputs": [],
   "source": [
    "class pwskills:\n",
    "    def __init__(self, name , email):\n",
    "        \n",
    "        self.name = name\n",
    "        self.email = email\n",
    "    \n",
    "    def student_details(self):\n",
    "        print(self.name , self.email)"
   ]
  },
  {
   "cell_type": "code",
   "execution_count": 2,
   "id": "2f5a0288",
   "metadata": {},
   "outputs": [],
   "source": [
    "pw = pwskills('huzi','huzi@gmail.com')"
   ]
  },
  {
   "cell_type": "code",
   "execution_count": 3,
   "id": "67640ce4",
   "metadata": {},
   "outputs": [
    {
     "data": {
      "text/plain": [
       "'huzi'"
      ]
     },
     "execution_count": 3,
     "metadata": {},
     "output_type": "execute_result"
    }
   ],
   "source": [
    "pw.name"
   ]
  },
  {
   "cell_type": "code",
   "execution_count": 4,
   "id": "8261fa07",
   "metadata": {},
   "outputs": [
    {
     "data": {
      "text/plain": [
       "'huzi@gmail.com'"
      ]
     },
     "execution_count": 4,
     "metadata": {},
     "output_type": "execute_result"
    }
   ],
   "source": [
    "pw.email"
   ]
  },
  {
   "cell_type": "code",
   "execution_count": 6,
   "id": "c775a2a1",
   "metadata": {},
   "outputs": [
    {
     "name": "stdout",
     "output_type": "stream",
     "text": [
      "huzi huzi@gmail.com\n"
     ]
    }
   ],
   "source": [
    "pw.student_details()"
   ]
  },
  {
   "cell_type": "code",
   "execution_count": 13,
   "id": "493f9215",
   "metadata": {},
   "outputs": [],
   "source": [
    "class pwskills1:\n",
    "    def __init__(self, name, email):\n",
    "        self.name = name\n",
    "        self.email = email\n",
    "        \n",
    "    @classmethod\n",
    "    def detail(cls,name1,email1):\n",
    "        return cls(name1, email1)\n",
    "    \n",
    "    def student_details(self):\n",
    "        print(self.name,self.email)"
   ]
  },
  {
   "cell_type": "code",
   "execution_count": 14,
   "id": "faf1c6f7",
   "metadata": {},
   "outputs": [],
   "source": [
    " pw1=pwskills1.detail('huzi','huzi@EMAIL.com')"
   ]
  },
  {
   "cell_type": "code",
   "execution_count": 16,
   "id": "69aea9b0",
   "metadata": {},
   "outputs": [
    {
     "data": {
      "text/plain": [
       "'huzi'"
      ]
     },
     "execution_count": 16,
     "metadata": {},
     "output_type": "execute_result"
    }
   ],
   "source": [
    "pw1.name"
   ]
  },
  {
   "cell_type": "code",
   "execution_count": 17,
   "id": "5da22b83",
   "metadata": {},
   "outputs": [
    {
     "data": {
      "text/plain": [
       "'huzi@EMAIL.com'"
      ]
     },
     "execution_count": 17,
     "metadata": {},
     "output_type": "execute_result"
    }
   ],
   "source": [
    "pw1.email"
   ]
  },
  {
   "cell_type": "code",
   "execution_count": 19,
   "id": "6eac11b1",
   "metadata": {},
   "outputs": [
    {
     "name": "stdout",
     "output_type": "stream",
     "text": [
      "huzi huzi@EMAIL.com\n"
     ]
    }
   ],
   "source": [
    "pw1.student_details()"
   ]
  },
  {
   "cell_type": "code",
   "execution_count": 20,
   "id": "77f1f49b",
   "metadata": {},
   "outputs": [],
   "source": [
    "class pwskills2:\n",
    "    \n",
    "    mobile_number = 9134534535\n",
    "    \n",
    "    def __init__(self, name , email):\n",
    "        \n",
    "        self.name = name\n",
    "        self.email = email\n",
    "    \n",
    "    @classmethod\n",
    "    def change_number(cls, mobile):\n",
    "        pwskills2.mobile_number = mobile\n",
    "    \n",
    "    @classmethod\n",
    "    def details(cls , name1 , email1):\n",
    "        return cls(name1 , email1)\n",
    "    \n",
    "    def student_details(self):\n",
    "        print(self.name , self.email,pwskills2.mobile_number)"
   ]
  },
  {
   "cell_type": "code",
   "execution_count": 21,
   "id": "04f7ecd5",
   "metadata": {},
   "outputs": [],
   "source": [
    "pw2=pwskills2('huzi','huzi@gmail')"
   ]
  },
  {
   "cell_type": "code",
   "execution_count": 22,
   "id": "0f714174",
   "metadata": {},
   "outputs": [
    {
     "data": {
      "text/plain": [
       "'huzi'"
      ]
     },
     "execution_count": 22,
     "metadata": {},
     "output_type": "execute_result"
    }
   ],
   "source": [
    "pw2.name"
   ]
  },
  {
   "cell_type": "code",
   "execution_count": 25,
   "id": "d8575efa",
   "metadata": {},
   "outputs": [],
   "source": [
    "pw2.change_number(9857673747)"
   ]
  },
  {
   "cell_type": "code",
   "execution_count": 27,
   "id": "90f0ae14",
   "metadata": {},
   "outputs": [
    {
     "data": {
      "text/plain": [
       "9857673747"
      ]
     },
     "execution_count": 27,
     "metadata": {},
     "output_type": "execute_result"
    }
   ],
   "source": [
    "pw2.mobile_number"
   ]
  },
  {
   "cell_type": "code",
   "execution_count": 28,
   "id": "9defdcbc",
   "metadata": {},
   "outputs": [
    {
     "name": "stdout",
     "output_type": "stream",
     "text": [
      "huzi huzi@gmail 9857673747\n"
     ]
    }
   ],
   "source": [
    "pw2.student_details()"
   ]
  },
  {
   "cell_type": "code",
   "execution_count": 29,
   "id": "0b12adf3",
   "metadata": {},
   "outputs": [],
   "source": [
    "class pwskills3:\n",
    "    \n",
    "    mobile_number = 9134534535\n",
    "    \n",
    "    def __init__(self, name , email):\n",
    "        \n",
    "        self.name = name\n",
    "        self.email = email\n",
    "    \n",
    "    @classmethod\n",
    "    def change_number(cls, mobile):\n",
    "        pwskills2.mobile_number = mobile\n",
    "    \n",
    "    @classmethod\n",
    "    def details(cls , name1 , email1):\n",
    "        return cls(name1 , email1)\n",
    "    \n",
    "    def student_details(self):\n",
    "        print(self.name , self.email,pwskills2.mobile_number)"
   ]
  },
  {
   "cell_type": "code",
   "execution_count": 30,
   "id": "13510484",
   "metadata": {},
   "outputs": [],
   "source": [
    "def course_details(cls ,course_name ):\n",
    "    print(\"course details\" , course_name)"
   ]
  },
  {
   "cell_type": "code",
   "execution_count": 31,
   "id": "916d6df7",
   "metadata": {},
   "outputs": [],
   "source": [
    "pwskills3.course_details = classmethod(course_details)"
   ]
  },
  {
   "cell_type": "code",
   "execution_count": 32,
   "id": "ea65d1c4",
   "metadata": {},
   "outputs": [
    {
     "name": "stdout",
     "output_type": "stream",
     "text": [
      "course details data science masters\n"
     ]
    }
   ],
   "source": [
    "pwskills3.course_details(\"data science masters\")"
   ]
  },
  {
   "cell_type": "code",
   "execution_count": 33,
   "id": "dc70549a",
   "metadata": {},
   "outputs": [],
   "source": [
    "class pwskills4:\n",
    "    \n",
    "    mobile_number = 9134534535\n",
    "    \n",
    "    def __init__(self, name , email):\n",
    "        \n",
    "        self.name = name\n",
    "        self.email = email\n",
    "    \n",
    "    @classmethod\n",
    "    def change_number(cls, mobile):\n",
    "        pwskills2.mobile_number = mobile\n",
    "    \n",
    "    @classmethod\n",
    "    def details(cls , name1 , email1):\n",
    "        return cls(name1 , email1)\n",
    "    \n",
    "    def student_details(self):\n",
    "        print(self.name , self.email,pwskills2.mobile_number)"
   ]
  },
  {
   "cell_type": "code",
   "execution_count": 34,
   "id": "f7d929ec",
   "metadata": {},
   "outputs": [],
   "source": [
    "del pwskills4.change_number"
   ]
  },
  {
   "cell_type": "code",
   "execution_count": 35,
   "id": "30a8860e",
   "metadata": {},
   "outputs": [
    {
     "ename": "AttributeError",
     "evalue": "type object 'pwskills4' has no attribute 'change_number'",
     "output_type": "error",
     "traceback": [
      "\u001b[1;31m---------------------------------------------------------------------------\u001b[0m",
      "\u001b[1;31mAttributeError\u001b[0m                            Traceback (most recent call last)",
      "\u001b[1;32m~\\AppData\\Local\\Temp\\ipykernel_13804\\1756631141.py\u001b[0m in \u001b[0;36m<module>\u001b[1;34m\u001b[0m\n\u001b[1;32m----> 1\u001b[1;33m \u001b[0mpwskills4\u001b[0m\u001b[1;33m.\u001b[0m\u001b[0mchange_number\u001b[0m\u001b[1;33m(\u001b[0m\u001b[1;36m7908524785432993\u001b[0m\u001b[1;33m)\u001b[0m\u001b[1;33m\u001b[0m\u001b[1;33m\u001b[0m\u001b[0m\n\u001b[0m",
      "\u001b[1;31mAttributeError\u001b[0m: type object 'pwskills4' has no attribute 'change_number'"
     ]
    }
   ],
   "source": [
    "pwskills4.change_number(7908524785432993)"
   ]
  },
  {
   "cell_type": "code",
   "execution_count": 36,
   "id": "c1906abe",
   "metadata": {},
   "outputs": [
    {
     "data": {
      "text/plain": [
       "9134534535"
      ]
     },
     "execution_count": 36,
     "metadata": {},
     "output_type": "execute_result"
    }
   ],
   "source": [
    "pwskills4.mobile_number"
   ]
  },
  {
   "cell_type": "code",
   "execution_count": 37,
   "id": "8918fbaf",
   "metadata": {},
   "outputs": [
    {
     "data": {
      "text/plain": [
       "__main__.pwskills4"
      ]
     },
     "execution_count": 37,
     "metadata": {},
     "output_type": "execute_result"
    }
   ],
   "source": [
    "pwskills4"
   ]
  }
 ],
 "metadata": {
  "kernelspec": {
   "display_name": "Python 3 (ipykernel)",
   "language": "python",
   "name": "python3"
  },
  "language_info": {
   "codemirror_mode": {
    "name": "ipython",
    "version": 3
   },
   "file_extension": ".py",
   "mimetype": "text/x-python",
   "name": "python",
   "nbconvert_exporter": "python",
   "pygments_lexer": "ipython3",
   "version": "3.9.13"
  }
 },
 "nbformat": 4,
 "nbformat_minor": 5
}
