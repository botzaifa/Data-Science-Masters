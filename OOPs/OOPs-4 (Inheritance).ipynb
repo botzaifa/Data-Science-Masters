{
 "cells": [
  {
   "cell_type": "code",
   "execution_count": 1,
   "id": "25c104bb",
   "metadata": {},
   "outputs": [],
   "source": [
    "class parent:  \n",
    "    def test_parent(self) : \n",
    "        print(\"this is my parent class \")"
   ]
  },
  {
   "cell_type": "code",
   "execution_count": 2,
   "id": "72c9b7d8",
   "metadata": {},
   "outputs": [],
   "source": [
    "class child(parent):\n",
    "    pass"
   ]
  },
  {
   "cell_type": "code",
   "execution_count": 3,
   "id": "a39ff303",
   "metadata": {},
   "outputs": [],
   "source": [
    "child_obj = child()"
   ]
  },
  {
   "cell_type": "code",
   "execution_count": 4,
   "id": "f7e2e21c",
   "metadata": {},
   "outputs": [
    {
     "name": "stdout",
     "output_type": "stream",
     "text": [
      "this is my parent class \n"
     ]
    }
   ],
   "source": [
    "child_obj.test_parent()"
   ]
  },
  {
   "cell_type": "code",
   "execution_count": 5,
   "id": "bf1c1473",
   "metadata": {},
   "outputs": [],
   "source": [
    "class class1 :\n",
    "    def test_class1(self) : \n",
    "        print(\"this is my Class 1\")"
   ]
  },
  {
   "cell_type": "code",
   "execution_count": 6,
   "id": "c85f2bd9",
   "metadata": {},
   "outputs": [],
   "source": [
    "class class2(class1) : \n",
    "    def test_class2(self) : \n",
    "        print(\"this is my Class 2\")"
   ]
  },
  {
   "cell_type": "code",
   "execution_count": 8,
   "id": "ace28b15",
   "metadata": {},
   "outputs": [],
   "source": [
    "class class3(class2):\n",
    "    def test_class3(self):\n",
    "        print(\"This is my Class 3\")"
   ]
  },
  {
   "cell_type": "code",
   "execution_count": 9,
   "id": "f7b23f7b",
   "metadata": {},
   "outputs": [],
   "source": [
    "obj_class3 = class3()"
   ]
  },
  {
   "cell_type": "code",
   "execution_count": 10,
   "id": "135dc602",
   "metadata": {},
   "outputs": [
    {
     "name": "stdout",
     "output_type": "stream",
     "text": [
      "this is my Class 1\n"
     ]
    }
   ],
   "source": [
    "obj_class3.test_class1()"
   ]
  },
  {
   "cell_type": "code",
   "execution_count": 11,
   "id": "99ab41d4",
   "metadata": {},
   "outputs": [
    {
     "name": "stdout",
     "output_type": "stream",
     "text": [
      "this is my Class 2\n"
     ]
    }
   ],
   "source": [
    "obj_class3.test_class2()"
   ]
  },
  {
   "cell_type": "code",
   "execution_count": 12,
   "id": "3574dafd",
   "metadata": {},
   "outputs": [
    {
     "name": "stdout",
     "output_type": "stream",
     "text": [
      "This is my Class 3\n"
     ]
    }
   ],
   "source": [
    "obj_class3.test_class3()"
   ]
  },
  {
   "cell_type": "code",
   "execution_count": 13,
   "id": "a0251e50",
   "metadata": {},
   "outputs": [],
   "source": [
    "class class4:\n",
    "    def test_class4(self) : \n",
    "        print(\"This is my Class 4\")"
   ]
  },
  {
   "cell_type": "code",
   "execution_count": 14,
   "id": "08342a38",
   "metadata": {},
   "outputs": [],
   "source": [
    "class class5:\n",
    "    def test_class5(self) : \n",
    "        print(\"This is my Class 5\")"
   ]
  },
  {
   "cell_type": "code",
   "execution_count": 15,
   "id": "ef5bb58c",
   "metadata": {},
   "outputs": [],
   "source": [
    "class class6(class4 , class5):\n",
    "    pass"
   ]
  },
  {
   "cell_type": "code",
   "execution_count": 17,
   "id": "dfe57ed4",
   "metadata": {},
   "outputs": [],
   "source": [
    "obj_class6 = class6()"
   ]
  },
  {
   "cell_type": "code",
   "execution_count": 18,
   "id": "23e2071b",
   "metadata": {},
   "outputs": [
    {
     "name": "stdout",
     "output_type": "stream",
     "text": [
      "this is my Class 4\n"
     ]
    }
   ],
   "source": [
    "obj_class6.test_class4()"
   ]
  },
  {
   "cell_type": "code",
   "execution_count": 19,
   "id": "ff5e4170",
   "metadata": {},
   "outputs": [
    {
     "name": "stdout",
     "output_type": "stream",
     "text": [
      "This is my Class 5\n"
     ]
    }
   ],
   "source": [
    "obj_class6.test_class5()"
   ]
  }
 ],
 "metadata": {
  "kernelspec": {
   "display_name": "Python 3 (ipykernel)",
   "language": "python",
   "name": "python3"
  },
  "language_info": {
   "codemirror_mode": {
    "name": "ipython",
    "version": 3
   },
   "file_extension": ".py",
   "mimetype": "text/x-python",
   "name": "python",
   "nbconvert_exporter": "python",
   "pygments_lexer": "ipython3",
   "version": "3.9.13"
  }
 },
 "nbformat": 4,
 "nbformat_minor": 5
}
