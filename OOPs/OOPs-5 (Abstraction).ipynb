{
 "cells": [
  {
   "cell_type": "code",
   "execution_count": 2,
   "id": "190c4cc2",
   "metadata": {},
   "outputs": [],
   "source": [
    "import abc\n",
    "class pwskills():\n",
    "    \n",
    "    @abc.abstractmethod\n",
    "    def student_detail(self):\n",
    "        pass\n",
    "    \n",
    "    @abc.abstractmethod\n",
    "    def student_assignment(self):\n",
    "        pass\n",
    "    \n",
    "    @abc.abstractmethod\n",
    "    def student_marks(self):\n",
    "        pass"
   ]
  },
  {
   "cell_type": "code",
   "execution_count": 3,
   "id": "69f22b50",
   "metadata": {},
   "outputs": [],
   "source": [
    "class data_science(pwskills):    \n",
    "    def student_details(self):\n",
    "        return \"it will try to return a details of data science masters \"\n",
    "    \n",
    "    def student_assignment(self):\n",
    "        return \"it will return a details of student assignemnt for data science masters \""
   ]
  },
  {
   "cell_type": "code",
   "execution_count": 4,
   "id": "69f2eb65",
   "metadata": {},
   "outputs": [],
   "source": [
    "class web_dev(pwskills):\n",
    "     def student_details(self):\n",
    "            return \"this will retrun a detils of web dev \"  \n",
    "    \n",
    "     def student_marks(self):\n",
    "             return \"this will return a makrs of web dev class\""
   ]
  },
  {
   "cell_type": "code",
   "execution_count": 6,
   "id": "5aa4ac3a",
   "metadata": {},
   "outputs": [
    {
     "data": {
      "text/plain": [
       "'it will try to return a details of data science masters '"
      ]
     },
     "execution_count": 6,
     "metadata": {},
     "output_type": "execute_result"
    }
   ],
   "source": [
    "ds = data_science()\n",
    "ds.student_details()"
   ]
  },
  {
   "cell_type": "code",
   "execution_count": 7,
   "id": "c9899de0",
   "metadata": {},
   "outputs": [
    {
     "data": {
      "text/plain": [
       "'this will retrun a detils of web dev '"
      ]
     },
     "execution_count": 7,
     "metadata": {},
     "output_type": "execute_result"
    }
   ],
   "source": [
    "wd = web_dev()\n",
    "wd.student_details()"
   ]
  },
  {
   "cell_type": "code",
   "execution_count": 8,
   "id": "faa32e2d",
   "metadata": {},
   "outputs": [
    {
     "data": {
      "text/plain": [
       "'this will return a makrs of web dev class'"
      ]
     },
     "execution_count": 8,
     "metadata": {},
     "output_type": "execute_result"
    }
   ],
   "source": [
    "wd.student_marks()"
   ]
  },
  {
   "cell_type": "code",
   "execution_count": 9,
   "id": "81ce3976",
   "metadata": {},
   "outputs": [
    {
     "data": {
      "text/plain": [
       "'it will return a details of student assignemnt for data science masters '"
      ]
     },
     "execution_count": 9,
     "metadata": {},
     "output_type": "execute_result"
    }
   ],
   "source": [
    "ds.student_assignment()"
   ]
  }
 ],
 "metadata": {
  "kernelspec": {
   "display_name": "Python 3 (ipykernel)",
   "language": "python",
   "name": "python3"
  },
  "language_info": {
   "codemirror_mode": {
    "name": "ipython",
    "version": 3
   },
   "file_extension": ".py",
   "mimetype": "text/x-python",
   "name": "python",
   "nbconvert_exporter": "python",
   "pygments_lexer": "ipython3",
   "version": "3.9.13"
  }
 },
 "nbformat": 4,
 "nbformat_minor": 5
}
