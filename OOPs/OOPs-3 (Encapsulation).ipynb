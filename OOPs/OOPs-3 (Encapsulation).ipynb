{
 "cells": [
  {
   "cell_type": "code",
   "execution_count": 1,
   "id": "2a888fbb",
   "metadata": {},
   "outputs": [],
   "source": [
    "class test : \n",
    "    def __init__(self , a,b ) : \n",
    "        self.a = a \n",
    "        self.b = b "
   ]
  },
  {
   "cell_type": "code",
   "execution_count": 2,
   "id": "210e4944",
   "metadata": {},
   "outputs": [],
   "source": [
    "t = test(45,56)"
   ]
  },
  {
   "cell_type": "code",
   "execution_count": 3,
   "id": "eb09cdc5",
   "metadata": {},
   "outputs": [
    {
     "data": {
      "text/plain": [
       "45"
      ]
     },
     "execution_count": 3,
     "metadata": {},
     "output_type": "execute_result"
    }
   ],
   "source": [
    "t.a"
   ]
  },
  {
   "cell_type": "code",
   "execution_count": 4,
   "id": "f3377e70",
   "metadata": {},
   "outputs": [
    {
     "data": {
      "text/plain": [
       "56"
      ]
     },
     "execution_count": 4,
     "metadata": {},
     "output_type": "execute_result"
    }
   ],
   "source": [
    "t.b"
   ]
  },
  {
   "cell_type": "code",
   "execution_count": 5,
   "id": "20b160cf",
   "metadata": {},
   "outputs": [
    {
     "name": "stdout",
     "output_type": "stream",
     "text": [
      "203\n"
     ]
    }
   ],
   "source": [
    "t.a=203\n",
    "print(t.a)"
   ]
  },
  {
   "cell_type": "code",
   "execution_count": 6,
   "id": "903efeb1",
   "metadata": {},
   "outputs": [],
   "source": [
    "class car:\n",
    "    \n",
    "    def __init__(self , year , make , model ,speed ) :\n",
    "        self.__year = year \n",
    "        self.__make = make\n",
    "        self.__model = model\n",
    "        self.__speed = 0 \n",
    "    \n",
    "    def set_speed(self , speed) : \n",
    "        self.__speed = 0 if speed < 0 else speed \n",
    "    \n",
    "    def get_speed(self) : \n",
    "        return self.__speed"
   ]
  },
  {
   "cell_type": "code",
   "execution_count": 7,
   "id": "1ae4e667",
   "metadata": {},
   "outputs": [],
   "source": [
    "obj_car = car(2021 , \"toyota\" , \"innova\" , 12)"
   ]
  },
  {
   "cell_type": "code",
   "execution_count": 8,
   "id": "a62e1c46",
   "metadata": {},
   "outputs": [],
   "source": [
    "obj_car._car__year = 2023"
   ]
  },
  {
   "cell_type": "code",
   "execution_count": 9,
   "id": "1e1fab02",
   "metadata": {},
   "outputs": [
    {
     "data": {
      "text/plain": [
       "2023"
      ]
     },
     "execution_count": 9,
     "metadata": {},
     "output_type": "execute_result"
    }
   ],
   "source": [
    "obj_car._car__year"
   ]
  },
  {
   "cell_type": "code",
   "execution_count": 10,
   "id": "babebe73",
   "metadata": {},
   "outputs": [
    {
     "data": {
      "text/plain": [
       "0"
      ]
     },
     "execution_count": 10,
     "metadata": {},
     "output_type": "execute_result"
    }
   ],
   "source": [
    "obj_car._car__speed"
   ]
  },
  {
   "cell_type": "code",
   "execution_count": 11,
   "id": "2c54f0d9",
   "metadata": {},
   "outputs": [
    {
     "data": {
      "text/plain": [
       "<__main__.car at 0x250a2a44430>"
      ]
     },
     "execution_count": 11,
     "metadata": {},
     "output_type": "execute_result"
    }
   ],
   "source": [
    "obj_car"
   ]
  },
  {
   "cell_type": "code",
   "execution_count": 18,
   "id": "6e8e194b",
   "metadata": {},
   "outputs": [],
   "source": [
    "obj_car.set_speed(-1234)"
   ]
  },
  {
   "cell_type": "code",
   "execution_count": 20,
   "id": "c8402dbf",
   "metadata": {},
   "outputs": [
    {
     "data": {
      "text/plain": [
       "0"
      ]
     },
     "execution_count": 20,
     "metadata": {},
     "output_type": "execute_result"
    }
   ],
   "source": [
    "# returns zero as speed cant be in negative\n",
    "obj_car.get_speed()"
   ]
  },
  {
   "cell_type": "code",
   "execution_count": 21,
   "id": "ab4bd50a",
   "metadata": {},
   "outputs": [],
   "source": [
    "obj_car.set_speed(3453)"
   ]
  },
  {
   "cell_type": "code",
   "execution_count": 22,
   "id": "e741cf6e",
   "metadata": {
    "scrolled": true
   },
   "outputs": [
    {
     "data": {
      "text/plain": [
       "3453"
      ]
     },
     "execution_count": 22,
     "metadata": {},
     "output_type": "execute_result"
    }
   ],
   "source": [
    "obj_car.get_speed()"
   ]
  },
  {
   "cell_type": "code",
   "execution_count": 15,
   "id": "041ac8cc",
   "metadata": {},
   "outputs": [],
   "source": [
    "class bank_acount:\n",
    "    \n",
    "    def __init__(self , balance ):\n",
    "        self.__balance = balance\n",
    "    \n",
    "    def deposit(self , amount ) :\n",
    "        self.__balance = self.__balance + amount\n",
    "    \n",
    "    def withdraw(self , amount) : \n",
    "        if self.__balance >= amount : \n",
    "            self.__balance = self.__balance -amount\n",
    "            return True\n",
    "        else : \n",
    "            return False\n",
    "        \n",
    "    def get_balance(self) : \n",
    "        return self.__balance           "
   ]
  },
  {
   "cell_type": "code",
   "execution_count": 16,
   "id": "31659753",
   "metadata": {},
   "outputs": [],
   "source": [
    "obj_bank_account = bank_acount(1000)"
   ]
  },
  {
   "cell_type": "code",
   "execution_count": 23,
   "id": "dffc1134",
   "metadata": {},
   "outputs": [
    {
     "data": {
      "text/plain": [
       "1000"
      ]
     },
     "execution_count": 23,
     "metadata": {},
     "output_type": "execute_result"
    }
   ],
   "source": [
    "obj_bank_account.get_balance()"
   ]
  },
  {
   "cell_type": "code",
   "execution_count": 24,
   "id": "84e14dcb",
   "metadata": {},
   "outputs": [],
   "source": [
    "obj_bank_account.deposit(6000)"
   ]
  },
  {
   "cell_type": "code",
   "execution_count": 25,
   "id": "d9d17167",
   "metadata": {},
   "outputs": [
    {
     "data": {
      "text/plain": [
       "7000"
      ]
     },
     "execution_count": 25,
     "metadata": {},
     "output_type": "execute_result"
    }
   ],
   "source": [
    "obj_bank_account.get_balance()"
   ]
  },
  {
   "cell_type": "code",
   "execution_count": 27,
   "id": "53b8e37a",
   "metadata": {},
   "outputs": [
    {
     "data": {
      "text/plain": [
       "False"
      ]
     },
     "execution_count": 27,
     "metadata": {},
     "output_type": "execute_result"
    }
   ],
   "source": [
    "# returns false as it is not possible as we have less amount in the bank\n",
    "obj_bank_account.withdraw(10000)"
   ]
  },
  {
   "cell_type": "code",
   "execution_count": 28,
   "id": "9d559b0f",
   "metadata": {},
   "outputs": [
    {
     "data": {
      "text/plain": [
       "True"
      ]
     },
     "execution_count": 28,
     "metadata": {},
     "output_type": "execute_result"
    }
   ],
   "source": [
    "# returns true as it can be withdrawn\n",
    "obj_bank_account.withdraw(2000)"
   ]
  },
  {
   "cell_type": "code",
   "execution_count": 29,
   "id": "6c679c0c",
   "metadata": {},
   "outputs": [
    {
     "data": {
      "text/plain": [
       "5000"
      ]
     },
     "execution_count": 29,
     "metadata": {},
     "output_type": "execute_result"
    }
   ],
   "source": [
    "obj_bank_account.get_balance()"
   ]
  }
 ],
 "metadata": {
  "kernelspec": {
   "display_name": "Python 3 (ipykernel)",
   "language": "python",
   "name": "python3"
  },
  "language_info": {
   "codemirror_mode": {
    "name": "ipython",
    "version": 3
   },
   "file_extension": ".py",
   "mimetype": "text/x-python",
   "name": "python",
   "nbconvert_exporter": "python",
   "pygments_lexer": "ipython3",
   "version": "3.9.13"
  }
 },
 "nbformat": 4,
 "nbformat_minor": 5
}
