{
 "cells": [
  {
   "cell_type": "code",
   "execution_count": 1,
   "id": "08382e1f",
   "metadata": {},
   "outputs": [],
   "source": [
    "import re"
   ]
  },
  {
   "cell_type": "code",
   "execution_count": 2,
   "id": "926d41a0",
   "metadata": {},
   "outputs": [
    {
     "name": "stdout",
     "output_type": "stream",
     "text": [
      "Match found!\n"
     ]
    }
   ],
   "source": [
    "s1 = \"Michael Jackson is the best\"\n",
    "\n",
    "# Define the pattern to search for\n",
    "pattern = r\"Jackson\"\n",
    "\n",
    "# Use the search() function to search for the pattern in the string\n",
    "result = re.search(pattern, s1)\n",
    "\n",
    "# Check if a match was found\n",
    "if result:\n",
    "    print(\"Match found!\")\n",
    "else:\n",
    "    print(\"Match not found.\")"
   ]
  },
  {
   "cell_type": "markdown",
   "id": "4ffdc0a7",
   "metadata": {},
   "source": [
    "Regular expressions (RegEx) are patterns used to match and manipulate strings of text. There are several special sequences in RegEx that can be used to match specific characters or patterns.\n",
    "\n",
    "| Special Sequence | Meaning                 | \tExample             |\n",
    "| -----------  | ----------------------- | ----------------------|\n",
    "| \\d|Matches any digit character (0-9)|\"123\" matches \"\\d\\d\\d\"|\n",
    "|\\D|Matches any non-digit character|\"hello\" matches \"\\D\\D\\D\\D\\D\"|\n",
    "|\\w|Matches any word character (a-z, A-Z, 0-9, and _)|\"hello_world\" matches \"\\w\\w\\w\\w\\w\\w\\w\\w\\w\"|\n",
    "|\\W|Matches any non-word character|\t\"@#$%\" matches \"\\W\\W\\W\\W\"|\n",
    "|\\s|Matches any whitespace character (space, tab, newline, etc.)|\"hello world\" matches \"\\w\\s\\w\\w\\w\\w\\w\"|\n",
    "|\\S|Matches any non-whitespace character|\"hello_world\" matches \"\\S\\S\\S\\S\\S\\S\\S\\S\\S\"|\n",
    "|\\b|Matches the boundary between a word character and a non-word character|\"cat\" matches \"\\bcat\\b\" in \"The cat sat on the mat\"|\n",
    "|\\B|Matches any position that is not a word boundary|\"cat\" matches \"\\Bcat\\B\" in \"category\" but not in \"The cat sat on the mat\"|\n"
   ]
  },
  {
   "cell_type": "code",
   "execution_count": 3,
   "id": "4eeed6b5",
   "metadata": {},
   "outputs": [
    {
     "name": "stdout",
     "output_type": "stream",
     "text": [
      "Phone number found: 1234567890\n"
     ]
    }
   ],
   "source": [
    "pattern = r\"\\d\\d\\d\\d\\d\\d\\d\\d\\d\\d\"  # Matches any ten consecutive digits\n",
    "text = \"My Phone number is 1234567890\"\n",
    "match = re.search(pattern, text)\n",
    "\n",
    "if match:\n",
    "    print(\"Phone number found:\", match.group())\n",
    "else:\n",
    "    print(\"No match\")"
   ]
  },
  {
   "cell_type": "code",
   "execution_count": 4,
   "id": "9974a5f2",
   "metadata": {},
   "outputs": [
    {
     "name": "stdout",
     "output_type": "stream",
     "text": [
      "Matches: [',', ' ', '!']\n"
     ]
    }
   ],
   "source": [
    "pattern = r\"\\W\"  # Matches any non-word character\n",
    "text = \"Hello, world!\"\n",
    "matches = re.findall(pattern, text)\n",
    "\n",
    "print(\"Matches:\", matches)"
   ]
  },
  {
   "cell_type": "code",
   "execution_count": 5,
   "id": "8db14089",
   "metadata": {},
   "outputs": [
    {
     "name": "stdout",
     "output_type": "stream",
     "text": [
      "['as', 'as']\n"
     ]
    }
   ],
   "source": [
    "s2 = \"Michael Jackson was a singer and known as the 'King of Pop'\"\n",
    "\n",
    "\n",
    "# Use the findall() function to find all occurrences of the \"as\" in the string\n",
    "result = re.findall(\"as\", s2)\n",
    "\n",
    "# Print out the list of matched words\n",
    "print(result)"
   ]
  },
  {
   "cell_type": "code",
   "execution_count": 6,
   "id": "ad91e21c",
   "metadata": {},
   "outputs": [
    {
     "name": "stdout",
     "output_type": "stream",
     "text": [
      "['Michael', 'Jackson', 'was', 'a', 'singer', 'and', 'known', 'as', 'the', \"'King\", 'of', \"Pop'\"]\n"
     ]
    }
   ],
   "source": [
    "# Use the split function to split the string by the \"\\s\"\n",
    "split_array = re.split(\"\\s\", s2)\n",
    "\n",
    "# The split_array contains all the substrings, split by whitespace characters\n",
    "print(split_array) "
   ]
  },
  {
   "cell_type": "code",
   "execution_count": 7,
   "id": "86be616e",
   "metadata": {},
   "outputs": [
    {
     "name": "stdout",
     "output_type": "stream",
     "text": [
      "Michael Jackson was a singer and known as the 'legend'\n"
     ]
    }
   ],
   "source": [
    "# Define the regular expression pattern to search for\n",
    "pattern = r\"King of Pop\"\n",
    "\n",
    "# Define the replacement string\n",
    "replacement = \"legend\"\n",
    "\n",
    "# Use the sub function to replace the pattern with the replacement string\n",
    "new_string = re.sub(pattern, replacement, s2, flags=re.IGNORECASE)\n",
    "\n",
    "# The new_string contains the original string with the pattern replaced by the replacement string\n",
    "print(new_string) "
   ]
  }
 ],
 "metadata": {
  "kernelspec": {
   "display_name": "Python 3 (ipykernel)",
   "language": "python",
   "name": "python3"
  },
  "language_info": {
   "codemirror_mode": {
    "name": "ipython",
    "version": 3
   },
   "file_extension": ".py",
   "mimetype": "text/x-python",
   "name": "python",
   "nbconvert_exporter": "python",
   "pygments_lexer": "ipython3",
   "version": "3.9.13"
  }
 },
 "nbformat": 4,
 "nbformat_minor": 5
}
