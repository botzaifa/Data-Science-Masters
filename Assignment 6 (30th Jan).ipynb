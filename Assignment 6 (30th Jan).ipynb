{
 "cells": [
  {
   "cell_type": "markdown",
   "id": "c53905e4",
   "metadata": {},
   "source": [
    "# Assignment 6 (30th Jan)"
   ]
  },
  {
   "cell_type": "markdown",
   "id": "0b5af507",
   "metadata": {},
   "source": [
    "### Q1. Write a program to accept percentage from the user and display the grade according to the following criteria:\n",
    "\n",
    "| Marks | Grade |\n",
    "|------|-------|\n",
    "| >90 | A |\n",
    "|>80 and <=90 | B |\n",
    "|>=60 and <=80 | C |\n",
    "|Below 60 | D |"
   ]
  },
  {
   "cell_type": "code",
   "execution_count": 1,
   "id": "16ca45af",
   "metadata": {},
   "outputs": [
    {
     "name": "stdout",
     "output_type": "stream",
     "text": [
      "Enter percentage: 75\n",
      "Grade: C\n"
     ]
    }
   ],
   "source": [
    "percentage = float(input(\"Enter percentage: \"))\n",
    "\n",
    "if percentage > 90:\n",
    "    print(\"Grade: A\")\n",
    "elif percentage > 80 and percentage <= 90:\n",
    "    print(\"Grade: B\")\n",
    "elif percentage >= 60 and percentage <= 80:\n",
    "    print(\"Grade: C\")\n",
    "else:\n",
    "    print(\"Grade: D\")"
   ]
  },
  {
   "cell_type": "markdown",
   "id": "51a735e4",
   "metadata": {},
   "source": [
    "### Q2. Write a program to aaccept the cost price of a bike and display the road tax to be paid according to the folowing criteria:\n",
    "\n",
    "| Tax | Cost Price(in Rs) |\n",
    "|---------|---------------|\n",
    "| 15% | >100000 |\n",
    "| 10% | >50000 and <+100000 |\n",
    "| 5% | <+ 50000 |"
   ]
  },
  {
   "cell_type": "code",
   "execution_count": 2,
   "id": "f528c2ed",
   "metadata": {},
   "outputs": [
    {
     "name": "stdout",
     "output_type": "stream",
     "text": [
      "Enter cost price of bike: 75000\n",
      "Road tax to be paid: Rs. 7500.0\n"
     ]
    }
   ],
   "source": [
    "cost_price = float(input(\"Enter cost price of bike: \"))\n",
    "\n",
    "if cost_price > 100000:\n",
    "    road_tax = cost_price * 0.15\n",
    "    print(\"Road tax to be paid: Rs.\", road_tax)\n",
    "elif cost_price > 50000 and cost_price <= 100000:\n",
    "    road_tax = cost_price * 0.10\n",
    "    print(\"Road tax to be paid: Rs.\", road_tax)\n",
    "elif cost_price <= 50000:\n",
    "    road_tax = cost_price * 0.05\n",
    "    print(\"Road tax to be paid: Rs.\", road_tax)"
   ]
  },
  {
   "cell_type": "markdown",
   "id": "5e716482",
   "metadata": {},
   "source": [
    "### Q3. Accept any city from the user and display monuments of that city.\n",
    "| City | Monumnet |\n",
    "|------|----------|\n",
    "| Delhi | Red fort |\n",
    "| Agra | Taj Mahal | \n",
    "| Jaipur | Jal Mahal\n"
   ]
  },
  {
   "cell_type": "code",
   "execution_count": 3,
   "id": "086f3051",
   "metadata": {},
   "outputs": [
    {
     "name": "stdout",
     "output_type": "stream",
     "text": [
      "Enter a city: Delhi\n",
      "Monument: Red Fort\n"
     ]
    }
   ],
   "source": [
    "city = input(\"Enter a city: \")\n",
    "\n",
    "if city.lower() == \"delhi\":\n",
    "    print(\"Monument: Red Fort\")\n",
    "elif city.lower() == \"agra\":\n",
    "    print(\"Monument: Taj Mahal\")\n",
    "elif city.lower() == \"jaipur\":\n",
    "    print(\"Monument: Jal Mahal\")\n",
    "else:\n",
    "    print(\"Sorry, we don't have information about monuments in that city.\")"
   ]
  },
  {
   "cell_type": "markdown",
   "id": "4f814e3a",
   "metadata": {},
   "source": [
    "### Q4. Check how many times a Given number can be divided by 3 before it is less than or equal to 10."
   ]
  },
  {
   "cell_type": "code",
   "execution_count": 4,
   "id": "8c598635",
   "metadata": {},
   "outputs": [
    {
     "name": "stdout",
     "output_type": "stream",
     "text": [
      "Enter a number: 4\n",
      "The number can be divided by 3 0 times before it is less than or equal to 10.\n"
     ]
    }
   ],
   "source": [
    "number = int(input(\"Enter a number: \"))\n",
    "count = 0\n",
    "\n",
    "while number > 10:\n",
    "    number = number / 3\n",
    "    count += 1\n",
    "\n",
    "print(\"The number can be divided by 3\", count, \"times before it is less than or equal to 10.\")\n"
   ]
  },
  {
   "cell_type": "markdown",
   "id": "47090ef0",
   "metadata": {},
   "source": [
    "### Q5. Why and When to use while Loop in python give a detailed description with example"
   ]
  },
  {
   "cell_type": "markdown",
   "id": "2f5ccfb8",
   "metadata": {},
   "source": [
    "ANS: The while loop in Python is used to repeatedly execute a block of code as long as a certain condition is true. The condition is checked at the beginning of each iteration of the loop, and the loop continues until the condition is false."
   ]
  },
  {
   "cell_type": "code",
   "execution_count": 5,
   "id": "6b02ab0e",
   "metadata": {},
   "outputs": [
    {
     "name": "stdout",
     "output_type": "stream",
     "text": [
      "1\n",
      "2\n",
      "3\n",
      "4\n",
      "5\n"
     ]
    }
   ],
   "source": [
    "# Example:\n",
    "count = 1\n",
    "while count <= 5:\n",
    "    print(count)\n",
    "    count += 1"
   ]
  },
  {
   "cell_type": "markdown",
   "id": "db4eb654",
   "metadata": {},
   "source": [
    "In this example, we initialize the variable count to 1, and use a 'while' loop to repeatedly print the value of count as long as it is less than or equal to 5. Inside the loop, we print the value of count using the print() function, and then increment count by 1 using the '+=' operator."
   ]
  },
  {
   "cell_type": "markdown",
   "id": "4fa41898",
   "metadata": {},
   "source": [
    "### Q6. Use Nested while loop to print 3 different pattern."
   ]
  },
  {
   "cell_type": "code",
   "execution_count": 6,
   "id": "fad5d57f",
   "metadata": {},
   "outputs": [
    {
     "name": "stdout",
     "output_type": "stream",
     "text": [
      "*\n",
      "**\n",
      "***\n",
      "****\n",
      "*****\n"
     ]
    }
   ],
   "source": [
    "# To create a pattern of stars\n",
    "i = 1\n",
    "while i <= 5:\n",
    "    j = 1\n",
    "    while j <= i:\n",
    "        print(\"*\", end=\"\")\n",
    "        j += 1\n",
    "    print()\n",
    "    i += 1"
   ]
  },
  {
   "cell_type": "code",
   "execution_count": 7,
   "id": "d5754b99",
   "metadata": {},
   "outputs": [
    {
     "name": "stdout",
     "output_type": "stream",
     "text": [
      "1\n",
      "12\n",
      "123\n",
      "1234\n",
      "12345\n"
     ]
    }
   ],
   "source": [
    "# To create a pattern of Numbers\n",
    "i = 1\n",
    "while i <= 5:\n",
    "    j = 1\n",
    "    while j <= i:\n",
    "        print(j, end=\"\")\n",
    "        j += 1\n",
    "    print()\n",
    "    i += 1"
   ]
  },
  {
   "cell_type": "code",
   "execution_count": 8,
   "id": "b919d4f2",
   "metadata": {},
   "outputs": [
    {
     "name": "stdout",
     "output_type": "stream",
     "text": [
      "101010\n",
      "101010\n",
      "101010\n",
      "101010\n",
      "101010\n"
     ]
    }
   ],
   "source": [
    "# To create a pattern of 10\n",
    "i = 1\n",
    "while i <= 5:\n",
    "    j = 1\n",
    "    while j <= 6:\n",
    "        if j % 2 == 0:\n",
    "            print(\"0\", end=\"\")\n",
    "        else:\n",
    "            print(\"1\", end=\"\")\n",
    "        j += 1\n",
    "    print()\n",
    "    i += 1"
   ]
  },
  {
   "cell_type": "markdown",
   "id": "e04f4ae1",
   "metadata": {},
   "source": [
    "### Q7. Reverse a while loop to display numbers from 10 to 1"
   ]
  },
  {
   "cell_type": "code",
   "execution_count": 9,
   "id": "0a3cf39e",
   "metadata": {},
   "outputs": [
    {
     "name": "stdout",
     "output_type": "stream",
     "text": [
      "10\n",
      "9\n",
      "8\n",
      "7\n",
      "6\n",
      "5\n",
      "4\n",
      "3\n",
      "2\n",
      "1\n"
     ]
    }
   ],
   "source": [
    "i = 10\n",
    "while i >= 1:\n",
    "    print(i)\n",
    "    i -= 1"
   ]
  }
 ],
 "metadata": {
  "kernelspec": {
   "display_name": "Python 3 (ipykernel)",
   "language": "python",
   "name": "python3"
  },
  "language_info": {
   "codemirror_mode": {
    "name": "ipython",
    "version": 3
   },
   "file_extension": ".py",
   "mimetype": "text/x-python",
   "name": "python",
   "nbconvert_exporter": "python",
   "pygments_lexer": "ipython3",
   "version": "3.9.13"
  }
 },
 "nbformat": 4,
 "nbformat_minor": 5
}
