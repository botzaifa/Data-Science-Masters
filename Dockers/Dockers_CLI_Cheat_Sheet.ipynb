{
 "cells": [
  {
   "cell_type": "markdown",
   "id": "99c0c860",
   "metadata": {},
   "source": [
    "# DOCKERS COMMAND LINE INTERFACE CHEAT SHEET"
   ]
  },
  {
   "cell_type": "markdown",
   "id": "28fb191b",
   "metadata": {},
   "source": [
    "## 1. General Commands: "
   ]
  },
  {
   "cell_type": "markdown",
   "id": "b5f88c29",
   "metadata": {},
   "source": [
    "**Start the Docker daemon:**\n",
    "\n",
    "`docker -d`"
   ]
  },
  {
   "cell_type": "markdown",
   "id": "6f2c3215",
   "metadata": {},
   "source": [
    "**Get help with Docker:**\n",
    "\n",
    "`docker --help`\n",
    "\n",
    "(You can also use -help on all subcommands)"
   ]
  },
  {
   "cell_type": "markdown",
   "id": "18387b6c",
   "metadata": {},
   "source": [
    "**Display system wide information:**\n",
    "\n",
    "`docker info`"
   ]
  },
  {
   "cell_type": "markdown",
   "id": "defbd9ff",
   "metadata": {},
   "source": [
    "## 2. Docker Hub Commands:"
   ]
  },
  {
   "cell_type": "markdown",
   "id": "a747e029",
   "metadata": {},
   "source": [
    "**Login into Docker:**\n",
    "\n",
    "`docker login -u <username>`"
   ]
  },
  {
   "cell_type": "markdown",
   "id": "e9765765",
   "metadata": {},
   "source": [
    "**Publish an Image to Docker Hub:**\n",
    "\n",
    "`docker push <username>/<image_name>`"
   ]
  },
  {
   "cell_type": "markdown",
   "id": "95ffd05e",
   "metadata": {},
   "source": [
    "**Search Hub for an Image:**\n",
    "\n",
    "`docker search <image_name>`"
   ]
  },
  {
   "cell_type": "markdown",
   "id": "c87c9c54",
   "metadata": {},
   "source": [
    "**Pull an Image from a Docker Hub:**\n",
    "\n",
    "`docker pull <image_name>`"
   ]
  },
  {
   "cell_type": "markdown",
   "id": "d061eebf",
   "metadata": {},
   "source": [
    "## 3. Images:"
   ]
  },
  {
   "cell_type": "markdown",
   "id": "2e582b56",
   "metadata": {},
   "source": [
    "**Build an image from a Dockerfile:**\n",
    "\n",
    "`docker build -t <image_name>`"
   ]
  },
  {
   "cell_type": "markdown",
   "id": "92a6ddba",
   "metadata": {},
   "source": [
    "**Build an Image from Dockerfile without any cache:**\n",
    "\n",
    "`docker build -t <image_name> . -no-cache`"
   ]
  },
  {
   "cell_type": "markdown",
   "id": "ccabc10f",
   "metadata": {},
   "source": [
    "**List local Images:**\n",
    "\n",
    "`docker images`"
   ]
  },
  {
   "cell_type": "markdown",
   "id": "9f0bdc22",
   "metadata": {},
   "source": [
    "**Delete an Image:**\n",
    "\n",
    "`docker rmi <image_name>`"
   ]
  },
  {
   "cell_type": "markdown",
   "id": "fce87e5f",
   "metadata": {},
   "source": [
    "**Remove all unused images:**\n",
    "\n",
    "`docker image prune`"
   ]
  },
  {
   "cell_type": "markdown",
   "id": "bd36faf7",
   "metadata": {},
   "source": [
    "## 4. Containers:"
   ]
  },
  {
   "cell_type": "markdown",
   "id": "08845005",
   "metadata": {},
   "source": [
    "**Create and run a Container from an image, with a custom name:**\n",
    "\n",
    "`docker run --name <container_name> <image_name>`"
   ]
  },
  {
   "cell_type": "markdown",
   "id": "285efe0a",
   "metadata": {},
   "source": [
    "**Run a container with and publish a Container's port(s) to the host:**\n",
    "\n",
    "`docker run -p <host_port>:<container_port> <image_name>`"
   ]
  },
  {
   "cell_type": "markdown",
   "id": "399498ad",
   "metadata": {},
   "source": [
    "**Run a Container in the background:**\n",
    "\n",
    "`docker run -d <image_name>`"
   ]
  },
  {
   "cell_type": "markdown",
   "id": "cb884dc5",
   "metadata": {},
   "source": [
    "**Start or stop an existing Container:**\n",
    "\n",
    "1. For Starting the Container:\n",
    "    - `docker start <container_name>`\n",
    "\n",
    "2. For Stoping the Container:\n",
    "    - `docker stop <container_name>`\n",
    "    \n",
    "(You can also use `<container-id>` instead of `<container_name>`)"
   ]
  },
  {
   "cell_type": "markdown",
   "id": "4fc1c9be",
   "metadata": {},
   "source": [
    "**Remove a stopped Container:**\n",
    "\n",
    "`docker rm <container_name>`"
   ]
  },
  {
   "cell_type": "markdown",
   "id": "b82e55e1",
   "metadata": {},
   "source": [
    "**Open a shell inside a running Container:**\n",
    "\n",
    "`docker exec -it <container_name> sh`"
   ]
  },
  {
   "cell_type": "markdown",
   "id": "6e5d9af3",
   "metadata": {},
   "source": [
    "**Fetch and follow the logs of a Container:**\n",
    "\n",
    "`docker logs -f <container_name>`"
   ]
  },
  {
   "cell_type": "markdown",
   "id": "b21839a4",
   "metadata": {},
   "source": [
    "**To inspect a running Container:**\n",
    "\n",
    "`docker inspect <container_name>`\n",
    "\n",
    "(Or you can use `<container-id>`)"
   ]
  },
  {
   "cell_type": "markdown",
   "id": "425c87b9",
   "metadata": {},
   "source": [
    "**To list currently running containers:**\n",
    "\n",
    "`docker ps`"
   ]
  },
  {
   "cell_type": "markdown",
   "id": "82342180",
   "metadata": {},
   "source": [
    "**List all docker containers:**\n",
    "\n",
    "`docker ps --all`"
   ]
  },
  {
   "cell_type": "markdown",
   "id": "fb5564cd",
   "metadata": {},
   "source": [
    "**View resource usage stats:**\n",
    "\n",
    "`docker container stats`"
   ]
  }
 ],
 "metadata": {
  "kernelspec": {
   "display_name": "Python 3 (ipykernel)",
   "language": "python",
   "name": "python3"
  },
  "language_info": {
   "codemirror_mode": {
    "name": "ipython",
    "version": 3
   },
   "file_extension": ".py",
   "mimetype": "text/x-python",
   "name": "python",
   "nbconvert_exporter": "python",
   "pygments_lexer": "ipython3",
   "version": "3.9.13"
  }
 },
 "nbformat": 4,
 "nbformat_minor": 5
}
