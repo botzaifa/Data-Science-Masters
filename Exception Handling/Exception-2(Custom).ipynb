{
 "cells": [
  {
   "cell_type": "code",
   "execution_count": 2,
   "id": "095dca9a",
   "metadata": {},
   "outputs": [
    {
     "name": "stdout",
     "output_type": "stream",
     "text": [
      "Enter you age: 12\n",
      "Your age is:  12\n"
     ]
    }
   ],
   "source": [
    "age = int(input('Enter you age: '))\n",
    "print(\"Your age is: \",age)"
   ]
  },
  {
   "cell_type": "code",
   "execution_count": 11,
   "id": "870d943f",
   "metadata": {},
   "outputs": [],
   "source": [
    "class validate_age(Exception):\n",
    "    def __init__(self,msg):\n",
    "        self.msg = msg"
   ]
  },
  {
   "cell_type": "code",
   "execution_count": 21,
   "id": "2cee325a",
   "metadata": {},
   "outputs": [],
   "source": [
    "def validate(age):\n",
    "    if age<0:\n",
    "        raise validate_age(\"Bhai paida toh hone de\")\n",
    "    elif age>0 and age<=200:\n",
    "        print(\"Your age is:\",age)\n",
    "    elif age>200:\n",
    "        raise validate_age(\"Queen Elizabeth ki age nahi poochi hai\")\n",
    "    else:\n",
    "        print(\"dekh ke age likh bhai\")"
   ]
  },
  {
   "cell_type": "code",
   "execution_count": 22,
   "id": "0b5d2b26",
   "metadata": {},
   "outputs": [
    {
     "name": "stdout",
     "output_type": "stream",
     "text": [
      "Enter you age: 13\n",
      "Your age is: 13\n"
     ]
    }
   ],
   "source": [
    "try:\n",
    "    age = int(input('Enter you age: '))\n",
    "    validate(age)\n",
    "except validate_age as e:\n",
    "    print(e)"
   ]
  }
 ],
 "metadata": {
  "kernelspec": {
   "display_name": "Python 3 (ipykernel)",
   "language": "python",
   "name": "python3"
  },
  "language_info": {
   "codemirror_mode": {
    "name": "ipython",
    "version": 3
   },
   "file_extension": ".py",
   "mimetype": "text/x-python",
   "name": "python",
   "nbconvert_exporter": "python",
   "pygments_lexer": "ipython3",
   "version": "3.9.13"
  }
 },
 "nbformat": 4,
 "nbformat_minor": 5
}
