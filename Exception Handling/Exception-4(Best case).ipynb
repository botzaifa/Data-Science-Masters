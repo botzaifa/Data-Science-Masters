{
 "cells": [
  {
   "cell_type": "code",
   "execution_count": 1,
   "id": "d8380197",
   "metadata": {
    "scrolled": true
   },
   "outputs": [
    {
     "name": "stdout",
     "output_type": "stream",
     "text": [
      "division by zero\n"
     ]
    }
   ],
   "source": [
    "# use always specific exception\n",
    "try:\n",
    "    10/0\n",
    "except Exception as e:\n",
    "    print(e)"
   ]
  },
  {
   "cell_type": "code",
   "execution_count": 2,
   "id": "1d71cd66",
   "metadata": {},
   "outputs": [
    {
     "name": "stdout",
     "output_type": "stream",
     "text": [
      "division by zero\n"
     ]
    }
   ],
   "source": [
    "try:\n",
    "    10/0\n",
    "except ZeroDivisionError as e:\n",
    "    print(e)"
   ]
  },
  {
   "cell_type": "code",
   "execution_count": 3,
   "id": "56d104aa",
   "metadata": {},
   "outputs": [
    {
     "name": "stdout",
     "output_type": "stream",
     "text": [
      "This is my zero division error division by zero\n"
     ]
    }
   ],
   "source": [
    "# always print a valid message\n",
    "try:\n",
    "    10/0\n",
    "except ZeroDivisionError as e:\n",
    "    print(\"This is my zero division error\",e)"
   ]
  },
  {
   "cell_type": "code",
   "execution_count": 6,
   "id": "420be28d",
   "metadata": {},
   "outputs": [],
   "source": [
    "# Always try to log\n",
    "import logging\n",
    "logging.basicConfig(filename=\"error.log\",level=logging.ERROR)\n",
    "try:\n",
    "    10/0\n",
    "except ZeroDivisionError as e:\n",
    "    logging.error(\"This is my zero division error\".format(e)) #never use print statement in logging"
   ]
  },
  {
   "cell_type": "code",
   "execution_count": 7,
   "id": "b5c82d16",
   "metadata": {},
   "outputs": [],
   "source": [
    "# always avoid to write a multiple exception handling\n",
    "try:\n",
    "    10/0\n",
    "except FileNotFoundError as e:\n",
    "    logging.error(\"this is my FileNotFoundError {}\".format(e))\n",
    "except AttributeError as e:\n",
    "    logging.error(\"this is my AttributeError {}\".format(e))\n",
    "except ZeroDivisionError as e:\n",
    "    logging.error(\"this is my ZeroDivisionError {}\".format(e))"
   ]
  },
  {
   "cell_type": "code",
   "execution_count": 8,
   "id": "ca116c38",
   "metadata": {},
   "outputs": [],
   "source": [
    "#always try to prepare a proper documentation"
   ]
  },
  {
   "cell_type": "code",
   "execution_count": 9,
   "id": "dade5641",
   "metadata": {},
   "outputs": [],
   "source": [
    "# cleanup all the resources\n",
    "\n",
    "try:\n",
    "    with open(\"Test.txt\",\"w\") as f:\n",
    "        f.write(\"This is my message to file\")\n",
    "except FileNotFoundError as e:\n",
    "    logging.error(\"this is my FileNotFoundError {}\".format(e))\n",
    "finally:\n",
    "    f.close()"
   ]
  },
  {
   "cell_type": "code",
   "execution_count": null,
   "id": "e9aa8158",
   "metadata": {},
   "outputs": [],
   "source": [
    " "
   ]
  }
 ],
 "metadata": {
  "kernelspec": {
   "display_name": "Python 3 (ipykernel)",
   "language": "python",
   "name": "python3"
  },
  "language_info": {
   "codemirror_mode": {
    "name": "ipython",
    "version": 3
   },
   "file_extension": ".py",
   "mimetype": "text/x-python",
   "name": "python",
   "nbconvert_exporter": "python",
   "pygments_lexer": "ipython3",
   "version": "3.9.13"
  }
 },
 "nbformat": 4,
 "nbformat_minor": 5
}
