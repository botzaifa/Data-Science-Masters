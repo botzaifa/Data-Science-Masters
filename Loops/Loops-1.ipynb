{
 "cells": [
  {
   "cell_type": "code",
   "execution_count": 1,
   "metadata": {},
   "outputs": [
    {
     "name": "stdout",
     "output_type": "stream",
     "text": [
      "kernel check\n"
     ]
    }
   ],
   "source": [
    "print('kernel check')"
   ]
  },
  {
   "attachments": {},
   "cell_type": "markdown",
   "metadata": {},
   "source": [
    "If Conditions"
   ]
  },
  {
   "cell_type": "code",
   "execution_count": 3,
   "metadata": {},
   "outputs": [
    {
     "name": "stdout",
     "output_type": "stream",
     "text": [
      "you are Eligible to vote!\n"
     ]
    }
   ],
   "source": [
    "age=18\n",
    "if age>=18:\n",
    "    print(\"you are Eligible to vote!\")"
   ]
  },
  {
   "cell_type": "code",
   "execution_count": 6,
   "metadata": {},
   "outputs": [
    {
     "name": "stdout",
     "output_type": "stream",
     "text": [
      "you are not an Adult\n"
     ]
    }
   ],
   "source": [
    "if age==18:\n",
    "    print(\"Congratulation you are an Adult now\")\n",
    "else:\n",
    "    print(\"you are not an Adult\")"
   ]
  },
  {
   "cell_type": "code",
   "execution_count": 1,
   "metadata": {},
   "outputs": [
    {
     "name": "stdout",
     "output_type": "stream",
     "text": [
      "Enter your name:Huzaifa Khan\n"
     ]
    }
   ],
   "source": [
    "name=input(\"Enter your name:\")"
   ]
  },
  {
   "cell_type": "code",
   "execution_count": 2,
   "metadata": {},
   "outputs": [
    {
     "data": {
      "text/plain": [
       "'Huzaifa Khan'"
      ]
     },
     "execution_count": 2,
     "metadata": {},
     "output_type": "execute_result"
    }
   ],
   "source": [
    "name"
   ]
  },
  {
   "cell_type": "code",
   "execution_count": 3,
   "metadata": {},
   "outputs": [
    {
     "name": "stdout",
     "output_type": "stream",
     "text": [
      "my name is Huzaifa Khan\n"
     ]
    }
   ],
   "source": [
    "print(f'my name is {name}')"
   ]
  },
  {
   "cell_type": "code",
   "execution_count": 7,
   "metadata": {},
   "outputs": [
    {
     "name": "stdout",
     "output_type": "stream",
     "text": [
      "Enter Your age:72\n"
     ]
    }
   ],
   "source": [
    "age=int(input(\"Enter Your age:\"))"
   ]
  },
  {
   "cell_type": "code",
   "execution_count": 8,
   "metadata": {},
   "outputs": [
    {
     "data": {
      "text/plain": [
       "72"
      ]
     },
     "execution_count": 8,
     "metadata": {},
     "output_type": "execute_result"
    }
   ],
   "source": [
    "age"
   ]
  },
  {
   "cell_type": "code",
   "execution_count": 9,
   "metadata": {},
   "outputs": [
    {
     "name": "stdout",
     "output_type": "stream",
     "text": [
      "You are not a Young Blood\n"
     ]
    }
   ],
   "source": [
    "if age>=18 and age<=45:\n",
    "    print(\"You are Young Blood\")\n",
    "else:\n",
    "    print(\"You are not a Young Blood\")"
   ]
  },
  {
   "cell_type": "code",
   "execution_count": 11,
   "metadata": {},
   "outputs": [
    {
     "name": "stdout",
     "output_type": "stream",
     "text": [
      "Enter the product price:900\n",
      "You have accquired a discount of 30%\n"
     ]
    }
   ],
   "source": [
    "price=int(input(\"Enter the product price:\"))\n",
    "if price>1000:\n",
    "    print(\"You have accquired a discount of 20%\")\n",
    "else:\n",
    "    print(\"You have accquired a discount of 30%\")"
   ]
  },
  {
   "cell_type": "code",
   "execution_count": 25,
   "metadata": {},
   "outputs": [
    {
     "name": "stdout",
     "output_type": "stream",
     "text": [
      "Enter the product price:0\n",
      "Congratulations You have accquired a discount of 30%\n",
      "Your Final price after discount is: 0.0\n"
     ]
    }
   ],
   "source": [
    "price=int(input(\"Enter the product price:\"))\n",
    "if price>1000:\n",
    "    print(\"Congratulations you have accquired a discount of 20%\")\n",
    "    print(\"Your Final price after discount is:\",price-(price*20/100))\n",
    "else:\n",
    "    print(\"Congratulations You have accquired a discount of 30%\")\n",
    "    print(\"Your Final price after discount is:\",price-(price*30/100))"
   ]
  },
  {
   "cell_type": "code",
   "execution_count": 20,
   "metadata": {},
   "outputs": [
    {
     "name": "stdout",
     "output_type": "stream",
     "text": [
      "Enter the product price:900\n",
      "Congratulations You have accquired a discount of 30%\n",
      "Your Final price after discount is: 630.0\n"
     ]
    }
   ],
   "source": [
    "price=int(input(\"Enter the product price:\"))\n",
    "if price>1000:\n",
    "    print(\"Congratulations you have accquired a discount of 20%\")\n",
    "    print(\"Your Final price after discount is:\",price*0.8)\n",
    "else:\n",
    "    print(\"Congratulations You have accquired a discount of 30%\")\n",
    "    print(\"Your Final price after discount is:\",price*0.7)"
   ]
  },
  {
   "cell_type": "code",
   "execution_count": 21,
   "metadata": {},
   "outputs": [
    {
     "name": "stdout",
     "output_type": "stream",
     "text": [
      "Enter the product price:1500\n",
      "You have got a discount of 20% therefore, the price after discount is:1200.0! \n",
      "Thank you!\n"
     ]
    }
   ],
   "source": [
    "price=int(input(\"Enter the product price:\"))\n",
    "if price>1000:\n",
    "    print(\"You have got a discount of 20% therefore, the price after discount is:{}! \\nThank you!\".format(price*0.8))\n",
    "else:\n",
    "    print(\"You have got a discount of 30% therefore, the price after discount is:{}! \\nThank you!\".format(price*0.7))"
   ]
  },
  {
   "cell_type": "code",
   "execution_count": 26,
   "metadata": {},
   "outputs": [
    {
     "name": "stdout",
     "output_type": "stream",
     "text": [
      "Enter the product price:2999\n",
      "Congratulations you get an additional gift!\n",
      "You have got a discount of 30% therefore, the price after discount is:2099.2999999999997! \n",
      "Thank you!\n"
     ]
    }
   ],
   "source": [
    "price=int(input(\"Enter the product price:\"))\n",
    "if price>3000:\n",
    "    print(\"You have got a discount of 20% therefore, the price after discount is:{}! \\nThank you!\".format(price*0.8))\n",
    "elif price>=2000 and price<=3000:\n",
    "    if price==2999:\n",
    "        print(\"Congratulations you get an additional gift!\")\n",
    "    print(\"You have got a discount of 30% therefore, the price after discount is:{}! \\nThank you!\".format(price*0.7))\n",
    "else:\n",
    "    print(\"You have got a discount of 40% therefore, the price after discount is:{}! \\nThank you!\".format(price*0.6))"
   ]
  },
  {
   "cell_type": "code",
   "execution_count": 2,
   "metadata": {},
   "outputs": [
    {
     "name": "stdout",
     "output_type": "stream",
     "text": [
      "Enter the value:3000\n",
      "The value is more than or equal to 3k!\n"
     ]
    }
   ],
   "source": [
    "# Single Cell\n",
    "val=int(input('Enter the value:'))\n",
    "if(val<=2999):print('The value is less than 3k!')\n",
    "else:print('The value is more than or equal to 3k!')"
   ]
  },
  {
   "attachments": {},
   "cell_type": "markdown",
   "metadata": {},
   "source": [
    "While Loops"
   ]
  },
  {
   "cell_type": "code",
   "execution_count": 2,
   "metadata": {},
   "outputs": [
    {
     "name": "stdout",
     "output_type": "stream",
     "text": [
      "25\n",
      "26\n",
      "27\n",
      "28\n",
      "29\n",
      "30\n",
      "31\n",
      "32\n",
      "33\n",
      "34\n",
      "35\n",
      "36\n",
      "37\n",
      "38\n",
      "39\n",
      "40\n",
      "41\n",
      "42\n",
      "43\n",
      "44\n",
      "45\n",
      "46\n",
      "47\n",
      "48\n",
      "49\n",
      "50\n",
      "51\n",
      "52\n",
      "53\n",
      "54\n",
      "55\n",
      "56\n",
      "57\n",
      "58\n",
      "59\n",
      "60\n",
      "Thanks\n"
     ]
    }
   ],
   "source": [
    "##While Loops\n",
    "joining_age=25 \n",
    "while joining_age<=60:\n",
    "    print(joining_age)\n",
    "    joining_age=joining_age+1\n",
    "    \n",
    "else:\n",
    "    print('Thanks')"
   ]
  },
  {
   "cell_type": "code",
   "execution_count": 4,
   "metadata": {},
   "outputs": [
    {
     "name": "stdout",
     "output_type": "stream",
     "text": [
      "100\n",
      "200\n",
      "300\n",
      "400\n",
      "500\n",
      "600\n",
      "700\n",
      "800\n",
      "900\n",
      "1000\n",
      "Add more money in the Bank!\n"
     ]
    }
   ],
   "source": [
    "#There is an ATM Machine it has 1000rs and every time the transaction is done 100rs comes out\n",
    "\n",
    "amount=100\n",
    "while amount<=1000:\n",
    "    print(atm)\n",
    "    amount=amount+100\n",
    "\n",
    "else:\n",
    "    print(\"Add more money in the Bank!\")"
   ]
  },
  {
   "cell_type": "code",
   "execution_count": 6,
   "metadata": {},
   "outputs": [
    {
     "name": "stdout",
     "output_type": "stream",
     "text": [
      "1000\n",
      "900\n",
      "800\n",
      "700\n",
      "600\n",
      "500\n",
      "400\n",
      "300\n",
      "200\n",
      "100\n",
      "0\n",
      "Paise add karo bank waalo!\n"
     ]
    }
   ],
   "source": [
    "total_amount=1000\n",
    "while total_amount>=0:\n",
    "    print(total_amount)\n",
    "    total_amount=total_amount-100\n",
    "\n",
    "else:\n",
    "    print(\"Paise add karo bank waalo!\")"
   ]
  },
  {
   "attachments": {},
   "cell_type": "markdown",
   "metadata": {},
   "source": [
    "For Loops"
   ]
  },
  {
   "cell_type": "code",
   "execution_count": 7,
   "metadata": {},
   "outputs": [],
   "source": [
    "lst=[\"Huzafia\",1,2,3,4,\"Mango\",\"Banana\"]"
   ]
  },
  {
   "cell_type": "code",
   "execution_count": 8,
   "metadata": {},
   "outputs": [
    {
     "data": {
      "text/plain": [
       "list"
      ]
     },
     "execution_count": 8,
     "metadata": {},
     "output_type": "execute_result"
    }
   ],
   "source": [
    "type(lst)"
   ]
  },
  {
   "cell_type": "code",
   "execution_count": 9,
   "metadata": {},
   "outputs": [
    {
     "data": {
      "text/plain": [
       "4"
      ]
     },
     "execution_count": 9,
     "metadata": {},
     "output_type": "execute_result"
    }
   ],
   "source": [
    "lst[4]"
   ]
  },
  {
   "cell_type": "code",
   "execution_count": 11,
   "metadata": {},
   "outputs": [
    {
     "name": "stdout",
     "output_type": "stream",
     "text": [
      "['Huzafia', 1, 2, 3, 4, 'Mango', 'Banana']\n"
     ]
    }
   ],
   "source": [
    "print(lst)"
   ]
  },
  {
   "cell_type": "code",
   "execution_count": 12,
   "metadata": {},
   "outputs": [
    {
     "name": "stdout",
     "output_type": "stream",
     "text": [
      "Huzafia\n",
      "1\n",
      "2\n",
      "3\n",
      "4\n",
      "Mango\n",
      "Banana\n"
     ]
    }
   ],
   "source": [
    "for x in lst:\n",
    "    print(x)"
   ]
  },
  {
   "cell_type": "code",
   "execution_count": 13,
   "metadata": {},
   "outputs": [],
   "source": [
    "fruits = [\"Mango\",\"Cherry\",\"Apple\",\"Papaya\",\"Banana\"]"
   ]
  },
  {
   "cell_type": "code",
   "execution_count": 19,
   "metadata": {},
   "outputs": [
    {
     "name": "stdout",
     "output_type": "stream",
     "text": [
      "Mango Cherry Apple :This fruit has a Red edible Covering!\n"
     ]
    }
   ],
   "source": [
    "for a in fruits:\n",
    "    print(a, end=\" \")\n",
    "    if a==\"Apple\":\n",
    "        print(\":This fruit has a Red edible Covering!\")\n",
    "        break"
   ]
  },
  {
   "cell_type": "code",
   "execution_count": 21,
   "metadata": {},
   "outputs": [
    {
     "name": "stdout",
     "output_type": "stream",
     "text": [
      "b\n",
      "a\n",
      "n\n",
      "a\n",
      "n\n",
      "a\n"
     ]
    }
   ],
   "source": [
    "fruit='banana'\n",
    "for x in fruit:\n",
    "    print(x)"
   ]
  },
  {
   "cell_type": "code",
   "execution_count": 22,
   "metadata": {},
   "outputs": [
    {
     "data": {
      "text/plain": [
       "'a'"
      ]
     },
     "execution_count": 22,
     "metadata": {},
     "output_type": "execute_result"
    }
   ],
   "source": [
    "fruit[3]"
   ]
  },
  {
   "cell_type": "code",
   "execution_count": 1,
   "metadata": {},
   "outputs": [
    {
     "name": "stdout",
     "output_type": "stream",
     "text": [
      "0\n",
      "1\n",
      "2\n",
      "3\n",
      "4\n",
      "5\n",
      "Finally finished!\n"
     ]
    }
   ],
   "source": [
    "for x in range(6):\n",
    "  print(x)\n",
    "else:\n",
    "  print(\"Finally finished!\")"
   ]
  },
  {
   "cell_type": "code",
   "execution_count": null,
   "metadata": {},
   "outputs": [],
   "source": []
  }
 ],
 "metadata": {
  "kernelspec": {
   "display_name": "Python 3 (ipykernel)",
   "language": "python",
   "name": "python3"
  },
  "language_info": {
   "codemirror_mode": {
    "name": "ipython",
    "version": 3
   },
   "file_extension": ".py",
   "mimetype": "text/x-python",
   "name": "python",
   "nbconvert_exporter": "python",
   "pygments_lexer": "ipython3",
   "version": "3.10.6"
  },
  "vscode": {
   "interpreter": {
    "hash": "1951b3093147bc974bac290151ae3116f310d3bdbbd6e3a58a8fb1cdb08cf0c6"
   }
  }
 },
 "nbformat": 4,
 "nbformat_minor": 2
}
